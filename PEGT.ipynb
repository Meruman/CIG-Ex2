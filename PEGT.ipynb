{
  "nbformat": 4,
  "nbformat_minor": 0,
  "metadata": {
    "colab": {
      "name": "PEGT.ipynb",
      "version": "0.3.2",
      "provenance": [],
      "collapsed_sections": [],
      "include_colab_link": true
    },
    "kernelspec": {
      "name": "python3",
      "display_name": "Python 3"
    },
    "accelerator": "GPU"
  },
  "cells": [
    {
      "cell_type": "markdown",
      "metadata": {
        "id": "view-in-github",
        "colab_type": "text"
      },
      "source": [
        "<a href=\"https://colab.research.google.com/github/christianwustrau/pokemon_egt/blob/master/PEGT.ipynb\" target=\"_parent\"><img src=\"https://colab.research.google.com/assets/colab-badge.svg\" alt=\"Open In Colab\"/></a>"
      ]
    },
    {
      "metadata": {
        "id": "uKjg0BR8j9Es",
        "colab_type": "text"
      },
      "cell_type": "markdown",
      "source": [
        "# Welcome to Pokemon EGT !\n",
        "\n",
        "Pokemon EGT is an implementation of the Hawk-dove game based on Pokemon.\n",
        "Instead of hawk and dove there are 9 different Pokemon:\n",
        "\n",
        "*   Bulbasaur\n",
        "*   Charizard\n",
        "*   Squirtle\n",
        "*   Caterpie\n",
        "*   Pidgey\n",
        "*   Rattata\n",
        "*   Ekans\n",
        "*   Pikachu\n",
        "*   Omanyte\n",
        "\n",
        "All Pokemon in the structured population start with an initial fitness value which can increase or decrease in fights.\n",
        "At each round all active Pokemon fight against one of their active neighbors. After that both Pokemon who fought go passive.\n",
        "Pokemon populations will grow and reproduce based on the implemented update rule."
      ]
    },
    {
      "metadata": {
        "id": "AsTOUAOrd-bG",
        "colab_type": "code",
        "colab": {}
      },
      "cell_type": "code",
      "source": [
        "!git clone https://github.com/christianwustrau/pokemon_egt.git"
      ],
      "execution_count": 0,
      "outputs": []
    },
    {
      "metadata": {
        "id": "FofsFxeSe7vz",
        "colab_type": "code",
        "outputId": "d4249d59-7341-4bcc-d0c3-75eca8a09988",
        "colab": {
          "base_uri": "https://localhost:8080/",
          "height": 67
        }
      },
      "cell_type": "code",
      "source": [
        "!ls pokemon_egt/Sprites"
      ],
      "execution_count": 0,
      "outputs": [
        {
          "output_type": "stream",
          "text": [
            "Pokémon-Icon_0.png  Pokémon-Icon_3.png\tPokémon-Icon_6.png  Pokémon-Icon_9.png\n",
            "Pokémon-Icon_1.png  Pokémon-Icon_4.png\tPokémon-Icon_7.png\n",
            "Pokémon-Icon_2.png  Pokémon-Icon_5.png\tPokémon-Icon_8.png\n"
          ],
          "name": "stdout"
        }
      ]
    },
    {
      "metadata": {
        "id": "Is_gWDcSe-GT",
        "colab_type": "code",
        "outputId": "2fc0d7e1-c11e-4b06-b6b0-f9d50e2cb359",
        "colab": {
          "base_uri": "https://localhost:8080/",
          "height": 470
        }
      },
      "cell_type": "code",
      "source": [
        "import random \n",
        "import numpy as np\n",
        "import matplotlib.pyplot as plt\n",
        "import matplotlib.image as mpimg\n",
        "import matplotlib.animation as animation\n",
        "\n",
        "from google.colab import widgets\n",
        "import time\n",
        "\n",
        "Bulbasaur = \"Bulbasaur\"\n",
        "Charmander = \"Charmander\"\n",
        "Squirtle = \"Squirtle\"\n",
        "Caterpie = \"Caterpie\"\n",
        "Pidgey = \"Pidgey\"\n",
        "Rattata = \"Rattata\"\n",
        "Ekans = 'Ekans'\n",
        "Pikachu = \"Pikachu\"\n",
        "Omanyte = \"Omanyte\"\n",
        "Voltorb = \"Voltorb\"\n",
        "\n",
        "#number of colums and rows needs to be equal to remove white spaces\n",
        "columns = 2\n",
        "rows = 2\n",
        "\n",
        "subset = [Bulbasaur,Charmander,Squirtle,Caterpie,Pidgey,Rattata,Ekans,Pikachu,Omanyte]\n",
        "\n",
        "#colab notebook erstellen\n",
        "\n",
        "\n",
        "STATUS_ACTIVE = \"active\"\n",
        "STATUS_ASLEEP = \"passive\"\n",
        "\n",
        "STARTING_FITNESS = 10\n",
        "WINNER_FITNESS = 3\n",
        "LOSER_FITNESS = 3\n",
        "\n",
        "class Pokemon:\n",
        "    id = 0\n",
        "    poke_type = None\n",
        "    status = STATUS_ACTIVE\n",
        "    fitness = STARTING_FITNESS\n",
        "    image = None\n",
        "    \n",
        "def init2():\n",
        "    imgs = []\n",
        "    for j in range(10):\n",
        "        imgs.append(mpimg.imread('pokemon_egt/Sprites/Pokémon-Icon_'+str(j)+'.png'))\n",
        "    \n",
        "    #print(imgs[0])\n",
        "    grid = widgets.Grid(5, 5)\n",
        "    for i in range(200):\n",
        "      r = random.randint(0,len(imgs) - 1)\n",
        "      with grid.output_to(random.randint(0, 4), random.randint(0, 4)):\n",
        "        grid.clear_cell()\n",
        "        plt.figure(figsize=(1, 1))\n",
        "        plt.imshow(imgs[r])\n",
        "        plt.axis('off')\n",
        "      time.sleep(0.1)\n",
        "\n",
        "def init():\n",
        "    global fig, ax_list, poke_list\n",
        "    fig = plt.figure()#figsize=(5, 5))\n",
        "\n",
        "    imgs = []\n",
        "    poke_list = []\n",
        "    fitness_list = []\n",
        "    \n",
        "    for j in range(10):\n",
        "        imgs.append(mpimg.imread('pokemon_egt/Sprites/Pokémon-Icon_'+str(j)+'.png'))\n",
        "    \n",
        "    for i in range(columns*rows):\n",
        "        fig.add_subplot(rows,columns,i+1)\n",
        "        p = Pokemon()\n",
        "        p.id = i\n",
        "        p.poke_type = Bulbasaur\n",
        "        p.image = imgs[0]\n",
        "        plt.imshow(p.image)\n",
        "        poke_list.append(p)\n",
        "        #plt.axis('off')\n",
        "    \n",
        "    fig.subplots_adjust(wspace=0, hspace=0)\n",
        "\n",
        "    ax_list = fig.get_axes()\n",
        "\n",
        "    random_update_subplot(imgs)\n",
        "\n",
        "def random_update_subplot(imgs):\n",
        "  global fig, ax_list\n",
        "  for k in range(columns*rows):\n",
        "      ax_list[k].clear()\n",
        "      r = random.randint(0,len(subset) - 1)\n",
        "      poke_list[k].poke_type = subset[r]\n",
        "      if(poke_list[k].poke_type == Bulbasaur):\n",
        "          poke_list[k].image = imgs[0]\n",
        "      elif(poke_list[k].poke_type == Charmander):\n",
        "          poke_list[k].image = imgs[1]\n",
        "      elif(poke_list[k].poke_type == Squirtle):\n",
        "          poke_list[k].image = imgs[2]\n",
        "      elif(poke_list[k].poke_type == Caterpie):\n",
        "          poke_list[k].image = imgs[3]\n",
        "      elif(poke_list[k].poke_type == Pidgey):\n",
        "          poke_list[k].image = imgs[4]\n",
        "      elif(poke_list[k].poke_type == Rattata):\n",
        "          poke_list[k].image = imgs[5]\n",
        "      elif(poke_list[k].poke_type == Ekans):\n",
        "          poke_list[k].image = imgs[6]\n",
        "      elif(poke_list[k].poke_type == Pikachu):\n",
        "          poke_list[k].image = imgs[7]\n",
        "      elif(poke_list[k].poke_type == Omanyte):\n",
        "          poke_list[k].image = imgs[8]\n",
        "      elif(poke_list[k].poke_type == Voltorb):\n",
        "          poke_list[k].image = imgs[9]\n",
        "      ax_list[k].imshow(poke_list[k].image)\n",
        "      ax_list[k].axis('off')\n",
        "\n",
        "def update_subplot(substitute, former):\n",
        "#the pokemon with index former is replaced by the pokemon with the index substitute\n",
        "    global fig, ax_list\n",
        "    ax_list[former].clear()\n",
        "    if(poke_list[substitute].poke_type == Bulbasaur):\n",
        "        poke_list[former].poke_type = Bulbasaur\n",
        "        poke_list[former].image = poke_list[substitute].image\n",
        "    elif(poke_list[substitute].poke_type == Charmander):\n",
        "        poke_list[former].poke_type = Charmander\n",
        "        poke_list[former].image = poke_list[substitute].image\n",
        "    elif(poke_list[substitute].poke_type == Squirtle):\n",
        "        poke_list[former].poke_type = Squirtle\n",
        "        poke_list[former].image = poke_list[substitute].image\n",
        "    elif(poke_list[substitute].poke_type == Caterpie):\n",
        "        poke_list[former].poke_type = Caterpie\n",
        "        poke_list[former].image = poke_list[substitute].image\n",
        "    elif(poke_list[substitute].poke_type == Pidgey):\n",
        "        poke_list[former].poke_type = Pidgey\n",
        "        poke_list[former].image = poke_list[substitute].image\n",
        "    elif(poke_list[substitute].poke_type == Rattata):\n",
        "        poke_list[former].poke_type == Rattata\n",
        "        poke_list[former].image = poke_list[substitute].image\n",
        "    elif(poke_list[substitute].poke_type == Ekans):\n",
        "        poke_list[former].poke_type = Ekans\n",
        "        poke_list[former].image = poke_list[substitute].image\n",
        "    elif(poke_list[substitute].poke_type == Pikachu):\n",
        "        poke_list[former].poke_type = Pikachu\n",
        "        poke_list[former].image = poke_list[substitute].image\n",
        "    elif(poke_list[substitute].poke_type == Omanyte):\n",
        "        poke_list[former].poke_type = Omanyte\n",
        "        poke_list[former].image = poke_list[substitute].image\n",
        "    elif(poke_list[substitute].poke_type == Voltorb):\n",
        "        poke_list[former].poke_type = Voltorb\n",
        "        poke_list[former].image = poke_list[substitute].image\n",
        "    ax_list[former].imshow(poke_list[former].image)\n",
        "    ax_list[former].axis('off')\n",
        "\n",
        "def game_function(data):\n",
        "    global fig, ax_list\n",
        "    #fighting phase\n",
        "    fight()\n",
        "    #reproduction/update phase\n",
        "    individual, neighbor = update_rule_birth_death()\n",
        "    update_subplot(individual.id,neighbor.id)\n",
        "    #prints population each turn in the terminal with id, type and fitness of each pokemon\n",
        "    #print_output(poke_list)\n",
        "\n",
        "def update_rule_birth_death():\n",
        "    #select individual and neighbor and return them\n",
        "    individual = select_individual(poke_list)\n",
        "    neighbors = get_neighbors(individual)\n",
        "    neighbor = select_neighbor(neighbors)\n",
        "    return individual, neighbor\n",
        "\n",
        "def select_individual(poke_list):\n",
        "    return poke_list[random.randint(0,columns*rows-1)]\n",
        "\n",
        "def select_neighbor(neighbors):\n",
        "    return neighbors[random.randint(0,len(neighbors)-1)]\n",
        "\n",
        "def get_neighbors(individual):\n",
        "    neighbors = []\n",
        "    column = int(individual.id % columns)\n",
        "    row = int(individual.id / rows)\n",
        "    if (row * rows + column - 1) >= 0 and (row * rows + column - 1) < columns*rows-1 and column != 0:\n",
        "        neighbors.append(poke_list[row * rows + column - 1])\n",
        "    if (row * rows + column + 1) >= 0 and (row * rows + column + 1) < columns*rows-1 and column != (columns - 1):\n",
        "        neighbors.append(poke_list[row * rows + column + 1])\n",
        "    if ((row - 1) * rows + column) >= 0 and ((row - 1) * rows + column) < columns*rows-1:\n",
        "        neighbors.append(poke_list[(row - 1) * rows + column])\n",
        "    if ((row + 1) * rows + column) >= 0 and ((row + 1) * rows + column) < columns*rows-1:\n",
        "        neighbors.append(poke_list[(row + 1) * rows + column])\n",
        "    return neighbors\n",
        "\n",
        "def fight():\n",
        "    for pokemon in poke_list:\n",
        "        if(pokemon.status == STATUS_ACTIVE):\n",
        "            neighbors = get_neighbors(pokemon)\n",
        "            active_neighbors = []\n",
        "            for neighbor in neighbors:\n",
        "                if(neighbor.status == STATUS_ACTIVE):\n",
        "                    active_neighbors.append(neighbor)\n",
        "            if(len(active_neighbors) > 0):\n",
        "                enemy = select_neighbor(active_neighbors)\n",
        "                apply_payoff_matrix(pokemon,enemy)\n",
        "                enemy.status = STATUS_ASLEEP\n",
        "            pokemon.status = STATUS_ASLEEP\n",
        "\n",
        "def apply_payoff_matrix(pokemon,enemy):\n",
        "    if(pokemon.poke_type == Bulbasaur and (enemy.poke_type == Bulbasaur or\n",
        "                                           enemy.poke_type == Charmander or\n",
        "                                           enemy.poke_type == Caterpie or\n",
        "                                           enemy.poke_type == Pidgey or\n",
        "                                           enemy.poke_type == Ekans)):\n",
        "        pokemon.fitness -= LOSER_FITNESS\n",
        "        enemy.fitness += WINNER_FITNESS\n",
        "    elif(pokemon.poke_type == Bulbasaur and (enemy.poke_type == Squirtle or\n",
        "                                             enemy.poke_type == Omanyte)):\n",
        "        pokemon.fitness += WINNER_FITNESS\n",
        "        enemy.fitness -= LOSER_FITNESS\n",
        "    elif(pokemon.poke_type == Charmander and (enemy.poke_type == Charmander or\n",
        "                                           enemy.poke_type == Squirtle or\n",
        "                                           enemy.poke_type == Omanyte)):\n",
        "        pokemon.fitness -= LOSER_FITNESS\n",
        "        enemy.fitness += WINNER_FITNESS\n",
        "    elif(pokemon.poke_type == Charmander and (enemy.poke_type == Bulbasaur or\n",
        "                                           enemy.poke_type == Charmander)):\n",
        "        pokemon.fitness += WINNER_FITNESS\n",
        "        enemy.fitness -= LOSER_FITNESS\n",
        "    elif(pokemon.poke_type == Squirtle and (enemy.poke_type == Bulbasaur or\n",
        "                                           enemy.poke_type == Squirtle)):\n",
        "        pokemon.fitness -= LOSER_FITNESS\n",
        "        enemy.fitness += WINNER_FITNESS\n",
        "    elif(pokemon.poke_type == Squirtle and (enemy.poke_type == Charmander or\n",
        "                                           enemy.poke_type == Omanyte)):\n",
        "        pokemon.fitness += WINNER_FITNESS\n",
        "        enemy.fitness -= LOSER_FITNESS\n",
        "    elif(pokemon.poke_type == Caterpie and (pokemon.poke_type == Charmander or\n",
        "                                           pokemon.poke_type == Pidgey)):\n",
        "        pokemon.fitness -= LOSER_FITNESS\n",
        "        enemy.fitness += WINNER_FITNESS\n",
        "    elif(pokemon.poke_type == Caterpie and (pokemon.poke_type == Bulbasaur or\n",
        "                                           pokemon.poke_type == Ekans)):\n",
        "        pokemon.fitness += WINNER_FITNESS\n",
        "        enemy.fitness -= LOSER_FITNESS\n",
        "    elif(pokemon.poke_type == Pidgey and (pokemon.poke_type == Bulbasaur or\n",
        "                                           pokemon.poke_type == Caterpie)):\n",
        "        pokemon.fitness -= LOSER_FITNESS\n",
        "        enemy.fitness += WINNER_FITNESS\n",
        "    elif(pokemon.poke_type == Pidgey and (pokemon.poke_type == Pikachu or\n",
        "                                           pokemon.poke_type == Omanyte)):\n",
        "        pokemon.fitness += WINNER_FITNESS\n",
        "        enemy.fitness -= LOSER_FITNESS\n",
        "    elif(pokemon.poke_type == Rattata and (pokemon.poke_type == Omanyte)):\n",
        "        pokemon.fitness -= LOSER_FITNESS\n",
        "        enemy.fitness += WINNER_FITNESS\n",
        "    elif(pokemon.poke_type == Ekans and (pokemon.poke_type == Bulbasaur or\n",
        "                                           pokemon.poke_type == Caterpie)):\n",
        "        pokemon.fitness -= LOSER_FITNESS\n",
        "        enemy.fitness += WINNER_FITNESS\n",
        "    elif(pokemon.poke_type == Ekans and (pokemon.poke_type == Ekans or\n",
        "                                           pokemon.poke_type == Omanyte)):\n",
        "        pokemon.fitness += WINNER_FITNESS\n",
        "        enemy.fitness -= LOSER_FITNESS\n",
        "    elif(pokemon.poke_type == Pikachu and (pokemon.poke_type == Bulbasaur or\n",
        "                                           pokemon.poke_type == Pikachu)):\n",
        "        pokemon.fitness -= LOSER_FITNESS\n",
        "        enemy.fitness += WINNER_FITNESS\n",
        "    elif(pokemon.poke_type == Pikachu and (pokemon.poke_type == Squirtle or\n",
        "                                           pokemon.poke_type == Pidgey)):\n",
        "        pokemon.fitness += WINNER_FITNESS\n",
        "        enemy.fitness -= LOSER_FITNESS\n",
        "    elif(pokemon.poke_type == Omanyte and (pokemon.poke_type == Charmander or\n",
        "                                           pokemon.poke_type == Caterpie or\n",
        "                                           pokemon.poke_type == Pidgey)):\n",
        "        pokemon.fitness += WINNER_FITNESS\n",
        "        enemy.fitness -= LOSER_FITNESS\n",
        "\n",
        "def print_output(poke_list):\n",
        "    for i in range(rows):\n",
        "        row = []\n",
        "        for j in range(columns):\n",
        "            current_pokemon = [poke_list[i*rows+j].id,poke_list[i*rows+j].poke_type, poke_list[i*rows+j].fitness]\n",
        "            row.append(current_pokemon)\n",
        "        print(row)\n",
        "    print('---------------------------------------------------------')\n",
        "\n",
        "def start():\n",
        "    ani = animation.FuncAnimation(fig, game_function, interval=25,save_count=25)\n",
        "    \n",
        "    #update_rule_birth_death()\n",
        "    #update_rule_birth_death()\n",
        "    #update_rule_birth_death()\n",
        "\n",
        "    plt.show()\n",
        "\n",
        "if __name__ == '__main__' :\n",
        "    init2()\n",
        "    #init()\n",
        "    #start()\n"
      ],
      "execution_count": 0,
      "outputs": [
        {
          "output_type": "display_data",
          "data": {
            "text/html": [
              "<style>\n",
              "       table#id44, #id44 > tbody > tr > th, #id44 > tbody > tr > td {\n",
              "         border: 1px solid lightgray;\n",
              "         border-collapse:collapse;\n",
              "         \n",
              "        }</style>"
            ],
            "text/plain": [
              "<IPython.core.display.HTML object>"
            ]
          },
          "metadata": {
            "tags": [
              "outputarea_id44"
            ]
          }
        },
        {
          "output_type": "display_data",
          "data": {
            "text/html": [
              "<table id=id44><tr><td id=id44-0-0></td><td id=id44-0-1></td><td id=id44-0-2></td><td id=id44-0-3></td><td id=id44-0-4></td></tr><tr><td id=id44-1-0></td><td id=id44-1-1></td><td id=id44-1-2></td><td id=id44-1-3></td><td id=id44-1-4></td></tr><tr><td id=id44-2-0></td><td id=id44-2-1></td><td id=id44-2-2></td><td id=id44-2-3></td><td id=id44-2-4></td></tr><tr><td id=id44-3-0></td><td id=id44-3-1></td><td id=id44-3-2></td><td id=id44-3-3></td><td id=id44-3-4></td></tr><tr><td id=id44-4-0></td><td id=id44-4-1></td><td id=id44-4-2></td><td id=id44-4-3></td><td id=id44-4-4></td></tr></table>"
            ],
            "text/plain": [
              "<IPython.core.display.HTML object>"
            ]
          },
          "metadata": {
            "tags": [
              "outputarea_id44"
            ]
          }
        },
        {
          "output_type": "display_data",
          "data": {
            "application/javascript": [
              "window[\"a72c3824-5b84-11e9-8c95-0242ac1c0002\"] = google.colab.output.getActiveOutputArea();\n",
              "//# sourceURL=js_89e2dae528"
            ],
            "text/plain": [
              "<IPython.core.display.Javascript object>"
            ]
          },
          "metadata": {
            "tags": [
              "id44-3-2",
              "outputarea_id44"
            ]
          }
        },
        {
          "output_type": "display_data",
          "data": {
            "application/javascript": [
              "window[\"a72cbae2-5b84-11e9-8c95-0242ac1c0002\"] = document.querySelector(\"#id44-3-2\");\n",
              "//# sourceURL=js_cc04af78cf"
            ],
            "text/plain": [
              "<IPython.core.display.Javascript object>"
            ]
          },
          "metadata": {
            "tags": [
              "id44-3-2",
              "outputarea_id44"
            ]
          }
        },
        {
          "output_type": "display_data",
          "data": {
            "application/javascript": [
              "window[\"a72cf142-5b84-11e9-8c95-0242ac1c0002\"] = google.colab.output.setActiveOutputArea(window[\"a72cbae2-5b84-11e9-8c95-0242ac1c0002\"]);\n",
              "//# sourceURL=js_f086c465e7"
            ],
            "text/plain": [
              "<IPython.core.display.Javascript object>"
            ]
          },
          "metadata": {
            "tags": [
              "id44-3-2",
              "outputarea_id44"
            ]
          }
        },
        {
          "output_type": "display_data",
          "data": {
            "application/javascript": [
              "window[\"a735b8a4-5b84-11e9-8c95-0242ac1c0002\"] = google.colab.output.setActiveOutputArea(window[\"a72c3824-5b84-11e9-8c95-0242ac1c0002\"]);\n",
              "//# sourceURL=js_012d4d79c7"
            ],
            "text/plain": [
              "<IPython.core.display.Javascript object>"
            ]
          },
          "metadata": {
            "tags": [
              "id44-3-2",
              "outputarea_id44"
            ]
          }
        },
        {
          "output_type": "display_data",
          "data": {
            "application/javascript": [
              "window[\"a7466f14-5b84-11e9-8c95-0242ac1c0002\"] = google.colab.output.getActiveOutputArea();\n",
              "//# sourceURL=js_5d1be684d4"
            ],
            "text/plain": [
              "<IPython.core.display.Javascript object>"
            ]
          },
          "metadata": {
            "tags": [
              "id44-4-2",
              "outputarea_id44"
            ]
          }
        },
        {
          "output_type": "display_data",
          "data": {
            "application/javascript": [
              "window[\"a746b1f4-5b84-11e9-8c95-0242ac1c0002\"] = document.querySelector(\"#id44-4-2\");\n",
              "//# sourceURL=js_ef07e191ae"
            ],
            "text/plain": [
              "<IPython.core.display.Javascript object>"
            ]
          },
          "metadata": {
            "tags": [
              "id44-4-2",
              "outputarea_id44"
            ]
          }
        },
        {
          "output_type": "display_data",
          "data": {
            "application/javascript": [
              "window[\"a7472846-5b84-11e9-8c95-0242ac1c0002\"] = google.colab.output.setActiveOutputArea(window[\"a746b1f4-5b84-11e9-8c95-0242ac1c0002\"]);\n",
              "//# sourceURL=js_07b35e17bb"
            ],
            "text/plain": [
              "<IPython.core.display.Javascript object>"
            ]
          },
          "metadata": {
            "tags": [
              "id44-4-2",
              "outputarea_id44"
            ]
          }
        },
        {
          "output_type": "display_data",
          "data": {
            "application/javascript": [
              "window[\"a75057fe-5b84-11e9-8c95-0242ac1c0002\"] = google.colab.output.setActiveOutputArea(window[\"a7466f14-5b84-11e9-8c95-0242ac1c0002\"]);\n",
              "//# sourceURL=js_114368b350"
            ],
            "text/plain": [
              "<IPython.core.display.Javascript object>"
            ]
          },
          "metadata": {
            "tags": [
              "id44-4-2",
              "outputarea_id44"
            ]
          }
        },
        {
          "output_type": "display_data",
          "data": {
            "application/javascript": [
              "window[\"a7610054-5b84-11e9-8c95-0242ac1c0002\"] = google.colab.output.getActiveOutputArea();\n",
              "//# sourceURL=js_f43d3b715a"
            ],
            "text/plain": [
              "<IPython.core.display.Javascript object>"
            ]
          },
          "metadata": {
            "tags": [
              "id44-3-4",
              "outputarea_id44"
            ]
          }
        },
        {
          "output_type": "display_data",
          "data": {
            "application/javascript": [
              "window[\"a7613da8-5b84-11e9-8c95-0242ac1c0002\"] = document.querySelector(\"#id44-3-4\");\n",
              "//# sourceURL=js_183a10d36f"
            ],
            "text/plain": [
              "<IPython.core.display.Javascript object>"
            ]
          },
          "metadata": {
            "tags": [
              "id44-3-4",
              "outputarea_id44"
            ]
          }
        },
        {
          "output_type": "display_data",
          "data": {
            "application/javascript": [
              "window[\"a7617034-5b84-11e9-8c95-0242ac1c0002\"] = google.colab.output.setActiveOutputArea(window[\"a7613da8-5b84-11e9-8c95-0242ac1c0002\"]);\n",
              "//# sourceURL=js_c3f02ab7dc"
            ],
            "text/plain": [
              "<IPython.core.display.Javascript object>"
            ]
          },
          "metadata": {
            "tags": [
              "id44-3-4",
              "outputarea_id44"
            ]
          }
        },
        {
          "output_type": "display_data",
          "data": {
            "application/javascript": [
              "window[\"a76a0ac8-5b84-11e9-8c95-0242ac1c0002\"] = google.colab.output.setActiveOutputArea(window[\"a7610054-5b84-11e9-8c95-0242ac1c0002\"]);\n",
              "//# sourceURL=js_b7062e8d90"
            ],
            "text/plain": [
              "<IPython.core.display.Javascript object>"
            ]
          },
          "metadata": {
            "tags": [
              "id44-3-4",
              "outputarea_id44"
            ]
          }
        },
        {
          "output_type": "display_data",
          "data": {
            "application/javascript": [
              "window[\"a77a83bc-5b84-11e9-8c95-0242ac1c0002\"] = google.colab.output.getActiveOutputArea();\n",
              "//# sourceURL=js_b1991b7554"
            ],
            "text/plain": [
              "<IPython.core.display.Javascript object>"
            ]
          },
          "metadata": {
            "tags": [
              "id44-4-2",
              "outputarea_id44"
            ]
          }
        },
        {
          "output_type": "display_data",
          "data": {
            "application/javascript": [
              "window[\"a77ac19c-5b84-11e9-8c95-0242ac1c0002\"] = document.querySelector(\"#id44-4-2\");\n",
              "//# sourceURL=js_249552a57e"
            ],
            "text/plain": [
              "<IPython.core.display.Javascript object>"
            ]
          },
          "metadata": {
            "tags": [
              "id44-4-2",
              "outputarea_id44"
            ]
          }
        },
        {
          "output_type": "display_data",
          "data": {
            "application/javascript": [
              "window[\"a77b2092-5b84-11e9-8c95-0242ac1c0002\"] = google.colab.output.setActiveOutputArea(window[\"a77ac19c-5b84-11e9-8c95-0242ac1c0002\"]);\n",
              "//# sourceURL=js_72a2e548aa"
            ],
            "text/plain": [
              "<IPython.core.display.Javascript object>"
            ]
          },
          "metadata": {
            "tags": [
              "id44-4-2",
              "outputarea_id44"
            ]
          }
        },
        {
          "output_type": "display_data",
          "data": {
            "application/javascript": [
              "window[\"a783c3a0-5b84-11e9-8c95-0242ac1c0002\"] = google.colab.output.setActiveOutputArea(window[\"a77a83bc-5b84-11e9-8c95-0242ac1c0002\"]);\n",
              "//# sourceURL=js_5c637d1566"
            ],
            "text/plain": [
              "<IPython.core.display.Javascript object>"
            ]
          },
          "metadata": {
            "tags": [
              "id44-4-2",
              "outputarea_id44"
            ]
          }
        },
        {
          "output_type": "display_data",
          "data": {
            "application/javascript": [
              "window[\"a794dc94-5b84-11e9-8c95-0242ac1c0002\"] = google.colab.output.getActiveOutputArea();\n",
              "//# sourceURL=js_0cf198bb28"
            ],
            "text/plain": [
              "<IPython.core.display.Javascript object>"
            ]
          },
          "metadata": {
            "tags": [
              "id44-2-2",
              "outputarea_id44"
            ]
          }
        },
        {
          "output_type": "display_data",
          "data": {
            "application/javascript": [
              "window[\"a7952a64-5b84-11e9-8c95-0242ac1c0002\"] = document.querySelector(\"#id44-2-2\");\n",
              "//# sourceURL=js_14ff7294fc"
            ],
            "text/plain": [
              "<IPython.core.display.Javascript object>"
            ]
          },
          "metadata": {
            "tags": [
              "id44-2-2",
              "outputarea_id44"
            ]
          }
        },
        {
          "output_type": "display_data",
          "data": {
            "application/javascript": [
              "window[\"a7958004-5b84-11e9-8c95-0242ac1c0002\"] = google.colab.output.setActiveOutputArea(window[\"a7952a64-5b84-11e9-8c95-0242ac1c0002\"]);\n",
              "//# sourceURL=js_4dcf987c34"
            ],
            "text/plain": [
              "<IPython.core.display.Javascript object>"
            ]
          },
          "metadata": {
            "tags": [
              "id44-2-2",
              "outputarea_id44"
            ]
          }
        },
        {
          "output_type": "display_data",
          "data": {
            "application/javascript": [
              "window[\"a79e49c8-5b84-11e9-8c95-0242ac1c0002\"] = google.colab.output.setActiveOutputArea(window[\"a794dc94-5b84-11e9-8c95-0242ac1c0002\"]);\n",
              "//# sourceURL=js_9eab5e507e"
            ],
            "text/plain": [
              "<IPython.core.display.Javascript object>"
            ]
          },
          "metadata": {
            "tags": [
              "id44-2-2",
              "outputarea_id44"
            ]
          }
        },
        {
          "output_type": "display_data",
          "data": {
            "application/javascript": [
              "window[\"a7b014e6-5b84-11e9-8c95-0242ac1c0002\"] = google.colab.output.getActiveOutputArea();\n",
              "//# sourceURL=js_e77a29de53"
            ],
            "text/plain": [
              "<IPython.core.display.Javascript object>"
            ]
          },
          "metadata": {
            "tags": [
              "id44-0-2",
              "outputarea_id44"
            ]
          }
        },
        {
          "output_type": "display_data",
          "data": {
            "application/javascript": [
              "window[\"a7b05adc-5b84-11e9-8c95-0242ac1c0002\"] = document.querySelector(\"#id44-0-2\");\n",
              "//# sourceURL=js_4d90090e8b"
            ],
            "text/plain": [
              "<IPython.core.display.Javascript object>"
            ]
          },
          "metadata": {
            "tags": [
              "id44-0-2",
              "outputarea_id44"
            ]
          }
        },
        {
          "output_type": "display_data",
          "data": {
            "application/javascript": [
              "window[\"a7b0966e-5b84-11e9-8c95-0242ac1c0002\"] = google.colab.output.setActiveOutputArea(window[\"a7b05adc-5b84-11e9-8c95-0242ac1c0002\"]);\n",
              "//# sourceURL=js_0fef10f7c0"
            ],
            "text/plain": [
              "<IPython.core.display.Javascript object>"
            ]
          },
          "metadata": {
            "tags": [
              "id44-0-2",
              "outputarea_id44"
            ]
          }
        },
        {
          "output_type": "display_data",
          "data": {
            "application/javascript": [
              "window[\"a7bb3c9a-5b84-11e9-8c95-0242ac1c0002\"] = google.colab.output.setActiveOutputArea(window[\"a7b014e6-5b84-11e9-8c95-0242ac1c0002\"]);\n",
              "//# sourceURL=js_26a739d6f5"
            ],
            "text/plain": [
              "<IPython.core.display.Javascript object>"
            ]
          },
          "metadata": {
            "tags": [
              "id44-0-2",
              "outputarea_id44"
            ]
          }
        },
        {
          "output_type": "display_data",
          "data": {
            "application/javascript": [
              "window[\"a7cc9d3c-5b84-11e9-8c95-0242ac1c0002\"] = google.colab.output.getActiveOutputArea();\n",
              "//# sourceURL=js_a89d721926"
            ],
            "text/plain": [
              "<IPython.core.display.Javascript object>"
            ]
          },
          "metadata": {
            "tags": [
              "id44-2-2",
              "outputarea_id44"
            ]
          }
        },
        {
          "output_type": "display_data",
          "data": {
            "application/javascript": [
              "window[\"a7cd08d0-5b84-11e9-8c95-0242ac1c0002\"] = document.querySelector(\"#id44-2-2\");\n",
              "//# sourceURL=js_756e4dd904"
            ],
            "text/plain": [
              "<IPython.core.display.Javascript object>"
            ]
          },
          "metadata": {
            "tags": [
              "id44-2-2",
              "outputarea_id44"
            ]
          }
        },
        {
          "output_type": "display_data",
          "data": {
            "application/javascript": [
              "window[\"a7cd45b6-5b84-11e9-8c95-0242ac1c0002\"] = google.colab.output.setActiveOutputArea(window[\"a7cd08d0-5b84-11e9-8c95-0242ac1c0002\"]);\n",
              "//# sourceURL=js_69a996a5b9"
            ],
            "text/plain": [
              "<IPython.core.display.Javascript object>"
            ]
          },
          "metadata": {
            "tags": [
              "id44-2-2",
              "outputarea_id44"
            ]
          }
        },
        {
          "output_type": "display_data",
          "data": {
            "application/javascript": [
              "window[\"a7d66a56-5b84-11e9-8c95-0242ac1c0002\"] = google.colab.output.setActiveOutputArea(window[\"a7cc9d3c-5b84-11e9-8c95-0242ac1c0002\"]);\n",
              "//# sourceURL=js_b7dd7bc7c6"
            ],
            "text/plain": [
              "<IPython.core.display.Javascript object>"
            ]
          },
          "metadata": {
            "tags": [
              "id44-2-2",
              "outputarea_id44"
            ]
          }
        },
        {
          "output_type": "display_data",
          "data": {
            "application/javascript": [
              "window[\"a7e85504-5b84-11e9-8c95-0242ac1c0002\"] = google.colab.output.getActiveOutputArea();\n",
              "//# sourceURL=js_0c7cf72c8e"
            ],
            "text/plain": [
              "<IPython.core.display.Javascript object>"
            ]
          },
          "metadata": {
            "tags": [
              "id44-4-4",
              "outputarea_id44"
            ]
          }
        },
        {
          "output_type": "display_data",
          "data": {
            "application/javascript": [
              "window[\"a7e89bcc-5b84-11e9-8c95-0242ac1c0002\"] = document.querySelector(\"#id44-4-4\");\n",
              "//# sourceURL=js_9a6a093241"
            ],
            "text/plain": [
              "<IPython.core.display.Javascript object>"
            ]
          },
          "metadata": {
            "tags": [
              "id44-4-4",
              "outputarea_id44"
            ]
          }
        },
        {
          "output_type": "display_data",
          "data": {
            "application/javascript": [
              "window[\"a7e90292-5b84-11e9-8c95-0242ac1c0002\"] = google.colab.output.setActiveOutputArea(window[\"a7e89bcc-5b84-11e9-8c95-0242ac1c0002\"]);\n",
              "//# sourceURL=js_2900fe16ef"
            ],
            "text/plain": [
              "<IPython.core.display.Javascript object>"
            ]
          },
          "metadata": {
            "tags": [
              "id44-4-4",
              "outputarea_id44"
            ]
          }
        },
        {
          "output_type": "display_data",
          "data": {
            "application/javascript": [
              "window[\"a7f420b4-5b84-11e9-8c95-0242ac1c0002\"] = google.colab.output.setActiveOutputArea(window[\"a7e85504-5b84-11e9-8c95-0242ac1c0002\"]);\n",
              "//# sourceURL=js_2ee1899625"
            ],
            "text/plain": [
              "<IPython.core.display.Javascript object>"
            ]
          },
          "metadata": {
            "tags": [
              "id44-4-4",
              "outputarea_id44"
            ]
          }
        },
        {
          "output_type": "display_data",
          "data": {
            "application/javascript": [
              "window[\"a805b7ac-5b84-11e9-8c95-0242ac1c0002\"] = google.colab.output.getActiveOutputArea();\n",
              "//# sourceURL=js_ace44c8fc0"
            ],
            "text/plain": [
              "<IPython.core.display.Javascript object>"
            ]
          },
          "metadata": {
            "tags": [
              "id44-1-0",
              "outputarea_id44"
            ]
          }
        },
        {
          "output_type": "display_data",
          "data": {
            "application/javascript": [
              "window[\"a80624b2-5b84-11e9-8c95-0242ac1c0002\"] = document.querySelector(\"#id44-1-0\");\n",
              "//# sourceURL=js_332ef9c0eb"
            ],
            "text/plain": [
              "<IPython.core.display.Javascript object>"
            ]
          },
          "metadata": {
            "tags": [
              "id44-1-0",
              "outputarea_id44"
            ]
          }
        },
        {
          "output_type": "display_data",
          "data": {
            "application/javascript": [
              "window[\"a806bce2-5b84-11e9-8c95-0242ac1c0002\"] = google.colab.output.setActiveOutputArea(window[\"a80624b2-5b84-11e9-8c95-0242ac1c0002\"]);\n",
              "//# sourceURL=js_bb573e56b6"
            ],
            "text/plain": [
              "<IPython.core.display.Javascript object>"
            ]
          },
          "metadata": {
            "tags": [
              "id44-1-0",
              "outputarea_id44"
            ]
          }
        },
        {
          "output_type": "display_data",
          "data": {
            "application/javascript": [
              "window[\"a80fd2be-5b84-11e9-8c95-0242ac1c0002\"] = google.colab.output.setActiveOutputArea(window[\"a805b7ac-5b84-11e9-8c95-0242ac1c0002\"]);\n",
              "//# sourceURL=js_8b45114459"
            ],
            "text/plain": [
              "<IPython.core.display.Javascript object>"
            ]
          },
          "metadata": {
            "tags": [
              "id44-1-0",
              "outputarea_id44"
            ]
          }
        },
        {
          "output_type": "display_data",
          "data": {
            "application/javascript": [
              "window[\"a8207c54-5b84-11e9-8c95-0242ac1c0002\"] = google.colab.output.getActiveOutputArea();\n",
              "//# sourceURL=js_06e0006cbb"
            ],
            "text/plain": [
              "<IPython.core.display.Javascript object>"
            ]
          },
          "metadata": {
            "tags": [
              "id44-4-3",
              "outputarea_id44"
            ]
          }
        },
        {
          "output_type": "display_data",
          "data": {
            "application/javascript": [
              "window[\"a820c5a6-5b84-11e9-8c95-0242ac1c0002\"] = document.querySelector(\"#id44-4-3\");\n",
              "//# sourceURL=js_f080213e49"
            ],
            "text/plain": [
              "<IPython.core.display.Javascript object>"
            ]
          },
          "metadata": {
            "tags": [
              "id44-4-3",
              "outputarea_id44"
            ]
          }
        },
        {
          "output_type": "display_data",
          "data": {
            "application/javascript": [
              "window[\"a8211ac4-5b84-11e9-8c95-0242ac1c0002\"] = google.colab.output.setActiveOutputArea(window[\"a820c5a6-5b84-11e9-8c95-0242ac1c0002\"]);\n",
              "//# sourceURL=js_d4d7bb977b"
            ],
            "text/plain": [
              "<IPython.core.display.Javascript object>"
            ]
          },
          "metadata": {
            "tags": [
              "id44-4-3",
              "outputarea_id44"
            ]
          }
        },
        {
          "output_type": "display_data",
          "data": {
            "application/javascript": [
              "window[\"a82a5a3a-5b84-11e9-8c95-0242ac1c0002\"] = google.colab.output.setActiveOutputArea(window[\"a8207c54-5b84-11e9-8c95-0242ac1c0002\"]);\n",
              "//# sourceURL=js_045ca936ce"
            ],
            "text/plain": [
              "<IPython.core.display.Javascript object>"
            ]
          },
          "metadata": {
            "tags": [
              "id44-4-3",
              "outputarea_id44"
            ]
          }
        },
        {
          "output_type": "display_data",
          "data": {
            "application/javascript": [
              "window[\"a83b0ad8-5b84-11e9-8c95-0242ac1c0002\"] = google.colab.output.getActiveOutputArea();\n",
              "//# sourceURL=js_b49ff4dade"
            ],
            "text/plain": [
              "<IPython.core.display.Javascript object>"
            ]
          },
          "metadata": {
            "tags": [
              "id44-3-0",
              "outputarea_id44"
            ]
          }
        },
        {
          "output_type": "display_data",
          "data": {
            "application/javascript": [
              "window[\"a83b8422-5b84-11e9-8c95-0242ac1c0002\"] = document.querySelector(\"#id44-3-0\");\n",
              "//# sourceURL=js_55cc4b6836"
            ],
            "text/plain": [
              "<IPython.core.display.Javascript object>"
            ]
          },
          "metadata": {
            "tags": [
              "id44-3-0",
              "outputarea_id44"
            ]
          }
        },
        {
          "output_type": "display_data",
          "data": {
            "application/javascript": [
              "window[\"a83bf380-5b84-11e9-8c95-0242ac1c0002\"] = google.colab.output.setActiveOutputArea(window[\"a83b8422-5b84-11e9-8c95-0242ac1c0002\"]);\n",
              "//# sourceURL=js_0fd0f942f7"
            ],
            "text/plain": [
              "<IPython.core.display.Javascript object>"
            ]
          },
          "metadata": {
            "tags": [
              "id44-3-0",
              "outputarea_id44"
            ]
          }
        },
        {
          "output_type": "display_data",
          "data": {
            "application/javascript": [
              "window[\"a84787a4-5b84-11e9-8c95-0242ac1c0002\"] = google.colab.output.setActiveOutputArea(window[\"a83b0ad8-5b84-11e9-8c95-0242ac1c0002\"]);\n",
              "//# sourceURL=js_04a7073e71"
            ],
            "text/plain": [
              "<IPython.core.display.Javascript object>"
            ]
          },
          "metadata": {
            "tags": [
              "id44-3-0",
              "outputarea_id44"
            ]
          }
        },
        {
          "output_type": "display_data",
          "data": {
            "application/javascript": [
              "window[\"a858764a-5b84-11e9-8c95-0242ac1c0002\"] = google.colab.output.getActiveOutputArea();\n",
              "//# sourceURL=js_3c6998a5ce"
            ],
            "text/plain": [
              "<IPython.core.display.Javascript object>"
            ]
          },
          "metadata": {
            "tags": [
              "id44-3-4",
              "outputarea_id44"
            ]
          }
        },
        {
          "output_type": "display_data",
          "data": {
            "application/javascript": [
              "window[\"a858c8f2-5b84-11e9-8c95-0242ac1c0002\"] = document.querySelector(\"#id44-3-4\");\n",
              "//# sourceURL=js_8e6b463fb0"
            ],
            "text/plain": [
              "<IPython.core.display.Javascript object>"
            ]
          },
          "metadata": {
            "tags": [
              "id44-3-4",
              "outputarea_id44"
            ]
          }
        },
        {
          "output_type": "display_data",
          "data": {
            "application/javascript": [
              "window[\"a85946a6-5b84-11e9-8c95-0242ac1c0002\"] = google.colab.output.setActiveOutputArea(window[\"a858c8f2-5b84-11e9-8c95-0242ac1c0002\"]);\n",
              "//# sourceURL=js_ca09e3da6e"
            ],
            "text/plain": [
              "<IPython.core.display.Javascript object>"
            ]
          },
          "metadata": {
            "tags": [
              "id44-3-4",
              "outputarea_id44"
            ]
          }
        },
        {
          "output_type": "display_data",
          "data": {
            "application/javascript": [
              "window[\"a8651c4c-5b84-11e9-8c95-0242ac1c0002\"] = google.colab.output.setActiveOutputArea(window[\"a858764a-5b84-11e9-8c95-0242ac1c0002\"]);\n",
              "//# sourceURL=js_5085d37e10"
            ],
            "text/plain": [
              "<IPython.core.display.Javascript object>"
            ]
          },
          "metadata": {
            "tags": [
              "id44-3-4",
              "outputarea_id44"
            ]
          }
        },
        {
          "output_type": "display_data",
          "data": {
            "application/javascript": [
              "window[\"a876a282-5b84-11e9-8c95-0242ac1c0002\"] = google.colab.output.getActiveOutputArea();\n",
              "//# sourceURL=js_0782e65db0"
            ],
            "text/plain": [
              "<IPython.core.display.Javascript object>"
            ]
          },
          "metadata": {
            "tags": [
              "id44-1-2",
              "outputarea_id44"
            ]
          }
        },
        {
          "output_type": "display_data",
          "data": {
            "application/javascript": [
              "window[\"a876f2c8-5b84-11e9-8c95-0242ac1c0002\"] = document.querySelector(\"#id44-1-2\");\n",
              "//# sourceURL=js_5d536cd259"
            ],
            "text/plain": [
              "<IPython.core.display.Javascript object>"
            ]
          },
          "metadata": {
            "tags": [
              "id44-1-2",
              "outputarea_id44"
            ]
          }
        },
        {
          "output_type": "display_data",
          "data": {
            "application/javascript": [
              "window[\"a8774052-5b84-11e9-8c95-0242ac1c0002\"] = google.colab.output.setActiveOutputArea(window[\"a876f2c8-5b84-11e9-8c95-0242ac1c0002\"]);\n",
              "//# sourceURL=js_724da53d63"
            ],
            "text/plain": [
              "<IPython.core.display.Javascript object>"
            ]
          },
          "metadata": {
            "tags": [
              "id44-1-2",
              "outputarea_id44"
            ]
          }
        },
        {
          "output_type": "display_data",
          "data": {
            "application/javascript": [
              "window[\"a88345a0-5b84-11e9-8c95-0242ac1c0002\"] = google.colab.output.setActiveOutputArea(window[\"a876a282-5b84-11e9-8c95-0242ac1c0002\"]);\n",
              "//# sourceURL=js_87ff0b6749"
            ],
            "text/plain": [
              "<IPython.core.display.Javascript object>"
            ]
          },
          "metadata": {
            "tags": [
              "id44-1-2",
              "outputarea_id44"
            ]
          }
        },
        {
          "output_type": "display_data",
          "data": {
            "application/javascript": [
              "window[\"a894b7c2-5b84-11e9-8c95-0242ac1c0002\"] = google.colab.output.getActiveOutputArea();\n",
              "//# sourceURL=js_a5976b48b7"
            ],
            "text/plain": [
              "<IPython.core.display.Javascript object>"
            ]
          },
          "metadata": {
            "tags": [
              "id44-1-3",
              "outputarea_id44"
            ]
          }
        },
        {
          "output_type": "display_data",
          "data": {
            "application/javascript": [
              "window[\"a894ffd4-5b84-11e9-8c95-0242ac1c0002\"] = document.querySelector(\"#id44-1-3\");\n",
              "//# sourceURL=js_ea842cd3f8"
            ],
            "text/plain": [
              "<IPython.core.display.Javascript object>"
            ]
          },
          "metadata": {
            "tags": [
              "id44-1-3",
              "outputarea_id44"
            ]
          }
        },
        {
          "output_type": "display_data",
          "data": {
            "application/javascript": [
              "window[\"a8958404-5b84-11e9-8c95-0242ac1c0002\"] = google.colab.output.setActiveOutputArea(window[\"a894ffd4-5b84-11e9-8c95-0242ac1c0002\"]);\n",
              "//# sourceURL=js_b9ff79b2b2"
            ],
            "text/plain": [
              "<IPython.core.display.Javascript object>"
            ]
          },
          "metadata": {
            "tags": [
              "id44-1-3",
              "outputarea_id44"
            ]
          }
        },
        {
          "output_type": "display_data",
          "data": {
            "application/javascript": [
              "window[\"a8a17bd8-5b84-11e9-8c95-0242ac1c0002\"] = google.colab.output.setActiveOutputArea(window[\"a894b7c2-5b84-11e9-8c95-0242ac1c0002\"]);\n",
              "//# sourceURL=js_7eb02bf62a"
            ],
            "text/plain": [
              "<IPython.core.display.Javascript object>"
            ]
          },
          "metadata": {
            "tags": [
              "id44-1-3",
              "outputarea_id44"
            ]
          }
        },
        {
          "output_type": "display_data",
          "data": {
            "application/javascript": [
              "window[\"a8b26830-5b84-11e9-8c95-0242ac1c0002\"] = google.colab.output.getActiveOutputArea();\n",
              "//# sourceURL=js_62f1356a4b"
            ],
            "text/plain": [
              "<IPython.core.display.Javascript object>"
            ]
          },
          "metadata": {
            "tags": [
              "id44-3-4",
              "outputarea_id44"
            ]
          }
        },
        {
          "output_type": "display_data",
          "data": {
            "application/javascript": [
              "window[\"a8b2e24c-5b84-11e9-8c95-0242ac1c0002\"] = document.querySelector(\"#id44-3-4\");\n",
              "//# sourceURL=js_31ef83a0ef"
            ],
            "text/plain": [
              "<IPython.core.display.Javascript object>"
            ]
          },
          "metadata": {
            "tags": [
              "id44-3-4",
              "outputarea_id44"
            ]
          }
        },
        {
          "output_type": "display_data",
          "data": {
            "application/javascript": [
              "window[\"a8b35fec-5b84-11e9-8c95-0242ac1c0002\"] = google.colab.output.setActiveOutputArea(window[\"a8b2e24c-5b84-11e9-8c95-0242ac1c0002\"]);\n",
              "//# sourceURL=js_ef43f6b05f"
            ],
            "text/plain": [
              "<IPython.core.display.Javascript object>"
            ]
          },
          "metadata": {
            "tags": [
              "id44-3-4",
              "outputarea_id44"
            ]
          }
        },
        {
          "output_type": "display_data",
          "data": {
            "application/javascript": [
              "window[\"a8bf816e-5b84-11e9-8c95-0242ac1c0002\"] = google.colab.output.setActiveOutputArea(window[\"a8b26830-5b84-11e9-8c95-0242ac1c0002\"]);\n",
              "//# sourceURL=js_240f4bc0ff"
            ],
            "text/plain": [
              "<IPython.core.display.Javascript object>"
            ]
          },
          "metadata": {
            "tags": [
              "id44-3-4",
              "outputarea_id44"
            ]
          }
        },
        {
          "output_type": "display_data",
          "data": {
            "application/javascript": [
              "window[\"a8d0c8e8-5b84-11e9-8c95-0242ac1c0002\"] = google.colab.output.getActiveOutputArea();\n",
              "//# sourceURL=js_a44d4ab72e"
            ],
            "text/plain": [
              "<IPython.core.display.Javascript object>"
            ]
          },
          "metadata": {
            "tags": [
              "id44-1-3",
              "outputarea_id44"
            ]
          }
        },
        {
          "output_type": "display_data",
          "data": {
            "application/javascript": [
              "window[\"a8d11488-5b84-11e9-8c95-0242ac1c0002\"] = document.querySelector(\"#id44-1-3\");\n",
              "//# sourceURL=js_7f4327d5dc"
            ],
            "text/plain": [
              "<IPython.core.display.Javascript object>"
            ]
          },
          "metadata": {
            "tags": [
              "id44-1-3",
              "outputarea_id44"
            ]
          }
        },
        {
          "output_type": "display_data",
          "data": {
            "application/javascript": [
              "window[\"a8d16e74-5b84-11e9-8c95-0242ac1c0002\"] = google.colab.output.setActiveOutputArea(window[\"a8d11488-5b84-11e9-8c95-0242ac1c0002\"]);\n",
              "//# sourceURL=js_946b6629c8"
            ],
            "text/plain": [
              "<IPython.core.display.Javascript object>"
            ]
          },
          "metadata": {
            "tags": [
              "id44-1-3",
              "outputarea_id44"
            ]
          }
        },
        {
          "output_type": "display_data",
          "data": {
            "application/javascript": [
              "window[\"a8dd8b28-5b84-11e9-8c95-0242ac1c0002\"] = google.colab.output.setActiveOutputArea(window[\"a8d0c8e8-5b84-11e9-8c95-0242ac1c0002\"]);\n",
              "//# sourceURL=js_c902ac89a9"
            ],
            "text/plain": [
              "<IPython.core.display.Javascript object>"
            ]
          },
          "metadata": {
            "tags": [
              "id44-1-3",
              "outputarea_id44"
            ]
          }
        },
        {
          "output_type": "display_data",
          "data": {
            "application/javascript": [
              "window[\"a8eff61e-5b84-11e9-8c95-0242ac1c0002\"] = google.colab.output.getActiveOutputArea();\n",
              "//# sourceURL=js_75fb428f8e"
            ],
            "text/plain": [
              "<IPython.core.display.Javascript object>"
            ]
          },
          "metadata": {
            "tags": [
              "id44-0-0",
              "outputarea_id44"
            ]
          }
        },
        {
          "output_type": "display_data",
          "data": {
            "application/javascript": [
              "window[\"a8f05906-5b84-11e9-8c95-0242ac1c0002\"] = document.querySelector(\"#id44-0-0\");\n",
              "//# sourceURL=js_037fb87a04"
            ],
            "text/plain": [
              "<IPython.core.display.Javascript object>"
            ]
          },
          "metadata": {
            "tags": [
              "id44-0-0",
              "outputarea_id44"
            ]
          }
        },
        {
          "output_type": "display_data",
          "data": {
            "application/javascript": [
              "window[\"a8f0ba4a-5b84-11e9-8c95-0242ac1c0002\"] = google.colab.output.setActiveOutputArea(window[\"a8f05906-5b84-11e9-8c95-0242ac1c0002\"]);\n",
              "//# sourceURL=js_04dcc4438e"
            ],
            "text/plain": [
              "<IPython.core.display.Javascript object>"
            ]
          },
          "metadata": {
            "tags": [
              "id44-0-0",
              "outputarea_id44"
            ]
          }
        },
        {
          "output_type": "display_data",
          "data": {
            "application/javascript": [
              "window[\"a8fc0616-5b84-11e9-8c95-0242ac1c0002\"] = google.colab.output.setActiveOutputArea(window[\"a8eff61e-5b84-11e9-8c95-0242ac1c0002\"]);\n",
              "//# sourceURL=js_a5a627a6b3"
            ],
            "text/plain": [
              "<IPython.core.display.Javascript object>"
            ]
          },
          "metadata": {
            "tags": [
              "id44-0-0",
              "outputarea_id44"
            ]
          }
        },
        {
          "output_type": "display_data",
          "data": {
            "application/javascript": [
              "window[\"a90d1956-5b84-11e9-8c95-0242ac1c0002\"] = google.colab.output.getActiveOutputArea();\n",
              "//# sourceURL=js_991a134afa"
            ],
            "text/plain": [
              "<IPython.core.display.Javascript object>"
            ]
          },
          "metadata": {
            "tags": [
              "id44-1-1",
              "outputarea_id44"
            ]
          }
        },
        {
          "output_type": "display_data",
          "data": {
            "application/javascript": [
              "window[\"a90deade-5b84-11e9-8c95-0242ac1c0002\"] = document.querySelector(\"#id44-1-1\");\n",
              "//# sourceURL=js_c58d52ccf1"
            ],
            "text/plain": [
              "<IPython.core.display.Javascript object>"
            ]
          },
          "metadata": {
            "tags": [
              "id44-1-1",
              "outputarea_id44"
            ]
          }
        },
        {
          "output_type": "display_data",
          "data": {
            "application/javascript": [
              "window[\"a90f1616-5b84-11e9-8c95-0242ac1c0002\"] = google.colab.output.setActiveOutputArea(window[\"a90deade-5b84-11e9-8c95-0242ac1c0002\"]);\n",
              "//# sourceURL=js_549e6e41e2"
            ],
            "text/plain": [
              "<IPython.core.display.Javascript object>"
            ]
          },
          "metadata": {
            "tags": [
              "id44-1-1",
              "outputarea_id44"
            ]
          }
        },
        {
          "output_type": "display_data",
          "data": {
            "application/javascript": [
              "window[\"a91ad334-5b84-11e9-8c95-0242ac1c0002\"] = google.colab.output.setActiveOutputArea(window[\"a90d1956-5b84-11e9-8c95-0242ac1c0002\"]);\n",
              "//# sourceURL=js_65be35b9b3"
            ],
            "text/plain": [
              "<IPython.core.display.Javascript object>"
            ]
          },
          "metadata": {
            "tags": [
              "id44-1-1",
              "outputarea_id44"
            ]
          }
        },
        {
          "output_type": "display_data",
          "data": {
            "application/javascript": [
              "window[\"a92c5aa0-5b84-11e9-8c95-0242ac1c0002\"] = google.colab.output.getActiveOutputArea();\n",
              "//# sourceURL=js_c4ec2f1e24"
            ],
            "text/plain": [
              "<IPython.core.display.Javascript object>"
            ]
          },
          "metadata": {
            "tags": [
              "id44-4-4",
              "outputarea_id44"
            ]
          }
        },
        {
          "output_type": "display_data",
          "data": {
            "application/javascript": [
              "window[\"a92cfc3a-5b84-11e9-8c95-0242ac1c0002\"] = document.querySelector(\"#id44-4-4\");\n",
              "//# sourceURL=js_a872ae44ed"
            ],
            "text/plain": [
              "<IPython.core.display.Javascript object>"
            ]
          },
          "metadata": {
            "tags": [
              "id44-4-4",
              "outputarea_id44"
            ]
          }
        },
        {
          "output_type": "display_data",
          "data": {
            "application/javascript": [
              "window[\"a92d7af2-5b84-11e9-8c95-0242ac1c0002\"] = google.colab.output.setActiveOutputArea(window[\"a92cfc3a-5b84-11e9-8c95-0242ac1c0002\"]);\n",
              "//# sourceURL=js_bd4097508b"
            ],
            "text/plain": [
              "<IPython.core.display.Javascript object>"
            ]
          },
          "metadata": {
            "tags": [
              "id44-4-4",
              "outputarea_id44"
            ]
          }
        },
        {
          "output_type": "display_data",
          "data": {
            "application/javascript": [
              "window[\"a939e1fc-5b84-11e9-8c95-0242ac1c0002\"] = google.colab.output.setActiveOutputArea(window[\"a92c5aa0-5b84-11e9-8c95-0242ac1c0002\"]);\n",
              "//# sourceURL=js_fa81ecfd2c"
            ],
            "text/plain": [
              "<IPython.core.display.Javascript object>"
            ]
          },
          "metadata": {
            "tags": [
              "id44-4-4",
              "outputarea_id44"
            ]
          }
        },
        {
          "output_type": "display_data",
          "data": {
            "application/javascript": [
              "window[\"a94bd128-5b84-11e9-8c95-0242ac1c0002\"] = google.colab.output.getActiveOutputArea();\n",
              "//# sourceURL=js_9419bf97a9"
            ],
            "text/plain": [
              "<IPython.core.display.Javascript object>"
            ]
          },
          "metadata": {
            "tags": [
              "id44-1-2",
              "outputarea_id44"
            ]
          }
        },
        {
          "output_type": "display_data",
          "data": {
            "application/javascript": [
              "window[\"a94c48b0-5b84-11e9-8c95-0242ac1c0002\"] = document.querySelector(\"#id44-1-2\");\n",
              "//# sourceURL=js_14cecf5541"
            ],
            "text/plain": [
              "<IPython.core.display.Javascript object>"
            ]
          },
          "metadata": {
            "tags": [
              "id44-1-2",
              "outputarea_id44"
            ]
          }
        },
        {
          "output_type": "display_data",
          "data": {
            "application/javascript": [
              "window[\"a94cdbfe-5b84-11e9-8c95-0242ac1c0002\"] = google.colab.output.setActiveOutputArea(window[\"a94c48b0-5b84-11e9-8c95-0242ac1c0002\"]);\n",
              "//# sourceURL=js_128bf7f0ee"
            ],
            "text/plain": [
              "<IPython.core.display.Javascript object>"
            ]
          },
          "metadata": {
            "tags": [
              "id44-1-2",
              "outputarea_id44"
            ]
          }
        },
        {
          "output_type": "display_data",
          "data": {
            "application/javascript": [
              "window[\"a961c488-5b84-11e9-8c95-0242ac1c0002\"] = google.colab.output.setActiveOutputArea(window[\"a94bd128-5b84-11e9-8c95-0242ac1c0002\"]);\n",
              "//# sourceURL=js_e909bc28fb"
            ],
            "text/plain": [
              "<IPython.core.display.Javascript object>"
            ]
          },
          "metadata": {
            "tags": [
              "id44-1-2",
              "outputarea_id44"
            ]
          }
        },
        {
          "output_type": "display_data",
          "data": {
            "application/javascript": [
              "window[\"a9736116-5b84-11e9-8c95-0242ac1c0002\"] = google.colab.output.getActiveOutputArea();\n",
              "//# sourceURL=js_407a11a3ad"
            ],
            "text/plain": [
              "<IPython.core.display.Javascript object>"
            ]
          },
          "metadata": {
            "tags": [
              "id44-2-0",
              "outputarea_id44"
            ]
          }
        },
        {
          "output_type": "display_data",
          "data": {
            "application/javascript": [
              "window[\"a973f004-5b84-11e9-8c95-0242ac1c0002\"] = document.querySelector(\"#id44-2-0\");\n",
              "//# sourceURL=js_14dd9e9b8a"
            ],
            "text/plain": [
              "<IPython.core.display.Javascript object>"
            ]
          },
          "metadata": {
            "tags": [
              "id44-2-0",
              "outputarea_id44"
            ]
          }
        },
        {
          "output_type": "display_data",
          "data": {
            "application/javascript": [
              "window[\"a9747a1a-5b84-11e9-8c95-0242ac1c0002\"] = google.colab.output.setActiveOutputArea(window[\"a973f004-5b84-11e9-8c95-0242ac1c0002\"]);\n",
              "//# sourceURL=js_8a09f57b49"
            ],
            "text/plain": [
              "<IPython.core.display.Javascript object>"
            ]
          },
          "metadata": {
            "tags": [
              "id44-2-0",
              "outputarea_id44"
            ]
          }
        },
        {
          "output_type": "display_data",
          "data": {
            "application/javascript": [
              "window[\"a98130ac-5b84-11e9-8c95-0242ac1c0002\"] = google.colab.output.setActiveOutputArea(window[\"a9736116-5b84-11e9-8c95-0242ac1c0002\"]);\n",
              "//# sourceURL=js_a66723cca5"
            ],
            "text/plain": [
              "<IPython.core.display.Javascript object>"
            ]
          },
          "metadata": {
            "tags": [
              "id44-2-0",
              "outputarea_id44"
            ]
          }
        },
        {
          "output_type": "display_data",
          "data": {
            "application/javascript": [
              "window[\"a99384b4-5b84-11e9-8c95-0242ac1c0002\"] = google.colab.output.getActiveOutputArea();\n",
              "//# sourceURL=js_90efafc9a3"
            ],
            "text/plain": [
              "<IPython.core.display.Javascript object>"
            ]
          },
          "metadata": {
            "tags": [
              "id44-1-2",
              "outputarea_id44"
            ]
          }
        },
        {
          "output_type": "display_data",
          "data": {
            "application/javascript": [
              "window[\"a99424dc-5b84-11e9-8c95-0242ac1c0002\"] = document.querySelector(\"#id44-1-2\");\n",
              "//# sourceURL=js_f77cbdc33b"
            ],
            "text/plain": [
              "<IPython.core.display.Javascript object>"
            ]
          },
          "metadata": {
            "tags": [
              "id44-1-2",
              "outputarea_id44"
            ]
          }
        },
        {
          "output_type": "display_data",
          "data": {
            "application/javascript": [
              "window[\"a994d486-5b84-11e9-8c95-0242ac1c0002\"] = google.colab.output.setActiveOutputArea(window[\"a99424dc-5b84-11e9-8c95-0242ac1c0002\"]);\n",
              "//# sourceURL=js_a5027485ce"
            ],
            "text/plain": [
              "<IPython.core.display.Javascript object>"
            ]
          },
          "metadata": {
            "tags": [
              "id44-1-2",
              "outputarea_id44"
            ]
          }
        },
        {
          "output_type": "display_data",
          "data": {
            "application/javascript": [
              "window[\"a9a0048c-5b84-11e9-8c95-0242ac1c0002\"] = google.colab.output.setActiveOutputArea(window[\"a99384b4-5b84-11e9-8c95-0242ac1c0002\"]);\n",
              "//# sourceURL=js_78531cde64"
            ],
            "text/plain": [
              "<IPython.core.display.Javascript object>"
            ]
          },
          "metadata": {
            "tags": [
              "id44-1-2",
              "outputarea_id44"
            ]
          }
        },
        {
          "output_type": "display_data",
          "data": {
            "application/javascript": [
              "window[\"a9b1147a-5b84-11e9-8c95-0242ac1c0002\"] = google.colab.output.getActiveOutputArea();\n",
              "//# sourceURL=js_40be3bc540"
            ],
            "text/plain": [
              "<IPython.core.display.Javascript object>"
            ]
          },
          "metadata": {
            "tags": [
              "id44-2-4",
              "outputarea_id44"
            ]
          }
        },
        {
          "output_type": "display_data",
          "data": {
            "application/javascript": [
              "window[\"a9b1896e-5b84-11e9-8c95-0242ac1c0002\"] = document.querySelector(\"#id44-2-4\");\n",
              "//# sourceURL=js_229e75a5c6"
            ],
            "text/plain": [
              "<IPython.core.display.Javascript object>"
            ]
          },
          "metadata": {
            "tags": [
              "id44-2-4",
              "outputarea_id44"
            ]
          }
        },
        {
          "output_type": "display_data",
          "data": {
            "application/javascript": [
              "window[\"a9b22702-5b84-11e9-8c95-0242ac1c0002\"] = google.colab.output.setActiveOutputArea(window[\"a9b1896e-5b84-11e9-8c95-0242ac1c0002\"]);\n",
              "//# sourceURL=js_0952bc4d9f"
            ],
            "text/plain": [
              "<IPython.core.display.Javascript object>"
            ]
          },
          "metadata": {
            "tags": [
              "id44-2-4",
              "outputarea_id44"
            ]
          }
        },
        {
          "output_type": "display_data",
          "data": {
            "application/javascript": [
              "window[\"a9bd3b10-5b84-11e9-8c95-0242ac1c0002\"] = google.colab.output.setActiveOutputArea(window[\"a9b1147a-5b84-11e9-8c95-0242ac1c0002\"]);\n",
              "//# sourceURL=js_86cf2383d0"
            ],
            "text/plain": [
              "<IPython.core.display.Javascript object>"
            ]
          },
          "metadata": {
            "tags": [
              "id44-2-4",
              "outputarea_id44"
            ]
          }
        },
        {
          "output_type": "display_data",
          "data": {
            "application/javascript": [
              "window[\"a9ce6660-5b84-11e9-8c95-0242ac1c0002\"] = google.colab.output.getActiveOutputArea();\n",
              "//# sourceURL=js_78dd297cd9"
            ],
            "text/plain": [
              "<IPython.core.display.Javascript object>"
            ]
          },
          "metadata": {
            "tags": [
              "id44-4-4",
              "outputarea_id44"
            ]
          }
        },
        {
          "output_type": "display_data",
          "data": {
            "application/javascript": [
              "window[\"a9cecbdc-5b84-11e9-8c95-0242ac1c0002\"] = document.querySelector(\"#id44-4-4\");\n",
              "//# sourceURL=js_554bebabea"
            ],
            "text/plain": [
              "<IPython.core.display.Javascript object>"
            ]
          },
          "metadata": {
            "tags": [
              "id44-4-4",
              "outputarea_id44"
            ]
          }
        },
        {
          "output_type": "display_data",
          "data": {
            "application/javascript": [
              "window[\"a9cf38ce-5b84-11e9-8c95-0242ac1c0002\"] = google.colab.output.setActiveOutputArea(window[\"a9cecbdc-5b84-11e9-8c95-0242ac1c0002\"]);\n",
              "//# sourceURL=js_962789a6b9"
            ],
            "text/plain": [
              "<IPython.core.display.Javascript object>"
            ]
          },
          "metadata": {
            "tags": [
              "id44-4-4",
              "outputarea_id44"
            ]
          }
        },
        {
          "output_type": "display_data",
          "data": {
            "application/javascript": [
              "window[\"a9db3fc0-5b84-11e9-8c95-0242ac1c0002\"] = google.colab.output.setActiveOutputArea(window[\"a9ce6660-5b84-11e9-8c95-0242ac1c0002\"]);\n",
              "//# sourceURL=js_c76d15f6c4"
            ],
            "text/plain": [
              "<IPython.core.display.Javascript object>"
            ]
          },
          "metadata": {
            "tags": [
              "id44-4-4",
              "outputarea_id44"
            ]
          }
        },
        {
          "output_type": "display_data",
          "data": {
            "application/javascript": [
              "window[\"a9ecad0a-5b84-11e9-8c95-0242ac1c0002\"] = google.colab.output.getActiveOutputArea();\n",
              "//# sourceURL=js_2f4dcb3b7c"
            ],
            "text/plain": [
              "<IPython.core.display.Javascript object>"
            ]
          },
          "metadata": {
            "tags": [
              "id44-1-4",
              "outputarea_id44"
            ]
          }
        },
        {
          "output_type": "display_data",
          "data": {
            "application/javascript": [
              "window[\"a9ed440e-5b84-11e9-8c95-0242ac1c0002\"] = document.querySelector(\"#id44-1-4\");\n",
              "//# sourceURL=js_fd5a9ee3d3"
            ],
            "text/plain": [
              "<IPython.core.display.Javascript object>"
            ]
          },
          "metadata": {
            "tags": [
              "id44-1-4",
              "outputarea_id44"
            ]
          }
        },
        {
          "output_type": "display_data",
          "data": {
            "application/javascript": [
              "window[\"a9edb632-5b84-11e9-8c95-0242ac1c0002\"] = google.colab.output.setActiveOutputArea(window[\"a9ed440e-5b84-11e9-8c95-0242ac1c0002\"]);\n",
              "//# sourceURL=js_4921cd9b9e"
            ],
            "text/plain": [
              "<IPython.core.display.Javascript object>"
            ]
          },
          "metadata": {
            "tags": [
              "id44-1-4",
              "outputarea_id44"
            ]
          }
        },
        {
          "output_type": "display_data",
          "data": {
            "application/javascript": [
              "window[\"a9f97d32-5b84-11e9-8c95-0242ac1c0002\"] = google.colab.output.setActiveOutputArea(window[\"a9ecad0a-5b84-11e9-8c95-0242ac1c0002\"]);\n",
              "//# sourceURL=js_cd62b43b05"
            ],
            "text/plain": [
              "<IPython.core.display.Javascript object>"
            ]
          },
          "metadata": {
            "tags": [
              "id44-1-4",
              "outputarea_id44"
            ]
          }
        },
        {
          "output_type": "display_data",
          "data": {
            "application/javascript": [
              "window[\"aa0ae392-5b84-11e9-8c95-0242ac1c0002\"] = google.colab.output.getActiveOutputArea();\n",
              "//# sourceURL=js_874f2ced8b"
            ],
            "text/plain": [
              "<IPython.core.display.Javascript object>"
            ]
          },
          "metadata": {
            "tags": [
              "id44-2-1",
              "outputarea_id44"
            ]
          }
        },
        {
          "output_type": "display_data",
          "data": {
            "application/javascript": [
              "window[\"aa0b7b36-5b84-11e9-8c95-0242ac1c0002\"] = document.querySelector(\"#id44-2-1\");\n",
              "//# sourceURL=js_4931c8e295"
            ],
            "text/plain": [
              "<IPython.core.display.Javascript object>"
            ]
          },
          "metadata": {
            "tags": [
              "id44-2-1",
              "outputarea_id44"
            ]
          }
        },
        {
          "output_type": "display_data",
          "data": {
            "application/javascript": [
              "window[\"aa0bf598-5b84-11e9-8c95-0242ac1c0002\"] = google.colab.output.setActiveOutputArea(window[\"aa0b7b36-5b84-11e9-8c95-0242ac1c0002\"]);\n",
              "//# sourceURL=js_b156e5d882"
            ],
            "text/plain": [
              "<IPython.core.display.Javascript object>"
            ]
          },
          "metadata": {
            "tags": [
              "id44-2-1",
              "outputarea_id44"
            ]
          }
        },
        {
          "output_type": "display_data",
          "data": {
            "application/javascript": [
              "window[\"aa17eda8-5b84-11e9-8c95-0242ac1c0002\"] = google.colab.output.setActiveOutputArea(window[\"aa0ae392-5b84-11e9-8c95-0242ac1c0002\"]);\n",
              "//# sourceURL=js_e46e4534a9"
            ],
            "text/plain": [
              "<IPython.core.display.Javascript object>"
            ]
          },
          "metadata": {
            "tags": [
              "id44-2-1",
              "outputarea_id44"
            ]
          }
        },
        {
          "output_type": "display_data",
          "data": {
            "application/javascript": [
              "window[\"aa28ecc0-5b84-11e9-8c95-0242ac1c0002\"] = google.colab.output.getActiveOutputArea();\n",
              "//# sourceURL=js_9bbf48786d"
            ],
            "text/plain": [
              "<IPython.core.display.Javascript object>"
            ]
          },
          "metadata": {
            "tags": [
              "id44-3-1",
              "outputarea_id44"
            ]
          }
        },
        {
          "output_type": "display_data",
          "data": {
            "application/javascript": [
              "window[\"aa29ee54-5b84-11e9-8c95-0242ac1c0002\"] = document.querySelector(\"#id44-3-1\");\n",
              "//# sourceURL=js_adc715537f"
            ],
            "text/plain": [
              "<IPython.core.display.Javascript object>"
            ]
          },
          "metadata": {
            "tags": [
              "id44-3-1",
              "outputarea_id44"
            ]
          }
        },
        {
          "output_type": "display_data",
          "data": {
            "application/javascript": [
              "window[\"aa2a515a-5b84-11e9-8c95-0242ac1c0002\"] = google.colab.output.setActiveOutputArea(window[\"aa29ee54-5b84-11e9-8c95-0242ac1c0002\"]);\n",
              "//# sourceURL=js_c700e1ec0a"
            ],
            "text/plain": [
              "<IPython.core.display.Javascript object>"
            ]
          },
          "metadata": {
            "tags": [
              "id44-3-1",
              "outputarea_id44"
            ]
          }
        },
        {
          "output_type": "display_data",
          "data": {
            "application/javascript": [
              "window[\"aa374982-5b84-11e9-8c95-0242ac1c0002\"] = google.colab.output.setActiveOutputArea(window[\"aa28ecc0-5b84-11e9-8c95-0242ac1c0002\"]);\n",
              "//# sourceURL=js_818ae3d4a3"
            ],
            "text/plain": [
              "<IPython.core.display.Javascript object>"
            ]
          },
          "metadata": {
            "tags": [
              "id44-3-1",
              "outputarea_id44"
            ]
          }
        },
        {
          "output_type": "display_data",
          "data": {
            "application/javascript": [
              "window[\"aa49a3de-5b84-11e9-8c95-0242ac1c0002\"] = google.colab.output.getActiveOutputArea();\n",
              "//# sourceURL=js_4fa3d237c6"
            ],
            "text/plain": [
              "<IPython.core.display.Javascript object>"
            ]
          },
          "metadata": {
            "tags": [
              "id44-2-1",
              "outputarea_id44"
            ]
          }
        },
        {
          "output_type": "display_data",
          "data": {
            "application/javascript": [
              "window[\"aa4a00b8-5b84-11e9-8c95-0242ac1c0002\"] = document.querySelector(\"#id44-2-1\");\n",
              "//# sourceURL=js_d423817ce4"
            ],
            "text/plain": [
              "<IPython.core.display.Javascript object>"
            ]
          },
          "metadata": {
            "tags": [
              "id44-2-1",
              "outputarea_id44"
            ]
          }
        },
        {
          "output_type": "display_data",
          "data": {
            "application/javascript": [
              "window[\"aa4a4d84-5b84-11e9-8c95-0242ac1c0002\"] = google.colab.output.setActiveOutputArea(window[\"aa4a00b8-5b84-11e9-8c95-0242ac1c0002\"]);\n",
              "//# sourceURL=js_06818072cf"
            ],
            "text/plain": [
              "<IPython.core.display.Javascript object>"
            ]
          },
          "metadata": {
            "tags": [
              "id44-2-1",
              "outputarea_id44"
            ]
          }
        },
        {
          "output_type": "display_data",
          "data": {
            "application/javascript": [
              "window[\"aa55cfb0-5b84-11e9-8c95-0242ac1c0002\"] = google.colab.output.setActiveOutputArea(window[\"aa49a3de-5b84-11e9-8c95-0242ac1c0002\"]);\n",
              "//# sourceURL=js_767a67163d"
            ],
            "text/plain": [
              "<IPython.core.display.Javascript object>"
            ]
          },
          "metadata": {
            "tags": [
              "id44-2-1",
              "outputarea_id44"
            ]
          }
        },
        {
          "output_type": "display_data",
          "data": {
            "application/javascript": [
              "window[\"aa6724a4-5b84-11e9-8c95-0242ac1c0002\"] = google.colab.output.getActiveOutputArea();\n",
              "//# sourceURL=js_580271d5dd"
            ],
            "text/plain": [
              "<IPython.core.display.Javascript object>"
            ]
          },
          "metadata": {
            "tags": [
              "id44-3-2",
              "outputarea_id44"
            ]
          }
        },
        {
          "output_type": "display_data",
          "data": {
            "application/javascript": [
              "window[\"aa67b158-5b84-11e9-8c95-0242ac1c0002\"] = document.querySelector(\"#id44-3-2\");\n",
              "//# sourceURL=js_7a3660566a"
            ],
            "text/plain": [
              "<IPython.core.display.Javascript object>"
            ]
          },
          "metadata": {
            "tags": [
              "id44-3-2",
              "outputarea_id44"
            ]
          }
        },
        {
          "output_type": "display_data",
          "data": {
            "application/javascript": [
              "window[\"aa682e08-5b84-11e9-8c95-0242ac1c0002\"] = google.colab.output.setActiveOutputArea(window[\"aa67b158-5b84-11e9-8c95-0242ac1c0002\"]);\n",
              "//# sourceURL=js_b167d2731f"
            ],
            "text/plain": [
              "<IPython.core.display.Javascript object>"
            ]
          },
          "metadata": {
            "tags": [
              "id44-3-2",
              "outputarea_id44"
            ]
          }
        },
        {
          "output_type": "display_data",
          "data": {
            "application/javascript": [
              "window[\"aa741a9c-5b84-11e9-8c95-0242ac1c0002\"] = google.colab.output.setActiveOutputArea(window[\"aa6724a4-5b84-11e9-8c95-0242ac1c0002\"]);\n",
              "//# sourceURL=js_f225fb7d56"
            ],
            "text/plain": [
              "<IPython.core.display.Javascript object>"
            ]
          },
          "metadata": {
            "tags": [
              "id44-3-2",
              "outputarea_id44"
            ]
          }
        },
        {
          "output_type": "display_data",
          "data": {
            "application/javascript": [
              "window[\"aa85c404-5b84-11e9-8c95-0242ac1c0002\"] = google.colab.output.getActiveOutputArea();\n",
              "//# sourceURL=js_b5303b859c"
            ],
            "text/plain": [
              "<IPython.core.display.Javascript object>"
            ]
          },
          "metadata": {
            "tags": [
              "id44-0-1",
              "outputarea_id44"
            ]
          }
        },
        {
          "output_type": "display_data",
          "data": {
            "application/javascript": [
              "window[\"aa86389e-5b84-11e9-8c95-0242ac1c0002\"] = document.querySelector(\"#id44-0-1\");\n",
              "//# sourceURL=js_c56702edfd"
            ],
            "text/plain": [
              "<IPython.core.display.Javascript object>"
            ]
          },
          "metadata": {
            "tags": [
              "id44-0-1",
              "outputarea_id44"
            ]
          }
        },
        {
          "output_type": "display_data",
          "data": {
            "application/javascript": [
              "window[\"aa86b72e-5b84-11e9-8c95-0242ac1c0002\"] = google.colab.output.setActiveOutputArea(window[\"aa86389e-5b84-11e9-8c95-0242ac1c0002\"]);\n",
              "//# sourceURL=js_bb3c066e7d"
            ],
            "text/plain": [
              "<IPython.core.display.Javascript object>"
            ]
          },
          "metadata": {
            "tags": [
              "id44-0-1",
              "outputarea_id44"
            ]
          }
        },
        {
          "output_type": "display_data",
          "data": {
            "application/javascript": [
              "window[\"aa9337f6-5b84-11e9-8c95-0242ac1c0002\"] = google.colab.output.setActiveOutputArea(window[\"aa85c404-5b84-11e9-8c95-0242ac1c0002\"]);\n",
              "//# sourceURL=js_8aac9178fa"
            ],
            "text/plain": [
              "<IPython.core.display.Javascript object>"
            ]
          },
          "metadata": {
            "tags": [
              "id44-0-1",
              "outputarea_id44"
            ]
          }
        },
        {
          "output_type": "display_data",
          "data": {
            "application/javascript": [
              "window[\"aaa44c3a-5b84-11e9-8c95-0242ac1c0002\"] = google.colab.output.getActiveOutputArea();\n",
              "//# sourceURL=js_f6c2e340e9"
            ],
            "text/plain": [
              "<IPython.core.display.Javascript object>"
            ]
          },
          "metadata": {
            "tags": [
              "id44-3-0",
              "outputarea_id44"
            ]
          }
        },
        {
          "output_type": "display_data",
          "data": {
            "application/javascript": [
              "window[\"aaa4953c-5b84-11e9-8c95-0242ac1c0002\"] = document.querySelector(\"#id44-3-0\");\n",
              "//# sourceURL=js_cbbb9aa34f"
            ],
            "text/plain": [
              "<IPython.core.display.Javascript object>"
            ]
          },
          "metadata": {
            "tags": [
              "id44-3-0",
              "outputarea_id44"
            ]
          }
        },
        {
          "output_type": "display_data",
          "data": {
            "application/javascript": [
              "window[\"aaa50a62-5b84-11e9-8c95-0242ac1c0002\"] = google.colab.output.setActiveOutputArea(window[\"aaa4953c-5b84-11e9-8c95-0242ac1c0002\"]);\n",
              "//# sourceURL=js_d430355a71"
            ],
            "text/plain": [
              "<IPython.core.display.Javascript object>"
            ]
          },
          "metadata": {
            "tags": [
              "id44-3-0",
              "outputarea_id44"
            ]
          }
        },
        {
          "output_type": "display_data",
          "data": {
            "application/javascript": [
              "window[\"aab16654-5b84-11e9-8c95-0242ac1c0002\"] = google.colab.output.setActiveOutputArea(window[\"aaa44c3a-5b84-11e9-8c95-0242ac1c0002\"]);\n",
              "//# sourceURL=js_381ff15053"
            ],
            "text/plain": [
              "<IPython.core.display.Javascript object>"
            ]
          },
          "metadata": {
            "tags": [
              "id44-3-0",
              "outputarea_id44"
            ]
          }
        },
        {
          "output_type": "display_data",
          "data": {
            "application/javascript": [
              "window[\"aac2fef0-5b84-11e9-8c95-0242ac1c0002\"] = google.colab.output.getActiveOutputArea();\n",
              "//# sourceURL=js_49f1056ea5"
            ],
            "text/plain": [
              "<IPython.core.display.Javascript object>"
            ]
          },
          "metadata": {
            "tags": [
              "id44-0-0",
              "outputarea_id44"
            ]
          }
        },
        {
          "output_type": "display_data",
          "data": {
            "application/javascript": [
              "window[\"aac37600-5b84-11e9-8c95-0242ac1c0002\"] = document.querySelector(\"#id44-0-0\");\n",
              "//# sourceURL=js_97dbf63f13"
            ],
            "text/plain": [
              "<IPython.core.display.Javascript object>"
            ]
          },
          "metadata": {
            "tags": [
              "id44-0-0",
              "outputarea_id44"
            ]
          }
        },
        {
          "output_type": "display_data",
          "data": {
            "application/javascript": [
              "window[\"aac40156-5b84-11e9-8c95-0242ac1c0002\"] = google.colab.output.setActiveOutputArea(window[\"aac37600-5b84-11e9-8c95-0242ac1c0002\"]);\n",
              "//# sourceURL=js_eeefa4858e"
            ],
            "text/plain": [
              "<IPython.core.display.Javascript object>"
            ]
          },
          "metadata": {
            "tags": [
              "id44-0-0",
              "outputarea_id44"
            ]
          }
        },
        {
          "output_type": "display_data",
          "data": {
            "application/javascript": [
              "window[\"aacfc130-5b84-11e9-8c95-0242ac1c0002\"] = google.colab.output.setActiveOutputArea(window[\"aac2fef0-5b84-11e9-8c95-0242ac1c0002\"]);\n",
              "//# sourceURL=js_92d79380c5"
            ],
            "text/plain": [
              "<IPython.core.display.Javascript object>"
            ]
          },
          "metadata": {
            "tags": [
              "id44-0-0",
              "outputarea_id44"
            ]
          }
        },
        {
          "output_type": "display_data",
          "data": {
            "application/javascript": [
              "window[\"aae0b53a-5b84-11e9-8c95-0242ac1c0002\"] = google.colab.output.getActiveOutputArea();\n",
              "//# sourceURL=js_9bb35c16bf"
            ],
            "text/plain": [
              "<IPython.core.display.Javascript object>"
            ]
          },
          "metadata": {
            "tags": [
              "id44-2-1",
              "outputarea_id44"
            ]
          }
        },
        {
          "output_type": "display_data",
          "data": {
            "application/javascript": [
              "window[\"aae113d6-5b84-11e9-8c95-0242ac1c0002\"] = document.querySelector(\"#id44-2-1\");\n",
              "//# sourceURL=js_4e15ea2f1c"
            ],
            "text/plain": [
              "<IPython.core.display.Javascript object>"
            ]
          },
          "metadata": {
            "tags": [
              "id44-2-1",
              "outputarea_id44"
            ]
          }
        },
        {
          "output_type": "display_data",
          "data": {
            "application/javascript": [
              "window[\"aae186ae-5b84-11e9-8c95-0242ac1c0002\"] = google.colab.output.setActiveOutputArea(window[\"aae113d6-5b84-11e9-8c95-0242ac1c0002\"]);\n",
              "//# sourceURL=js_a10118b99d"
            ],
            "text/plain": [
              "<IPython.core.display.Javascript object>"
            ]
          },
          "metadata": {
            "tags": [
              "id44-2-1",
              "outputarea_id44"
            ]
          }
        },
        {
          "output_type": "display_data",
          "data": {
            "application/javascript": [
              "window[\"aaee40b0-5b84-11e9-8c95-0242ac1c0002\"] = google.colab.output.setActiveOutputArea(window[\"aae0b53a-5b84-11e9-8c95-0242ac1c0002\"]);\n",
              "//# sourceURL=js_5327dc2a2a"
            ],
            "text/plain": [
              "<IPython.core.display.Javascript object>"
            ]
          },
          "metadata": {
            "tags": [
              "id44-2-1",
              "outputarea_id44"
            ]
          }
        },
        {
          "output_type": "display_data",
          "data": {
            "application/javascript": [
              "window[\"aaffd104-5b84-11e9-8c95-0242ac1c0002\"] = google.colab.output.getActiveOutputArea();\n",
              "//# sourceURL=js_2676929a62"
            ],
            "text/plain": [
              "<IPython.core.display.Javascript object>"
            ]
          },
          "metadata": {
            "tags": [
              "id44-1-3",
              "outputarea_id44"
            ]
          }
        },
        {
          "output_type": "display_data",
          "data": {
            "application/javascript": [
              "window[\"ab001d30-5b84-11e9-8c95-0242ac1c0002\"] = document.querySelector(\"#id44-1-3\");\n",
              "//# sourceURL=js_d275690166"
            ],
            "text/plain": [
              "<IPython.core.display.Javascript object>"
            ]
          },
          "metadata": {
            "tags": [
              "id44-1-3",
              "outputarea_id44"
            ]
          }
        },
        {
          "output_type": "display_data",
          "data": {
            "application/javascript": [
              "window[\"ab008bbc-5b84-11e9-8c95-0242ac1c0002\"] = google.colab.output.setActiveOutputArea(window[\"ab001d30-5b84-11e9-8c95-0242ac1c0002\"]);\n",
              "//# sourceURL=js_5cb9c5ab9c"
            ],
            "text/plain": [
              "<IPython.core.display.Javascript object>"
            ]
          },
          "metadata": {
            "tags": [
              "id44-1-3",
              "outputarea_id44"
            ]
          }
        },
        {
          "output_type": "display_data",
          "data": {
            "application/javascript": [
              "window[\"ab0cb086-5b84-11e9-8c95-0242ac1c0002\"] = google.colab.output.setActiveOutputArea(window[\"aaffd104-5b84-11e9-8c95-0242ac1c0002\"]);\n",
              "//# sourceURL=js_5feaca3b1c"
            ],
            "text/plain": [
              "<IPython.core.display.Javascript object>"
            ]
          },
          "metadata": {
            "tags": [
              "id44-1-3",
              "outputarea_id44"
            ]
          }
        },
        {
          "output_type": "display_data",
          "data": {
            "application/javascript": [
              "window[\"ab1dc164-5b84-11e9-8c95-0242ac1c0002\"] = google.colab.output.getActiveOutputArea();\n",
              "//# sourceURL=js_1b84b4bda3"
            ],
            "text/plain": [
              "<IPython.core.display.Javascript object>"
            ]
          },
          "metadata": {
            "tags": [
              "id44-4-1",
              "outputarea_id44"
            ]
          }
        },
        {
          "output_type": "display_data",
          "data": {
            "application/javascript": [
              "window[\"ab1e279e-5b84-11e9-8c95-0242ac1c0002\"] = document.querySelector(\"#id44-4-1\");\n",
              "//# sourceURL=js_2e4835ef0f"
            ],
            "text/plain": [
              "<IPython.core.display.Javascript object>"
            ]
          },
          "metadata": {
            "tags": [
              "id44-4-1",
              "outputarea_id44"
            ]
          }
        },
        {
          "output_type": "display_data",
          "data": {
            "application/javascript": [
              "window[\"ab1eb574-5b84-11e9-8c95-0242ac1c0002\"] = google.colab.output.setActiveOutputArea(window[\"ab1e279e-5b84-11e9-8c95-0242ac1c0002\"]);\n",
              "//# sourceURL=js_e4c77b669a"
            ],
            "text/plain": [
              "<IPython.core.display.Javascript object>"
            ]
          },
          "metadata": {
            "tags": [
              "id44-4-1",
              "outputarea_id44"
            ]
          }
        },
        {
          "output_type": "display_data",
          "data": {
            "application/javascript": [
              "window[\"ab2bb40e-5b84-11e9-8c95-0242ac1c0002\"] = google.colab.output.setActiveOutputArea(window[\"ab1dc164-5b84-11e9-8c95-0242ac1c0002\"]);\n",
              "//# sourceURL=js_ff4fe6baab"
            ],
            "text/plain": [
              "<IPython.core.display.Javascript object>"
            ]
          },
          "metadata": {
            "tags": [
              "id44-4-1",
              "outputarea_id44"
            ]
          }
        },
        {
          "output_type": "display_data",
          "data": {
            "application/javascript": [
              "window[\"ab3da402-5b84-11e9-8c95-0242ac1c0002\"] = google.colab.output.getActiveOutputArea();\n",
              "//# sourceURL=js_ebe4f966e9"
            ],
            "text/plain": [
              "<IPython.core.display.Javascript object>"
            ]
          },
          "metadata": {
            "tags": [
              "id44-0-4",
              "outputarea_id44"
            ]
          }
        },
        {
          "output_type": "display_data",
          "data": {
            "application/javascript": [
              "window[\"ab3e5d8e-5b84-11e9-8c95-0242ac1c0002\"] = document.querySelector(\"#id44-0-4\");\n",
              "//# sourceURL=js_1b73958785"
            ],
            "text/plain": [
              "<IPython.core.display.Javascript object>"
            ]
          },
          "metadata": {
            "tags": [
              "id44-0-4",
              "outputarea_id44"
            ]
          }
        },
        {
          "output_type": "display_data",
          "data": {
            "application/javascript": [
              "window[\"ab3ec5b2-5b84-11e9-8c95-0242ac1c0002\"] = google.colab.output.setActiveOutputArea(window[\"ab3e5d8e-5b84-11e9-8c95-0242ac1c0002\"]);\n",
              "//# sourceURL=js_d71c43caae"
            ],
            "text/plain": [
              "<IPython.core.display.Javascript object>"
            ]
          },
          "metadata": {
            "tags": [
              "id44-0-4",
              "outputarea_id44"
            ]
          }
        },
        {
          "output_type": "display_data",
          "data": {
            "application/javascript": [
              "window[\"ab4ae270-5b84-11e9-8c95-0242ac1c0002\"] = google.colab.output.setActiveOutputArea(window[\"ab3da402-5b84-11e9-8c95-0242ac1c0002\"]);\n",
              "//# sourceURL=js_8716e6fb79"
            ],
            "text/plain": [
              "<IPython.core.display.Javascript object>"
            ]
          },
          "metadata": {
            "tags": [
              "id44-0-4",
              "outputarea_id44"
            ]
          }
        },
        {
          "output_type": "display_data",
          "data": {
            "application/javascript": [
              "window[\"ab5c6cfc-5b84-11e9-8c95-0242ac1c0002\"] = google.colab.output.getActiveOutputArea();\n",
              "//# sourceURL=js_6bb7d45d5a"
            ],
            "text/plain": [
              "<IPython.core.display.Javascript object>"
            ]
          },
          "metadata": {
            "tags": [
              "id44-4-2",
              "outputarea_id44"
            ]
          }
        },
        {
          "output_type": "display_data",
          "data": {
            "application/javascript": [
              "window[\"ab5ced6c-5b84-11e9-8c95-0242ac1c0002\"] = document.querySelector(\"#id44-4-2\");\n",
              "//# sourceURL=js_3f2437d32b"
            ],
            "text/plain": [
              "<IPython.core.display.Javascript object>"
            ]
          },
          "metadata": {
            "tags": [
              "id44-4-2",
              "outputarea_id44"
            ]
          }
        },
        {
          "output_type": "display_data",
          "data": {
            "application/javascript": [
              "window[\"ab5d7ac0-5b84-11e9-8c95-0242ac1c0002\"] = google.colab.output.setActiveOutputArea(window[\"ab5ced6c-5b84-11e9-8c95-0242ac1c0002\"]);\n",
              "//# sourceURL=js_b75dac6c74"
            ],
            "text/plain": [
              "<IPython.core.display.Javascript object>"
            ]
          },
          "metadata": {
            "tags": [
              "id44-4-2",
              "outputarea_id44"
            ]
          }
        },
        {
          "output_type": "display_data",
          "data": {
            "application/javascript": [
              "window[\"ab69a796-5b84-11e9-8c95-0242ac1c0002\"] = google.colab.output.setActiveOutputArea(window[\"ab5c6cfc-5b84-11e9-8c95-0242ac1c0002\"]);\n",
              "//# sourceURL=js_72d8eb7ee5"
            ],
            "text/plain": [
              "<IPython.core.display.Javascript object>"
            ]
          },
          "metadata": {
            "tags": [
              "id44-4-2",
              "outputarea_id44"
            ]
          }
        },
        {
          "output_type": "display_data",
          "data": {
            "application/javascript": [
              "window[\"ab7a8354-5b84-11e9-8c95-0242ac1c0002\"] = google.colab.output.getActiveOutputArea();\n",
              "//# sourceURL=js_d114745a90"
            ],
            "text/plain": [
              "<IPython.core.display.Javascript object>"
            ]
          },
          "metadata": {
            "tags": [
              "id44-3-1",
              "outputarea_id44"
            ]
          }
        },
        {
          "output_type": "display_data",
          "data": {
            "application/javascript": [
              "window[\"ab7ad25a-5b84-11e9-8c95-0242ac1c0002\"] = document.querySelector(\"#id44-3-1\");\n",
              "//# sourceURL=js_931aa8259e"
            ],
            "text/plain": [
              "<IPython.core.display.Javascript object>"
            ]
          },
          "metadata": {
            "tags": [
              "id44-3-1",
              "outputarea_id44"
            ]
          }
        },
        {
          "output_type": "display_data",
          "data": {
            "application/javascript": [
              "window[\"ab7b3eca-5b84-11e9-8c95-0242ac1c0002\"] = google.colab.output.setActiveOutputArea(window[\"ab7ad25a-5b84-11e9-8c95-0242ac1c0002\"]);\n",
              "//# sourceURL=js_bc5adfd9e8"
            ],
            "text/plain": [
              "<IPython.core.display.Javascript object>"
            ]
          },
          "metadata": {
            "tags": [
              "id44-3-1",
              "outputarea_id44"
            ]
          }
        },
        {
          "output_type": "display_data",
          "data": {
            "application/javascript": [
              "window[\"ab88cb08-5b84-11e9-8c95-0242ac1c0002\"] = google.colab.output.setActiveOutputArea(window[\"ab7a8354-5b84-11e9-8c95-0242ac1c0002\"]);\n",
              "//# sourceURL=js_ec3c7cdb93"
            ],
            "text/plain": [
              "<IPython.core.display.Javascript object>"
            ]
          },
          "metadata": {
            "tags": [
              "id44-3-1",
              "outputarea_id44"
            ]
          }
        },
        {
          "output_type": "display_data",
          "data": {
            "application/javascript": [
              "window[\"ab99db8c-5b84-11e9-8c95-0242ac1c0002\"] = google.colab.output.getActiveOutputArea();\n",
              "//# sourceURL=js_36b1658ad8"
            ],
            "text/plain": [
              "<IPython.core.display.Javascript object>"
            ]
          },
          "metadata": {
            "tags": [
              "id44-4-1",
              "outputarea_id44"
            ]
          }
        },
        {
          "output_type": "display_data",
          "data": {
            "application/javascript": [
              "window[\"ab9a2dd0-5b84-11e9-8c95-0242ac1c0002\"] = document.querySelector(\"#id44-4-1\");\n",
              "//# sourceURL=js_1529e31ab0"
            ],
            "text/plain": [
              "<IPython.core.display.Javascript object>"
            ]
          },
          "metadata": {
            "tags": [
              "id44-4-1",
              "outputarea_id44"
            ]
          }
        },
        {
          "output_type": "display_data",
          "data": {
            "application/javascript": [
              "window[\"ab9ab110-5b84-11e9-8c95-0242ac1c0002\"] = google.colab.output.setActiveOutputArea(window[\"ab9a2dd0-5b84-11e9-8c95-0242ac1c0002\"]);\n",
              "//# sourceURL=js_08ea3bbb1c"
            ],
            "text/plain": [
              "<IPython.core.display.Javascript object>"
            ]
          },
          "metadata": {
            "tags": [
              "id44-4-1",
              "outputarea_id44"
            ]
          }
        },
        {
          "output_type": "display_data",
          "data": {
            "application/javascript": [
              "window[\"aba64fe8-5b84-11e9-8c95-0242ac1c0002\"] = google.colab.output.setActiveOutputArea(window[\"ab99db8c-5b84-11e9-8c95-0242ac1c0002\"]);\n",
              "//# sourceURL=js_b4e4c153ae"
            ],
            "text/plain": [
              "<IPython.core.display.Javascript object>"
            ]
          },
          "metadata": {
            "tags": [
              "id44-4-1",
              "outputarea_id44"
            ]
          }
        },
        {
          "output_type": "display_data",
          "data": {
            "application/javascript": [
              "window[\"abb7af36-5b84-11e9-8c95-0242ac1c0002\"] = google.colab.output.getActiveOutputArea();\n",
              "//# sourceURL=js_226a4164b9"
            ],
            "text/plain": [
              "<IPython.core.display.Javascript object>"
            ]
          },
          "metadata": {
            "tags": [
              "id44-3-4",
              "outputarea_id44"
            ]
          }
        },
        {
          "output_type": "display_data",
          "data": {
            "application/javascript": [
              "window[\"abb838de-5b84-11e9-8c95-0242ac1c0002\"] = document.querySelector(\"#id44-3-4\");\n",
              "//# sourceURL=js_29c7fe51d1"
            ],
            "text/plain": [
              "<IPython.core.display.Javascript object>"
            ]
          },
          "metadata": {
            "tags": [
              "id44-3-4",
              "outputarea_id44"
            ]
          }
        },
        {
          "output_type": "display_data",
          "data": {
            "application/javascript": [
              "window[\"abb8c86c-5b84-11e9-8c95-0242ac1c0002\"] = google.colab.output.setActiveOutputArea(window[\"abb838de-5b84-11e9-8c95-0242ac1c0002\"]);\n",
              "//# sourceURL=js_5ce4189ea0"
            ],
            "text/plain": [
              "<IPython.core.display.Javascript object>"
            ]
          },
          "metadata": {
            "tags": [
              "id44-3-4",
              "outputarea_id44"
            ]
          }
        },
        {
          "output_type": "display_data",
          "data": {
            "application/javascript": [
              "window[\"abc515f4-5b84-11e9-8c95-0242ac1c0002\"] = google.colab.output.setActiveOutputArea(window[\"abb7af36-5b84-11e9-8c95-0242ac1c0002\"]);\n",
              "//# sourceURL=js_a6882270f1"
            ],
            "text/plain": [
              "<IPython.core.display.Javascript object>"
            ]
          },
          "metadata": {
            "tags": [
              "id44-3-4",
              "outputarea_id44"
            ]
          }
        },
        {
          "output_type": "display_data",
          "data": {
            "application/javascript": [
              "window[\"abd5fd06-5b84-11e9-8c95-0242ac1c0002\"] = google.colab.output.getActiveOutputArea();\n",
              "//# sourceURL=js_39a748e79f"
            ],
            "text/plain": [
              "<IPython.core.display.Javascript object>"
            ]
          },
          "metadata": {
            "tags": [
              "id44-3-1",
              "outputarea_id44"
            ]
          }
        },
        {
          "output_type": "display_data",
          "data": {
            "application/javascript": [
              "window[\"abd643ec-5b84-11e9-8c95-0242ac1c0002\"] = document.querySelector(\"#id44-3-1\");\n",
              "//# sourceURL=js_a50d99ecf2"
            ],
            "text/plain": [
              "<IPython.core.display.Javascript object>"
            ]
          },
          "metadata": {
            "tags": [
              "id44-3-1",
              "outputarea_id44"
            ]
          }
        },
        {
          "output_type": "display_data",
          "data": {
            "application/javascript": [
              "window[\"abd6b6e2-5b84-11e9-8c95-0242ac1c0002\"] = google.colab.output.setActiveOutputArea(window[\"abd643ec-5b84-11e9-8c95-0242ac1c0002\"]);\n",
              "//# sourceURL=js_694f97b440"
            ],
            "text/plain": [
              "<IPython.core.display.Javascript object>"
            ]
          },
          "metadata": {
            "tags": [
              "id44-3-1",
              "outputarea_id44"
            ]
          }
        },
        {
          "output_type": "display_data",
          "data": {
            "application/javascript": [
              "window[\"abe2f1fa-5b84-11e9-8c95-0242ac1c0002\"] = google.colab.output.setActiveOutputArea(window[\"abd5fd06-5b84-11e9-8c95-0242ac1c0002\"]);\n",
              "//# sourceURL=js_abf446f440"
            ],
            "text/plain": [
              "<IPython.core.display.Javascript object>"
            ]
          },
          "metadata": {
            "tags": [
              "id44-3-1",
              "outputarea_id44"
            ]
          }
        },
        {
          "output_type": "display_data",
          "data": {
            "application/javascript": [
              "window[\"abf3f554-5b84-11e9-8c95-0242ac1c0002\"] = google.colab.output.getActiveOutputArea();\n",
              "//# sourceURL=js_217c8b5c42"
            ],
            "text/plain": [
              "<IPython.core.display.Javascript object>"
            ]
          },
          "metadata": {
            "tags": [
              "id44-2-1",
              "outputarea_id44"
            ]
          }
        },
        {
          "output_type": "display_data",
          "data": {
            "application/javascript": [
              "window[\"abf43ab4-5b84-11e9-8c95-0242ac1c0002\"] = document.querySelector(\"#id44-2-1\");\n",
              "//# sourceURL=js_9a30fffb97"
            ],
            "text/plain": [
              "<IPython.core.display.Javascript object>"
            ]
          },
          "metadata": {
            "tags": [
              "id44-2-1",
              "outputarea_id44"
            ]
          }
        },
        {
          "output_type": "display_data",
          "data": {
            "application/javascript": [
              "window[\"abf4ed6a-5b84-11e9-8c95-0242ac1c0002\"] = google.colab.output.setActiveOutputArea(window[\"abf43ab4-5b84-11e9-8c95-0242ac1c0002\"]);\n",
              "//# sourceURL=js_c585ae039a"
            ],
            "text/plain": [
              "<IPython.core.display.Javascript object>"
            ]
          },
          "metadata": {
            "tags": [
              "id44-2-1",
              "outputarea_id44"
            ]
          }
        },
        {
          "output_type": "display_data",
          "data": {
            "application/javascript": [
              "window[\"ac0b76e8-5b84-11e9-8c95-0242ac1c0002\"] = google.colab.output.setActiveOutputArea(window[\"abf3f554-5b84-11e9-8c95-0242ac1c0002\"]);\n",
              "//# sourceURL=js_2884791b3e"
            ],
            "text/plain": [
              "<IPython.core.display.Javascript object>"
            ]
          },
          "metadata": {
            "tags": [
              "id44-2-1",
              "outputarea_id44"
            ]
          }
        },
        {
          "output_type": "display_data",
          "data": {
            "application/javascript": [
              "window[\"ac1db010-5b84-11e9-8c95-0242ac1c0002\"] = google.colab.output.getActiveOutputArea();\n",
              "//# sourceURL=js_3b69e8b250"
            ],
            "text/plain": [
              "<IPython.core.display.Javascript object>"
            ]
          },
          "metadata": {
            "tags": [
              "id44-3-3",
              "outputarea_id44"
            ]
          }
        },
        {
          "output_type": "display_data",
          "data": {
            "application/javascript": [
              "window[\"ac1e7ef0-5b84-11e9-8c95-0242ac1c0002\"] = document.querySelector(\"#id44-3-3\");\n",
              "//# sourceURL=js_6c55687667"
            ],
            "text/plain": [
              "<IPython.core.display.Javascript object>"
            ]
          },
          "metadata": {
            "tags": [
              "id44-3-3",
              "outputarea_id44"
            ]
          }
        },
        {
          "output_type": "display_data",
          "data": {
            "application/javascript": [
              "window[\"ac1f3b7e-5b84-11e9-8c95-0242ac1c0002\"] = google.colab.output.setActiveOutputArea(window[\"ac1e7ef0-5b84-11e9-8c95-0242ac1c0002\"]);\n",
              "//# sourceURL=js_d4cd0e0cba"
            ],
            "text/plain": [
              "<IPython.core.display.Javascript object>"
            ]
          },
          "metadata": {
            "tags": [
              "id44-3-3",
              "outputarea_id44"
            ]
          }
        },
        {
          "output_type": "display_data",
          "data": {
            "application/javascript": [
              "window[\"ac2c3540-5b84-11e9-8c95-0242ac1c0002\"] = google.colab.output.setActiveOutputArea(window[\"ac1db010-5b84-11e9-8c95-0242ac1c0002\"]);\n",
              "//# sourceURL=js_ef31b933f0"
            ],
            "text/plain": [
              "<IPython.core.display.Javascript object>"
            ]
          },
          "metadata": {
            "tags": [
              "id44-3-3",
              "outputarea_id44"
            ]
          }
        },
        {
          "output_type": "display_data",
          "data": {
            "application/javascript": [
              "window[\"ac3d89d0-5b84-11e9-8c95-0242ac1c0002\"] = google.colab.output.getActiveOutputArea();\n",
              "//# sourceURL=js_f77d004039"
            ],
            "text/plain": [
              "<IPython.core.display.Javascript object>"
            ]
          },
          "metadata": {
            "tags": [
              "id44-3-3",
              "outputarea_id44"
            ]
          }
        },
        {
          "output_type": "display_data",
          "data": {
            "application/javascript": [
              "window[\"ac3e12ba-5b84-11e9-8c95-0242ac1c0002\"] = document.querySelector(\"#id44-3-3\");\n",
              "//# sourceURL=js_b15f92ceeb"
            ],
            "text/plain": [
              "<IPython.core.display.Javascript object>"
            ]
          },
          "metadata": {
            "tags": [
              "id44-3-3",
              "outputarea_id44"
            ]
          }
        },
        {
          "output_type": "display_data",
          "data": {
            "application/javascript": [
              "window[\"ac3e8f4c-5b84-11e9-8c95-0242ac1c0002\"] = google.colab.output.setActiveOutputArea(window[\"ac3e12ba-5b84-11e9-8c95-0242ac1c0002\"]);\n",
              "//# sourceURL=js_42247cecb3"
            ],
            "text/plain": [
              "<IPython.core.display.Javascript object>"
            ]
          },
          "metadata": {
            "tags": [
              "id44-3-3",
              "outputarea_id44"
            ]
          }
        },
        {
          "output_type": "display_data",
          "data": {
            "application/javascript": [
              "window[\"ac4a1204-5b84-11e9-8c95-0242ac1c0002\"] = google.colab.output.setActiveOutputArea(window[\"ac3d89d0-5b84-11e9-8c95-0242ac1c0002\"]);\n",
              "//# sourceURL=js_228bde004c"
            ],
            "text/plain": [
              "<IPython.core.display.Javascript object>"
            ]
          },
          "metadata": {
            "tags": [
              "id44-3-3",
              "outputarea_id44"
            ]
          }
        },
        {
          "output_type": "display_data",
          "data": {
            "application/javascript": [
              "window[\"ac5b0abe-5b84-11e9-8c95-0242ac1c0002\"] = google.colab.output.getActiveOutputArea();\n",
              "//# sourceURL=js_3e7dedb61e"
            ],
            "text/plain": [
              "<IPython.core.display.Javascript object>"
            ]
          },
          "metadata": {
            "tags": [
              "id44-2-0",
              "outputarea_id44"
            ]
          }
        },
        {
          "output_type": "display_data",
          "data": {
            "application/javascript": [
              "window[\"ac5b53c0-5b84-11e9-8c95-0242ac1c0002\"] = document.querySelector(\"#id44-2-0\");\n",
              "//# sourceURL=js_037347729b"
            ],
            "text/plain": [
              "<IPython.core.display.Javascript object>"
            ]
          },
          "metadata": {
            "tags": [
              "id44-2-0",
              "outputarea_id44"
            ]
          }
        },
        {
          "output_type": "display_data",
          "data": {
            "application/javascript": [
              "window[\"ac5bd35e-5b84-11e9-8c95-0242ac1c0002\"] = google.colab.output.setActiveOutputArea(window[\"ac5b53c0-5b84-11e9-8c95-0242ac1c0002\"]);\n",
              "//# sourceURL=js_9804bd09da"
            ],
            "text/plain": [
              "<IPython.core.display.Javascript object>"
            ]
          },
          "metadata": {
            "tags": [
              "id44-2-0",
              "outputarea_id44"
            ]
          }
        },
        {
          "output_type": "display_data",
          "data": {
            "application/javascript": [
              "window[\"ac6811e6-5b84-11e9-8c95-0242ac1c0002\"] = google.colab.output.setActiveOutputArea(window[\"ac5b0abe-5b84-11e9-8c95-0242ac1c0002\"]);\n",
              "//# sourceURL=js_d3e9ac552a"
            ],
            "text/plain": [
              "<IPython.core.display.Javascript object>"
            ]
          },
          "metadata": {
            "tags": [
              "id44-2-0",
              "outputarea_id44"
            ]
          }
        },
        {
          "output_type": "display_data",
          "data": {
            "application/javascript": [
              "window[\"ac792030-5b84-11e9-8c95-0242ac1c0002\"] = google.colab.output.getActiveOutputArea();\n",
              "//# sourceURL=js_535d304612"
            ],
            "text/plain": [
              "<IPython.core.display.Javascript object>"
            ]
          },
          "metadata": {
            "tags": [
              "id44-2-4",
              "outputarea_id44"
            ]
          }
        },
        {
          "output_type": "display_data",
          "data": {
            "application/javascript": [
              "window[\"ac797260-5b84-11e9-8c95-0242ac1c0002\"] = document.querySelector(\"#id44-2-4\");\n",
              "//# sourceURL=js_fed96e8156"
            ],
            "text/plain": [
              "<IPython.core.display.Javascript object>"
            ]
          },
          "metadata": {
            "tags": [
              "id44-2-4",
              "outputarea_id44"
            ]
          }
        },
        {
          "output_type": "display_data",
          "data": {
            "application/javascript": [
              "window[\"ac79dd5e-5b84-11e9-8c95-0242ac1c0002\"] = google.colab.output.setActiveOutputArea(window[\"ac797260-5b84-11e9-8c95-0242ac1c0002\"]);\n",
              "//# sourceURL=js_c3bde9a9e6"
            ],
            "text/plain": [
              "<IPython.core.display.Javascript object>"
            ]
          },
          "metadata": {
            "tags": [
              "id44-2-4",
              "outputarea_id44"
            ]
          }
        },
        {
          "output_type": "display_data",
          "data": {
            "application/javascript": [
              "window[\"ac856b6a-5b84-11e9-8c95-0242ac1c0002\"] = google.colab.output.setActiveOutputArea(window[\"ac792030-5b84-11e9-8c95-0242ac1c0002\"]);\n",
              "//# sourceURL=js_7001f149fb"
            ],
            "text/plain": [
              "<IPython.core.display.Javascript object>"
            ]
          },
          "metadata": {
            "tags": [
              "id44-2-4",
              "outputarea_id44"
            ]
          }
        },
        {
          "output_type": "display_data",
          "data": {
            "application/javascript": [
              "window[\"ac964e08-5b84-11e9-8c95-0242ac1c0002\"] = google.colab.output.getActiveOutputArea();\n",
              "//# sourceURL=js_c743bd7963"
            ],
            "text/plain": [
              "<IPython.core.display.Javascript object>"
            ]
          },
          "metadata": {
            "tags": [
              "id44-1-3",
              "outputarea_id44"
            ]
          }
        },
        {
          "output_type": "display_data",
          "data": {
            "application/javascript": [
              "window[\"ac96982c-5b84-11e9-8c95-0242ac1c0002\"] = document.querySelector(\"#id44-1-3\");\n",
              "//# sourceURL=js_14296362be"
            ],
            "text/plain": [
              "<IPython.core.display.Javascript object>"
            ]
          },
          "metadata": {
            "tags": [
              "id44-1-3",
              "outputarea_id44"
            ]
          }
        },
        {
          "output_type": "display_data",
          "data": {
            "application/javascript": [
              "window[\"ac970a82-5b84-11e9-8c95-0242ac1c0002\"] = google.colab.output.setActiveOutputArea(window[\"ac96982c-5b84-11e9-8c95-0242ac1c0002\"]);\n",
              "//# sourceURL=js_25ab9e0eaf"
            ],
            "text/plain": [
              "<IPython.core.display.Javascript object>"
            ]
          },
          "metadata": {
            "tags": [
              "id44-1-3",
              "outputarea_id44"
            ]
          }
        },
        {
          "output_type": "display_data",
          "data": {
            "application/javascript": [
              "window[\"aca32790-5b84-11e9-8c95-0242ac1c0002\"] = google.colab.output.setActiveOutputArea(window[\"ac964e08-5b84-11e9-8c95-0242ac1c0002\"]);\n",
              "//# sourceURL=js_834911b882"
            ],
            "text/plain": [
              "<IPython.core.display.Javascript object>"
            ]
          },
          "metadata": {
            "tags": [
              "id44-1-3",
              "outputarea_id44"
            ]
          }
        },
        {
          "output_type": "display_data",
          "data": {
            "application/javascript": [
              "window[\"acb42a86-5b84-11e9-8c95-0242ac1c0002\"] = google.colab.output.getActiveOutputArea();\n",
              "//# sourceURL=js_8c450c8f1b"
            ],
            "text/plain": [
              "<IPython.core.display.Javascript object>"
            ]
          },
          "metadata": {
            "tags": [
              "id44-0-1",
              "outputarea_id44"
            ]
          }
        },
        {
          "output_type": "display_data",
          "data": {
            "application/javascript": [
              "window[\"acb4b2bc-5b84-11e9-8c95-0242ac1c0002\"] = document.querySelector(\"#id44-0-1\");\n",
              "//# sourceURL=js_66f83edd68"
            ],
            "text/plain": [
              "<IPython.core.display.Javascript object>"
            ]
          },
          "metadata": {
            "tags": [
              "id44-0-1",
              "outputarea_id44"
            ]
          }
        },
        {
          "output_type": "display_data",
          "data": {
            "application/javascript": [
              "window[\"acb533e0-5b84-11e9-8c95-0242ac1c0002\"] = google.colab.output.setActiveOutputArea(window[\"acb4b2bc-5b84-11e9-8c95-0242ac1c0002\"]);\n",
              "//# sourceURL=js_88ec9035e2"
            ],
            "text/plain": [
              "<IPython.core.display.Javascript object>"
            ]
          },
          "metadata": {
            "tags": [
              "id44-0-1",
              "outputarea_id44"
            ]
          }
        },
        {
          "output_type": "display_data",
          "data": {
            "application/javascript": [
              "window[\"acc303ee-5b84-11e9-8c95-0242ac1c0002\"] = google.colab.output.setActiveOutputArea(window[\"acb42a86-5b84-11e9-8c95-0242ac1c0002\"]);\n",
              "//# sourceURL=js_481d3df5e4"
            ],
            "text/plain": [
              "<IPython.core.display.Javascript object>"
            ]
          },
          "metadata": {
            "tags": [
              "id44-0-1",
              "outputarea_id44"
            ]
          }
        },
        {
          "output_type": "display_data",
          "data": {
            "application/javascript": [
              "window[\"acd43baa-5b84-11e9-8c95-0242ac1c0002\"] = google.colab.output.getActiveOutputArea();\n",
              "//# sourceURL=js_a2da99e6e3"
            ],
            "text/plain": [
              "<IPython.core.display.Javascript object>"
            ]
          },
          "metadata": {
            "tags": [
              "id44-2-1",
              "outputarea_id44"
            ]
          }
        },
        {
          "output_type": "display_data",
          "data": {
            "application/javascript": [
              "window[\"acd4e6cc-5b84-11e9-8c95-0242ac1c0002\"] = document.querySelector(\"#id44-2-1\");\n",
              "//# sourceURL=js_0f5062e9e5"
            ],
            "text/plain": [
              "<IPython.core.display.Javascript object>"
            ]
          },
          "metadata": {
            "tags": [
              "id44-2-1",
              "outputarea_id44"
            ]
          }
        },
        {
          "output_type": "display_data",
          "data": {
            "application/javascript": [
              "window[\"acd556b6-5b84-11e9-8c95-0242ac1c0002\"] = google.colab.output.setActiveOutputArea(window[\"acd4e6cc-5b84-11e9-8c95-0242ac1c0002\"]);\n",
              "//# sourceURL=js_0e55ab068e"
            ],
            "text/plain": [
              "<IPython.core.display.Javascript object>"
            ]
          },
          "metadata": {
            "tags": [
              "id44-2-1",
              "outputarea_id44"
            ]
          }
        },
        {
          "output_type": "display_data",
          "data": {
            "application/javascript": [
              "window[\"ace19ea8-5b84-11e9-8c95-0242ac1c0002\"] = google.colab.output.setActiveOutputArea(window[\"acd43baa-5b84-11e9-8c95-0242ac1c0002\"]);\n",
              "//# sourceURL=js_091472fdd5"
            ],
            "text/plain": [
              "<IPython.core.display.Javascript object>"
            ]
          },
          "metadata": {
            "tags": [
              "id44-2-1",
              "outputarea_id44"
            ]
          }
        },
        {
          "output_type": "display_data",
          "data": {
            "application/javascript": [
              "window[\"acf2f310-5b84-11e9-8c95-0242ac1c0002\"] = google.colab.output.getActiveOutputArea();\n",
              "//# sourceURL=js_6f98e2faf7"
            ],
            "text/plain": [
              "<IPython.core.display.Javascript object>"
            ]
          },
          "metadata": {
            "tags": [
              "id44-2-2",
              "outputarea_id44"
            ]
          }
        },
        {
          "output_type": "display_data",
          "data": {
            "application/javascript": [
              "window[\"acf37fba-5b84-11e9-8c95-0242ac1c0002\"] = document.querySelector(\"#id44-2-2\");\n",
              "//# sourceURL=js_547fc246fe"
            ],
            "text/plain": [
              "<IPython.core.display.Javascript object>"
            ]
          },
          "metadata": {
            "tags": [
              "id44-2-2",
              "outputarea_id44"
            ]
          }
        },
        {
          "output_type": "display_data",
          "data": {
            "application/javascript": [
              "window[\"acf4148e-5b84-11e9-8c95-0242ac1c0002\"] = google.colab.output.setActiveOutputArea(window[\"acf37fba-5b84-11e9-8c95-0242ac1c0002\"]);\n",
              "//# sourceURL=js_2de943eb4b"
            ],
            "text/plain": [
              "<IPython.core.display.Javascript object>"
            ]
          },
          "metadata": {
            "tags": [
              "id44-2-2",
              "outputarea_id44"
            ]
          }
        },
        {
          "output_type": "display_data",
          "data": {
            "application/javascript": [
              "window[\"ad00c4fe-5b84-11e9-8c95-0242ac1c0002\"] = google.colab.output.setActiveOutputArea(window[\"acf2f310-5b84-11e9-8c95-0242ac1c0002\"]);\n",
              "//# sourceURL=js_94b4320f03"
            ],
            "text/plain": [
              "<IPython.core.display.Javascript object>"
            ]
          },
          "metadata": {
            "tags": [
              "id44-2-2",
              "outputarea_id44"
            ]
          }
        },
        {
          "output_type": "display_data",
          "data": {
            "application/javascript": [
              "window[\"ad12d248-5b84-11e9-8c95-0242ac1c0002\"] = google.colab.output.getActiveOutputArea();\n",
              "//# sourceURL=js_b986d7d712"
            ],
            "text/plain": [
              "<IPython.core.display.Javascript object>"
            ]
          },
          "metadata": {
            "tags": [
              "id44-1-2",
              "outputarea_id44"
            ]
          }
        },
        {
          "output_type": "display_data",
          "data": {
            "application/javascript": [
              "window[\"ad137590-5b84-11e9-8c95-0242ac1c0002\"] = document.querySelector(\"#id44-1-2\");\n",
              "//# sourceURL=js_df4989c3dd"
            ],
            "text/plain": [
              "<IPython.core.display.Javascript object>"
            ]
          },
          "metadata": {
            "tags": [
              "id44-1-2",
              "outputarea_id44"
            ]
          }
        },
        {
          "output_type": "display_data",
          "data": {
            "application/javascript": [
              "window[\"ad13ef7a-5b84-11e9-8c95-0242ac1c0002\"] = google.colab.output.setActiveOutputArea(window[\"ad137590-5b84-11e9-8c95-0242ac1c0002\"]);\n",
              "//# sourceURL=js_d0bb4cecfb"
            ],
            "text/plain": [
              "<IPython.core.display.Javascript object>"
            ]
          },
          "metadata": {
            "tags": [
              "id44-1-2",
              "outputarea_id44"
            ]
          }
        },
        {
          "output_type": "display_data",
          "data": {
            "application/javascript": [
              "window[\"ad1fb206-5b84-11e9-8c95-0242ac1c0002\"] = google.colab.output.setActiveOutputArea(window[\"ad12d248-5b84-11e9-8c95-0242ac1c0002\"]);\n",
              "//# sourceURL=js_dc56545ff2"
            ],
            "text/plain": [
              "<IPython.core.display.Javascript object>"
            ]
          },
          "metadata": {
            "tags": [
              "id44-1-2",
              "outputarea_id44"
            ]
          }
        },
        {
          "output_type": "display_data",
          "data": {
            "application/javascript": [
              "window[\"ad3137b0-5b84-11e9-8c95-0242ac1c0002\"] = google.colab.output.getActiveOutputArea();\n",
              "//# sourceURL=js_ff4d6bc7f1"
            ],
            "text/plain": [
              "<IPython.core.display.Javascript object>"
            ]
          },
          "metadata": {
            "tags": [
              "id44-2-3",
              "outputarea_id44"
            ]
          }
        },
        {
          "output_type": "display_data",
          "data": {
            "application/javascript": [
              "window[\"ad319732-5b84-11e9-8c95-0242ac1c0002\"] = document.querySelector(\"#id44-2-3\");\n",
              "//# sourceURL=js_fb11d095a0"
            ],
            "text/plain": [
              "<IPython.core.display.Javascript object>"
            ]
          },
          "metadata": {
            "tags": [
              "id44-2-3",
              "outputarea_id44"
            ]
          }
        },
        {
          "output_type": "display_data",
          "data": {
            "application/javascript": [
              "window[\"ad31fe52-5b84-11e9-8c95-0242ac1c0002\"] = google.colab.output.setActiveOutputArea(window[\"ad319732-5b84-11e9-8c95-0242ac1c0002\"]);\n",
              "//# sourceURL=js_5bbc040469"
            ],
            "text/plain": [
              "<IPython.core.display.Javascript object>"
            ]
          },
          "metadata": {
            "tags": [
              "id44-2-3",
              "outputarea_id44"
            ]
          }
        },
        {
          "output_type": "display_data",
          "data": {
            "application/javascript": [
              "window[\"ad3e3366-5b84-11e9-8c95-0242ac1c0002\"] = google.colab.output.setActiveOutputArea(window[\"ad3137b0-5b84-11e9-8c95-0242ac1c0002\"]);\n",
              "//# sourceURL=js_ace56a899d"
            ],
            "text/plain": [
              "<IPython.core.display.Javascript object>"
            ]
          },
          "metadata": {
            "tags": [
              "id44-2-3",
              "outputarea_id44"
            ]
          }
        },
        {
          "output_type": "display_data",
          "data": {
            "application/javascript": [
              "window[\"ad4fc658-5b84-11e9-8c95-0242ac1c0002\"] = google.colab.output.getActiveOutputArea();\n",
              "//# sourceURL=js_3f172406a7"
            ],
            "text/plain": [
              "<IPython.core.display.Javascript object>"
            ]
          },
          "metadata": {
            "tags": [
              "id44-3-0",
              "outputarea_id44"
            ]
          }
        },
        {
          "output_type": "display_data",
          "data": {
            "application/javascript": [
              "window[\"ad504ce0-5b84-11e9-8c95-0242ac1c0002\"] = document.querySelector(\"#id44-3-0\");\n",
              "//# sourceURL=js_2f001c2c5b"
            ],
            "text/plain": [
              "<IPython.core.display.Javascript object>"
            ]
          },
          "metadata": {
            "tags": [
              "id44-3-0",
              "outputarea_id44"
            ]
          }
        },
        {
          "output_type": "display_data",
          "data": {
            "application/javascript": [
              "window[\"ad51287c-5b84-11e9-8c95-0242ac1c0002\"] = google.colab.output.setActiveOutputArea(window[\"ad504ce0-5b84-11e9-8c95-0242ac1c0002\"]);\n",
              "//# sourceURL=js_fd224398d3"
            ],
            "text/plain": [
              "<IPython.core.display.Javascript object>"
            ]
          },
          "metadata": {
            "tags": [
              "id44-3-0",
              "outputarea_id44"
            ]
          }
        },
        {
          "output_type": "display_data",
          "data": {
            "application/javascript": [
              "window[\"ad5e623a-5b84-11e9-8c95-0242ac1c0002\"] = google.colab.output.setActiveOutputArea(window[\"ad4fc658-5b84-11e9-8c95-0242ac1c0002\"]);\n",
              "//# sourceURL=js_05c9017128"
            ],
            "text/plain": [
              "<IPython.core.display.Javascript object>"
            ]
          },
          "metadata": {
            "tags": [
              "id44-3-0",
              "outputarea_id44"
            ]
          }
        },
        {
          "output_type": "display_data",
          "data": {
            "application/javascript": [
              "window[\"ad7077e0-5b84-11e9-8c95-0242ac1c0002\"] = google.colab.output.getActiveOutputArea();\n",
              "//# sourceURL=js_6d2945d018"
            ],
            "text/plain": [
              "<IPython.core.display.Javascript object>"
            ]
          },
          "metadata": {
            "tags": [
              "id44-2-0",
              "outputarea_id44"
            ]
          }
        },
        {
          "output_type": "display_data",
          "data": {
            "application/javascript": [
              "window[\"ad70de38-5b84-11e9-8c95-0242ac1c0002\"] = document.querySelector(\"#id44-2-0\");\n",
              "//# sourceURL=js_1c483fe939"
            ],
            "text/plain": [
              "<IPython.core.display.Javascript object>"
            ]
          },
          "metadata": {
            "tags": [
              "id44-2-0",
              "outputarea_id44"
            ]
          }
        },
        {
          "output_type": "display_data",
          "data": {
            "application/javascript": [
              "window[\"ad712640-5b84-11e9-8c95-0242ac1c0002\"] = google.colab.output.setActiveOutputArea(window[\"ad70de38-5b84-11e9-8c95-0242ac1c0002\"]);\n",
              "//# sourceURL=js_987a9af42c"
            ],
            "text/plain": [
              "<IPython.core.display.Javascript object>"
            ]
          },
          "metadata": {
            "tags": [
              "id44-2-0",
              "outputarea_id44"
            ]
          }
        },
        {
          "output_type": "display_data",
          "data": {
            "application/javascript": [
              "window[\"ad7d6acc-5b84-11e9-8c95-0242ac1c0002\"] = google.colab.output.setActiveOutputArea(window[\"ad7077e0-5b84-11e9-8c95-0242ac1c0002\"]);\n",
              "//# sourceURL=js_ed0fe15121"
            ],
            "text/plain": [
              "<IPython.core.display.Javascript object>"
            ]
          },
          "metadata": {
            "tags": [
              "id44-2-0",
              "outputarea_id44"
            ]
          }
        },
        {
          "output_type": "display_data",
          "data": {
            "application/javascript": [
              "window[\"ad8ebffc-5b84-11e9-8c95-0242ac1c0002\"] = google.colab.output.getActiveOutputArea();\n",
              "//# sourceURL=js_2943b58224"
            ],
            "text/plain": [
              "<IPython.core.display.Javascript object>"
            ]
          },
          "metadata": {
            "tags": [
              "id44-1-3",
              "outputarea_id44"
            ]
          }
        },
        {
          "output_type": "display_data",
          "data": {
            "application/javascript": [
              "window[\"ad8f0e9e-5b84-11e9-8c95-0242ac1c0002\"] = document.querySelector(\"#id44-1-3\");\n",
              "//# sourceURL=js_b6d5405e07"
            ],
            "text/plain": [
              "<IPython.core.display.Javascript object>"
            ]
          },
          "metadata": {
            "tags": [
              "id44-1-3",
              "outputarea_id44"
            ]
          }
        },
        {
          "output_type": "display_data",
          "data": {
            "application/javascript": [
              "window[\"ad8f8018-5b84-11e9-8c95-0242ac1c0002\"] = google.colab.output.setActiveOutputArea(window[\"ad8f0e9e-5b84-11e9-8c95-0242ac1c0002\"]);\n",
              "//# sourceURL=js_c7c53371e3"
            ],
            "text/plain": [
              "<IPython.core.display.Javascript object>"
            ]
          },
          "metadata": {
            "tags": [
              "id44-1-3",
              "outputarea_id44"
            ]
          }
        },
        {
          "output_type": "display_data",
          "data": {
            "application/javascript": [
              "window[\"ad9bea42-5b84-11e9-8c95-0242ac1c0002\"] = google.colab.output.setActiveOutputArea(window[\"ad8ebffc-5b84-11e9-8c95-0242ac1c0002\"]);\n",
              "//# sourceURL=js_3876cbecdd"
            ],
            "text/plain": [
              "<IPython.core.display.Javascript object>"
            ]
          },
          "metadata": {
            "tags": [
              "id44-1-3",
              "outputarea_id44"
            ]
          }
        },
        {
          "output_type": "display_data",
          "data": {
            "application/javascript": [
              "window[\"adae0696-5b84-11e9-8c95-0242ac1c0002\"] = google.colab.output.getActiveOutputArea();\n",
              "//# sourceURL=js_32c515e9a7"
            ],
            "text/plain": [
              "<IPython.core.display.Javascript object>"
            ]
          },
          "metadata": {
            "tags": [
              "id44-2-2",
              "outputarea_id44"
            ]
          }
        },
        {
          "output_type": "display_data",
          "data": {
            "application/javascript": [
              "window[\"adae96a6-5b84-11e9-8c95-0242ac1c0002\"] = document.querySelector(\"#id44-2-2\");\n",
              "//# sourceURL=js_cd32f0f4bb"
            ],
            "text/plain": [
              "<IPython.core.display.Javascript object>"
            ]
          },
          "metadata": {
            "tags": [
              "id44-2-2",
              "outputarea_id44"
            ]
          }
        },
        {
          "output_type": "display_data",
          "data": {
            "application/javascript": [
              "window[\"adaf204e-5b84-11e9-8c95-0242ac1c0002\"] = google.colab.output.setActiveOutputArea(window[\"adae96a6-5b84-11e9-8c95-0242ac1c0002\"]);\n",
              "//# sourceURL=js_56a3dba166"
            ],
            "text/plain": [
              "<IPython.core.display.Javascript object>"
            ]
          },
          "metadata": {
            "tags": [
              "id44-2-2",
              "outputarea_id44"
            ]
          }
        },
        {
          "output_type": "display_data",
          "data": {
            "application/javascript": [
              "window[\"adbb4cde-5b84-11e9-8c95-0242ac1c0002\"] = google.colab.output.setActiveOutputArea(window[\"adae0696-5b84-11e9-8c95-0242ac1c0002\"]);\n",
              "//# sourceURL=js_72043aea1d"
            ],
            "text/plain": [
              "<IPython.core.display.Javascript object>"
            ]
          },
          "metadata": {
            "tags": [
              "id44-2-2",
              "outputarea_id44"
            ]
          }
        },
        {
          "output_type": "display_data",
          "data": {
            "application/javascript": [
              "window[\"adcd3232-5b84-11e9-8c95-0242ac1c0002\"] = google.colab.output.getActiveOutputArea();\n",
              "//# sourceURL=js_d0f9b783aa"
            ],
            "text/plain": [
              "<IPython.core.display.Javascript object>"
            ]
          },
          "metadata": {
            "tags": [
              "id44-4-3",
              "outputarea_id44"
            ]
          }
        },
        {
          "output_type": "display_data",
          "data": {
            "application/javascript": [
              "window[\"adcdb90a-5b84-11e9-8c95-0242ac1c0002\"] = document.querySelector(\"#id44-4-3\");\n",
              "//# sourceURL=js_bf18ffd893"
            ],
            "text/plain": [
              "<IPython.core.display.Javascript object>"
            ]
          },
          "metadata": {
            "tags": [
              "id44-4-3",
              "outputarea_id44"
            ]
          }
        },
        {
          "output_type": "display_data",
          "data": {
            "application/javascript": [
              "window[\"adce7728-5b84-11e9-8c95-0242ac1c0002\"] = google.colab.output.setActiveOutputArea(window[\"adcdb90a-5b84-11e9-8c95-0242ac1c0002\"]);\n",
              "//# sourceURL=js_9d61342f3d"
            ],
            "text/plain": [
              "<IPython.core.display.Javascript object>"
            ]
          },
          "metadata": {
            "tags": [
              "id44-4-3",
              "outputarea_id44"
            ]
          }
        },
        {
          "output_type": "display_data",
          "data": {
            "application/javascript": [
              "window[\"addaeb98-5b84-11e9-8c95-0242ac1c0002\"] = google.colab.output.setActiveOutputArea(window[\"adcd3232-5b84-11e9-8c95-0242ac1c0002\"]);\n",
              "//# sourceURL=js_a57a933131"
            ],
            "text/plain": [
              "<IPython.core.display.Javascript object>"
            ]
          },
          "metadata": {
            "tags": [
              "id44-4-3",
              "outputarea_id44"
            ]
          }
        },
        {
          "output_type": "display_data",
          "data": {
            "application/javascript": [
              "window[\"aded87d0-5b84-11e9-8c95-0242ac1c0002\"] = google.colab.output.getActiveOutputArea();\n",
              "//# sourceURL=js_40abc46009"
            ],
            "text/plain": [
              "<IPython.core.display.Javascript object>"
            ]
          },
          "metadata": {
            "tags": [
              "id44-2-2",
              "outputarea_id44"
            ]
          }
        },
        {
          "output_type": "display_data",
          "data": {
            "application/javascript": [
              "window[\"adee1074-5b84-11e9-8c95-0242ac1c0002\"] = document.querySelector(\"#id44-2-2\");\n",
              "//# sourceURL=js_a274a450f7"
            ],
            "text/plain": [
              "<IPython.core.display.Javascript object>"
            ]
          },
          "metadata": {
            "tags": [
              "id44-2-2",
              "outputarea_id44"
            ]
          }
        },
        {
          "output_type": "display_data",
          "data": {
            "application/javascript": [
              "window[\"adeea34a-5b84-11e9-8c95-0242ac1c0002\"] = google.colab.output.setActiveOutputArea(window[\"adee1074-5b84-11e9-8c95-0242ac1c0002\"]);\n",
              "//# sourceURL=js_8c86849a15"
            ],
            "text/plain": [
              "<IPython.core.display.Javascript object>"
            ]
          },
          "metadata": {
            "tags": [
              "id44-2-2",
              "outputarea_id44"
            ]
          }
        },
        {
          "output_type": "display_data",
          "data": {
            "application/javascript": [
              "window[\"adfcf490-5b84-11e9-8c95-0242ac1c0002\"] = google.colab.output.setActiveOutputArea(window[\"aded87d0-5b84-11e9-8c95-0242ac1c0002\"]);\n",
              "//# sourceURL=js_8933a63de1"
            ],
            "text/plain": [
              "<IPython.core.display.Javascript object>"
            ]
          },
          "metadata": {
            "tags": [
              "id44-2-2",
              "outputarea_id44"
            ]
          }
        },
        {
          "output_type": "display_data",
          "data": {
            "application/javascript": [
              "window[\"ae0ef62c-5b84-11e9-8c95-0242ac1c0002\"] = google.colab.output.getActiveOutputArea();\n",
              "//# sourceURL=js_02ba924a3d"
            ],
            "text/plain": [
              "<IPython.core.display.Javascript object>"
            ]
          },
          "metadata": {
            "tags": [
              "id44-3-2",
              "outputarea_id44"
            ]
          }
        },
        {
          "output_type": "display_data",
          "data": {
            "application/javascript": [
              "window[\"ae0f9f00-5b84-11e9-8c95-0242ac1c0002\"] = document.querySelector(\"#id44-3-2\");\n",
              "//# sourceURL=js_573b73b32f"
            ],
            "text/plain": [
              "<IPython.core.display.Javascript object>"
            ]
          },
          "metadata": {
            "tags": [
              "id44-3-2",
              "outputarea_id44"
            ]
          }
        },
        {
          "output_type": "display_data",
          "data": {
            "application/javascript": [
              "window[\"ae1031d6-5b84-11e9-8c95-0242ac1c0002\"] = google.colab.output.setActiveOutputArea(window[\"ae0f9f00-5b84-11e9-8c95-0242ac1c0002\"]);\n",
              "//# sourceURL=js_53f4ccd453"
            ],
            "text/plain": [
              "<IPython.core.display.Javascript object>"
            ]
          },
          "metadata": {
            "tags": [
              "id44-3-2",
              "outputarea_id44"
            ]
          }
        },
        {
          "output_type": "display_data",
          "data": {
            "application/javascript": [
              "window[\"ae1c5128-5b84-11e9-8c95-0242ac1c0002\"] = google.colab.output.setActiveOutputArea(window[\"ae0ef62c-5b84-11e9-8c95-0242ac1c0002\"]);\n",
              "//# sourceURL=js_142262a2ca"
            ],
            "text/plain": [
              "<IPython.core.display.Javascript object>"
            ]
          },
          "metadata": {
            "tags": [
              "id44-3-2",
              "outputarea_id44"
            ]
          }
        },
        {
          "output_type": "display_data",
          "data": {
            "application/javascript": [
              "window[\"ae2e53b4-5b84-11e9-8c95-0242ac1c0002\"] = google.colab.output.getActiveOutputArea();\n",
              "//# sourceURL=js_c03a1c945a"
            ],
            "text/plain": [
              "<IPython.core.display.Javascript object>"
            ]
          },
          "metadata": {
            "tags": [
              "id44-3-4",
              "outputarea_id44"
            ]
          }
        },
        {
          "output_type": "display_data",
          "data": {
            "application/javascript": [
              "window[\"ae2edb9a-5b84-11e9-8c95-0242ac1c0002\"] = document.querySelector(\"#id44-3-4\");\n",
              "//# sourceURL=js_13da1490d1"
            ],
            "text/plain": [
              "<IPython.core.display.Javascript object>"
            ]
          },
          "metadata": {
            "tags": [
              "id44-3-4",
              "outputarea_id44"
            ]
          }
        },
        {
          "output_type": "display_data",
          "data": {
            "application/javascript": [
              "window[\"ae2f76f4-5b84-11e9-8c95-0242ac1c0002\"] = google.colab.output.setActiveOutputArea(window[\"ae2edb9a-5b84-11e9-8c95-0242ac1c0002\"]);\n",
              "//# sourceURL=js_60c8f9a860"
            ],
            "text/plain": [
              "<IPython.core.display.Javascript object>"
            ]
          },
          "metadata": {
            "tags": [
              "id44-3-4",
              "outputarea_id44"
            ]
          }
        },
        {
          "output_type": "display_data",
          "data": {
            "application/javascript": [
              "window[\"ae3b3c32-5b84-11e9-8c95-0242ac1c0002\"] = google.colab.output.setActiveOutputArea(window[\"ae2e53b4-5b84-11e9-8c95-0242ac1c0002\"]);\n",
              "//# sourceURL=js_9db5c35019"
            ],
            "text/plain": [
              "<IPython.core.display.Javascript object>"
            ]
          },
          "metadata": {
            "tags": [
              "id44-3-4",
              "outputarea_id44"
            ]
          }
        },
        {
          "output_type": "display_data",
          "data": {
            "application/javascript": [
              "window[\"ae4cebbc-5b84-11e9-8c95-0242ac1c0002\"] = google.colab.output.getActiveOutputArea();\n",
              "//# sourceURL=js_51f7f70b67"
            ],
            "text/plain": [
              "<IPython.core.display.Javascript object>"
            ]
          },
          "metadata": {
            "tags": [
              "id44-1-0",
              "outputarea_id44"
            ]
          }
        },
        {
          "output_type": "display_data",
          "data": {
            "application/javascript": [
              "window[\"ae4d63da-5b84-11e9-8c95-0242ac1c0002\"] = document.querySelector(\"#id44-1-0\");\n",
              "//# sourceURL=js_4014775e8d"
            ],
            "text/plain": [
              "<IPython.core.display.Javascript object>"
            ]
          },
          "metadata": {
            "tags": [
              "id44-1-0",
              "outputarea_id44"
            ]
          }
        },
        {
          "output_type": "display_data",
          "data": {
            "application/javascript": [
              "window[\"ae4dd9a0-5b84-11e9-8c95-0242ac1c0002\"] = google.colab.output.setActiveOutputArea(window[\"ae4d63da-5b84-11e9-8c95-0242ac1c0002\"]);\n",
              "//# sourceURL=js_adbaed9d33"
            ],
            "text/plain": [
              "<IPython.core.display.Javascript object>"
            ]
          },
          "metadata": {
            "tags": [
              "id44-1-0",
              "outputarea_id44"
            ]
          }
        },
        {
          "output_type": "display_data",
          "data": {
            "application/javascript": [
              "window[\"ae5a8aa6-5b84-11e9-8c95-0242ac1c0002\"] = google.colab.output.setActiveOutputArea(window[\"ae4cebbc-5b84-11e9-8c95-0242ac1c0002\"]);\n",
              "//# sourceURL=js_82ae656ed5"
            ],
            "text/plain": [
              "<IPython.core.display.Javascript object>"
            ]
          },
          "metadata": {
            "tags": [
              "id44-1-0",
              "outputarea_id44"
            ]
          }
        },
        {
          "output_type": "display_data",
          "data": {
            "application/javascript": [
              "window[\"ae6bd630-5b84-11e9-8c95-0242ac1c0002\"] = google.colab.output.getActiveOutputArea();\n",
              "//# sourceURL=js_0562e363b5"
            ],
            "text/plain": [
              "<IPython.core.display.Javascript object>"
            ]
          },
          "metadata": {
            "tags": [
              "id44-4-2",
              "outputarea_id44"
            ]
          }
        },
        {
          "output_type": "display_data",
          "data": {
            "application/javascript": [
              "window[\"ae6c5240-5b84-11e9-8c95-0242ac1c0002\"] = document.querySelector(\"#id44-4-2\");\n",
              "//# sourceURL=js_a1aef371fe"
            ],
            "text/plain": [
              "<IPython.core.display.Javascript object>"
            ]
          },
          "metadata": {
            "tags": [
              "id44-4-2",
              "outputarea_id44"
            ]
          }
        },
        {
          "output_type": "display_data",
          "data": {
            "application/javascript": [
              "window[\"ae6ce94e-5b84-11e9-8c95-0242ac1c0002\"] = google.colab.output.setActiveOutputArea(window[\"ae6c5240-5b84-11e9-8c95-0242ac1c0002\"]);\n",
              "//# sourceURL=js_d5773d7b33"
            ],
            "text/plain": [
              "<IPython.core.display.Javascript object>"
            ]
          },
          "metadata": {
            "tags": [
              "id44-4-2",
              "outputarea_id44"
            ]
          }
        },
        {
          "output_type": "display_data",
          "data": {
            "application/javascript": [
              "window[\"ae78ba76-5b84-11e9-8c95-0242ac1c0002\"] = google.colab.output.setActiveOutputArea(window[\"ae6bd630-5b84-11e9-8c95-0242ac1c0002\"]);\n",
              "//# sourceURL=js_148aea6adb"
            ],
            "text/plain": [
              "<IPython.core.display.Javascript object>"
            ]
          },
          "metadata": {
            "tags": [
              "id44-4-2",
              "outputarea_id44"
            ]
          }
        },
        {
          "output_type": "display_data",
          "data": {
            "application/javascript": [
              "window[\"ae8a7388-5b84-11e9-8c95-0242ac1c0002\"] = google.colab.output.getActiveOutputArea();\n",
              "//# sourceURL=js_45f8dc24bf"
            ],
            "text/plain": [
              "<IPython.core.display.Javascript object>"
            ]
          },
          "metadata": {
            "tags": [
              "id44-2-2",
              "outputarea_id44"
            ]
          }
        },
        {
          "output_type": "display_data",
          "data": {
            "application/javascript": [
              "window[\"ae8af7f4-5b84-11e9-8c95-0242ac1c0002\"] = document.querySelector(\"#id44-2-2\");\n",
              "//# sourceURL=js_c2652a734f"
            ],
            "text/plain": [
              "<IPython.core.display.Javascript object>"
            ]
          },
          "metadata": {
            "tags": [
              "id44-2-2",
              "outputarea_id44"
            ]
          }
        },
        {
          "output_type": "display_data",
          "data": {
            "application/javascript": [
              "window[\"ae8b5d84-5b84-11e9-8c95-0242ac1c0002\"] = google.colab.output.setActiveOutputArea(window[\"ae8af7f4-5b84-11e9-8c95-0242ac1c0002\"]);\n",
              "//# sourceURL=js_c9d9be8d06"
            ],
            "text/plain": [
              "<IPython.core.display.Javascript object>"
            ]
          },
          "metadata": {
            "tags": [
              "id44-2-2",
              "outputarea_id44"
            ]
          }
        },
        {
          "output_type": "display_data",
          "data": {
            "application/javascript": [
              "window[\"ae9791f8-5b84-11e9-8c95-0242ac1c0002\"] = google.colab.output.setActiveOutputArea(window[\"ae8a7388-5b84-11e9-8c95-0242ac1c0002\"]);\n",
              "//# sourceURL=js_87e98af852"
            ],
            "text/plain": [
              "<IPython.core.display.Javascript object>"
            ]
          },
          "metadata": {
            "tags": [
              "id44-2-2",
              "outputarea_id44"
            ]
          }
        },
        {
          "output_type": "display_data",
          "data": {
            "application/javascript": [
              "window[\"aea87928-5b84-11e9-8c95-0242ac1c0002\"] = google.colab.output.getActiveOutputArea();\n",
              "//# sourceURL=js_65857345cf"
            ],
            "text/plain": [
              "<IPython.core.display.Javascript object>"
            ]
          },
          "metadata": {
            "tags": [
              "id44-1-4",
              "outputarea_id44"
            ]
          }
        },
        {
          "output_type": "display_data",
          "data": {
            "application/javascript": [
              "window[\"aea8fb00-5b84-11e9-8c95-0242ac1c0002\"] = document.querySelector(\"#id44-1-4\");\n",
              "//# sourceURL=js_7522dd76b8"
            ],
            "text/plain": [
              "<IPython.core.display.Javascript object>"
            ]
          },
          "metadata": {
            "tags": [
              "id44-1-4",
              "outputarea_id44"
            ]
          }
        },
        {
          "output_type": "display_data",
          "data": {
            "application/javascript": [
              "window[\"aea97fee-5b84-11e9-8c95-0242ac1c0002\"] = google.colab.output.setActiveOutputArea(window[\"aea8fb00-5b84-11e9-8c95-0242ac1c0002\"]);\n",
              "//# sourceURL=js_995baf0e7d"
            ],
            "text/plain": [
              "<IPython.core.display.Javascript object>"
            ]
          },
          "metadata": {
            "tags": [
              "id44-1-4",
              "outputarea_id44"
            ]
          }
        },
        {
          "output_type": "display_data",
          "data": {
            "application/javascript": [
              "window[\"aebe78fe-5b84-11e9-8c95-0242ac1c0002\"] = google.colab.output.setActiveOutputArea(window[\"aea87928-5b84-11e9-8c95-0242ac1c0002\"]);\n",
              "//# sourceURL=js_a1a1d6a8dc"
            ],
            "text/plain": [
              "<IPython.core.display.Javascript object>"
            ]
          },
          "metadata": {
            "tags": [
              "id44-1-4",
              "outputarea_id44"
            ]
          }
        },
        {
          "output_type": "display_data",
          "data": {
            "application/javascript": [
              "window[\"aecfe9e0-5b84-11e9-8c95-0242ac1c0002\"] = google.colab.output.getActiveOutputArea();\n",
              "//# sourceURL=js_695c69fb08"
            ],
            "text/plain": [
              "<IPython.core.display.Javascript object>"
            ]
          },
          "metadata": {
            "tags": [
              "id44-3-1",
              "outputarea_id44"
            ]
          }
        },
        {
          "output_type": "display_data",
          "data": {
            "application/javascript": [
              "window[\"aed09b10-5b84-11e9-8c95-0242ac1c0002\"] = document.querySelector(\"#id44-3-1\");\n",
              "//# sourceURL=js_0361485b18"
            ],
            "text/plain": [
              "<IPython.core.display.Javascript object>"
            ]
          },
          "metadata": {
            "tags": [
              "id44-3-1",
              "outputarea_id44"
            ]
          }
        },
        {
          "output_type": "display_data",
          "data": {
            "application/javascript": [
              "window[\"aed1208a-5b84-11e9-8c95-0242ac1c0002\"] = google.colab.output.setActiveOutputArea(window[\"aed09b10-5b84-11e9-8c95-0242ac1c0002\"]);\n",
              "//# sourceURL=js_f4710dc0f2"
            ],
            "text/plain": [
              "<IPython.core.display.Javascript object>"
            ]
          },
          "metadata": {
            "tags": [
              "id44-3-1",
              "outputarea_id44"
            ]
          }
        },
        {
          "output_type": "display_data",
          "data": {
            "application/javascript": [
              "window[\"aedcf964-5b84-11e9-8c95-0242ac1c0002\"] = google.colab.output.setActiveOutputArea(window[\"aecfe9e0-5b84-11e9-8c95-0242ac1c0002\"]);\n",
              "//# sourceURL=js_bf3dcfc7ae"
            ],
            "text/plain": [
              "<IPython.core.display.Javascript object>"
            ]
          },
          "metadata": {
            "tags": [
              "id44-3-1",
              "outputarea_id44"
            ]
          }
        },
        {
          "output_type": "display_data",
          "data": {
            "application/javascript": [
              "window[\"aeee8314-5b84-11e9-8c95-0242ac1c0002\"] = google.colab.output.getActiveOutputArea();\n",
              "//# sourceURL=js_bc7a6897e0"
            ],
            "text/plain": [
              "<IPython.core.display.Javascript object>"
            ]
          },
          "metadata": {
            "tags": [
              "id44-3-2",
              "outputarea_id44"
            ]
          }
        },
        {
          "output_type": "display_data",
          "data": {
            "application/javascript": [
              "window[\"aeef008c-5b84-11e9-8c95-0242ac1c0002\"] = document.querySelector(\"#id44-3-2\");\n",
              "//# sourceURL=js_70823018b6"
            ],
            "text/plain": [
              "<IPython.core.display.Javascript object>"
            ]
          },
          "metadata": {
            "tags": [
              "id44-3-2",
              "outputarea_id44"
            ]
          }
        },
        {
          "output_type": "display_data",
          "data": {
            "application/javascript": [
              "window[\"aeef8b38-5b84-11e9-8c95-0242ac1c0002\"] = google.colab.output.setActiveOutputArea(window[\"aeef008c-5b84-11e9-8c95-0242ac1c0002\"]);\n",
              "//# sourceURL=js_452f975b27"
            ],
            "text/plain": [
              "<IPython.core.display.Javascript object>"
            ]
          },
          "metadata": {
            "tags": [
              "id44-3-2",
              "outputarea_id44"
            ]
          }
        },
        {
          "output_type": "display_data",
          "data": {
            "application/javascript": [
              "window[\"aefb4540-5b84-11e9-8c95-0242ac1c0002\"] = google.colab.output.setActiveOutputArea(window[\"aeee8314-5b84-11e9-8c95-0242ac1c0002\"]);\n",
              "//# sourceURL=js_bda7c07e35"
            ],
            "text/plain": [
              "<IPython.core.display.Javascript object>"
            ]
          },
          "metadata": {
            "tags": [
              "id44-3-2",
              "outputarea_id44"
            ]
          }
        },
        {
          "output_type": "display_data",
          "data": {
            "application/javascript": [
              "window[\"af0cd256-5b84-11e9-8c95-0242ac1c0002\"] = google.colab.output.getActiveOutputArea();\n",
              "//# sourceURL=js_68dac2c48b"
            ],
            "text/plain": [
              "<IPython.core.display.Javascript object>"
            ]
          },
          "metadata": {
            "tags": [
              "id44-4-0",
              "outputarea_id44"
            ]
          }
        },
        {
          "output_type": "display_data",
          "data": {
            "application/javascript": [
              "window[\"af0d4b96-5b84-11e9-8c95-0242ac1c0002\"] = document.querySelector(\"#id44-4-0\");\n",
              "//# sourceURL=js_720cc41d35"
            ],
            "text/plain": [
              "<IPython.core.display.Javascript object>"
            ]
          },
          "metadata": {
            "tags": [
              "id44-4-0",
              "outputarea_id44"
            ]
          }
        },
        {
          "output_type": "display_data",
          "data": {
            "application/javascript": [
              "window[\"af0dc9cc-5b84-11e9-8c95-0242ac1c0002\"] = google.colab.output.setActiveOutputArea(window[\"af0d4b96-5b84-11e9-8c95-0242ac1c0002\"]);\n",
              "//# sourceURL=js_9eec1f7323"
            ],
            "text/plain": [
              "<IPython.core.display.Javascript object>"
            ]
          },
          "metadata": {
            "tags": [
              "id44-4-0",
              "outputarea_id44"
            ]
          }
        },
        {
          "output_type": "display_data",
          "data": {
            "application/javascript": [
              "window[\"af187b60-5b84-11e9-8c95-0242ac1c0002\"] = google.colab.output.setActiveOutputArea(window[\"af0cd256-5b84-11e9-8c95-0242ac1c0002\"]);\n",
              "//# sourceURL=js_ea27942cfe"
            ],
            "text/plain": [
              "<IPython.core.display.Javascript object>"
            ]
          },
          "metadata": {
            "tags": [
              "id44-4-0",
              "outputarea_id44"
            ]
          }
        },
        {
          "output_type": "display_data",
          "data": {
            "application/javascript": [
              "window[\"af2a28f6-5b84-11e9-8c95-0242ac1c0002\"] = google.colab.output.getActiveOutputArea();\n",
              "//# sourceURL=js_2001bdba34"
            ],
            "text/plain": [
              "<IPython.core.display.Javascript object>"
            ]
          },
          "metadata": {
            "tags": [
              "id44-2-0",
              "outputarea_id44"
            ]
          }
        },
        {
          "output_type": "display_data",
          "data": {
            "application/javascript": [
              "window[\"af2a7298-5b84-11e9-8c95-0242ac1c0002\"] = document.querySelector(\"#id44-2-0\");\n",
              "//# sourceURL=js_dbccfd2a7a"
            ],
            "text/plain": [
              "<IPython.core.display.Javascript object>"
            ]
          },
          "metadata": {
            "tags": [
              "id44-2-0",
              "outputarea_id44"
            ]
          }
        },
        {
          "output_type": "display_data",
          "data": {
            "application/javascript": [
              "window[\"af2b5244-5b84-11e9-8c95-0242ac1c0002\"] = google.colab.output.setActiveOutputArea(window[\"af2a7298-5b84-11e9-8c95-0242ac1c0002\"]);\n",
              "//# sourceURL=js_a48298fece"
            ],
            "text/plain": [
              "<IPython.core.display.Javascript object>"
            ]
          },
          "metadata": {
            "tags": [
              "id44-2-0",
              "outputarea_id44"
            ]
          }
        },
        {
          "output_type": "display_data",
          "data": {
            "application/javascript": [
              "window[\"af37d474-5b84-11e9-8c95-0242ac1c0002\"] = google.colab.output.setActiveOutputArea(window[\"af2a28f6-5b84-11e9-8c95-0242ac1c0002\"]);\n",
              "//# sourceURL=js_62ac22fffd"
            ],
            "text/plain": [
              "<IPython.core.display.Javascript object>"
            ]
          },
          "metadata": {
            "tags": [
              "id44-2-0",
              "outputarea_id44"
            ]
          }
        },
        {
          "output_type": "display_data",
          "data": {
            "application/javascript": [
              "window[\"af4a8d62-5b84-11e9-8c95-0242ac1c0002\"] = google.colab.output.getActiveOutputArea();\n",
              "//# sourceURL=js_c221f0e0fa"
            ],
            "text/plain": [
              "<IPython.core.display.Javascript object>"
            ]
          },
          "metadata": {
            "tags": [
              "id44-2-2",
              "outputarea_id44"
            ]
          }
        },
        {
          "output_type": "display_data",
          "data": {
            "application/javascript": [
              "window[\"af4b1e30-5b84-11e9-8c95-0242ac1c0002\"] = document.querySelector(\"#id44-2-2\");\n",
              "//# sourceURL=js_de35c9dc77"
            ],
            "text/plain": [
              "<IPython.core.display.Javascript object>"
            ]
          },
          "metadata": {
            "tags": [
              "id44-2-2",
              "outputarea_id44"
            ]
          }
        },
        {
          "output_type": "display_data",
          "data": {
            "application/javascript": [
              "window[\"af4ba760-5b84-11e9-8c95-0242ac1c0002\"] = google.colab.output.setActiveOutputArea(window[\"af4b1e30-5b84-11e9-8c95-0242ac1c0002\"]);\n",
              "//# sourceURL=js_47e9793ccd"
            ],
            "text/plain": [
              "<IPython.core.display.Javascript object>"
            ]
          },
          "metadata": {
            "tags": [
              "id44-2-2",
              "outputarea_id44"
            ]
          }
        },
        {
          "output_type": "display_data",
          "data": {
            "application/javascript": [
              "window[\"af57f7e0-5b84-11e9-8c95-0242ac1c0002\"] = google.colab.output.setActiveOutputArea(window[\"af4a8d62-5b84-11e9-8c95-0242ac1c0002\"]);\n",
              "//# sourceURL=js_3f8bc20706"
            ],
            "text/plain": [
              "<IPython.core.display.Javascript object>"
            ]
          },
          "metadata": {
            "tags": [
              "id44-2-2",
              "outputarea_id44"
            ]
          }
        },
        {
          "output_type": "display_data",
          "data": {
            "application/javascript": [
              "window[\"af695ee0-5b84-11e9-8c95-0242ac1c0002\"] = google.colab.output.getActiveOutputArea();\n",
              "//# sourceURL=js_510539b03f"
            ],
            "text/plain": [
              "<IPython.core.display.Javascript object>"
            ]
          },
          "metadata": {
            "tags": [
              "id44-3-3",
              "outputarea_id44"
            ]
          }
        },
        {
          "output_type": "display_data",
          "data": {
            "application/javascript": [
              "window[\"af69abac-5b84-11e9-8c95-0242ac1c0002\"] = document.querySelector(\"#id44-3-3\");\n",
              "//# sourceURL=js_dcddda4dec"
            ],
            "text/plain": [
              "<IPython.core.display.Javascript object>"
            ]
          },
          "metadata": {
            "tags": [
              "id44-3-3",
              "outputarea_id44"
            ]
          }
        },
        {
          "output_type": "display_data",
          "data": {
            "application/javascript": [
              "window[\"af6a4a80-5b84-11e9-8c95-0242ac1c0002\"] = google.colab.output.setActiveOutputArea(window[\"af69abac-5b84-11e9-8c95-0242ac1c0002\"]);\n",
              "//# sourceURL=js_5033610bfe"
            ],
            "text/plain": [
              "<IPython.core.display.Javascript object>"
            ]
          },
          "metadata": {
            "tags": [
              "id44-3-3",
              "outputarea_id44"
            ]
          }
        },
        {
          "output_type": "display_data",
          "data": {
            "application/javascript": [
              "window[\"af76074e-5b84-11e9-8c95-0242ac1c0002\"] = google.colab.output.setActiveOutputArea(window[\"af695ee0-5b84-11e9-8c95-0242ac1c0002\"]);\n",
              "//# sourceURL=js_9fa9201882"
            ],
            "text/plain": [
              "<IPython.core.display.Javascript object>"
            ]
          },
          "metadata": {
            "tags": [
              "id44-3-3",
              "outputarea_id44"
            ]
          }
        },
        {
          "output_type": "display_data",
          "data": {
            "application/javascript": [
              "window[\"af8777e0-5b84-11e9-8c95-0242ac1c0002\"] = google.colab.output.getActiveOutputArea();\n",
              "//# sourceURL=js_12f175f6a8"
            ],
            "text/plain": [
              "<IPython.core.display.Javascript object>"
            ]
          },
          "metadata": {
            "tags": [
              "id44-1-0",
              "outputarea_id44"
            ]
          }
        },
        {
          "output_type": "display_data",
          "data": {
            "application/javascript": [
              "window[\"af87da28-5b84-11e9-8c95-0242ac1c0002\"] = document.querySelector(\"#id44-1-0\");\n",
              "//# sourceURL=js_fcfbd7f3b9"
            ],
            "text/plain": [
              "<IPython.core.display.Javascript object>"
            ]
          },
          "metadata": {
            "tags": [
              "id44-1-0",
              "outputarea_id44"
            ]
          }
        },
        {
          "output_type": "display_data",
          "data": {
            "application/javascript": [
              "window[\"af88274e-5b84-11e9-8c95-0242ac1c0002\"] = google.colab.output.setActiveOutputArea(window[\"af87da28-5b84-11e9-8c95-0242ac1c0002\"]);\n",
              "//# sourceURL=js_4e7d47ee47"
            ],
            "text/plain": [
              "<IPython.core.display.Javascript object>"
            ]
          },
          "metadata": {
            "tags": [
              "id44-1-0",
              "outputarea_id44"
            ]
          }
        },
        {
          "output_type": "display_data",
          "data": {
            "application/javascript": [
              "window[\"af935c04-5b84-11e9-8c95-0242ac1c0002\"] = google.colab.output.setActiveOutputArea(window[\"af8777e0-5b84-11e9-8c95-0242ac1c0002\"]);\n",
              "//# sourceURL=js_30461d9e9b"
            ],
            "text/plain": [
              "<IPython.core.display.Javascript object>"
            ]
          },
          "metadata": {
            "tags": [
              "id44-1-0",
              "outputarea_id44"
            ]
          }
        },
        {
          "output_type": "display_data",
          "data": {
            "application/javascript": [
              "window[\"afa44fdc-5b84-11e9-8c95-0242ac1c0002\"] = google.colab.output.getActiveOutputArea();\n",
              "//# sourceURL=js_429133af68"
            ],
            "text/plain": [
              "<IPython.core.display.Javascript object>"
            ]
          },
          "metadata": {
            "tags": [
              "id44-1-2",
              "outputarea_id44"
            ]
          }
        },
        {
          "output_type": "display_data",
          "data": {
            "application/javascript": [
              "window[\"afa49c58-5b84-11e9-8c95-0242ac1c0002\"] = document.querySelector(\"#id44-1-2\");\n",
              "//# sourceURL=js_334d26141d"
            ],
            "text/plain": [
              "<IPython.core.display.Javascript object>"
            ]
          },
          "metadata": {
            "tags": [
              "id44-1-2",
              "outputarea_id44"
            ]
          }
        },
        {
          "output_type": "display_data",
          "data": {
            "application/javascript": [
              "window[\"afa515f2-5b84-11e9-8c95-0242ac1c0002\"] = google.colab.output.setActiveOutputArea(window[\"afa49c58-5b84-11e9-8c95-0242ac1c0002\"]);\n",
              "//# sourceURL=js_1055fc5b8b"
            ],
            "text/plain": [
              "<IPython.core.display.Javascript object>"
            ]
          },
          "metadata": {
            "tags": [
              "id44-1-2",
              "outputarea_id44"
            ]
          }
        },
        {
          "output_type": "display_data",
          "data": {
            "application/javascript": [
              "window[\"afb17fb8-5b84-11e9-8c95-0242ac1c0002\"] = google.colab.output.setActiveOutputArea(window[\"afa44fdc-5b84-11e9-8c95-0242ac1c0002\"]);\n",
              "//# sourceURL=js_a1ca93a23a"
            ],
            "text/plain": [
              "<IPython.core.display.Javascript object>"
            ]
          },
          "metadata": {
            "tags": [
              "id44-1-2",
              "outputarea_id44"
            ]
          }
        },
        {
          "output_type": "display_data",
          "data": {
            "application/javascript": [
              "window[\"afc30f08-5b84-11e9-8c95-0242ac1c0002\"] = google.colab.output.getActiveOutputArea();\n",
              "//# sourceURL=js_9cfc121af6"
            ],
            "text/plain": [
              "<IPython.core.display.Javascript object>"
            ]
          },
          "metadata": {
            "tags": [
              "id44-2-3",
              "outputarea_id44"
            ]
          }
        },
        {
          "output_type": "display_data",
          "data": {
            "application/javascript": [
              "window[\"afc3aabc-5b84-11e9-8c95-0242ac1c0002\"] = document.querySelector(\"#id44-2-3\");\n",
              "//# sourceURL=js_d8b6a03d6e"
            ],
            "text/plain": [
              "<IPython.core.display.Javascript object>"
            ]
          },
          "metadata": {
            "tags": [
              "id44-2-3",
              "outputarea_id44"
            ]
          }
        },
        {
          "output_type": "display_data",
          "data": {
            "application/javascript": [
              "window[\"afc40520-5b84-11e9-8c95-0242ac1c0002\"] = google.colab.output.setActiveOutputArea(window[\"afc3aabc-5b84-11e9-8c95-0242ac1c0002\"]);\n",
              "//# sourceURL=js_e17dbf5203"
            ],
            "text/plain": [
              "<IPython.core.display.Javascript object>"
            ]
          },
          "metadata": {
            "tags": [
              "id44-2-3",
              "outputarea_id44"
            ]
          }
        },
        {
          "output_type": "display_data",
          "data": {
            "application/javascript": [
              "window[\"afd1159e-5b84-11e9-8c95-0242ac1c0002\"] = google.colab.output.setActiveOutputArea(window[\"afc30f08-5b84-11e9-8c95-0242ac1c0002\"]);\n",
              "//# sourceURL=js_f9b1d78bdc"
            ],
            "text/plain": [
              "<IPython.core.display.Javascript object>"
            ]
          },
          "metadata": {
            "tags": [
              "id44-2-3",
              "outputarea_id44"
            ]
          }
        },
        {
          "output_type": "display_data",
          "data": {
            "application/javascript": [
              "window[\"afe2be70-5b84-11e9-8c95-0242ac1c0002\"] = google.colab.output.getActiveOutputArea();\n",
              "//# sourceURL=js_9114e251b7"
            ],
            "text/plain": [
              "<IPython.core.display.Javascript object>"
            ]
          },
          "metadata": {
            "tags": [
              "id44-1-2",
              "outputarea_id44"
            ]
          }
        },
        {
          "output_type": "display_data",
          "data": {
            "application/javascript": [
              "window[\"afe34bb0-5b84-11e9-8c95-0242ac1c0002\"] = document.querySelector(\"#id44-1-2\");\n",
              "//# sourceURL=js_64c79e750c"
            ],
            "text/plain": [
              "<IPython.core.display.Javascript object>"
            ]
          },
          "metadata": {
            "tags": [
              "id44-1-2",
              "outputarea_id44"
            ]
          }
        },
        {
          "output_type": "display_data",
          "data": {
            "application/javascript": [
              "window[\"afe3d616-5b84-11e9-8c95-0242ac1c0002\"] = google.colab.output.setActiveOutputArea(window[\"afe34bb0-5b84-11e9-8c95-0242ac1c0002\"]);\n",
              "//# sourceURL=js_d9bcb08d92"
            ],
            "text/plain": [
              "<IPython.core.display.Javascript object>"
            ]
          },
          "metadata": {
            "tags": [
              "id44-1-2",
              "outputarea_id44"
            ]
          }
        },
        {
          "output_type": "display_data",
          "data": {
            "application/javascript": [
              "window[\"aff0017a-5b84-11e9-8c95-0242ac1c0002\"] = google.colab.output.setActiveOutputArea(window[\"afe2be70-5b84-11e9-8c95-0242ac1c0002\"]);\n",
              "//# sourceURL=js_62400af125"
            ],
            "text/plain": [
              "<IPython.core.display.Javascript object>"
            ]
          },
          "metadata": {
            "tags": [
              "id44-1-2",
              "outputarea_id44"
            ]
          }
        },
        {
          "output_type": "display_data",
          "data": {
            "application/javascript": [
              "window[\"b001705e-5b84-11e9-8c95-0242ac1c0002\"] = google.colab.output.getActiveOutputArea();\n",
              "//# sourceURL=js_38edad4cf1"
            ],
            "text/plain": [
              "<IPython.core.display.Javascript object>"
            ]
          },
          "metadata": {
            "tags": [
              "id44-4-0",
              "outputarea_id44"
            ]
          }
        },
        {
          "output_type": "display_data",
          "data": {
            "application/javascript": [
              "window[\"b001dea4-5b84-11e9-8c95-0242ac1c0002\"] = document.querySelector(\"#id44-4-0\");\n",
              "//# sourceURL=js_54036e3b9d"
            ],
            "text/plain": [
              "<IPython.core.display.Javascript object>"
            ]
          },
          "metadata": {
            "tags": [
              "id44-4-0",
              "outputarea_id44"
            ]
          }
        },
        {
          "output_type": "display_data",
          "data": {
            "application/javascript": [
              "window[\"b0024330-5b84-11e9-8c95-0242ac1c0002\"] = google.colab.output.setActiveOutputArea(window[\"b001dea4-5b84-11e9-8c95-0242ac1c0002\"]);\n",
              "//# sourceURL=js_89b7b44d92"
            ],
            "text/plain": [
              "<IPython.core.display.Javascript object>"
            ]
          },
          "metadata": {
            "tags": [
              "id44-4-0",
              "outputarea_id44"
            ]
          }
        },
        {
          "output_type": "display_data",
          "data": {
            "application/javascript": [
              "window[\"b00e1372-5b84-11e9-8c95-0242ac1c0002\"] = google.colab.output.setActiveOutputArea(window[\"b001705e-5b84-11e9-8c95-0242ac1c0002\"]);\n",
              "//# sourceURL=js_b53f182526"
            ],
            "text/plain": [
              "<IPython.core.display.Javascript object>"
            ]
          },
          "metadata": {
            "tags": [
              "id44-4-0",
              "outputarea_id44"
            ]
          }
        },
        {
          "output_type": "display_data",
          "data": {
            "application/javascript": [
              "window[\"b01fa52e-5b84-11e9-8c95-0242ac1c0002\"] = google.colab.output.getActiveOutputArea();\n",
              "//# sourceURL=js_49c7da1f5e"
            ],
            "text/plain": [
              "<IPython.core.display.Javascript object>"
            ]
          },
          "metadata": {
            "tags": [
              "id44-0-3",
              "outputarea_id44"
            ]
          }
        },
        {
          "output_type": "display_data",
          "data": {
            "application/javascript": [
              "window[\"b0200668-5b84-11e9-8c95-0242ac1c0002\"] = document.querySelector(\"#id44-0-3\");\n",
              "//# sourceURL=js_7e23228c42"
            ],
            "text/plain": [
              "<IPython.core.display.Javascript object>"
            ]
          },
          "metadata": {
            "tags": [
              "id44-0-3",
              "outputarea_id44"
            ]
          }
        },
        {
          "output_type": "display_data",
          "data": {
            "application/javascript": [
              "window[\"b02091b4-5b84-11e9-8c95-0242ac1c0002\"] = google.colab.output.setActiveOutputArea(window[\"b0200668-5b84-11e9-8c95-0242ac1c0002\"]);\n",
              "//# sourceURL=js_7b0f7a6a00"
            ],
            "text/plain": [
              "<IPython.core.display.Javascript object>"
            ]
          },
          "metadata": {
            "tags": [
              "id44-0-3",
              "outputarea_id44"
            ]
          }
        },
        {
          "output_type": "display_data",
          "data": {
            "application/javascript": [
              "window[\"b02c4e96-5b84-11e9-8c95-0242ac1c0002\"] = google.colab.output.setActiveOutputArea(window[\"b01fa52e-5b84-11e9-8c95-0242ac1c0002\"]);\n",
              "//# sourceURL=js_5e63b504a0"
            ],
            "text/plain": [
              "<IPython.core.display.Javascript object>"
            ]
          },
          "metadata": {
            "tags": [
              "id44-0-3",
              "outputarea_id44"
            ]
          }
        },
        {
          "output_type": "display_data",
          "data": {
            "application/javascript": [
              "window[\"b03dbb0e-5b84-11e9-8c95-0242ac1c0002\"] = google.colab.output.getActiveOutputArea();\n",
              "//# sourceURL=js_2946758584"
            ],
            "text/plain": [
              "<IPython.core.display.Javascript object>"
            ]
          },
          "metadata": {
            "tags": [
              "id44-3-4",
              "outputarea_id44"
            ]
          }
        },
        {
          "output_type": "display_data",
          "data": {
            "application/javascript": [
              "window[\"b03e2bde-5b84-11e9-8c95-0242ac1c0002\"] = document.querySelector(\"#id44-3-4\");\n",
              "//# sourceURL=js_38c7e0897e"
            ],
            "text/plain": [
              "<IPython.core.display.Javascript object>"
            ]
          },
          "metadata": {
            "tags": [
              "id44-3-4",
              "outputarea_id44"
            ]
          }
        },
        {
          "output_type": "display_data",
          "data": {
            "application/javascript": [
              "window[\"b03ef442-5b84-11e9-8c95-0242ac1c0002\"] = google.colab.output.setActiveOutputArea(window[\"b03e2bde-5b84-11e9-8c95-0242ac1c0002\"]);\n",
              "//# sourceURL=js_65183517d8"
            ],
            "text/plain": [
              "<IPython.core.display.Javascript object>"
            ]
          },
          "metadata": {
            "tags": [
              "id44-3-4",
              "outputarea_id44"
            ]
          }
        },
        {
          "output_type": "display_data",
          "data": {
            "application/javascript": [
              "window[\"b04a6750-5b84-11e9-8c95-0242ac1c0002\"] = google.colab.output.setActiveOutputArea(window[\"b03dbb0e-5b84-11e9-8c95-0242ac1c0002\"]);\n",
              "//# sourceURL=js_9c23f5865e"
            ],
            "text/plain": [
              "<IPython.core.display.Javascript object>"
            ]
          },
          "metadata": {
            "tags": [
              "id44-3-4",
              "outputarea_id44"
            ]
          }
        },
        {
          "output_type": "display_data",
          "data": {
            "application/javascript": [
              "window[\"b05b41e2-5b84-11e9-8c95-0242ac1c0002\"] = google.colab.output.getActiveOutputArea();\n",
              "//# sourceURL=js_043ec6ee24"
            ],
            "text/plain": [
              "<IPython.core.display.Javascript object>"
            ]
          },
          "metadata": {
            "tags": [
              "id44-2-0",
              "outputarea_id44"
            ]
          }
        },
        {
          "output_type": "display_data",
          "data": {
            "application/javascript": [
              "window[\"b05b87e2-5b84-11e9-8c95-0242ac1c0002\"] = document.querySelector(\"#id44-2-0\");\n",
              "//# sourceURL=js_874c3b4a79"
            ],
            "text/plain": [
              "<IPython.core.display.Javascript object>"
            ]
          },
          "metadata": {
            "tags": [
              "id44-2-0",
              "outputarea_id44"
            ]
          }
        },
        {
          "output_type": "display_data",
          "data": {
            "application/javascript": [
              "window[\"b05bcd06-5b84-11e9-8c95-0242ac1c0002\"] = google.colab.output.setActiveOutputArea(window[\"b05b87e2-5b84-11e9-8c95-0242ac1c0002\"]);\n",
              "//# sourceURL=js_ad61bb66da"
            ],
            "text/plain": [
              "<IPython.core.display.Javascript object>"
            ]
          },
          "metadata": {
            "tags": [
              "id44-2-0",
              "outputarea_id44"
            ]
          }
        },
        {
          "output_type": "display_data",
          "data": {
            "application/javascript": [
              "window[\"b069080e-5b84-11e9-8c95-0242ac1c0002\"] = google.colab.output.setActiveOutputArea(window[\"b05b41e2-5b84-11e9-8c95-0242ac1c0002\"]);\n",
              "//# sourceURL=js_9e711b4414"
            ],
            "text/plain": [
              "<IPython.core.display.Javascript object>"
            ]
          },
          "metadata": {
            "tags": [
              "id44-2-0",
              "outputarea_id44"
            ]
          }
        },
        {
          "output_type": "display_data",
          "data": {
            "application/javascript": [
              "window[\"b07a2ac6-5b84-11e9-8c95-0242ac1c0002\"] = google.colab.output.getActiveOutputArea();\n",
              "//# sourceURL=js_96d122ee2a"
            ],
            "text/plain": [
              "<IPython.core.display.Javascript object>"
            ]
          },
          "metadata": {
            "tags": [
              "id44-4-0",
              "outputarea_id44"
            ]
          }
        },
        {
          "output_type": "display_data",
          "data": {
            "application/javascript": [
              "window[\"b07b0798-5b84-11e9-8c95-0242ac1c0002\"] = document.querySelector(\"#id44-4-0\");\n",
              "//# sourceURL=js_60a4dcb218"
            ],
            "text/plain": [
              "<IPython.core.display.Javascript object>"
            ]
          },
          "metadata": {
            "tags": [
              "id44-4-0",
              "outputarea_id44"
            ]
          }
        },
        {
          "output_type": "display_data",
          "data": {
            "application/javascript": [
              "window[\"b07ba4c8-5b84-11e9-8c95-0242ac1c0002\"] = google.colab.output.setActiveOutputArea(window[\"b07b0798-5b84-11e9-8c95-0242ac1c0002\"]);\n",
              "//# sourceURL=js_cbbd632096"
            ],
            "text/plain": [
              "<IPython.core.display.Javascript object>"
            ]
          },
          "metadata": {
            "tags": [
              "id44-4-0",
              "outputarea_id44"
            ]
          }
        },
        {
          "output_type": "display_data",
          "data": {
            "application/javascript": [
              "window[\"b086f8e6-5b84-11e9-8c95-0242ac1c0002\"] = google.colab.output.setActiveOutputArea(window[\"b07a2ac6-5b84-11e9-8c95-0242ac1c0002\"]);\n",
              "//# sourceURL=js_e18735bfc2"
            ],
            "text/plain": [
              "<IPython.core.display.Javascript object>"
            ]
          },
          "metadata": {
            "tags": [
              "id44-4-0",
              "outputarea_id44"
            ]
          }
        },
        {
          "output_type": "display_data",
          "data": {
            "application/javascript": [
              "window[\"b098b36a-5b84-11e9-8c95-0242ac1c0002\"] = google.colab.output.getActiveOutputArea();\n",
              "//# sourceURL=js_b953ac0c67"
            ],
            "text/plain": [
              "<IPython.core.display.Javascript object>"
            ]
          },
          "metadata": {
            "tags": [
              "id44-0-1",
              "outputarea_id44"
            ]
          }
        },
        {
          "output_type": "display_data",
          "data": {
            "application/javascript": [
              "window[\"b0990306-5b84-11e9-8c95-0242ac1c0002\"] = document.querySelector(\"#id44-0-1\");\n",
              "//# sourceURL=js_348bc2379d"
            ],
            "text/plain": [
              "<IPython.core.display.Javascript object>"
            ]
          },
          "metadata": {
            "tags": [
              "id44-0-1",
              "outputarea_id44"
            ]
          }
        },
        {
          "output_type": "display_data",
          "data": {
            "application/javascript": [
              "window[\"b0996a44-5b84-11e9-8c95-0242ac1c0002\"] = google.colab.output.setActiveOutputArea(window[\"b0990306-5b84-11e9-8c95-0242ac1c0002\"]);\n",
              "//# sourceURL=js_0a98d37cea"
            ],
            "text/plain": [
              "<IPython.core.display.Javascript object>"
            ]
          },
          "metadata": {
            "tags": [
              "id44-0-1",
              "outputarea_id44"
            ]
          }
        },
        {
          "output_type": "display_data",
          "data": {
            "application/javascript": [
              "window[\"b0a5cf32-5b84-11e9-8c95-0242ac1c0002\"] = google.colab.output.setActiveOutputArea(window[\"b098b36a-5b84-11e9-8c95-0242ac1c0002\"]);\n",
              "//# sourceURL=js_631dd441be"
            ],
            "text/plain": [
              "<IPython.core.display.Javascript object>"
            ]
          },
          "metadata": {
            "tags": [
              "id44-0-1",
              "outputarea_id44"
            ]
          }
        },
        {
          "output_type": "display_data",
          "data": {
            "application/javascript": [
              "window[\"b0b6c918-5b84-11e9-8c95-0242ac1c0002\"] = google.colab.output.getActiveOutputArea();\n",
              "//# sourceURL=js_76c9c334fa"
            ],
            "text/plain": [
              "<IPython.core.display.Javascript object>"
            ]
          },
          "metadata": {
            "tags": [
              "id44-2-4",
              "outputarea_id44"
            ]
          }
        },
        {
          "output_type": "display_data",
          "data": {
            "application/javascript": [
              "window[\"b0b71422-5b84-11e9-8c95-0242ac1c0002\"] = document.querySelector(\"#id44-2-4\");\n",
              "//# sourceURL=js_28c679cbf4"
            ],
            "text/plain": [
              "<IPython.core.display.Javascript object>"
            ]
          },
          "metadata": {
            "tags": [
              "id44-2-4",
              "outputarea_id44"
            ]
          }
        },
        {
          "output_type": "display_data",
          "data": {
            "application/javascript": [
              "window[\"b0b7a888-5b84-11e9-8c95-0242ac1c0002\"] = google.colab.output.setActiveOutputArea(window[\"b0b71422-5b84-11e9-8c95-0242ac1c0002\"]);\n",
              "//# sourceURL=js_833cbb8f28"
            ],
            "text/plain": [
              "<IPython.core.display.Javascript object>"
            ]
          },
          "metadata": {
            "tags": [
              "id44-2-4",
              "outputarea_id44"
            ]
          }
        },
        {
          "output_type": "display_data",
          "data": {
            "application/javascript": [
              "window[\"b0c4b000-5b84-11e9-8c95-0242ac1c0002\"] = google.colab.output.setActiveOutputArea(window[\"b0b6c918-5b84-11e9-8c95-0242ac1c0002\"]);\n",
              "//# sourceURL=js_42510e340b"
            ],
            "text/plain": [
              "<IPython.core.display.Javascript object>"
            ]
          },
          "metadata": {
            "tags": [
              "id44-2-4",
              "outputarea_id44"
            ]
          }
        },
        {
          "output_type": "display_data",
          "data": {
            "application/javascript": [
              "window[\"b0d70b60-5b84-11e9-8c95-0242ac1c0002\"] = google.colab.output.getActiveOutputArea();\n",
              "//# sourceURL=js_a59b64c620"
            ],
            "text/plain": [
              "<IPython.core.display.Javascript object>"
            ]
          },
          "metadata": {
            "tags": [
              "id44-4-3",
              "outputarea_id44"
            ]
          }
        },
        {
          "output_type": "display_data",
          "data": {
            "application/javascript": [
              "window[\"b0d7b272-5b84-11e9-8c95-0242ac1c0002\"] = document.querySelector(\"#id44-4-3\");\n",
              "//# sourceURL=js_06364c7541"
            ],
            "text/plain": [
              "<IPython.core.display.Javascript object>"
            ]
          },
          "metadata": {
            "tags": [
              "id44-4-3",
              "outputarea_id44"
            ]
          }
        },
        {
          "output_type": "display_data",
          "data": {
            "application/javascript": [
              "window[\"b0d84e76-5b84-11e9-8c95-0242ac1c0002\"] = google.colab.output.setActiveOutputArea(window[\"b0d7b272-5b84-11e9-8c95-0242ac1c0002\"]);\n",
              "//# sourceURL=js_c5fd7aa1da"
            ],
            "text/plain": [
              "<IPython.core.display.Javascript object>"
            ]
          },
          "metadata": {
            "tags": [
              "id44-4-3",
              "outputarea_id44"
            ]
          }
        },
        {
          "output_type": "display_data",
          "data": {
            "application/javascript": [
              "window[\"b0e45b58-5b84-11e9-8c95-0242ac1c0002\"] = google.colab.output.setActiveOutputArea(window[\"b0d70b60-5b84-11e9-8c95-0242ac1c0002\"]);\n",
              "//# sourceURL=js_62c94153b7"
            ],
            "text/plain": [
              "<IPython.core.display.Javascript object>"
            ]
          },
          "metadata": {
            "tags": [
              "id44-4-3",
              "outputarea_id44"
            ]
          }
        },
        {
          "output_type": "display_data",
          "data": {
            "application/javascript": [
              "window[\"b0f5eaf8-5b84-11e9-8c95-0242ac1c0002\"] = google.colab.output.getActiveOutputArea();\n",
              "//# sourceURL=js_b64f769626"
            ],
            "text/plain": [
              "<IPython.core.display.Javascript object>"
            ]
          },
          "metadata": {
            "tags": [
              "id44-4-2",
              "outputarea_id44"
            ]
          }
        },
        {
          "output_type": "display_data",
          "data": {
            "application/javascript": [
              "window[\"b0f67a0e-5b84-11e9-8c95-0242ac1c0002\"] = document.querySelector(\"#id44-4-2\");\n",
              "//# sourceURL=js_4f9c890c0e"
            ],
            "text/plain": [
              "<IPython.core.display.Javascript object>"
            ]
          },
          "metadata": {
            "tags": [
              "id44-4-2",
              "outputarea_id44"
            ]
          }
        },
        {
          "output_type": "display_data",
          "data": {
            "application/javascript": [
              "window[\"b0f70488-5b84-11e9-8c95-0242ac1c0002\"] = google.colab.output.setActiveOutputArea(window[\"b0f67a0e-5b84-11e9-8c95-0242ac1c0002\"]);\n",
              "//# sourceURL=js_b4690945b0"
            ],
            "text/plain": [
              "<IPython.core.display.Javascript object>"
            ]
          },
          "metadata": {
            "tags": [
              "id44-4-2",
              "outputarea_id44"
            ]
          }
        },
        {
          "output_type": "display_data",
          "data": {
            "application/javascript": [
              "window[\"b104d770-5b84-11e9-8c95-0242ac1c0002\"] = google.colab.output.setActiveOutputArea(window[\"b0f5eaf8-5b84-11e9-8c95-0242ac1c0002\"]);\n",
              "//# sourceURL=js_bbebb801e8"
            ],
            "text/plain": [
              "<IPython.core.display.Javascript object>"
            ]
          },
          "metadata": {
            "tags": [
              "id44-4-2",
              "outputarea_id44"
            ]
          }
        },
        {
          "output_type": "display_data",
          "data": {
            "application/javascript": [
              "window[\"b11641d6-5b84-11e9-8c95-0242ac1c0002\"] = google.colab.output.getActiveOutputArea();\n",
              "//# sourceURL=js_9e636a2c05"
            ],
            "text/plain": [
              "<IPython.core.display.Javascript object>"
            ]
          },
          "metadata": {
            "tags": [
              "id44-4-2",
              "outputarea_id44"
            ]
          }
        },
        {
          "output_type": "display_data",
          "data": {
            "application/javascript": [
              "window[\"b116c228-5b84-11e9-8c95-0242ac1c0002\"] = document.querySelector(\"#id44-4-2\");\n",
              "//# sourceURL=js_5d7189da16"
            ],
            "text/plain": [
              "<IPython.core.display.Javascript object>"
            ]
          },
          "metadata": {
            "tags": [
              "id44-4-2",
              "outputarea_id44"
            ]
          }
        },
        {
          "output_type": "display_data",
          "data": {
            "application/javascript": [
              "window[\"b11765ca-5b84-11e9-8c95-0242ac1c0002\"] = google.colab.output.setActiveOutputArea(window[\"b116c228-5b84-11e9-8c95-0242ac1c0002\"]);\n",
              "//# sourceURL=js_ff1e61580e"
            ],
            "text/plain": [
              "<IPython.core.display.Javascript object>"
            ]
          },
          "metadata": {
            "tags": [
              "id44-4-2",
              "outputarea_id44"
            ]
          }
        },
        {
          "output_type": "display_data",
          "data": {
            "application/javascript": [
              "window[\"b1234084-5b84-11e9-8c95-0242ac1c0002\"] = google.colab.output.setActiveOutputArea(window[\"b11641d6-5b84-11e9-8c95-0242ac1c0002\"]);\n",
              "//# sourceURL=js_00f3a7ef59"
            ],
            "text/plain": [
              "<IPython.core.display.Javascript object>"
            ]
          },
          "metadata": {
            "tags": [
              "id44-4-2",
              "outputarea_id44"
            ]
          }
        },
        {
          "output_type": "display_data",
          "data": {
            "application/javascript": [
              "window[\"b13503b4-5b84-11e9-8c95-0242ac1c0002\"] = google.colab.output.getActiveOutputArea();\n",
              "//# sourceURL=js_4218a7483b"
            ],
            "text/plain": [
              "<IPython.core.display.Javascript object>"
            ]
          },
          "metadata": {
            "tags": [
              "id44-0-0",
              "outputarea_id44"
            ]
          }
        },
        {
          "output_type": "display_data",
          "data": {
            "application/javascript": [
              "window[\"b135748e-5b84-11e9-8c95-0242ac1c0002\"] = document.querySelector(\"#id44-0-0\");\n",
              "//# sourceURL=js_be05e32648"
            ],
            "text/plain": [
              "<IPython.core.display.Javascript object>"
            ]
          },
          "metadata": {
            "tags": [
              "id44-0-0",
              "outputarea_id44"
            ]
          }
        },
        {
          "output_type": "display_data",
          "data": {
            "application/javascript": [
              "window[\"b136062e-5b84-11e9-8c95-0242ac1c0002\"] = google.colab.output.setActiveOutputArea(window[\"b135748e-5b84-11e9-8c95-0242ac1c0002\"]);\n",
              "//# sourceURL=js_49951d4da1"
            ],
            "text/plain": [
              "<IPython.core.display.Javascript object>"
            ]
          },
          "metadata": {
            "tags": [
              "id44-0-0",
              "outputarea_id44"
            ]
          }
        },
        {
          "output_type": "display_data",
          "data": {
            "application/javascript": [
              "window[\"b1427c2e-5b84-11e9-8c95-0242ac1c0002\"] = google.colab.output.setActiveOutputArea(window[\"b13503b4-5b84-11e9-8c95-0242ac1c0002\"]);\n",
              "//# sourceURL=js_b6ed9b41b0"
            ],
            "text/plain": [
              "<IPython.core.display.Javascript object>"
            ]
          },
          "metadata": {
            "tags": [
              "id44-0-0",
              "outputarea_id44"
            ]
          }
        },
        {
          "output_type": "display_data",
          "data": {
            "application/javascript": [
              "window[\"b1547d5c-5b84-11e9-8c95-0242ac1c0002\"] = google.colab.output.getActiveOutputArea();\n",
              "//# sourceURL=js_b38b95c25d"
            ],
            "text/plain": [
              "<IPython.core.display.Javascript object>"
            ]
          },
          "metadata": {
            "tags": [
              "id44-1-0",
              "outputarea_id44"
            ]
          }
        },
        {
          "output_type": "display_data",
          "data": {
            "application/javascript": [
              "window[\"b155059c-5b84-11e9-8c95-0242ac1c0002\"] = document.querySelector(\"#id44-1-0\");\n",
              "//# sourceURL=js_fa641e12d0"
            ],
            "text/plain": [
              "<IPython.core.display.Javascript object>"
            ]
          },
          "metadata": {
            "tags": [
              "id44-1-0",
              "outputarea_id44"
            ]
          }
        },
        {
          "output_type": "display_data",
          "data": {
            "application/javascript": [
              "window[\"b155b398-5b84-11e9-8c95-0242ac1c0002\"] = google.colab.output.setActiveOutputArea(window[\"b155059c-5b84-11e9-8c95-0242ac1c0002\"]);\n",
              "//# sourceURL=js_5b481e4a50"
            ],
            "text/plain": [
              "<IPython.core.display.Javascript object>"
            ]
          },
          "metadata": {
            "tags": [
              "id44-1-0",
              "outputarea_id44"
            ]
          }
        },
        {
          "output_type": "display_data",
          "data": {
            "application/javascript": [
              "window[\"b16a0ffa-5b84-11e9-8c95-0242ac1c0002\"] = google.colab.output.setActiveOutputArea(window[\"b1547d5c-5b84-11e9-8c95-0242ac1c0002\"]);\n",
              "//# sourceURL=js_d50fd96452"
            ],
            "text/plain": [
              "<IPython.core.display.Javascript object>"
            ]
          },
          "metadata": {
            "tags": [
              "id44-1-0",
              "outputarea_id44"
            ]
          }
        },
        {
          "output_type": "display_data",
          "data": {
            "application/javascript": [
              "window[\"b17c60ce-5b84-11e9-8c95-0242ac1c0002\"] = google.colab.output.getActiveOutputArea();\n",
              "//# sourceURL=js_973aec23c7"
            ],
            "text/plain": [
              "<IPython.core.display.Javascript object>"
            ]
          },
          "metadata": {
            "tags": [
              "id44-3-3",
              "outputarea_id44"
            ]
          }
        },
        {
          "output_type": "display_data",
          "data": {
            "application/javascript": [
              "window[\"b17cd900-5b84-11e9-8c95-0242ac1c0002\"] = document.querySelector(\"#id44-3-3\");\n",
              "//# sourceURL=js_d281914c44"
            ],
            "text/plain": [
              "<IPython.core.display.Javascript object>"
            ]
          },
          "metadata": {
            "tags": [
              "id44-3-3",
              "outputarea_id44"
            ]
          }
        },
        {
          "output_type": "display_data",
          "data": {
            "application/javascript": [
              "window[\"b17d688e-5b84-11e9-8c95-0242ac1c0002\"] = google.colab.output.setActiveOutputArea(window[\"b17cd900-5b84-11e9-8c95-0242ac1c0002\"]);\n",
              "//# sourceURL=js_fb87ea59bc"
            ],
            "text/plain": [
              "<IPython.core.display.Javascript object>"
            ]
          },
          "metadata": {
            "tags": [
              "id44-3-3",
              "outputarea_id44"
            ]
          }
        },
        {
          "output_type": "display_data",
          "data": {
            "application/javascript": [
              "window[\"b189a27a-5b84-11e9-8c95-0242ac1c0002\"] = google.colab.output.setActiveOutputArea(window[\"b17c60ce-5b84-11e9-8c95-0242ac1c0002\"]);\n",
              "//# sourceURL=js_4590e80c21"
            ],
            "text/plain": [
              "<IPython.core.display.Javascript object>"
            ]
          },
          "metadata": {
            "tags": [
              "id44-3-3",
              "outputarea_id44"
            ]
          }
        },
        {
          "output_type": "display_data",
          "data": {
            "application/javascript": [
              "window[\"b19a9238-5b84-11e9-8c95-0242ac1c0002\"] = google.colab.output.getActiveOutputArea();\n",
              "//# sourceURL=js_b5ec99c49b"
            ],
            "text/plain": [
              "<IPython.core.display.Javascript object>"
            ]
          },
          "metadata": {
            "tags": [
              "id44-4-0",
              "outputarea_id44"
            ]
          }
        },
        {
          "output_type": "display_data",
          "data": {
            "application/javascript": [
              "window[\"b19af7d2-5b84-11e9-8c95-0242ac1c0002\"] = document.querySelector(\"#id44-4-0\");\n",
              "//# sourceURL=js_c422f7e281"
            ],
            "text/plain": [
              "<IPython.core.display.Javascript object>"
            ]
          },
          "metadata": {
            "tags": [
              "id44-4-0",
              "outputarea_id44"
            ]
          }
        },
        {
          "output_type": "display_data",
          "data": {
            "application/javascript": [
              "window[\"b19b818e-5b84-11e9-8c95-0242ac1c0002\"] = google.colab.output.setActiveOutputArea(window[\"b19af7d2-5b84-11e9-8c95-0242ac1c0002\"]);\n",
              "//# sourceURL=js_bb64324f93"
            ],
            "text/plain": [
              "<IPython.core.display.Javascript object>"
            ]
          },
          "metadata": {
            "tags": [
              "id44-4-0",
              "outputarea_id44"
            ]
          }
        },
        {
          "output_type": "display_data",
          "data": {
            "application/javascript": [
              "window[\"b1a79ae6-5b84-11e9-8c95-0242ac1c0002\"] = google.colab.output.setActiveOutputArea(window[\"b19a9238-5b84-11e9-8c95-0242ac1c0002\"]);\n",
              "//# sourceURL=js_c240133c06"
            ],
            "text/plain": [
              "<IPython.core.display.Javascript object>"
            ]
          },
          "metadata": {
            "tags": [
              "id44-4-0",
              "outputarea_id44"
            ]
          }
        },
        {
          "output_type": "display_data",
          "data": {
            "application/javascript": [
              "window[\"b1b895f8-5b84-11e9-8c95-0242ac1c0002\"] = google.colab.output.getActiveOutputArea();\n",
              "//# sourceURL=js_ad3f709a94"
            ],
            "text/plain": [
              "<IPython.core.display.Javascript object>"
            ]
          },
          "metadata": {
            "tags": [
              "id44-2-0",
              "outputarea_id44"
            ]
          }
        },
        {
          "output_type": "display_data",
          "data": {
            "application/javascript": [
              "window[\"b1b92b58-5b84-11e9-8c95-0242ac1c0002\"] = document.querySelector(\"#id44-2-0\");\n",
              "//# sourceURL=js_a5bdc90cd9"
            ],
            "text/plain": [
              "<IPython.core.display.Javascript object>"
            ]
          },
          "metadata": {
            "tags": [
              "id44-2-0",
              "outputarea_id44"
            ]
          }
        },
        {
          "output_type": "display_data",
          "data": {
            "application/javascript": [
              "window[\"b1b9b1cc-5b84-11e9-8c95-0242ac1c0002\"] = google.colab.output.setActiveOutputArea(window[\"b1b92b58-5b84-11e9-8c95-0242ac1c0002\"]);\n",
              "//# sourceURL=js_6de1e7be24"
            ],
            "text/plain": [
              "<IPython.core.display.Javascript object>"
            ]
          },
          "metadata": {
            "tags": [
              "id44-2-0",
              "outputarea_id44"
            ]
          }
        },
        {
          "output_type": "display_data",
          "data": {
            "application/javascript": [
              "window[\"b1c5ab9e-5b84-11e9-8c95-0242ac1c0002\"] = google.colab.output.setActiveOutputArea(window[\"b1b895f8-5b84-11e9-8c95-0242ac1c0002\"]);\n",
              "//# sourceURL=js_447da7227d"
            ],
            "text/plain": [
              "<IPython.core.display.Javascript object>"
            ]
          },
          "metadata": {
            "tags": [
              "id44-2-0",
              "outputarea_id44"
            ]
          }
        },
        {
          "output_type": "display_data",
          "data": {
            "application/javascript": [
              "window[\"b1d6abf6-5b84-11e9-8c95-0242ac1c0002\"] = google.colab.output.getActiveOutputArea();\n",
              "//# sourceURL=js_ff712ff64a"
            ],
            "text/plain": [
              "<IPython.core.display.Javascript object>"
            ]
          },
          "metadata": {
            "tags": [
              "id44-0-4",
              "outputarea_id44"
            ]
          }
        },
        {
          "output_type": "display_data",
          "data": {
            "application/javascript": [
              "window[\"b1d6fa02-5b84-11e9-8c95-0242ac1c0002\"] = document.querySelector(\"#id44-0-4\");\n",
              "//# sourceURL=js_e87f047641"
            ],
            "text/plain": [
              "<IPython.core.display.Javascript object>"
            ]
          },
          "metadata": {
            "tags": [
              "id44-0-4",
              "outputarea_id44"
            ]
          }
        },
        {
          "output_type": "display_data",
          "data": {
            "application/javascript": [
              "window[\"b1d76712-5b84-11e9-8c95-0242ac1c0002\"] = google.colab.output.setActiveOutputArea(window[\"b1d6fa02-5b84-11e9-8c95-0242ac1c0002\"]);\n",
              "//# sourceURL=js_ed21df3392"
            ],
            "text/plain": [
              "<IPython.core.display.Javascript object>"
            ]
          },
          "metadata": {
            "tags": [
              "id44-0-4",
              "outputarea_id44"
            ]
          }
        },
        {
          "output_type": "display_data",
          "data": {
            "application/javascript": [
              "window[\"b1e42fba-5b84-11e9-8c95-0242ac1c0002\"] = google.colab.output.setActiveOutputArea(window[\"b1d6abf6-5b84-11e9-8c95-0242ac1c0002\"]);\n",
              "//# sourceURL=js_1f74ac50a7"
            ],
            "text/plain": [
              "<IPython.core.display.Javascript object>"
            ]
          },
          "metadata": {
            "tags": [
              "id44-0-4",
              "outputarea_id44"
            ]
          }
        },
        {
          "output_type": "display_data",
          "data": {
            "application/javascript": [
              "window[\"b1f60ef6-5b84-11e9-8c95-0242ac1c0002\"] = google.colab.output.getActiveOutputArea();\n",
              "//# sourceURL=js_b94a2f0506"
            ],
            "text/plain": [
              "<IPython.core.display.Javascript object>"
            ]
          },
          "metadata": {
            "tags": [
              "id44-0-3",
              "outputarea_id44"
            ]
          }
        },
        {
          "output_type": "display_data",
          "data": {
            "application/javascript": [
              "window[\"b1f69f42-5b84-11e9-8c95-0242ac1c0002\"] = document.querySelector(\"#id44-0-3\");\n",
              "//# sourceURL=js_fc8e4734e5"
            ],
            "text/plain": [
              "<IPython.core.display.Javascript object>"
            ]
          },
          "metadata": {
            "tags": [
              "id44-0-3",
              "outputarea_id44"
            ]
          }
        },
        {
          "output_type": "display_data",
          "data": {
            "application/javascript": [
              "window[\"b1f6f06e-5b84-11e9-8c95-0242ac1c0002\"] = google.colab.output.setActiveOutputArea(window[\"b1f69f42-5b84-11e9-8c95-0242ac1c0002\"]);\n",
              "//# sourceURL=js_087115656d"
            ],
            "text/plain": [
              "<IPython.core.display.Javascript object>"
            ]
          },
          "metadata": {
            "tags": [
              "id44-0-3",
              "outputarea_id44"
            ]
          }
        },
        {
          "output_type": "display_data",
          "data": {
            "application/javascript": [
              "window[\"b203634e-5b84-11e9-8c95-0242ac1c0002\"] = google.colab.output.setActiveOutputArea(window[\"b1f60ef6-5b84-11e9-8c95-0242ac1c0002\"]);\n",
              "//# sourceURL=js_6ba78c8d65"
            ],
            "text/plain": [
              "<IPython.core.display.Javascript object>"
            ]
          },
          "metadata": {
            "tags": [
              "id44-0-3",
              "outputarea_id44"
            ]
          }
        },
        {
          "output_type": "display_data",
          "data": {
            "application/javascript": [
              "window[\"b2144812-5b84-11e9-8c95-0242ac1c0002\"] = google.colab.output.getActiveOutputArea();\n",
              "//# sourceURL=js_25d67b93a4"
            ],
            "text/plain": [
              "<IPython.core.display.Javascript object>"
            ]
          },
          "metadata": {
            "tags": [
              "id44-2-1",
              "outputarea_id44"
            ]
          }
        },
        {
          "output_type": "display_data",
          "data": {
            "application/javascript": [
              "window[\"b2149600-5b84-11e9-8c95-0242ac1c0002\"] = document.querySelector(\"#id44-2-1\");\n",
              "//# sourceURL=js_829c8b47e6"
            ],
            "text/plain": [
              "<IPython.core.display.Javascript object>"
            ]
          },
          "metadata": {
            "tags": [
              "id44-2-1",
              "outputarea_id44"
            ]
          }
        },
        {
          "output_type": "display_data",
          "data": {
            "application/javascript": [
              "window[\"b2151800-5b84-11e9-8c95-0242ac1c0002\"] = google.colab.output.setActiveOutputArea(window[\"b2149600-5b84-11e9-8c95-0242ac1c0002\"]);\n",
              "//# sourceURL=js_0ad98c6074"
            ],
            "text/plain": [
              "<IPython.core.display.Javascript object>"
            ]
          },
          "metadata": {
            "tags": [
              "id44-2-1",
              "outputarea_id44"
            ]
          }
        },
        {
          "output_type": "display_data",
          "data": {
            "application/javascript": [
              "window[\"b2215f98-5b84-11e9-8c95-0242ac1c0002\"] = google.colab.output.setActiveOutputArea(window[\"b2144812-5b84-11e9-8c95-0242ac1c0002\"]);\n",
              "//# sourceURL=js_1f319ac0eb"
            ],
            "text/plain": [
              "<IPython.core.display.Javascript object>"
            ]
          },
          "metadata": {
            "tags": [
              "id44-2-1",
              "outputarea_id44"
            ]
          }
        },
        {
          "output_type": "display_data",
          "data": {
            "application/javascript": [
              "window[\"b2330c16-5b84-11e9-8c95-0242ac1c0002\"] = google.colab.output.getActiveOutputArea();\n",
              "//# sourceURL=js_de1847ac09"
            ],
            "text/plain": [
              "<IPython.core.display.Javascript object>"
            ]
          },
          "metadata": {
            "tags": [
              "id44-2-0",
              "outputarea_id44"
            ]
          }
        },
        {
          "output_type": "display_data",
          "data": {
            "application/javascript": [
              "window[\"b23355cc-5b84-11e9-8c95-0242ac1c0002\"] = document.querySelector(\"#id44-2-0\");\n",
              "//# sourceURL=js_4f8a34a5c7"
            ],
            "text/plain": [
              "<IPython.core.display.Javascript object>"
            ]
          },
          "metadata": {
            "tags": [
              "id44-2-0",
              "outputarea_id44"
            ]
          }
        },
        {
          "output_type": "display_data",
          "data": {
            "application/javascript": [
              "window[\"b233de2a-5b84-11e9-8c95-0242ac1c0002\"] = google.colab.output.setActiveOutputArea(window[\"b23355cc-5b84-11e9-8c95-0242ac1c0002\"]);\n",
              "//# sourceURL=js_e16887c882"
            ],
            "text/plain": [
              "<IPython.core.display.Javascript object>"
            ]
          },
          "metadata": {
            "tags": [
              "id44-2-0",
              "outputarea_id44"
            ]
          }
        },
        {
          "output_type": "display_data",
          "data": {
            "application/javascript": [
              "window[\"b241352a-5b84-11e9-8c95-0242ac1c0002\"] = google.colab.output.setActiveOutputArea(window[\"b2330c16-5b84-11e9-8c95-0242ac1c0002\"]);\n",
              "//# sourceURL=js_54f5868fd3"
            ],
            "text/plain": [
              "<IPython.core.display.Javascript object>"
            ]
          },
          "metadata": {
            "tags": [
              "id44-2-0",
              "outputarea_id44"
            ]
          }
        },
        {
          "output_type": "display_data",
          "data": {
            "application/javascript": [
              "window[\"b252558a-5b84-11e9-8c95-0242ac1c0002\"] = google.colab.output.getActiveOutputArea();\n",
              "//# sourceURL=js_f66053b6d5"
            ],
            "text/plain": [
              "<IPython.core.display.Javascript object>"
            ]
          },
          "metadata": {
            "tags": [
              "id44-0-2",
              "outputarea_id44"
            ]
          }
        },
        {
          "output_type": "display_data",
          "data": {
            "application/javascript": [
              "window[\"b2529ec8-5b84-11e9-8c95-0242ac1c0002\"] = document.querySelector(\"#id44-0-2\");\n",
              "//# sourceURL=js_330ef6d732"
            ],
            "text/plain": [
              "<IPython.core.display.Javascript object>"
            ]
          },
          "metadata": {
            "tags": [
              "id44-0-2",
              "outputarea_id44"
            ]
          }
        },
        {
          "output_type": "display_data",
          "data": {
            "application/javascript": [
              "window[\"b253214a-5b84-11e9-8c95-0242ac1c0002\"] = google.colab.output.setActiveOutputArea(window[\"b2529ec8-5b84-11e9-8c95-0242ac1c0002\"]);\n",
              "//# sourceURL=js_1f290201e9"
            ],
            "text/plain": [
              "<IPython.core.display.Javascript object>"
            ]
          },
          "metadata": {
            "tags": [
              "id44-0-2",
              "outputarea_id44"
            ]
          }
        },
        {
          "output_type": "display_data",
          "data": {
            "application/javascript": [
              "window[\"b25fe312-5b84-11e9-8c95-0242ac1c0002\"] = google.colab.output.setActiveOutputArea(window[\"b252558a-5b84-11e9-8c95-0242ac1c0002\"]);\n",
              "//# sourceURL=js_9f60fa4e77"
            ],
            "text/plain": [
              "<IPython.core.display.Javascript object>"
            ]
          },
          "metadata": {
            "tags": [
              "id44-0-2",
              "outputarea_id44"
            ]
          }
        },
        {
          "output_type": "display_data",
          "data": {
            "application/javascript": [
              "window[\"b2713a68-5b84-11e9-8c95-0242ac1c0002\"] = google.colab.output.getActiveOutputArea();\n",
              "//# sourceURL=js_43bd79c368"
            ],
            "text/plain": [
              "<IPython.core.display.Javascript object>"
            ]
          },
          "metadata": {
            "tags": [
              "id44-1-3",
              "outputarea_id44"
            ]
          }
        },
        {
          "output_type": "display_data",
          "data": {
            "application/javascript": [
              "window[\"b271c42e-5b84-11e9-8c95-0242ac1c0002\"] = document.querySelector(\"#id44-1-3\");\n",
              "//# sourceURL=js_39b06efced"
            ],
            "text/plain": [
              "<IPython.core.display.Javascript object>"
            ]
          },
          "metadata": {
            "tags": [
              "id44-1-3",
              "outputarea_id44"
            ]
          }
        },
        {
          "output_type": "display_data",
          "data": {
            "application/javascript": [
              "window[\"b27248a4-5b84-11e9-8c95-0242ac1c0002\"] = google.colab.output.setActiveOutputArea(window[\"b271c42e-5b84-11e9-8c95-0242ac1c0002\"]);\n",
              "//# sourceURL=js_36ebade218"
            ],
            "text/plain": [
              "<IPython.core.display.Javascript object>"
            ]
          },
          "metadata": {
            "tags": [
              "id44-1-3",
              "outputarea_id44"
            ]
          }
        },
        {
          "output_type": "display_data",
          "data": {
            "application/javascript": [
              "window[\"b27dd408-5b84-11e9-8c95-0242ac1c0002\"] = google.colab.output.setActiveOutputArea(window[\"b2713a68-5b84-11e9-8c95-0242ac1c0002\"]);\n",
              "//# sourceURL=js_ea7ba5d9a8"
            ],
            "text/plain": [
              "<IPython.core.display.Javascript object>"
            ]
          },
          "metadata": {
            "tags": [
              "id44-1-3",
              "outputarea_id44"
            ]
          }
        },
        {
          "output_type": "display_data",
          "data": {
            "application/javascript": [
              "window[\"b28f3360-5b84-11e9-8c95-0242ac1c0002\"] = google.colab.output.getActiveOutputArea();\n",
              "//# sourceURL=js_7755146161"
            ],
            "text/plain": [
              "<IPython.core.display.Javascript object>"
            ]
          },
          "metadata": {
            "tags": [
              "id44-3-4",
              "outputarea_id44"
            ]
          }
        },
        {
          "output_type": "display_data",
          "data": {
            "application/javascript": [
              "window[\"b28fb77c-5b84-11e9-8c95-0242ac1c0002\"] = document.querySelector(\"#id44-3-4\");\n",
              "//# sourceURL=js_078a5543dc"
            ],
            "text/plain": [
              "<IPython.core.display.Javascript object>"
            ]
          },
          "metadata": {
            "tags": [
              "id44-3-4",
              "outputarea_id44"
            ]
          }
        },
        {
          "output_type": "display_data",
          "data": {
            "application/javascript": [
              "window[\"b2903260-5b84-11e9-8c95-0242ac1c0002\"] = google.colab.output.setActiveOutputArea(window[\"b28fb77c-5b84-11e9-8c95-0242ac1c0002\"]);\n",
              "//# sourceURL=js_fd6a53a878"
            ],
            "text/plain": [
              "<IPython.core.display.Javascript object>"
            ]
          },
          "metadata": {
            "tags": [
              "id44-3-4",
              "outputarea_id44"
            ]
          }
        },
        {
          "output_type": "display_data",
          "data": {
            "application/javascript": [
              "window[\"b29c4442-5b84-11e9-8c95-0242ac1c0002\"] = google.colab.output.setActiveOutputArea(window[\"b28f3360-5b84-11e9-8c95-0242ac1c0002\"]);\n",
              "//# sourceURL=js_556aa76c75"
            ],
            "text/plain": [
              "<IPython.core.display.Javascript object>"
            ]
          },
          "metadata": {
            "tags": [
              "id44-3-4",
              "outputarea_id44"
            ]
          }
        },
        {
          "output_type": "display_data",
          "data": {
            "application/javascript": [
              "window[\"b2ad6394-5b84-11e9-8c95-0242ac1c0002\"] = google.colab.output.getActiveOutputArea();\n",
              "//# sourceURL=js_1bed55822f"
            ],
            "text/plain": [
              "<IPython.core.display.Javascript object>"
            ]
          },
          "metadata": {
            "tags": [
              "id44-4-3",
              "outputarea_id44"
            ]
          }
        },
        {
          "output_type": "display_data",
          "data": {
            "application/javascript": [
              "window[\"b2adffc0-5b84-11e9-8c95-0242ac1c0002\"] = document.querySelector(\"#id44-4-3\");\n",
              "//# sourceURL=js_c3bdc3f83c"
            ],
            "text/plain": [
              "<IPython.core.display.Javascript object>"
            ]
          },
          "metadata": {
            "tags": [
              "id44-4-3",
              "outputarea_id44"
            ]
          }
        },
        {
          "output_type": "display_data",
          "data": {
            "application/javascript": [
              "window[\"b2ae6af0-5b84-11e9-8c95-0242ac1c0002\"] = google.colab.output.setActiveOutputArea(window[\"b2adffc0-5b84-11e9-8c95-0242ac1c0002\"]);\n",
              "//# sourceURL=js_4df9195a47"
            ],
            "text/plain": [
              "<IPython.core.display.Javascript object>"
            ]
          },
          "metadata": {
            "tags": [
              "id44-4-3",
              "outputarea_id44"
            ]
          }
        },
        {
          "output_type": "display_data",
          "data": {
            "application/javascript": [
              "window[\"b2ba85d8-5b84-11e9-8c95-0242ac1c0002\"] = google.colab.output.setActiveOutputArea(window[\"b2ad6394-5b84-11e9-8c95-0242ac1c0002\"]);\n",
              "//# sourceURL=js_cea49f925b"
            ],
            "text/plain": [
              "<IPython.core.display.Javascript object>"
            ]
          },
          "metadata": {
            "tags": [
              "id44-4-3",
              "outputarea_id44"
            ]
          }
        },
        {
          "output_type": "display_data",
          "data": {
            "application/javascript": [
              "window[\"b2cbe8aa-5b84-11e9-8c95-0242ac1c0002\"] = google.colab.output.getActiveOutputArea();\n",
              "//# sourceURL=js_25c3cae0e8"
            ],
            "text/plain": [
              "<IPython.core.display.Javascript object>"
            ]
          },
          "metadata": {
            "tags": [
              "id44-0-1",
              "outputarea_id44"
            ]
          }
        },
        {
          "output_type": "display_data",
          "data": {
            "application/javascript": [
              "window[\"b2cc77f2-5b84-11e9-8c95-0242ac1c0002\"] = document.querySelector(\"#id44-0-1\");\n",
              "//# sourceURL=js_cac110bcb2"
            ],
            "text/plain": [
              "<IPython.core.display.Javascript object>"
            ]
          },
          "metadata": {
            "tags": [
              "id44-0-1",
              "outputarea_id44"
            ]
          }
        },
        {
          "output_type": "display_data",
          "data": {
            "application/javascript": [
              "window[\"b2ccefc0-5b84-11e9-8c95-0242ac1c0002\"] = google.colab.output.setActiveOutputArea(window[\"b2cc77f2-5b84-11e9-8c95-0242ac1c0002\"]);\n",
              "//# sourceURL=js_5b964ffb41"
            ],
            "text/plain": [
              "<IPython.core.display.Javascript object>"
            ]
          },
          "metadata": {
            "tags": [
              "id44-0-1",
              "outputarea_id44"
            ]
          }
        },
        {
          "output_type": "display_data",
          "data": {
            "application/javascript": [
              "window[\"b2d9c632-5b84-11e9-8c95-0242ac1c0002\"] = google.colab.output.setActiveOutputArea(window[\"b2cbe8aa-5b84-11e9-8c95-0242ac1c0002\"]);\n",
              "//# sourceURL=js_9a953339f5"
            ],
            "text/plain": [
              "<IPython.core.display.Javascript object>"
            ]
          },
          "metadata": {
            "tags": [
              "id44-0-1",
              "outputarea_id44"
            ]
          }
        },
        {
          "output_type": "display_data",
          "data": {
            "application/javascript": [
              "window[\"b2eba2da-5b84-11e9-8c95-0242ac1c0002\"] = google.colab.output.getActiveOutputArea();\n",
              "//# sourceURL=js_804ad1becb"
            ],
            "text/plain": [
              "<IPython.core.display.Javascript object>"
            ]
          },
          "metadata": {
            "tags": [
              "id44-2-0",
              "outputarea_id44"
            ]
          }
        },
        {
          "output_type": "display_data",
          "data": {
            "application/javascript": [
              "window[\"b2ec3e5c-5b84-11e9-8c95-0242ac1c0002\"] = document.querySelector(\"#id44-2-0\");\n",
              "//# sourceURL=js_ce5f95d406"
            ],
            "text/plain": [
              "<IPython.core.display.Javascript object>"
            ]
          },
          "metadata": {
            "tags": [
              "id44-2-0",
              "outputarea_id44"
            ]
          }
        },
        {
          "output_type": "display_data",
          "data": {
            "application/javascript": [
              "window[\"b2ecb454-5b84-11e9-8c95-0242ac1c0002\"] = google.colab.output.setActiveOutputArea(window[\"b2ec3e5c-5b84-11e9-8c95-0242ac1c0002\"]);\n",
              "//# sourceURL=js_12c835d811"
            ],
            "text/plain": [
              "<IPython.core.display.Javascript object>"
            ]
          },
          "metadata": {
            "tags": [
              "id44-2-0",
              "outputarea_id44"
            ]
          }
        },
        {
          "output_type": "display_data",
          "data": {
            "image/png": "[encoded data removed]",
            "text/plain": [
              "<Figure size 72x72 with 1 Axes>"
            ]
          },
          "metadata": {
            "tags": [
              "id44-2-0",
              "outputarea_id44",
              "user_output"
            ]
          }
        },
        {
          "output_type": "display_data",
          "data": {
            "application/javascript": [
              "window[\"b2f8d932-5b84-11e9-8c95-0242ac1c0002\"] = google.colab.output.setActiveOutputArea(window[\"b2eba2da-5b84-11e9-8c95-0242ac1c0002\"]);\n",
              "//# sourceURL=js_334d1c6748"
            ],
            "text/plain": [
              "<IPython.core.display.Javascript object>"
            ]
          },
          "metadata": {
            "tags": [
              "id44-2-0",
              "outputarea_id44"
            ]
          }
        },
        {
          "output_type": "display_data",
          "data": {
            "application/javascript": [
              "window[\"b30ac336-5b84-11e9-8c95-0242ac1c0002\"] = google.colab.output.getActiveOutputArea();\n",
              "//# sourceURL=js_78ef404048"
            ],
            "text/plain": [
              "<IPython.core.display.Javascript object>"
            ]
          },
          "metadata": {
            "tags": [
              "id44-1-3",
              "outputarea_id44"
            ]
          }
        },
        {
          "output_type": "display_data",
          "data": {
            "application/javascript": [
              "window[\"b30b443c-5b84-11e9-8c95-0242ac1c0002\"] = document.querySelector(\"#id44-1-3\");\n",
              "//# sourceURL=js_1bb5ef903f"
            ],
            "text/plain": [
              "<IPython.core.display.Javascript object>"
            ]
          },
          "metadata": {
            "tags": [
              "id44-1-3",
              "outputarea_id44"
            ]
          }
        },
        {
          "output_type": "display_data",
          "data": {
            "application/javascript": [
              "window[\"b30bbcd2-5b84-11e9-8c95-0242ac1c0002\"] = google.colab.output.setActiveOutputArea(window[\"b30b443c-5b84-11e9-8c95-0242ac1c0002\"]);\n",
              "//# sourceURL=js_4337dfc76f"
            ],
            "text/plain": [
              "<IPython.core.display.Javascript object>"
            ]
          },
          "metadata": {
            "tags": [
              "id44-1-3",
              "outputarea_id44"
            ]
          }
        },
        {
          "output_type": "display_data",
          "data": {
            "application/javascript": [
              "window[\"b3172540-5b84-11e9-8c95-0242ac1c0002\"] = google.colab.output.setActiveOutputArea(window[\"b30ac336-5b84-11e9-8c95-0242ac1c0002\"]);\n",
              "//# sourceURL=js_e78d3fc396"
            ],
            "text/plain": [
              "<IPython.core.display.Javascript object>"
            ]
          },
          "metadata": {
            "tags": [
              "id44-1-3",
              "outputarea_id44"
            ]
          }
        },
        {
          "output_type": "display_data",
          "data": {
            "application/javascript": [
              "window[\"b328a52c-5b84-11e9-8c95-0242ac1c0002\"] = google.colab.output.getActiveOutputArea();\n",
              "//# sourceURL=js_ec4332d90e"
            ],
            "text/plain": [
              "<IPython.core.display.Javascript object>"
            ]
          },
          "metadata": {
            "tags": [
              "id44-1-4",
              "outputarea_id44"
            ]
          }
        },
        {
          "output_type": "display_data",
          "data": {
            "application/javascript": [
              "window[\"b3290256-5b84-11e9-8c95-0242ac1c0002\"] = document.querySelector(\"#id44-1-4\");\n",
              "//# sourceURL=js_a0088cab76"
            ],
            "text/plain": [
              "<IPython.core.display.Javascript object>"
            ]
          },
          "metadata": {
            "tags": [
              "id44-1-4",
              "outputarea_id44"
            ]
          }
        },
        {
          "output_type": "display_data",
          "data": {
            "application/javascript": [
              "window[\"b3297ec0-5b84-11e9-8c95-0242ac1c0002\"] = google.colab.output.setActiveOutputArea(window[\"b3290256-5b84-11e9-8c95-0242ac1c0002\"]);\n",
              "//# sourceURL=js_d06e0af334"
            ],
            "text/plain": [
              "<IPython.core.display.Javascript object>"
            ]
          },
          "metadata": {
            "tags": [
              "id44-1-4",
              "outputarea_id44"
            ]
          }
        },
        {
          "output_type": "display_data",
          "data": {
            "application/javascript": [
              "window[\"b335cd88-5b84-11e9-8c95-0242ac1c0002\"] = google.colab.output.setActiveOutputArea(window[\"b328a52c-5b84-11e9-8c95-0242ac1c0002\"]);\n",
              "//# sourceURL=js_6453fae489"
            ],
            "text/plain": [
              "<IPython.core.display.Javascript object>"
            ]
          },
          "metadata": {
            "tags": [
              "id44-1-4",
              "outputarea_id44"
            ]
          }
        },
        {
          "output_type": "display_data",
          "data": {
            "application/javascript": [
              "window[\"b347a9c2-5b84-11e9-8c95-0242ac1c0002\"] = google.colab.output.getActiveOutputArea();\n",
              "//# sourceURL=js_9e58f153c8"
            ],
            "text/plain": [
              "<IPython.core.display.Javascript object>"
            ]
          },
          "metadata": {
            "tags": [
              "id44-2-3",
              "outputarea_id44"
            ]
          }
        },
        {
          "output_type": "display_data",
          "data": {
            "application/javascript": [
              "window[\"b3483b30-5b84-11e9-8c95-0242ac1c0002\"] = document.querySelector(\"#id44-2-3\");\n",
              "//# sourceURL=js_7fecca8d24"
            ],
            "text/plain": [
              "<IPython.core.display.Javascript object>"
            ]
          },
          "metadata": {
            "tags": [
              "id44-2-3",
              "outputarea_id44"
            ]
          }
        },
        {
          "output_type": "display_data",
          "data": {
            "application/javascript": [
              "window[\"b348c1b8-5b84-11e9-8c95-0242ac1c0002\"] = google.colab.output.setActiveOutputArea(window[\"b3483b30-5b84-11e9-8c95-0242ac1c0002\"]);\n",
              "//# sourceURL=js_2ba87f66c8"
            ],
            "text/plain": [
              "<IPython.core.display.Javascript object>"
            ]
          },
          "metadata": {
            "tags": [
              "id44-2-3",
              "outputarea_id44"
            ]
          }
        },
        {
          "output_type": "display_data",
          "data": {
            "application/javascript": [
              "window[\"b3545d02-5b84-11e9-8c95-0242ac1c0002\"] = google.colab.output.setActiveOutputArea(window[\"b347a9c2-5b84-11e9-8c95-0242ac1c0002\"]);\n",
              "//# sourceURL=js_ea5c8b43f7"
            ],
            "text/plain": [
              "<IPython.core.display.Javascript object>"
            ]
          },
          "metadata": {
            "tags": [
              "id44-2-3",
              "outputarea_id44"
            ]
          }
        },
        {
          "output_type": "display_data",
          "data": {
            "application/javascript": [
              "window[\"b3654a68-5b84-11e9-8c95-0242ac1c0002\"] = google.colab.output.getActiveOutputArea();\n",
              "//# sourceURL=js_b083ee913d"
            ],
            "text/plain": [
              "<IPython.core.display.Javascript object>"
            ]
          },
          "metadata": {
            "tags": [
              "id44-1-4",
              "outputarea_id44"
            ]
          }
        },
        {
          "output_type": "display_data",
          "data": {
            "application/javascript": [
              "window[\"b365c678-5b84-11e9-8c95-0242ac1c0002\"] = document.querySelector(\"#id44-1-4\");\n",
              "//# sourceURL=js_525bcf2c01"
            ],
            "text/plain": [
              "<IPython.core.display.Javascript object>"
            ]
          },
          "metadata": {
            "tags": [
              "id44-1-4",
              "outputarea_id44"
            ]
          }
        },
        {
          "output_type": "display_data",
          "data": {
            "application/javascript": [
              "window[\"b3663c2a-5b84-11e9-8c95-0242ac1c0002\"] = google.colab.output.setActiveOutputArea(window[\"b365c678-5b84-11e9-8c95-0242ac1c0002\"]);\n",
              "//# sourceURL=js_55f8eb220f"
            ],
            "text/plain": [
              "<IPython.core.display.Javascript object>"
            ]
          },
          "metadata": {
            "tags": [
              "id44-1-4",
              "outputarea_id44"
            ]
          }
        },
        {
          "output_type": "display_data",
          "data": {
            "application/javascript": [
              "window[\"b37395aa-5b84-11e9-8c95-0242ac1c0002\"] = google.colab.output.setActiveOutputArea(window[\"b3654a68-5b84-11e9-8c95-0242ac1c0002\"]);\n",
              "//# sourceURL=js_a6381615b2"
            ],
            "text/plain": [
              "<IPython.core.display.Javascript object>"
            ]
          },
          "metadata": {
            "tags": [
              "id44-1-4",
              "outputarea_id44"
            ]
          }
        },
        {
          "output_type": "display_data",
          "data": {
            "application/javascript": [
              "window[\"b385842c-5b84-11e9-8c95-0242ac1c0002\"] = google.colab.output.getActiveOutputArea();\n",
              "//# sourceURL=js_e9cbfe437c"
            ],
            "text/plain": [
              "<IPython.core.display.Javascript object>"
            ]
          },
          "metadata": {
            "tags": [
              "id44-2-4",
              "outputarea_id44"
            ]
          }
        },
        {
          "output_type": "display_data",
          "data": {
            "application/javascript": [
              "window[\"b38623dc-5b84-11e9-8c95-0242ac1c0002\"] = document.querySelector(\"#id44-2-4\");\n",
              "//# sourceURL=js_bf8bcd7f3f"
            ],
            "text/plain": [
              "<IPython.core.display.Javascript object>"
            ]
          },
          "metadata": {
            "tags": [
              "id44-2-4",
              "outputarea_id44"
            ]
          }
        },
        {
          "output_type": "display_data",
          "data": {
            "application/javascript": [
              "window[\"b386a0f0-5b84-11e9-8c95-0242ac1c0002\"] = google.colab.output.setActiveOutputArea(window[\"b38623dc-5b84-11e9-8c95-0242ac1c0002\"]);\n",
              "//# sourceURL=js_ada7c300db"
            ],
            "text/plain": [
              "<IPython.core.display.Javascript object>"
            ]
          },
          "metadata": {
            "tags": [
              "id44-2-4",
              "outputarea_id44"
            ]
          }
        },
        {
          "output_type": "display_data",
          "data": {
            "application/javascript": [
              "window[\"b391cbe2-5b84-11e9-8c95-0242ac1c0002\"] = google.colab.output.setActiveOutputArea(window[\"b385842c-5b84-11e9-8c95-0242ac1c0002\"]);\n",
              "//# sourceURL=js_6af53db927"
            ],
            "text/plain": [
              "<IPython.core.display.Javascript object>"
            ]
          },
          "metadata": {
            "tags": [
              "id44-2-4",
              "outputarea_id44"
            ]
          }
        },
        {
          "output_type": "display_data",
          "data": {
            "application/javascript": [
              "window[\"b3a3318e-5b84-11e9-8c95-0242ac1c0002\"] = google.colab.output.getActiveOutputArea();\n",
              "//# sourceURL=js_18c4edad6a"
            ],
            "text/plain": [
              "<IPython.core.display.Javascript object>"
            ]
          },
          "metadata": {
            "tags": [
              "id44-2-1",
              "outputarea_id44"
            ]
          }
        },
        {
          "output_type": "display_data",
          "data": {
            "application/javascript": [
              "window[\"b3a3c8f6-5b84-11e9-8c95-0242ac1c0002\"] = document.querySelector(\"#id44-2-1\");\n",
              "//# sourceURL=js_80edc9c668"
            ],
            "text/plain": [
              "<IPython.core.display.Javascript object>"
            ]
          },
          "metadata": {
            "tags": [
              "id44-2-1",
              "outputarea_id44"
            ]
          }
        },
        {
          "output_type": "display_data",
          "data": {
            "application/javascript": [
              "window[\"b3a4493e-5b84-11e9-8c95-0242ac1c0002\"] = google.colab.output.setActiveOutputArea(window[\"b3a3c8f6-5b84-11e9-8c95-0242ac1c0002\"]);\n",
              "//# sourceURL=js_da0871dac1"
            ],
            "text/plain": [
              "<IPython.core.display.Javascript object>"
            ]
          },
          "metadata": {
            "tags": [
              "id44-2-1",
              "outputarea_id44"
            ]
          }
        },
        {
          "output_type": "display_data",
          "data": {
            "application/javascript": [
              "window[\"b3b0171e-5b84-11e9-8c95-0242ac1c0002\"] = google.colab.output.setActiveOutputArea(window[\"b3a3318e-5b84-11e9-8c95-0242ac1c0002\"]);\n",
              "//# sourceURL=js_b1cce0f183"
            ],
            "text/plain": [
              "<IPython.core.display.Javascript object>"
            ]
          },
          "metadata": {
            "tags": [
              "id44-2-1",
              "outputarea_id44"
            ]
          }
        },
        {
          "output_type": "display_data",
          "data": {
            "application/javascript": [
              "window[\"b3c1737e-5b84-11e9-8c95-0242ac1c0002\"] = google.colab.output.getActiveOutputArea();\n",
              "//# sourceURL=js_95d865c1ab"
            ],
            "text/plain": [
              "<IPython.core.display.Javascript object>"
            ]
          },
          "metadata": {
            "tags": [
              "id44-2-4",
              "outputarea_id44"
            ]
          }
        },
        {
          "output_type": "display_data",
          "data": {
            "application/javascript": [
              "window[\"b3c2062c-5b84-11e9-8c95-0242ac1c0002\"] = document.querySelector(\"#id44-2-4\");\n",
              "//# sourceURL=js_897bcfd6d5"
            ],
            "text/plain": [
              "<IPython.core.display.Javascript object>"
            ]
          },
          "metadata": {
            "tags": [
              "id44-2-4",
              "outputarea_id44"
            ]
          }
        },
        {
          "output_type": "display_data",
          "data": {
            "application/javascript": [
              "window[\"b3c28656-5b84-11e9-8c95-0242ac1c0002\"] = google.colab.output.setActiveOutputArea(window[\"b3c2062c-5b84-11e9-8c95-0242ac1c0002\"]);\n",
              "//# sourceURL=js_638091f6ff"
            ],
            "text/plain": [
              "<IPython.core.display.Javascript object>"
            ]
          },
          "metadata": {
            "tags": [
              "id44-2-4",
              "outputarea_id44"
            ]
          }
        },
        {
          "output_type": "display_data",
          "data": {
            "application/javascript": [
              "window[\"b3cf140c-5b84-11e9-8c95-0242ac1c0002\"] = google.colab.output.setActiveOutputArea(window[\"b3c1737e-5b84-11e9-8c95-0242ac1c0002\"]);\n",
              "//# sourceURL=js_fb0d1aab82"
            ],
            "text/plain": [
              "<IPython.core.display.Javascript object>"
            ]
          },
          "metadata": {
            "tags": [
              "id44-2-4",
              "outputarea_id44"
            ]
          }
        },
        {
          "output_type": "display_data",
          "data": {
            "application/javascript": [
              "window[\"b3e20f1c-5b84-11e9-8c95-0242ac1c0002\"] = google.colab.output.getActiveOutputArea();\n",
              "//# sourceURL=js_08aee72baa"
            ],
            "text/plain": [
              "<IPython.core.display.Javascript object>"
            ]
          },
          "metadata": {
            "tags": [
              "id44-2-4",
              "outputarea_id44"
            ]
          }
        },
        {
          "output_type": "display_data",
          "data": {
            "application/javascript": [
              "window[\"b3e2ab2a-5b84-11e9-8c95-0242ac1c0002\"] = document.querySelector(\"#id44-2-4\");\n",
              "//# sourceURL=js_586f617ca0"
            ],
            "text/plain": [
              "<IPython.core.display.Javascript object>"
            ]
          },
          "metadata": {
            "tags": [
              "id44-2-4",
              "outputarea_id44"
            ]
          }
        },
        {
          "output_type": "display_data",
          "data": {
            "application/javascript": [
              "window[\"b3e366d2-5b84-11e9-8c95-0242ac1c0002\"] = google.colab.output.setActiveOutputArea(window[\"b3e2ab2a-5b84-11e9-8c95-0242ac1c0002\"]);\n",
              "//# sourceURL=js_a27605c9b2"
            ],
            "text/plain": [
              "<IPython.core.display.Javascript object>"
            ]
          },
          "metadata": {
            "tags": [
              "id44-2-4",
              "outputarea_id44"
            ]
          }
        },
        {
          "output_type": "display_data",
          "data": {
            "application/javascript": [
              "window[\"b3eea3da-5b84-11e9-8c95-0242ac1c0002\"] = google.colab.output.setActiveOutputArea(window[\"b3e20f1c-5b84-11e9-8c95-0242ac1c0002\"]);\n",
              "//# sourceURL=js_f7061d4202"
            ],
            "text/plain": [
              "<IPython.core.display.Javascript object>"
            ]
          },
          "metadata": {
            "tags": [
              "id44-2-4",
              "outputarea_id44"
            ]
          }
        },
        {
          "output_type": "display_data",
          "data": {
            "application/javascript": [
              "window[\"b4005666-5b84-11e9-8c95-0242ac1c0002\"] = google.colab.output.getActiveOutputArea();\n",
              "//# sourceURL=js_5027c4ed2d"
            ],
            "text/plain": [
              "<IPython.core.display.Javascript object>"
            ]
          },
          "metadata": {
            "tags": [
              "id44-3-2",
              "outputarea_id44"
            ]
          }
        },
        {
          "output_type": "display_data",
          "data": {
            "application/javascript": [
              "window[\"b400c786-5b84-11e9-8c95-0242ac1c0002\"] = document.querySelector(\"#id44-3-2\");\n",
              "//# sourceURL=js_840ab1c78d"
            ],
            "text/plain": [
              "<IPython.core.display.Javascript object>"
            ]
          },
          "metadata": {
            "tags": [
              "id44-3-2",
              "outputarea_id44"
            ]
          }
        },
        {
          "output_type": "display_data",
          "data": {
            "application/javascript": [
              "window[\"b40169fc-5b84-11e9-8c95-0242ac1c0002\"] = google.colab.output.setActiveOutputArea(window[\"b400c786-5b84-11e9-8c95-0242ac1c0002\"]);\n",
              "//# sourceURL=js_4c4b1da5c5"
            ],
            "text/plain": [
              "<IPython.core.display.Javascript object>"
            ]
          },
          "metadata": {
            "tags": [
              "id44-3-2",
              "outputarea_id44"
            ]
          }
        },
        {
          "output_type": "display_data",
          "data": {
            "application/javascript": [
              "window[\"b4168440-5b84-11e9-8c95-0242ac1c0002\"] = google.colab.output.setActiveOutputArea(window[\"b4005666-5b84-11e9-8c95-0242ac1c0002\"]);\n",
              "//# sourceURL=js_595ff612ce"
            ],
            "text/plain": [
              "<IPython.core.display.Javascript object>"
            ]
          },
          "metadata": {
            "tags": [
              "id44-3-2",
              "outputarea_id44"
            ]
          }
        },
        {
          "output_type": "display_data",
          "data": {
            "application/javascript": [
              "window[\"b428149e-5b84-11e9-8c95-0242ac1c0002\"] = google.colab.output.getActiveOutputArea();\n",
              "//# sourceURL=js_33e52b7db2"
            ],
            "text/plain": [
              "<IPython.core.display.Javascript object>"
            ]
          },
          "metadata": {
            "tags": [
              "id44-4-4",
              "outputarea_id44"
            ]
          }
        },
        {
          "output_type": "display_data",
          "data": {
            "application/javascript": [
              "window[\"b428676e-5b84-11e9-8c95-0242ac1c0002\"] = document.querySelector(\"#id44-4-4\");\n",
              "//# sourceURL=js_036ccf9901"
            ],
            "text/plain": [
              "<IPython.core.display.Javascript object>"
            ]
          },
          "metadata": {
            "tags": [
              "id44-4-4",
              "outputarea_id44"
            ]
          }
        },
        {
          "output_type": "display_data",
          "data": {
            "application/javascript": [
              "window[\"b428ddac-5b84-11e9-8c95-0242ac1c0002\"] = google.colab.output.setActiveOutputArea(window[\"b428676e-5b84-11e9-8c95-0242ac1c0002\"]);\n",
              "//# sourceURL=js_1e65a9ce9b"
            ],
            "text/plain": [
              "<IPython.core.display.Javascript object>"
            ]
          },
          "metadata": {
            "tags": [
              "id44-4-4",
              "outputarea_id44"
            ]
          }
        },
        {
          "output_type": "display_data",
          "data": {
            "application/javascript": [
              "window[\"b4352490-5b84-11e9-8c95-0242ac1c0002\"] = google.colab.output.setActiveOutputArea(window[\"b428149e-5b84-11e9-8c95-0242ac1c0002\"]);\n",
              "//# sourceURL=js_5a318254a5"
            ],
            "text/plain": [
              "<IPython.core.display.Javascript object>"
            ]
          },
          "metadata": {
            "tags": [
              "id44-4-4",
              "outputarea_id44"
            ]
          }
        },
        {
          "output_type": "display_data",
          "data": {
            "application/javascript": [
              "window[\"b446d032-5b84-11e9-8c95-0242ac1c0002\"] = google.colab.output.getActiveOutputArea();\n",
              "//# sourceURL=js_15e062ff92"
            ],
            "text/plain": [
              "<IPython.core.display.Javascript object>"
            ]
          },
          "metadata": {
            "tags": [
              "id44-1-0",
              "outputarea_id44"
            ]
          }
        },
        {
          "output_type": "display_data",
          "data": {
            "application/javascript": [
              "window[\"b4474b98-5b84-11e9-8c95-0242ac1c0002\"] = document.querySelector(\"#id44-1-0\");\n",
              "//# sourceURL=js_f2890d27c6"
            ],
            "text/plain": [
              "<IPython.core.display.Javascript object>"
            ]
          },
          "metadata": {
            "tags": [
              "id44-1-0",
              "outputarea_id44"
            ]
          }
        },
        {
          "output_type": "display_data",
          "data": {
            "application/javascript": [
              "window[\"b447e6e8-5b84-11e9-8c95-0242ac1c0002\"] = google.colab.output.setActiveOutputArea(window[\"b4474b98-5b84-11e9-8c95-0242ac1c0002\"]);\n",
              "//# sourceURL=js_54583492d7"
            ],
            "text/plain": [
              "<IPython.core.display.Javascript object>"
            ]
          },
          "metadata": {
            "tags": [
              "id44-1-0",
              "outputarea_id44"
            ]
          }
        },
        {
          "output_type": "display_data",
          "data": {
            "application/javascript": [
              "window[\"b45450e0-5b84-11e9-8c95-0242ac1c0002\"] = google.colab.output.setActiveOutputArea(window[\"b446d032-5b84-11e9-8c95-0242ac1c0002\"]);\n",
              "//# sourceURL=js_4af8deb96f"
            ],
            "text/plain": [
              "<IPython.core.display.Javascript object>"
            ]
          },
          "metadata": {
            "tags": [
              "id44-1-0",
              "outputarea_id44"
            ]
          }
        },
        {
          "output_type": "display_data",
          "data": {
            "application/javascript": [
              "window[\"b466e8d6-5b84-11e9-8c95-0242ac1c0002\"] = google.colab.output.getActiveOutputArea();\n",
              "//# sourceURL=js_064c339140"
            ],
            "text/plain": [
              "<IPython.core.display.Javascript object>"
            ]
          },
          "metadata": {
            "tags": [
              "id44-4-0",
              "outputarea_id44"
            ]
          }
        },
        {
          "output_type": "display_data",
          "data": {
            "application/javascript": [
              "window[\"b4678b10-5b84-11e9-8c95-0242ac1c0002\"] = document.querySelector(\"#id44-4-0\");\n",
              "//# sourceURL=js_db16b03a8b"
            ],
            "text/plain": [
              "<IPython.core.display.Javascript object>"
            ]
          },
          "metadata": {
            "tags": [
              "id44-4-0",
              "outputarea_id44"
            ]
          }
        },
        {
          "output_type": "display_data",
          "data": {
            "application/javascript": [
              "window[\"b468423a-5b84-11e9-8c95-0242ac1c0002\"] = google.colab.output.setActiveOutputArea(window[\"b4678b10-5b84-11e9-8c95-0242ac1c0002\"]);\n",
              "//# sourceURL=js_c10f47d24f"
            ],
            "text/plain": [
              "<IPython.core.display.Javascript object>"
            ]
          },
          "metadata": {
            "tags": [
              "id44-4-0",
              "outputarea_id44"
            ]
          }
        },
        {
          "output_type": "display_data",
          "data": {
            "application/javascript": [
              "window[\"b4748efa-5b84-11e9-8c95-0242ac1c0002\"] = google.colab.output.setActiveOutputArea(window[\"b466e8d6-5b84-11e9-8c95-0242ac1c0002\"]);\n",
              "//# sourceURL=js_a32927978f"
            ],
            "text/plain": [
              "<IPython.core.display.Javascript object>"
            ]
          },
          "metadata": {
            "tags": [
              "id44-4-0",
              "outputarea_id44"
            ]
          }
        },
        {
          "output_type": "display_data",
          "data": {
            "application/javascript": [
              "window[\"b486c11a-5b84-11e9-8c95-0242ac1c0002\"] = google.colab.output.getActiveOutputArea();\n",
              "//# sourceURL=js_d4e71e47b9"
            ],
            "text/plain": [
              "<IPython.core.display.Javascript object>"
            ]
          },
          "metadata": {
            "tags": [
              "id44-1-3",
              "outputarea_id44"
            ]
          }
        },
        {
          "output_type": "display_data",
          "data": {
            "application/javascript": [
              "window[\"b4870e72-5b84-11e9-8c95-0242ac1c0002\"] = document.querySelector(\"#id44-1-3\");\n",
              "//# sourceURL=js_925e07d1d7"
            ],
            "text/plain": [
              "<IPython.core.display.Javascript object>"
            ]
          },
          "metadata": {
            "tags": [
              "id44-1-3",
              "outputarea_id44"
            ]
          }
        },
        {
          "output_type": "display_data",
          "data": {
            "application/javascript": [
              "window[\"b48758be-5b84-11e9-8c95-0242ac1c0002\"] = google.colab.output.setActiveOutputArea(window[\"b4870e72-5b84-11e9-8c95-0242ac1c0002\"]);\n",
              "//# sourceURL=js_2d9f2906f9"
            ],
            "text/plain": [
              "<IPython.core.display.Javascript object>"
            ]
          },
          "metadata": {
            "tags": [
              "id44-1-3",
              "outputarea_id44"
            ]
          }
        },
        {
          "output_type": "display_data",
          "data": {
            "application/javascript": [
              "window[\"b492e8c8-5b84-11e9-8c95-0242ac1c0002\"] = google.colab.output.setActiveOutputArea(window[\"b486c11a-5b84-11e9-8c95-0242ac1c0002\"]);\n",
              "//# sourceURL=js_55ca6491be"
            ],
            "text/plain": [
              "<IPython.core.display.Javascript object>"
            ]
          },
          "metadata": {
            "tags": [
              "id44-1-3",
              "outputarea_id44"
            ]
          }
        },
        {
          "output_type": "display_data",
          "data": {
            "application/javascript": [
              "window[\"b4a46fbc-5b84-11e9-8c95-0242ac1c0002\"] = google.colab.output.getActiveOutputArea();\n",
              "//# sourceURL=js_158d61f1d8"
            ],
            "text/plain": [
              "<IPython.core.display.Javascript object>"
            ]
          },
          "metadata": {
            "tags": [
              "id44-0-1",
              "outputarea_id44"
            ]
          }
        },
        {
          "output_type": "display_data",
          "data": {
            "application/javascript": [
              "window[\"b4a4d722-5b84-11e9-8c95-0242ac1c0002\"] = document.querySelector(\"#id44-0-1\");\n",
              "//# sourceURL=js_2124cce06a"
            ],
            "text/plain": [
              "<IPython.core.display.Javascript object>"
            ]
          },
          "metadata": {
            "tags": [
              "id44-0-1",
              "outputarea_id44"
            ]
          }
        },
        {
          "output_type": "display_data",
          "data": {
            "application/javascript": [
              "window[\"b4a55a80-5b84-11e9-8c95-0242ac1c0002\"] = google.colab.output.setActiveOutputArea(window[\"b4a4d722-5b84-11e9-8c95-0242ac1c0002\"]);\n",
              "//# sourceURL=js_b37430f859"
            ],
            "text/plain": [
              "<IPython.core.display.Javascript object>"
            ]
          },
          "metadata": {
            "tags": [
              "id44-0-1",
              "outputarea_id44"
            ]
          }
        },
        {
          "output_type": "display_data",
          "data": {
            "application/javascript": [
              "window[\"b4b43078-5b84-11e9-8c95-0242ac1c0002\"] = google.colab.output.setActiveOutputArea(window[\"b4a46fbc-5b84-11e9-8c95-0242ac1c0002\"]);\n",
              "//# sourceURL=js_b903a97cb4"
            ],
            "text/plain": [
              "<IPython.core.display.Javascript object>"
            ]
          },
          "metadata": {
            "tags": [
              "id44-0-1",
              "outputarea_id44"
            ]
          }
        },
        {
          "output_type": "display_data",
          "data": {
            "application/javascript": [
              "window[\"b4c6c54e-5b84-11e9-8c95-0242ac1c0002\"] = google.colab.output.getActiveOutputArea();\n",
              "//# sourceURL=js_f62d74482e"
            ],
            "text/plain": [
              "<IPython.core.display.Javascript object>"
            ]
          },
          "metadata": {
            "tags": [
              "id44-2-4",
              "outputarea_id44"
            ]
          }
        },
        {
          "output_type": "display_data",
          "data": {
            "application/javascript": [
              "window[\"b4c777d2-5b84-11e9-8c95-0242ac1c0002\"] = document.querySelector(\"#id44-2-4\");\n",
              "//# sourceURL=js_9961b16f22"
            ],
            "text/plain": [
              "<IPython.core.display.Javascript object>"
            ]
          },
          "metadata": {
            "tags": [
              "id44-2-4",
              "outputarea_id44"
            ]
          }
        },
        {
          "output_type": "display_data",
          "data": {
            "application/javascript": [
              "window[\"b4c7fc66-5b84-11e9-8c95-0242ac1c0002\"] = google.colab.output.setActiveOutputArea(window[\"b4c777d2-5b84-11e9-8c95-0242ac1c0002\"]);\n",
              "//# sourceURL=js_a566a99c17"
            ],
            "text/plain": [
              "<IPython.core.display.Javascript object>"
            ]
          },
          "metadata": {
            "tags": [
              "id44-2-4",
              "outputarea_id44"
            ]
          }
        },
        {
          "output_type": "display_data",
          "data": {
            "application/javascript": [
              "window[\"b4d3e30a-5b84-11e9-8c95-0242ac1c0002\"] = google.colab.output.setActiveOutputArea(window[\"b4c6c54e-5b84-11e9-8c95-0242ac1c0002\"]);\n",
              "//# sourceURL=js_9933e42e3f"
            ],
            "text/plain": [
              "<IPython.core.display.Javascript object>"
            ]
          },
          "metadata": {
            "tags": [
              "id44-2-4",
              "outputarea_id44"
            ]
          }
        },
        {
          "output_type": "display_data",
          "data": {
            "application/javascript": [
              "window[\"b4e59eec-5b84-11e9-8c95-0242ac1c0002\"] = google.colab.output.getActiveOutputArea();\n",
              "//# sourceURL=js_597e0596b9"
            ],
            "text/plain": [
              "<IPython.core.display.Javascript object>"
            ]
          },
          "metadata": {
            "tags": [
              "id44-3-4",
              "outputarea_id44"
            ]
          }
        },
        {
          "output_type": "display_data",
          "data": {
            "application/javascript": [
              "window[\"b4e5f284-5b84-11e9-8c95-0242ac1c0002\"] = document.querySelector(\"#id44-3-4\");\n",
              "//# sourceURL=js_6224bde3bd"
            ],
            "text/plain": [
              "<IPython.core.display.Javascript object>"
            ]
          },
          "metadata": {
            "tags": [
              "id44-3-4",
              "outputarea_id44"
            ]
          }
        },
        {
          "output_type": "display_data",
          "data": {
            "application/javascript": [
              "window[\"b4e6619c-5b84-11e9-8c95-0242ac1c0002\"] = google.colab.output.setActiveOutputArea(window[\"b4e5f284-5b84-11e9-8c95-0242ac1c0002\"]);\n",
              "//# sourceURL=js_73f033db72"
            ],
            "text/plain": [
              "<IPython.core.display.Javascript object>"
            ]
          },
          "metadata": {
            "tags": [
              "id44-3-4",
              "outputarea_id44"
            ]
          }
        },
        {
          "output_type": "display_data",
          "data": {
            "application/javascript": [
              "window[\"b4f245ac-5b84-11e9-8c95-0242ac1c0002\"] = google.colab.output.setActiveOutputArea(window[\"b4e59eec-5b84-11e9-8c95-0242ac1c0002\"]);\n",
              "//# sourceURL=js_f6e76b674a"
            ],
            "text/plain": [
              "<IPython.core.display.Javascript object>"
            ]
          },
          "metadata": {
            "tags": [
              "id44-3-4",
              "outputarea_id44"
            ]
          }
        },
        {
          "output_type": "display_data",
          "data": {
            "application/javascript": [
              "window[\"b50359aa-5b84-11e9-8c95-0242ac1c0002\"] = google.colab.output.getActiveOutputArea();\n",
              "//# sourceURL=js_f0ad43449b"
            ],
            "text/plain": [
              "<IPython.core.display.Javascript object>"
            ]
          },
          "metadata": {
            "tags": [
              "id44-3-3",
              "outputarea_id44"
            ]
          }
        },
        {
          "output_type": "display_data",
          "data": {
            "application/javascript": [
              "window[\"b503f41e-5b84-11e9-8c95-0242ac1c0002\"] = document.querySelector(\"#id44-3-3\");\n",
              "//# sourceURL=js_0f94bfbee1"
            ],
            "text/plain": [
              "<IPython.core.display.Javascript object>"
            ]
          },
          "metadata": {
            "tags": [
              "id44-3-3",
              "outputarea_id44"
            ]
          }
        },
        {
          "output_type": "display_data",
          "data": {
            "application/javascript": [
              "window[\"b5047128-5b84-11e9-8c95-0242ac1c0002\"] = google.colab.output.setActiveOutputArea(window[\"b503f41e-5b84-11e9-8c95-0242ac1c0002\"]);\n",
              "//# sourceURL=js_f66978962e"
            ],
            "text/plain": [
              "<IPython.core.display.Javascript object>"
            ]
          },
          "metadata": {
            "tags": [
              "id44-3-3",
              "outputarea_id44"
            ]
          }
        },
        {
          "output_type": "display_data",
          "data": {
            "application/javascript": [
              "window[\"b50fa426-5b84-11e9-8c95-0242ac1c0002\"] = google.colab.output.setActiveOutputArea(window[\"b50359aa-5b84-11e9-8c95-0242ac1c0002\"]);\n",
              "//# sourceURL=js_ee35b1c9ce"
            ],
            "text/plain": [
              "<IPython.core.display.Javascript object>"
            ]
          },
          "metadata": {
            "tags": [
              "id44-3-3",
              "outputarea_id44"
            ]
          }
        },
        {
          "output_type": "display_data",
          "data": {
            "application/javascript": [
              "window[\"b5208994-5b84-11e9-8c95-0242ac1c0002\"] = google.colab.output.getActiveOutputArea();\n",
              "//# sourceURL=js_296291a039"
            ],
            "text/plain": [
              "<IPython.core.display.Javascript object>"
            ]
          },
          "metadata": {
            "tags": [
              "id44-0-2",
              "outputarea_id44"
            ]
          }
        },
        {
          "output_type": "display_data",
          "data": {
            "application/javascript": [
              "window[\"b5212b9c-5b84-11e9-8c95-0242ac1c0002\"] = document.querySelector(\"#id44-0-2\");\n",
              "//# sourceURL=js_8af7a3318c"
            ],
            "text/plain": [
              "<IPython.core.display.Javascript object>"
            ]
          },
          "metadata": {
            "tags": [
              "id44-0-2",
              "outputarea_id44"
            ]
          }
        },
        {
          "output_type": "display_data",
          "data": {
            "application/javascript": [
              "window[\"b5219dc0-5b84-11e9-8c95-0242ac1c0002\"] = google.colab.output.setActiveOutputArea(window[\"b5212b9c-5b84-11e9-8c95-0242ac1c0002\"]);\n",
              "//# sourceURL=js_6323a97f08"
            ],
            "text/plain": [
              "<IPython.core.display.Javascript object>"
            ]
          },
          "metadata": {
            "tags": [
              "id44-0-2",
              "outputarea_id44"
            ]
          }
        },
        {
          "output_type": "display_data",
          "data": {
            "application/javascript": [
              "window[\"b52d3432-5b84-11e9-8c95-0242ac1c0002\"] = google.colab.output.setActiveOutputArea(window[\"b5208994-5b84-11e9-8c95-0242ac1c0002\"]);\n",
              "//# sourceURL=js_8ec037ec68"
            ],
            "text/plain": [
              "<IPython.core.display.Javascript object>"
            ]
          },
          "metadata": {
            "tags": [
              "id44-0-2",
              "outputarea_id44"
            ]
          }
        },
        {
          "output_type": "display_data",
          "data": {
            "application/javascript": [
              "window[\"b53e35de-5b84-11e9-8c95-0242ac1c0002\"] = google.colab.output.getActiveOutputArea();\n",
              "//# sourceURL=js_527f850446"
            ],
            "text/plain": [
              "<IPython.core.display.Javascript object>"
            ]
          },
          "metadata": {
            "tags": [
              "id44-2-3",
              "outputarea_id44"
            ]
          }
        },
        {
          "output_type": "display_data",
          "data": {
            "application/javascript": [
              "window[\"b53f0dec-5b84-11e9-8c95-0242ac1c0002\"] = document.querySelector(\"#id44-2-3\");\n",
              "//# sourceURL=js_9fe7e7a0de"
            ],
            "text/plain": [
              "<IPython.core.display.Javascript object>"
            ]
          },
          "metadata": {
            "tags": [
              "id44-2-3",
              "outputarea_id44"
            ]
          }
        },
        {
          "output_type": "display_data",
          "data": {
            "application/javascript": [
              "window[\"b53f8de4-5b84-11e9-8c95-0242ac1c0002\"] = google.colab.output.setActiveOutputArea(window[\"b53f0dec-5b84-11e9-8c95-0242ac1c0002\"]);\n",
              "//# sourceURL=js_da1281b934"
            ],
            "text/plain": [
              "<IPython.core.display.Javascript object>"
            ]
          },
          "metadata": {
            "tags": [
              "id44-2-3",
              "outputarea_id44"
            ]
          }
        },
        {
          "output_type": "display_data",
          "data": {
            "application/javascript": [
              "window[\"b54c8738-5b84-11e9-8c95-0242ac1c0002\"] = google.colab.output.setActiveOutputArea(window[\"b53e35de-5b84-11e9-8c95-0242ac1c0002\"]);\n",
              "//# sourceURL=js_961b4c8ecb"
            ],
            "text/plain": [
              "<IPython.core.display.Javascript object>"
            ]
          },
          "metadata": {
            "tags": [
              "id44-2-3",
              "outputarea_id44"
            ]
          }
        },
        {
          "output_type": "display_data",
          "data": {
            "application/javascript": [
              "window[\"b55da054-5b84-11e9-8c95-0242ac1c0002\"] = google.colab.output.getActiveOutputArea();\n",
              "//# sourceURL=js_1422076d65"
            ],
            "text/plain": [
              "<IPython.core.display.Javascript object>"
            ]
          },
          "metadata": {
            "tags": [
              "id44-2-4",
              "outputarea_id44"
            ]
          }
        },
        {
          "output_type": "display_data",
          "data": {
            "application/javascript": [
              "window[\"b55e2376-5b84-11e9-8c95-0242ac1c0002\"] = document.querySelector(\"#id44-2-4\");\n",
              "//# sourceURL=js_a348e48ecf"
            ],
            "text/plain": [
              "<IPython.core.display.Javascript object>"
            ]
          },
          "metadata": {
            "tags": [
              "id44-2-4",
              "outputarea_id44"
            ]
          }
        },
        {
          "output_type": "display_data",
          "data": {
            "application/javascript": [
              "window[\"b55eb1e2-5b84-11e9-8c95-0242ac1c0002\"] = google.colab.output.setActiveOutputArea(window[\"b55e2376-5b84-11e9-8c95-0242ac1c0002\"]);\n",
              "//# sourceURL=js_1319384e4d"
            ],
            "text/plain": [
              "<IPython.core.display.Javascript object>"
            ]
          },
          "metadata": {
            "tags": [
              "id44-2-4",
              "outputarea_id44"
            ]
          }
        },
        {
          "output_type": "display_data",
          "data": {
            "application/javascript": [
              "window[\"b56a6c26-5b84-11e9-8c95-0242ac1c0002\"] = google.colab.output.setActiveOutputArea(window[\"b55da054-5b84-11e9-8c95-0242ac1c0002\"]);\n",
              "//# sourceURL=js_fec29e146b"
            ],
            "text/plain": [
              "<IPython.core.display.Javascript object>"
            ]
          },
          "metadata": {
            "tags": [
              "id44-2-4",
              "outputarea_id44"
            ]
          }
        },
        {
          "output_type": "display_data",
          "data": {
            "application/javascript": [
              "window[\"b57b5252-5b84-11e9-8c95-0242ac1c0002\"] = google.colab.output.getActiveOutputArea();\n",
              "//# sourceURL=js_88aa0715eb"
            ],
            "text/plain": [
              "<IPython.core.display.Javascript object>"
            ]
          },
          "metadata": {
            "tags": [
              "id44-3-4",
              "outputarea_id44"
            ]
          }
        },
        {
          "output_type": "display_data",
          "data": {
            "application/javascript": [
              "window[\"b57bcf84-5b84-11e9-8c95-0242ac1c0002\"] = document.querySelector(\"#id44-3-4\");\n",
              "//# sourceURL=js_282185eef0"
            ],
            "text/plain": [
              "<IPython.core.display.Javascript object>"
            ]
          },
          "metadata": {
            "tags": [
              "id44-3-4",
              "outputarea_id44"
            ]
          }
        },
        {
          "output_type": "display_data",
          "data": {
            "application/javascript": [
              "window[\"b57c6494-5b84-11e9-8c95-0242ac1c0002\"] = google.colab.output.setActiveOutputArea(window[\"b57bcf84-5b84-11e9-8c95-0242ac1c0002\"]);\n",
              "//# sourceURL=js_f6e49c82e3"
            ],
            "text/plain": [
              "<IPython.core.display.Javascript object>"
            ]
          },
          "metadata": {
            "tags": [
              "id44-3-4",
              "outputarea_id44"
            ]
          }
        },
        {
          "output_type": "display_data",
          "data": {
            "application/javascript": [
              "window[\"b58809ca-5b84-11e9-8c95-0242ac1c0002\"] = google.colab.output.setActiveOutputArea(window[\"b57b5252-5b84-11e9-8c95-0242ac1c0002\"]);\n",
              "//# sourceURL=js_f17cdd8a61"
            ],
            "text/plain": [
              "<IPython.core.display.Javascript object>"
            ]
          },
          "metadata": {
            "tags": [
              "id44-3-4",
              "outputarea_id44"
            ]
          }
        },
        {
          "output_type": "display_data",
          "data": {
            "application/javascript": [
              "window[\"b599613e-5b84-11e9-8c95-0242ac1c0002\"] = google.colab.output.getActiveOutputArea();\n",
              "//# sourceURL=js_673a919da6"
            ],
            "text/plain": [
              "<IPython.core.display.Javascript object>"
            ]
          },
          "metadata": {
            "tags": [
              "id44-4-0",
              "outputarea_id44"
            ]
          }
        },
        {
          "output_type": "display_data",
          "data": {
            "application/javascript": [
              "window[\"b599e5be-5b84-11e9-8c95-0242ac1c0002\"] = document.querySelector(\"#id44-4-0\");\n",
              "//# sourceURL=js_7b6a81e14e"
            ],
            "text/plain": [
              "<IPython.core.display.Javascript object>"
            ]
          },
          "metadata": {
            "tags": [
              "id44-4-0",
              "outputarea_id44"
            ]
          }
        },
        {
          "output_type": "display_data",
          "data": {
            "application/javascript": [
              "window[\"b59a5a8a-5b84-11e9-8c95-0242ac1c0002\"] = google.colab.output.setActiveOutputArea(window[\"b599e5be-5b84-11e9-8c95-0242ac1c0002\"]);\n",
              "//# sourceURL=js_2dfa8a1a0a"
            ],
            "text/plain": [
              "<IPython.core.display.Javascript object>"
            ]
          },
          "metadata": {
            "tags": [
              "id44-4-0",
              "outputarea_id44"
            ]
          }
        },
        {
          "output_type": "display_data",
          "data": {
            "application/javascript": [
              "window[\"b5a5aff2-5b84-11e9-8c95-0242ac1c0002\"] = google.colab.output.setActiveOutputArea(window[\"b599613e-5b84-11e9-8c95-0242ac1c0002\"]);\n",
              "//# sourceURL=js_6a1521c62e"
            ],
            "text/plain": [
              "<IPython.core.display.Javascript object>"
            ]
          },
          "metadata": {
            "tags": [
              "id44-4-0",
              "outputarea_id44"
            ]
          }
        },
        {
          "output_type": "display_data",
          "data": {
            "application/javascript": [
              "window[\"b5b7716a-5b84-11e9-8c95-0242ac1c0002\"] = google.colab.output.getActiveOutputArea();\n",
              "//# sourceURL=js_c543b02860"
            ],
            "text/plain": [
              "<IPython.core.display.Javascript object>"
            ]
          },
          "metadata": {
            "tags": [
              "id44-4-1",
              "outputarea_id44"
            ]
          }
        },
        {
          "output_type": "display_data",
          "data": {
            "application/javascript": [
              "window[\"b5b7fb08-5b84-11e9-8c95-0242ac1c0002\"] = document.querySelector(\"#id44-4-1\");\n",
              "//# sourceURL=js_2e6fc90a93"
            ],
            "text/plain": [
              "<IPython.core.display.Javascript object>"
            ]
          },
          "metadata": {
            "tags": [
              "id44-4-1",
              "outputarea_id44"
            ]
          }
        },
        {
          "output_type": "display_data",
          "data": {
            "application/javascript": [
              "window[\"b5b87b14-5b84-11e9-8c95-0242ac1c0002\"] = google.colab.output.setActiveOutputArea(window[\"b5b7fb08-5b84-11e9-8c95-0242ac1c0002\"]);\n",
              "//# sourceURL=js_a718430537"
            ],
            "text/plain": [
              "<IPython.core.display.Javascript object>"
            ]
          },
          "metadata": {
            "tags": [
              "id44-4-1",
              "outputarea_id44"
            ]
          }
        },
        {
          "output_type": "display_data",
          "data": {
            "application/javascript": [
              "window[\"b5c42824-5b84-11e9-8c95-0242ac1c0002\"] = google.colab.output.setActiveOutputArea(window[\"b5b7716a-5b84-11e9-8c95-0242ac1c0002\"]);\n",
              "//# sourceURL=js_6695a5c0e4"
            ],
            "text/plain": [
              "<IPython.core.display.Javascript object>"
            ]
          },
          "metadata": {
            "tags": [
              "id44-4-1",
              "outputarea_id44"
            ]
          }
        },
        {
          "output_type": "display_data",
          "data": {
            "application/javascript": [
              "window[\"b5d54550-5b84-11e9-8c95-0242ac1c0002\"] = google.colab.output.getActiveOutputArea();\n",
              "//# sourceURL=js_d76104cd3f"
            ],
            "text/plain": [
              "<IPython.core.display.Javascript object>"
            ]
          },
          "metadata": {
            "tags": [
              "id44-3-3",
              "outputarea_id44"
            ]
          }
        },
        {
          "output_type": "display_data",
          "data": {
            "application/javascript": [
              "window[\"b5d5f6d0-5b84-11e9-8c95-0242ac1c0002\"] = document.querySelector(\"#id44-3-3\");\n",
              "//# sourceURL=js_d1c89e59c9"
            ],
            "text/plain": [
              "<IPython.core.display.Javascript object>"
            ]
          },
          "metadata": {
            "tags": [
              "id44-3-3",
              "outputarea_id44"
            ]
          }
        },
        {
          "output_type": "display_data",
          "data": {
            "application/javascript": [
              "window[\"b5d64130-5b84-11e9-8c95-0242ac1c0002\"] = google.colab.output.setActiveOutputArea(window[\"b5d5f6d0-5b84-11e9-8c95-0242ac1c0002\"]);\n",
              "//# sourceURL=js_c4b9a0c65d"
            ],
            "text/plain": [
              "<IPython.core.display.Javascript object>"
            ]
          },
          "metadata": {
            "tags": [
              "id44-3-3",
              "outputarea_id44"
            ]
          }
        },
        {
          "output_type": "display_data",
          "data": {
            "application/javascript": [
              "window[\"b5e183c4-5b84-11e9-8c95-0242ac1c0002\"] = google.colab.output.setActiveOutputArea(window[\"b5d54550-5b84-11e9-8c95-0242ac1c0002\"]);\n",
              "//# sourceURL=js_174786498f"
            ],
            "text/plain": [
              "<IPython.core.display.Javascript object>"
            ]
          },
          "metadata": {
            "tags": [
              "id44-3-3",
              "outputarea_id44"
            ]
          }
        },
        {
          "output_type": "display_data",
          "data": {
            "application/javascript": [
              "window[\"b5f368f0-5b84-11e9-8c95-0242ac1c0002\"] = google.colab.output.getActiveOutputArea();\n",
              "//# sourceURL=js_d75a68486a"
            ],
            "text/plain": [
              "<IPython.core.display.Javascript object>"
            ]
          },
          "metadata": {
            "tags": [
              "id44-2-4",
              "outputarea_id44"
            ]
          }
        },
        {
          "output_type": "display_data",
          "data": {
            "application/javascript": [
              "window[\"b5f3af68-5b84-11e9-8c95-0242ac1c0002\"] = document.querySelector(\"#id44-2-4\");\n",
              "//# sourceURL=js_c8bd4e332b"
            ],
            "text/plain": [
              "<IPython.core.display.Javascript object>"
            ]
          },
          "metadata": {
            "tags": [
              "id44-2-4",
              "outputarea_id44"
            ]
          }
        },
        {
          "output_type": "display_data",
          "data": {
            "application/javascript": [
              "window[\"b5f42af6-5b84-11e9-8c95-0242ac1c0002\"] = google.colab.output.setActiveOutputArea(window[\"b5f3af68-5b84-11e9-8c95-0242ac1c0002\"]);\n",
              "//# sourceURL=js_525e17878e"
            ],
            "text/plain": [
              "<IPython.core.display.Javascript object>"
            ]
          },
          "metadata": {
            "tags": [
              "id44-2-4",
              "outputarea_id44"
            ]
          }
        },
        {
          "output_type": "display_data",
          "data": {
            "application/javascript": [
              "window[\"b600397c-5b84-11e9-8c95-0242ac1c0002\"] = google.colab.output.setActiveOutputArea(window[\"b5f368f0-5b84-11e9-8c95-0242ac1c0002\"]);\n",
              "//# sourceURL=js_98f128b78c"
            ],
            "text/plain": [
              "<IPython.core.display.Javascript object>"
            ]
          },
          "metadata": {
            "tags": [
              "id44-2-4",
              "outputarea_id44"
            ]
          }
        },
        {
          "output_type": "display_data",
          "data": {
            "application/javascript": [
              "window[\"b6117692-5b84-11e9-8c95-0242ac1c0002\"] = google.colab.output.getActiveOutputArea();\n",
              "//# sourceURL=js_c8d20439fe"
            ],
            "text/plain": [
              "<IPython.core.display.Javascript object>"
            ]
          },
          "metadata": {
            "tags": [
              "id44-2-2",
              "outputarea_id44"
            ]
          }
        },
        {
          "output_type": "display_data",
          "data": {
            "application/javascript": [
              "window[\"b611f14e-5b84-11e9-8c95-0242ac1c0002\"] = document.querySelector(\"#id44-2-2\");\n",
              "//# sourceURL=js_35bea15d12"
            ],
            "text/plain": [
              "<IPython.core.display.Javascript object>"
            ]
          },
          "metadata": {
            "tags": [
              "id44-2-2",
              "outputarea_id44"
            ]
          }
        },
        {
          "output_type": "display_data",
          "data": {
            "application/javascript": [
              "window[\"b6129c34-5b84-11e9-8c95-0242ac1c0002\"] = google.colab.output.setActiveOutputArea(window[\"b611f14e-5b84-11e9-8c95-0242ac1c0002\"]);\n",
              "//# sourceURL=js_221e45cf54"
            ],
            "text/plain": [
              "<IPython.core.display.Javascript object>"
            ]
          },
          "metadata": {
            "tags": [
              "id44-2-2",
              "outputarea_id44"
            ]
          }
        },
        {
          "output_type": "display_data",
          "data": {
            "application/javascript": [
              "window[\"b61ebc44-5b84-11e9-8c95-0242ac1c0002\"] = google.colab.output.setActiveOutputArea(window[\"b6117692-5b84-11e9-8c95-0242ac1c0002\"]);\n",
              "//# sourceURL=js_77573b8aee"
            ],
            "text/plain": [
              "<IPython.core.display.Javascript object>"
            ]
          },
          "metadata": {
            "tags": [
              "id44-2-2",
              "outputarea_id44"
            ]
          }
        },
        {
          "output_type": "display_data",
          "data": {
            "application/javascript": [
              "window[\"b6308afa-5b84-11e9-8c95-0242ac1c0002\"] = google.colab.output.getActiveOutputArea();\n",
              "//# sourceURL=js_25bd6b31ad"
            ],
            "text/plain": [
              "<IPython.core.display.Javascript object>"
            ]
          },
          "metadata": {
            "tags": [
              "id44-3-2",
              "outputarea_id44"
            ]
          }
        },
        {
          "output_type": "display_data",
          "data": {
            "application/javascript": [
              "window[\"b63111f0-5b84-11e9-8c95-0242ac1c0002\"] = document.querySelector(\"#id44-3-2\");\n",
              "//# sourceURL=js_b8a98fb649"
            ],
            "text/plain": [
              "<IPython.core.display.Javascript object>"
            ]
          },
          "metadata": {
            "tags": [
              "id44-3-2",
              "outputarea_id44"
            ]
          }
        },
        {
          "output_type": "display_data",
          "data": {
            "application/javascript": [
              "window[\"b631bb1e-5b84-11e9-8c95-0242ac1c0002\"] = google.colab.output.setActiveOutputArea(window[\"b63111f0-5b84-11e9-8c95-0242ac1c0002\"]);\n",
              "//# sourceURL=js_07dcfdc211"
            ],
            "text/plain": [
              "<IPython.core.display.Javascript object>"
            ]
          },
          "metadata": {
            "tags": [
              "id44-3-2",
              "outputarea_id44"
            ]
          }
        },
        {
          "output_type": "display_data",
          "data": {
            "application/javascript": [
              "window[\"b63d6e82-5b84-11e9-8c95-0242ac1c0002\"] = google.colab.output.setActiveOutputArea(window[\"b6308afa-5b84-11e9-8c95-0242ac1c0002\"]);\n",
              "//# sourceURL=js_f4c01f4ee3"
            ],
            "text/plain": [
              "<IPython.core.display.Javascript object>"
            ]
          },
          "metadata": {
            "tags": [
              "id44-3-2",
              "outputarea_id44"
            ]
          }
        },
        {
          "output_type": "display_data",
          "data": {
            "application/javascript": [
              "window[\"b64f9d6e-5b84-11e9-8c95-0242ac1c0002\"] = google.colab.output.getActiveOutputArea();\n",
              "//# sourceURL=js_efc2d3c1da"
            ],
            "text/plain": [
              "<IPython.core.display.Javascript object>"
            ]
          },
          "metadata": {
            "tags": [
              "id44-3-4",
              "outputarea_id44"
            ]
          }
        },
        {
          "output_type": "display_data",
          "data": {
            "application/javascript": [
              "window[\"b64fecec-5b84-11e9-8c95-0242ac1c0002\"] = document.querySelector(\"#id44-3-4\");\n",
              "//# sourceURL=js_ddfebb0aac"
            ],
            "text/plain": [
              "<IPython.core.display.Javascript object>"
            ]
          },
          "metadata": {
            "tags": [
              "id44-3-4",
              "outputarea_id44"
            ]
          }
        },
        {
          "output_type": "display_data",
          "data": {
            "application/javascript": [
              "window[\"b6505b8c-5b84-11e9-8c95-0242ac1c0002\"] = google.colab.output.setActiveOutputArea(window[\"b64fecec-5b84-11e9-8c95-0242ac1c0002\"]);\n",
              "//# sourceURL=js_ae55b5fbd7"
            ],
            "text/plain": [
              "<IPython.core.display.Javascript object>"
            ]
          },
          "metadata": {
            "tags": [
              "id44-3-4",
              "outputarea_id44"
            ]
          }
        },
        {
          "output_type": "display_data",
          "data": {
            "application/javascript": [
              "window[\"b65ce924-5b84-11e9-8c95-0242ac1c0002\"] = google.colab.output.setActiveOutputArea(window[\"b64f9d6e-5b84-11e9-8c95-0242ac1c0002\"]);\n",
              "//# sourceURL=js_aaf9e16720"
            ],
            "text/plain": [
              "<IPython.core.display.Javascript object>"
            ]
          },
          "metadata": {
            "tags": [
              "id44-3-4",
              "outputarea_id44"
            ]
          }
        },
        {
          "output_type": "display_data",
          "data": {
            "application/javascript": [
              "window[\"b66df476-5b84-11e9-8c95-0242ac1c0002\"] = google.colab.output.getActiveOutputArea();\n",
              "//# sourceURL=js_b9da5cc8a1"
            ],
            "text/plain": [
              "<IPython.core.display.Javascript object>"
            ]
          },
          "metadata": {
            "tags": [
              "id44-2-4",
              "outputarea_id44"
            ]
          }
        },
        {
          "output_type": "display_data",
          "data": {
            "application/javascript": [
              "window[\"b66e7662-5b84-11e9-8c95-0242ac1c0002\"] = document.querySelector(\"#id44-2-4\");\n",
              "//# sourceURL=js_2ca703a202"
            ],
            "text/plain": [
              "<IPython.core.display.Javascript object>"
            ]
          },
          "metadata": {
            "tags": [
              "id44-2-4",
              "outputarea_id44"
            ]
          }
        },
        {
          "output_type": "display_data",
          "data": {
            "application/javascript": [
              "window[\"b66ef8b2-5b84-11e9-8c95-0242ac1c0002\"] = google.colab.output.setActiveOutputArea(window[\"b66e7662-5b84-11e9-8c95-0242ac1c0002\"]);\n",
              "//# sourceURL=js_16fd0cb696"
            ],
            "text/plain": [
              "<IPython.core.display.Javascript object>"
            ]
          },
          "metadata": {
            "tags": [
              "id44-2-4",
              "outputarea_id44"
            ]
          }
        },
        {
          "output_type": "display_data",
          "data": {
            "application/javascript": [
              "window[\"b67b5080-5b84-11e9-8c95-0242ac1c0002\"] = google.colab.output.setActiveOutputArea(window[\"b66df476-5b84-11e9-8c95-0242ac1c0002\"]);\n",
              "//# sourceURL=js_44f955cdb0"
            ],
            "text/plain": [
              "<IPython.core.display.Javascript object>"
            ]
          },
          "metadata": {
            "tags": [
              "id44-2-4",
              "outputarea_id44"
            ]
          }
        },
        {
          "output_type": "display_data",
          "data": {
            "application/javascript": [
              "window[\"b68cd490-5b84-11e9-8c95-0242ac1c0002\"] = google.colab.output.getActiveOutputArea();\n",
              "//# sourceURL=js_66c27073bc"
            ],
            "text/plain": [
              "<IPython.core.display.Javascript object>"
            ]
          },
          "metadata": {
            "tags": [
              "id44-4-3",
              "outputarea_id44"
            ]
          }
        },
        {
          "output_type": "display_data",
          "data": {
            "application/javascript": [
              "window[\"b68dc094-5b84-11e9-8c95-0242ac1c0002\"] = document.querySelector(\"#id44-4-3\");\n",
              "//# sourceURL=js_8f2b98a1d1"
            ],
            "text/plain": [
              "<IPython.core.display.Javascript object>"
            ]
          },
          "metadata": {
            "tags": [
              "id44-4-3",
              "outputarea_id44"
            ]
          }
        },
        {
          "output_type": "display_data",
          "data": {
            "application/javascript": [
              "window[\"b68e6ef4-5b84-11e9-8c95-0242ac1c0002\"] = google.colab.output.setActiveOutputArea(window[\"b68dc094-5b84-11e9-8c95-0242ac1c0002\"]);\n",
              "//# sourceURL=js_24bbebb063"
            ],
            "text/plain": [
              "<IPython.core.display.Javascript object>"
            ]
          },
          "metadata": {
            "tags": [
              "id44-4-3",
              "outputarea_id44"
            ]
          }
        },
        {
          "output_type": "display_data",
          "data": {
            "application/javascript": [
              "window[\"b6999c66-5b84-11e9-8c95-0242ac1c0002\"] = google.colab.output.setActiveOutputArea(window[\"b68cd490-5b84-11e9-8c95-0242ac1c0002\"]);\n",
              "//# sourceURL=js_8a0fd2e631"
            ],
            "text/plain": [
              "<IPython.core.display.Javascript object>"
            ]
          },
          "metadata": {
            "tags": [
              "id44-4-3",
              "outputarea_id44"
            ]
          }
        },
        {
          "output_type": "display_data",
          "data": {
            "application/javascript": [
              "window[\"b6ab678e-5b84-11e9-8c95-0242ac1c0002\"] = google.colab.output.getActiveOutputArea();\n",
              "//# sourceURL=js_21b74347e8"
            ],
            "text/plain": [
              "<IPython.core.display.Javascript object>"
            ]
          },
          "metadata": {
            "tags": [
              "id44-4-3",
              "outputarea_id44"
            ]
          }
        },
        {
          "output_type": "display_data",
          "data": {
            "application/javascript": [
              "window[\"b6abb4e6-5b84-11e9-8c95-0242ac1c0002\"] = document.querySelector(\"#id44-4-3\");\n",
              "//# sourceURL=js_bf58f6e93b"
            ],
            "text/plain": [
              "<IPython.core.display.Javascript object>"
            ]
          },
          "metadata": {
            "tags": [
              "id44-4-3",
              "outputarea_id44"
            ]
          }
        },
        {
          "output_type": "display_data",
          "data": {
            "application/javascript": [
              "window[\"b6ac12ce-5b84-11e9-8c95-0242ac1c0002\"] = google.colab.output.setActiveOutputArea(window[\"b6abb4e6-5b84-11e9-8c95-0242ac1c0002\"]);\n",
              "//# sourceURL=js_e2a204cdb6"
            ],
            "text/plain": [
              "<IPython.core.display.Javascript object>"
            ]
          },
          "metadata": {
            "tags": [
              "id44-4-3",
              "outputarea_id44"
            ]
          }
        },
        {
          "output_type": "display_data",
          "data": {
            "application/javascript": [
              "window[\"b6c17f74-5b84-11e9-8c95-0242ac1c0002\"] = google.colab.output.setActiveOutputArea(window[\"b6ab678e-5b84-11e9-8c95-0242ac1c0002\"]);\n",
              "//# sourceURL=js_54720c0b76"
            ],
            "text/plain": [
              "<IPython.core.display.Javascript object>"
            ]
          },
          "metadata": {
            "tags": [
              "id44-4-3",
              "outputarea_id44"
            ]
          }
        },
        {
          "output_type": "display_data",
          "data": {
            "application/javascript": [
              "window[\"b6d328f0-5b84-11e9-8c95-0242ac1c0002\"] = google.colab.output.getActiveOutputArea();\n",
              "//# sourceURL=js_25c15bd0f8"
            ],
            "text/plain": [
              "<IPython.core.display.Javascript object>"
            ]
          },
          "metadata": {
            "tags": [
              "id44-0-2",
              "outputarea_id44"
            ]
          }
        },
        {
          "output_type": "display_data",
          "data": {
            "application/javascript": [
              "window[\"b6d3956a-5b84-11e9-8c95-0242ac1c0002\"] = document.querySelector(\"#id44-0-2\");\n",
              "//# sourceURL=js_7f90dc9482"
            ],
            "text/plain": [
              "<IPython.core.display.Javascript object>"
            ]
          },
          "metadata": {
            "tags": [
              "id44-0-2",
              "outputarea_id44"
            ]
          }
        },
        {
          "output_type": "display_data",
          "data": {
            "application/javascript": [
              "window[\"b6d42656-5b84-11e9-8c95-0242ac1c0002\"] = google.colab.output.setActiveOutputArea(window[\"b6d3956a-5b84-11e9-8c95-0242ac1c0002\"]);\n",
              "//# sourceURL=js_f7df00ecd2"
            ],
            "text/plain": [
              "<IPython.core.display.Javascript object>"
            ]
          },
          "metadata": {
            "tags": [
              "id44-0-2",
              "outputarea_id44"
            ]
          }
        },
        {
          "output_type": "display_data",
          "data": {
            "application/javascript": [
              "window[\"b6e12de2-5b84-11e9-8c95-0242ac1c0002\"] = google.colab.output.setActiveOutputArea(window[\"b6d328f0-5b84-11e9-8c95-0242ac1c0002\"]);\n",
              "//# sourceURL=js_db9bd3c123"
            ],
            "text/plain": [
              "<IPython.core.display.Javascript object>"
            ]
          },
          "metadata": {
            "tags": [
              "id44-0-2",
              "outputarea_id44"
            ]
          }
        },
        {
          "output_type": "display_data",
          "data": {
            "application/javascript": [
              "window[\"b6f35e86-5b84-11e9-8c95-0242ac1c0002\"] = google.colab.output.getActiveOutputArea();\n",
              "//# sourceURL=js_54a4b91a8a"
            ],
            "text/plain": [
              "<IPython.core.display.Javascript object>"
            ]
          },
          "metadata": {
            "tags": [
              "id44-4-3",
              "outputarea_id44"
            ]
          }
        },
        {
          "output_type": "display_data",
          "data": {
            "application/javascript": [
              "window[\"b6f3fcec-5b84-11e9-8c95-0242ac1c0002\"] = document.querySelector(\"#id44-4-3\");\n",
              "//# sourceURL=js_560251dca4"
            ],
            "text/plain": [
              "<IPython.core.display.Javascript object>"
            ]
          },
          "metadata": {
            "tags": [
              "id44-4-3",
              "outputarea_id44"
            ]
          }
        },
        {
          "output_type": "display_data",
          "data": {
            "application/javascript": [
              "window[\"b6f4910c-5b84-11e9-8c95-0242ac1c0002\"] = google.colab.output.setActiveOutputArea(window[\"b6f3fcec-5b84-11e9-8c95-0242ac1c0002\"]);\n",
              "//# sourceURL=js_3e173ff431"
            ],
            "text/plain": [
              "<IPython.core.display.Javascript object>"
            ]
          },
          "metadata": {
            "tags": [
              "id44-4-3",
              "outputarea_id44"
            ]
          }
        },
        {
          "output_type": "display_data",
          "data": {
            "application/javascript": [
              "window[\"b7004bb4-5b84-11e9-8c95-0242ac1c0002\"] = google.colab.output.setActiveOutputArea(window[\"b6f35e86-5b84-11e9-8c95-0242ac1c0002\"]);\n",
              "//# sourceURL=js_4e937cf98a"
            ],
            "text/plain": [
              "<IPython.core.display.Javascript object>"
            ]
          },
          "metadata": {
            "tags": [
              "id44-4-3",
              "outputarea_id44"
            ]
          }
        },
        {
          "output_type": "display_data",
          "data": {
            "application/javascript": [
              "window[\"b7117a60-5b84-11e9-8c95-0242ac1c0002\"] = google.colab.output.getActiveOutputArea();\n",
              "//# sourceURL=js_a1546d2a6e"
            ],
            "text/plain": [
              "<IPython.core.display.Javascript object>"
            ]
          },
          "metadata": {
            "tags": [
              "id44-0-1",
              "outputarea_id44"
            ]
          }
        },
        {
          "output_type": "display_data",
          "data": {
            "application/javascript": [
              "window[\"b7121970-5b84-11e9-8c95-0242ac1c0002\"] = document.querySelector(\"#id44-0-1\");\n",
              "//# sourceURL=js_6a5208668f"
            ],
            "text/plain": [
              "<IPython.core.display.Javascript object>"
            ]
          },
          "metadata": {
            "tags": [
              "id44-0-1",
              "outputarea_id44"
            ]
          }
        },
        {
          "output_type": "display_data",
          "data": {
            "application/javascript": [
              "window[\"b7128cac-5b84-11e9-8c95-0242ac1c0002\"] = google.colab.output.setActiveOutputArea(window[\"b7121970-5b84-11e9-8c95-0242ac1c0002\"]);\n",
              "//# sourceURL=js_9e25d919d1"
            ],
            "text/plain": [
              "<IPython.core.display.Javascript object>"
            ]
          },
          "metadata": {
            "tags": [
              "id44-0-1",
              "outputarea_id44"
            ]
          }
        },
        {
          "output_type": "display_data",
          "data": {
            "application/javascript": [
              "window[\"b7202f2e-5b84-11e9-8c95-0242ac1c0002\"] = google.colab.output.setActiveOutputArea(window[\"b7117a60-5b84-11e9-8c95-0242ac1c0002\"]);\n",
              "//# sourceURL=js_36ba48f2ce"
            ],
            "text/plain": [
              "<IPython.core.display.Javascript object>"
            ]
          },
          "metadata": {
            "tags": [
              "id44-0-1",
              "outputarea_id44"
            ]
          }
        },
        {
          "output_type": "display_data",
          "data": {
            "application/javascript": [
              "window[\"b7313800-5b84-11e9-8c95-0242ac1c0002\"] = google.colab.output.getActiveOutputArea();\n",
              "//# sourceURL=js_acb27b0caf"
            ],
            "text/plain": [
              "<IPython.core.display.Javascript object>"
            ]
          },
          "metadata": {
            "tags": [
              "id44-4-3",
              "outputarea_id44"
            ]
          }
        },
        {
          "output_type": "display_data",
          "data": {
            "application/javascript": [
              "window[\"b731b244-5b84-11e9-8c95-0242ac1c0002\"] = document.querySelector(\"#id44-4-3\");\n",
              "//# sourceURL=js_c2ff54354b"
            ],
            "text/plain": [
              "<IPython.core.display.Javascript object>"
            ]
          },
          "metadata": {
            "tags": [
              "id44-4-3",
              "outputarea_id44"
            ]
          }
        },
        {
          "output_type": "display_data",
          "data": {
            "application/javascript": [
              "window[\"b7323ee4-5b84-11e9-8c95-0242ac1c0002\"] = google.colab.output.setActiveOutputArea(window[\"b731b244-5b84-11e9-8c95-0242ac1c0002\"]);\n",
              "//# sourceURL=js_8edb3a18de"
            ],
            "text/plain": [
              "<IPython.core.display.Javascript object>"
            ]
          },
          "metadata": {
            "tags": [
              "id44-4-3",
              "outputarea_id44"
            ]
          }
        },
        {
          "output_type": "display_data",
          "data": {
            "application/javascript": [
              "window[\"b73e4e0a-5b84-11e9-8c95-0242ac1c0002\"] = google.colab.output.setActiveOutputArea(window[\"b7313800-5b84-11e9-8c95-0242ac1c0002\"]);\n",
              "//# sourceURL=js_537e5b8107"
            ],
            "text/plain": [
              "<IPython.core.display.Javascript object>"
            ]
          },
          "metadata": {
            "tags": [
              "id44-4-3",
              "outputarea_id44"
            ]
          }
        },
        {
          "output_type": "display_data",
          "data": {
            "application/javascript": [
              "window[\"b74fb30c-5b84-11e9-8c95-0242ac1c0002\"] = google.colab.output.getActiveOutputArea();\n",
              "//# sourceURL=js_10c555ed95"
            ],
            "text/plain": [
              "<IPython.core.display.Javascript object>"
            ]
          },
          "metadata": {
            "tags": [
              "id44-1-3",
              "outputarea_id44"
            ]
          }
        },
        {
          "output_type": "display_data",
          "data": {
            "application/javascript": [
              "window[\"b7503a20-5b84-11e9-8c95-0242ac1c0002\"] = document.querySelector(\"#id44-1-3\");\n",
              "//# sourceURL=js_82be7c3be4"
            ],
            "text/plain": [
              "<IPython.core.display.Javascript object>"
            ]
          },
          "metadata": {
            "tags": [
              "id44-1-3",
              "outputarea_id44"
            ]
          }
        },
        {
          "output_type": "display_data",
          "data": {
            "application/javascript": [
              "window[\"b750bab8-5b84-11e9-8c95-0242ac1c0002\"] = google.colab.output.setActiveOutputArea(window[\"b7503a20-5b84-11e9-8c95-0242ac1c0002\"]);\n",
              "//# sourceURL=js_f9ce7672ee"
            ],
            "text/plain": [
              "<IPython.core.display.Javascript object>"
            ]
          },
          "metadata": {
            "tags": [
              "id44-1-3",
              "outputarea_id44"
            ]
          }
        },
        {
          "output_type": "display_data",
          "data": {
            "application/javascript": [
              "window[\"b75c7786-5b84-11e9-8c95-0242ac1c0002\"] = google.colab.output.setActiveOutputArea(window[\"b74fb30c-5b84-11e9-8c95-0242ac1c0002\"]);\n",
              "//# sourceURL=js_2e46142de0"
            ],
            "text/plain": [
              "<IPython.core.display.Javascript object>"
            ]
          },
          "metadata": {
            "tags": [
              "id44-1-3",
              "outputarea_id44"
            ]
          }
        },
        {
          "output_type": "display_data",
          "data": {
            "application/javascript": [
              "window[\"b76d8652-5b84-11e9-8c95-0242ac1c0002\"] = google.colab.output.getActiveOutputArea();\n",
              "//# sourceURL=js_2478d48cff"
            ],
            "text/plain": [
              "<IPython.core.display.Javascript object>"
            ]
          },
          "metadata": {
            "tags": [
              "id44-4-1",
              "outputarea_id44"
            ]
          }
        },
        {
          "output_type": "display_data",
          "data": {
            "application/javascript": [
              "window[\"b76dcbee-5b84-11e9-8c95-0242ac1c0002\"] = document.querySelector(\"#id44-4-1\");\n",
              "//# sourceURL=js_a94c3cbdac"
            ],
            "text/plain": [
              "<IPython.core.display.Javascript object>"
            ]
          },
          "metadata": {
            "tags": [
              "id44-4-1",
              "outputarea_id44"
            ]
          }
        },
        {
          "output_type": "display_data",
          "data": {
            "application/javascript": [
              "window[\"b76e1130-5b84-11e9-8c95-0242ac1c0002\"] = google.colab.output.setActiveOutputArea(window[\"b76dcbee-5b84-11e9-8c95-0242ac1c0002\"]);\n",
              "//# sourceURL=js_c720790354"
            ],
            "text/plain": [
              "<IPython.core.display.Javascript object>"
            ]
          },
          "metadata": {
            "tags": [
              "id44-4-1",
              "outputarea_id44"
            ]
          }
        },
        {
          "output_type": "display_data",
          "data": {
            "application/javascript": [
              "window[\"b77aa3be-5b84-11e9-8c95-0242ac1c0002\"] = google.colab.output.setActiveOutputArea(window[\"b76d8652-5b84-11e9-8c95-0242ac1c0002\"]);\n",
              "//# sourceURL=js_a3e39b4ac4"
            ],
            "text/plain": [
              "<IPython.core.display.Javascript object>"
            ]
          },
          "metadata": {
            "tags": [
              "id44-4-1",
              "outputarea_id44"
            ]
          }
        },
        {
          "output_type": "display_data",
          "data": {
            "application/javascript": [
              "window[\"b78bd256-5b84-11e9-8c95-0242ac1c0002\"] = google.colab.output.getActiveOutputArea();\n",
              "//# sourceURL=js_b030944ca1"
            ],
            "text/plain": [
              "<IPython.core.display.Javascript object>"
            ]
          },
          "metadata": {
            "tags": [
              "id44-0-2",
              "outputarea_id44"
            ]
          }
        },
        {
          "output_type": "display_data",
          "data": {
            "application/javascript": [
              "window[\"b78c3548-5b84-11e9-8c95-0242ac1c0002\"] = document.querySelector(\"#id44-0-2\");\n",
              "//# sourceURL=js_4fe74428af"
            ],
            "text/plain": [
              "<IPython.core.display.Javascript object>"
            ]
          },
          "metadata": {
            "tags": [
              "id44-0-2",
              "outputarea_id44"
            ]
          }
        },
        {
          "output_type": "display_data",
          "data": {
            "application/javascript": [
              "window[\"b78ccb98-5b84-11e9-8c95-0242ac1c0002\"] = google.colab.output.setActiveOutputArea(window[\"b78c3548-5b84-11e9-8c95-0242ac1c0002\"]);\n",
              "//# sourceURL=js_365deec2d4"
            ],
            "text/plain": [
              "<IPython.core.display.Javascript object>"
            ]
          },
          "metadata": {
            "tags": [
              "id44-0-2",
              "outputarea_id44"
            ]
          }
        },
        {
          "output_type": "display_data",
          "data": {
            "application/javascript": [
              "window[\"b79927d0-5b84-11e9-8c95-0242ac1c0002\"] = google.colab.output.setActiveOutputArea(window[\"b78bd256-5b84-11e9-8c95-0242ac1c0002\"]);\n",
              "//# sourceURL=js_7a1cd198d2"
            ],
            "text/plain": [
              "<IPython.core.display.Javascript object>"
            ]
          },
          "metadata": {
            "tags": [
              "id44-0-2",
              "outputarea_id44"
            ]
          }
        },
        {
          "output_type": "display_data",
          "data": {
            "application/javascript": [
              "window[\"b7aa954c-5b84-11e9-8c95-0242ac1c0002\"] = google.colab.output.getActiveOutputArea();\n",
              "//# sourceURL=js_4290f31866"
            ],
            "text/plain": [
              "<IPython.core.display.Javascript object>"
            ]
          },
          "metadata": {
            "tags": [
              "id44-1-0",
              "outputarea_id44"
            ]
          }
        },
        {
          "output_type": "display_data",
          "data": {
            "application/javascript": [
              "window[\"b7ab07c0-5b84-11e9-8c95-0242ac1c0002\"] = document.querySelector(\"#id44-1-0\");\n",
              "//# sourceURL=js_95ac5f601c"
            ],
            "text/plain": [
              "<IPython.core.display.Javascript object>"
            ]
          },
          "metadata": {
            "tags": [
              "id44-1-0",
              "outputarea_id44"
            ]
          }
        },
        {
          "output_type": "display_data",
          "data": {
            "application/javascript": [
              "window[\"b7ab9dac-5b84-11e9-8c95-0242ac1c0002\"] = google.colab.output.setActiveOutputArea(window[\"b7ab07c0-5b84-11e9-8c95-0242ac1c0002\"]);\n",
              "//# sourceURL=js_64cfdb5b1a"
            ],
            "text/plain": [
              "<IPython.core.display.Javascript object>"
            ]
          },
          "metadata": {
            "tags": [
              "id44-1-0",
              "outputarea_id44"
            ]
          }
        },
        {
          "output_type": "display_data",
          "data": {
            "application/javascript": [
              "window[\"b7b848a4-5b84-11e9-8c95-0242ac1c0002\"] = google.colab.output.setActiveOutputArea(window[\"b7aa954c-5b84-11e9-8c95-0242ac1c0002\"]);\n",
              "//# sourceURL=js_844879cde6"
            ],
            "text/plain": [
              "<IPython.core.display.Javascript object>"
            ]
          },
          "metadata": {
            "tags": [
              "id44-1-0",
              "outputarea_id44"
            ]
          }
        },
        {
          "output_type": "display_data",
          "data": {
            "application/javascript": [
              "window[\"b7c9e76c-5b84-11e9-8c95-0242ac1c0002\"] = google.colab.output.getActiveOutputArea();\n",
              "//# sourceURL=js_4f2c3bdc57"
            ],
            "text/plain": [
              "<IPython.core.display.Javascript object>"
            ]
          },
          "metadata": {
            "tags": [
              "id44-2-2",
              "outputarea_id44"
            ]
          }
        },
        {
          "output_type": "display_data",
          "data": {
            "application/javascript": [
              "window[\"b7ca5990-5b84-11e9-8c95-0242ac1c0002\"] = document.querySelector(\"#id44-2-2\");\n",
              "//# sourceURL=js_ed0a5f72d9"
            ],
            "text/plain": [
              "<IPython.core.display.Javascript object>"
            ]
          },
          "metadata": {
            "tags": [
              "id44-2-2",
              "outputarea_id44"
            ]
          }
        },
        {
          "output_type": "display_data",
          "data": {
            "application/javascript": [
              "window[\"b7caf2a6-5b84-11e9-8c95-0242ac1c0002\"] = google.colab.output.setActiveOutputArea(window[\"b7ca5990-5b84-11e9-8c95-0242ac1c0002\"]);\n",
              "//# sourceURL=js_ef7e8fe359"
            ],
            "text/plain": [
              "<IPython.core.display.Javascript object>"
            ]
          },
          "metadata": {
            "tags": [
              "id44-2-2",
              "outputarea_id44"
            ]
          }
        },
        {
          "output_type": "display_data",
          "data": {
            "application/javascript": [
              "window[\"b7d5c960-5b84-11e9-8c95-0242ac1c0002\"] = google.colab.output.setActiveOutputArea(window[\"b7c9e76c-5b84-11e9-8c95-0242ac1c0002\"]);\n",
              "//# sourceURL=js_17abc84e9e"
            ],
            "text/plain": [
              "<IPython.core.display.Javascript object>"
            ]
          },
          "metadata": {
            "tags": [
              "id44-2-2",
              "outputarea_id44"
            ]
          }
        },
        {
          "output_type": "display_data",
          "data": {
            "application/javascript": [
              "window[\"b7e78a10-5b84-11e9-8c95-0242ac1c0002\"] = google.colab.output.getActiveOutputArea();\n",
              "//# sourceURL=js_919aa0c601"
            ],
            "text/plain": [
              "<IPython.core.display.Javascript object>"
            ]
          },
          "metadata": {
            "tags": [
              "id44-1-4",
              "outputarea_id44"
            ]
          }
        },
        {
          "output_type": "display_data",
          "data": {
            "application/javascript": [
              "window[\"b7e7fc84-5b84-11e9-8c95-0242ac1c0002\"] = document.querySelector(\"#id44-1-4\");\n",
              "//# sourceURL=js_7a75eee098"
            ],
            "text/plain": [
              "<IPython.core.display.Javascript object>"
            ]
          },
          "metadata": {
            "tags": [
              "id44-1-4",
              "outputarea_id44"
            ]
          }
        },
        {
          "output_type": "display_data",
          "data": {
            "application/javascript": [
              "window[\"b7e88b5e-5b84-11e9-8c95-0242ac1c0002\"] = google.colab.output.setActiveOutputArea(window[\"b7e7fc84-5b84-11e9-8c95-0242ac1c0002\"]);\n",
              "//# sourceURL=js_2038b22b82"
            ],
            "text/plain": [
              "<IPython.core.display.Javascript object>"
            ]
          },
          "metadata": {
            "tags": [
              "id44-1-4",
              "outputarea_id44"
            ]
          }
        },
        {
          "output_type": "display_data",
          "data": {
            "application/javascript": [
              "window[\"b7f45344-5b84-11e9-8c95-0242ac1c0002\"] = google.colab.output.setActiveOutputArea(window[\"b7e78a10-5b84-11e9-8c95-0242ac1c0002\"]);\n",
              "//# sourceURL=js_f2e078537f"
            ],
            "text/plain": [
              "<IPython.core.display.Javascript object>"
            ]
          },
          "metadata": {
            "tags": [
              "id44-1-4",
              "outputarea_id44"
            ]
          }
        },
        {
          "output_type": "display_data",
          "data": {
            "application/javascript": [
              "window[\"b805e19a-5b84-11e9-8c95-0242ac1c0002\"] = google.colab.output.getActiveOutputArea();\n",
              "//# sourceURL=js_8507b03b5c"
            ],
            "text/plain": [
              "<IPython.core.display.Javascript object>"
            ]
          },
          "metadata": {
            "tags": [
              "id44-4-0",
              "outputarea_id44"
            ]
          }
        },
        {
          "output_type": "display_data",
          "data": {
            "application/javascript": [
              "window[\"b8064fb8-5b84-11e9-8c95-0242ac1c0002\"] = document.querySelector(\"#id44-4-0\");\n",
              "//# sourceURL=js_078572f726"
            ],
            "text/plain": [
              "<IPython.core.display.Javascript object>"
            ]
          },
          "metadata": {
            "tags": [
              "id44-4-0",
              "outputarea_id44"
            ]
          }
        },
        {
          "output_type": "display_data",
          "data": {
            "application/javascript": [
              "window[\"b806aa44-5b84-11e9-8c95-0242ac1c0002\"] = google.colab.output.setActiveOutputArea(window[\"b8064fb8-5b84-11e9-8c95-0242ac1c0002\"]);\n",
              "//# sourceURL=js_54849ee012"
            ],
            "text/plain": [
              "<IPython.core.display.Javascript object>"
            ]
          },
          "metadata": {
            "tags": [
              "id44-4-0",
              "outputarea_id44"
            ]
          }
        },
        {
          "output_type": "display_data",
          "data": {
            "application/javascript": [
              "window[\"b811e6ac-5b84-11e9-8c95-0242ac1c0002\"] = google.colab.output.setActiveOutputArea(window[\"b805e19a-5b84-11e9-8c95-0242ac1c0002\"]);\n",
              "//# sourceURL=js_727917780e"
            ],
            "text/plain": [
              "<IPython.core.display.Javascript object>"
            ]
          },
          "metadata": {
            "tags": [
              "id44-4-0",
              "outputarea_id44"
            ]
          }
        },
        {
          "output_type": "display_data",
          "data": {
            "application/javascript": [
              "window[\"b8234bae-5b84-11e9-8c95-0242ac1c0002\"] = google.colab.output.getActiveOutputArea();\n",
              "//# sourceURL=js_000b9f3557"
            ],
            "text/plain": [
              "<IPython.core.display.Javascript object>"
            ]
          },
          "metadata": {
            "tags": [
              "id44-1-1",
              "outputarea_id44"
            ]
          }
        },
        {
          "output_type": "display_data",
          "data": {
            "application/javascript": [
              "window[\"b8239762-5b84-11e9-8c95-0242ac1c0002\"] = document.querySelector(\"#id44-1-1\");\n",
              "//# sourceURL=js_f31b9ad371"
            ],
            "text/plain": [
              "<IPython.core.display.Javascript object>"
            ]
          },
          "metadata": {
            "tags": [
              "id44-1-1",
              "outputarea_id44"
            ]
          }
        },
        {
          "output_type": "display_data",
          "data": {
            "application/javascript": [
              "window[\"b8242cd6-5b84-11e9-8c95-0242ac1c0002\"] = google.colab.output.setActiveOutputArea(window[\"b8239762-5b84-11e9-8c95-0242ac1c0002\"]);\n",
              "//# sourceURL=js_1c2622d4ef"
            ],
            "text/plain": [
              "<IPython.core.display.Javascript object>"
            ]
          },
          "metadata": {
            "tags": [
              "id44-1-1",
              "outputarea_id44"
            ]
          }
        },
        {
          "output_type": "display_data",
          "data": {
            "application/javascript": [
              "window[\"b8303f76-5b84-11e9-8c95-0242ac1c0002\"] = google.colab.output.setActiveOutputArea(window[\"b8234bae-5b84-11e9-8c95-0242ac1c0002\"]);\n",
              "//# sourceURL=js_2824f90ffc"
            ],
            "text/plain": [
              "<IPython.core.display.Javascript object>"
            ]
          },
          "metadata": {
            "tags": [
              "id44-1-1",
              "outputarea_id44"
            ]
          }
        },
        {
          "output_type": "display_data",
          "data": {
            "application/javascript": [
              "window[\"b8413dc6-5b84-11e9-8c95-0242ac1c0002\"] = google.colab.output.getActiveOutputArea();\n",
              "//# sourceURL=js_c610da6094"
            ],
            "text/plain": [
              "<IPython.core.display.Javascript object>"
            ]
          },
          "metadata": {
            "tags": [
              "id44-3-0",
              "outputarea_id44"
            ]
          }
        },
        {
          "output_type": "display_data",
          "data": {
            "application/javascript": [
              "window[\"b8418b6e-5b84-11e9-8c95-0242ac1c0002\"] = document.querySelector(\"#id44-3-0\");\n",
              "//# sourceURL=js_2d8cc9b347"
            ],
            "text/plain": [
              "<IPython.core.display.Javascript object>"
            ]
          },
          "metadata": {
            "tags": [
              "id44-3-0",
              "outputarea_id44"
            ]
          }
        },
        {
          "output_type": "display_data",
          "data": {
            "application/javascript": [
              "window[\"b841cdf4-5b84-11e9-8c95-0242ac1c0002\"] = google.colab.output.setActiveOutputArea(window[\"b8418b6e-5b84-11e9-8c95-0242ac1c0002\"]);\n",
              "//# sourceURL=js_c8a6dddb8a"
            ],
            "text/plain": [
              "<IPython.core.display.Javascript object>"
            ]
          },
          "metadata": {
            "tags": [
              "id44-3-0",
              "outputarea_id44"
            ]
          }
        },
        {
          "output_type": "display_data",
          "data": {
            "application/javascript": [
              "window[\"b84f0b22-5b84-11e9-8c95-0242ac1c0002\"] = google.colab.output.setActiveOutputArea(window[\"b8413dc6-5b84-11e9-8c95-0242ac1c0002\"]);\n",
              "//# sourceURL=js_a84c1eab43"
            ],
            "text/plain": [
              "<IPython.core.display.Javascript object>"
            ]
          },
          "metadata": {
            "tags": [
              "id44-3-0",
              "outputarea_id44"
            ]
          }
        },
        {
          "output_type": "display_data",
          "data": {
            "application/javascript": [
              "window[\"b860a198-5b84-11e9-8c95-0242ac1c0002\"] = google.colab.output.getActiveOutputArea();\n",
              "//# sourceURL=js_e67827a0a0"
            ],
            "text/plain": [
              "<IPython.core.display.Javascript object>"
            ]
          },
          "metadata": {
            "tags": [
              "id44-4-0",
              "outputarea_id44"
            ]
          }
        },
        {
          "output_type": "display_data",
          "data": {
            "application/javascript": [
              "window[\"b8611240-5b84-11e9-8c95-0242ac1c0002\"] = document.querySelector(\"#id44-4-0\");\n",
              "//# sourceURL=js_b28e5027bc"
            ],
            "text/plain": [
              "<IPython.core.display.Javascript object>"
            ]
          },
          "metadata": {
            "tags": [
              "id44-4-0",
              "outputarea_id44"
            ]
          }
        },
        {
          "output_type": "display_data",
          "data": {
            "application/javascript": [
              "window[\"b8619daa-5b84-11e9-8c95-0242ac1c0002\"] = google.colab.output.setActiveOutputArea(window[\"b8611240-5b84-11e9-8c95-0242ac1c0002\"]);\n",
              "//# sourceURL=js_3483469f1b"
            ],
            "text/plain": [
              "<IPython.core.display.Javascript object>"
            ]
          },
          "metadata": {
            "tags": [
              "id44-4-0",
              "outputarea_id44"
            ]
          }
        },
        {
          "output_type": "display_data",
          "data": {
            "application/javascript": [
              "window[\"b86cff06-5b84-11e9-8c95-0242ac1c0002\"] = google.colab.output.setActiveOutputArea(window[\"b860a198-5b84-11e9-8c95-0242ac1c0002\"]);\n",
              "//# sourceURL=js_fd00e8bb6a"
            ],
            "text/plain": [
              "<IPython.core.display.Javascript object>"
            ]
          },
          "metadata": {
            "tags": [
              "id44-4-0",
              "outputarea_id44"
            ]
          }
        },
        {
          "output_type": "display_data",
          "data": {
            "application/javascript": [
              "window[\"b87e0c1a-5b84-11e9-8c95-0242ac1c0002\"] = google.colab.output.getActiveOutputArea();\n",
              "//# sourceURL=js_501761e967"
            ],
            "text/plain": [
              "<IPython.core.display.Javascript object>"
            ]
          },
          "metadata": {
            "tags": [
              "id44-2-1",
              "outputarea_id44"
            ]
          }
        },
        {
          "output_type": "display_data",
          "data": {
            "application/javascript": [
              "window[\"b87e6516-5b84-11e9-8c95-0242ac1c0002\"] = document.querySelector(\"#id44-2-1\");\n",
              "//# sourceURL=js_4f87b3f435"
            ],
            "text/plain": [
              "<IPython.core.display.Javascript object>"
            ]
          },
          "metadata": {
            "tags": [
              "id44-2-1",
              "outputarea_id44"
            ]
          }
        },
        {
          "output_type": "display_data",
          "data": {
            "application/javascript": [
              "window[\"b87ee95a-5b84-11e9-8c95-0242ac1c0002\"] = google.colab.output.setActiveOutputArea(window[\"b87e6516-5b84-11e9-8c95-0242ac1c0002\"]);\n",
              "//# sourceURL=js_0ab4e6451d"
            ],
            "text/plain": [
              "<IPython.core.display.Javascript object>"
            ]
          },
          "metadata": {
            "tags": [
              "id44-2-1",
              "outputarea_id44"
            ]
          }
        },
        {
          "output_type": "display_data",
          "data": {
            "application/javascript": [
              "window[\"b88ad166-5b84-11e9-8c95-0242ac1c0002\"] = google.colab.output.setActiveOutputArea(window[\"b87e0c1a-5b84-11e9-8c95-0242ac1c0002\"]);\n",
              "//# sourceURL=js_32b6025be1"
            ],
            "text/plain": [
              "<IPython.core.display.Javascript object>"
            ]
          },
          "metadata": {
            "tags": [
              "id44-2-1",
              "outputarea_id44"
            ]
          }
        },
        {
          "output_type": "display_data",
          "data": {
            "application/javascript": [
              "window[\"b89bb544-5b84-11e9-8c95-0242ac1c0002\"] = google.colab.output.getActiveOutputArea();\n",
              "//# sourceURL=js_15bf7c9388"
            ],
            "text/plain": [
              "<IPython.core.display.Javascript object>"
            ]
          },
          "metadata": {
            "tags": [
              "id44-4-2",
              "outputarea_id44"
            ]
          }
        },
        {
          "output_type": "display_data",
          "data": {
            "application/javascript": [
              "window[\"b89c05f8-5b84-11e9-8c95-0242ac1c0002\"] = document.querySelector(\"#id44-4-2\");\n",
              "//# sourceURL=js_1244b759b2"
            ],
            "text/plain": [
              "<IPython.core.display.Javascript object>"
            ]
          },
          "metadata": {
            "tags": [
              "id44-4-2",
              "outputarea_id44"
            ]
          }
        },
        {
          "output_type": "display_data",
          "data": {
            "application/javascript": [
              "window[\"b89c74a2-5b84-11e9-8c95-0242ac1c0002\"] = google.colab.output.setActiveOutputArea(window[\"b89c05f8-5b84-11e9-8c95-0242ac1c0002\"]);\n",
              "//# sourceURL=js_701162d40f"
            ],
            "text/plain": [
              "<IPython.core.display.Javascript object>"
            ]
          },
          "metadata": {
            "tags": [
              "id44-4-2",
              "outputarea_id44"
            ]
          }
        },
        {
          "output_type": "display_data",
          "data": {
            "application/javascript": [
              "window[\"b8a9e3f8-5b84-11e9-8c95-0242ac1c0002\"] = google.colab.output.setActiveOutputArea(window[\"b89bb544-5b84-11e9-8c95-0242ac1c0002\"]);\n",
              "//# sourceURL=js_284ebf9acc"
            ],
            "text/plain": [
              "<IPython.core.display.Javascript object>"
            ]
          },
          "metadata": {
            "tags": [
              "id44-4-2",
              "outputarea_id44"
            ]
          }
        },
        {
          "output_type": "display_data",
          "data": {
            "application/javascript": [
              "window[\"b8bd0014-5b84-11e9-8c95-0242ac1c0002\"] = google.colab.output.getActiveOutputArea();\n",
              "//# sourceURL=js_b5e1c8a234"
            ],
            "text/plain": [
              "<IPython.core.display.Javascript object>"
            ]
          },
          "metadata": {
            "tags": [
              "id44-3-2",
              "outputarea_id44"
            ]
          }
        },
        {
          "output_type": "display_data",
          "data": {
            "application/javascript": [
              "window[\"b8bd7972-5b84-11e9-8c95-0242ac1c0002\"] = document.querySelector(\"#id44-3-2\");\n",
              "//# sourceURL=js_997373932a"
            ],
            "text/plain": [
              "<IPython.core.display.Javascript object>"
            ]
          },
          "metadata": {
            "tags": [
              "id44-3-2",
              "outputarea_id44"
            ]
          }
        },
        {
          "output_type": "display_data",
          "data": {
            "application/javascript": [
              "window[\"b8be0054-5b84-11e9-8c95-0242ac1c0002\"] = google.colab.output.setActiveOutputArea(window[\"b8bd7972-5b84-11e9-8c95-0242ac1c0002\"]);\n",
              "//# sourceURL=js_ca5b93350b"
            ],
            "text/plain": [
              "<IPython.core.display.Javascript object>"
            ]
          },
          "metadata": {
            "tags": [
              "id44-3-2",
              "outputarea_id44"
            ]
          }
        },
        {
          "output_type": "display_data",
          "data": {
            "application/javascript": [
              "window[\"b8c9b53e-5b84-11e9-8c95-0242ac1c0002\"] = google.colab.output.setActiveOutputArea(window[\"b8bd0014-5b84-11e9-8c95-0242ac1c0002\"]);\n",
              "//# sourceURL=js_d6f161acab"
            ],
            "text/plain": [
              "<IPython.core.display.Javascript object>"
            ]
          },
          "metadata": {
            "tags": [
              "id44-3-2",
              "outputarea_id44"
            ]
          }
        },
        {
          "output_type": "display_data",
          "data": {
            "application/javascript": [
              "window[\"b8db514a-5b84-11e9-8c95-0242ac1c0002\"] = google.colab.output.getActiveOutputArea();\n",
              "//# sourceURL=js_787efd9661"
            ],
            "text/plain": [
              "<IPython.core.display.Javascript object>"
            ]
          },
          "metadata": {
            "tags": [
              "id44-0-0",
              "outputarea_id44"
            ]
          }
        },
        {
          "output_type": "display_data",
          "data": {
            "application/javascript": [
              "window[\"b8dbe27c-5b84-11e9-8c95-0242ac1c0002\"] = document.querySelector(\"#id44-0-0\");\n",
              "//# sourceURL=js_e04a08824b"
            ],
            "text/plain": [
              "<IPython.core.display.Javascript object>"
            ]
          },
          "metadata": {
            "tags": [
              "id44-0-0",
              "outputarea_id44"
            ]
          }
        },
        {
          "output_type": "display_data",
          "data": {
            "application/javascript": [
              "window[\"b8dc697c-5b84-11e9-8c95-0242ac1c0002\"] = google.colab.output.setActiveOutputArea(window[\"b8dbe27c-5b84-11e9-8c95-0242ac1c0002\"]);\n",
              "//# sourceURL=js_f1b5383d0b"
            ],
            "text/plain": [
              "<IPython.core.display.Javascript object>"
            ]
          },
          "metadata": {
            "tags": [
              "id44-0-0",
              "outputarea_id44"
            ]
          }
        },
        {
          "output_type": "display_data",
          "data": {
            "application/javascript": [
              "window[\"b8e880d6-5b84-11e9-8c95-0242ac1c0002\"] = google.colab.output.setActiveOutputArea(window[\"b8db514a-5b84-11e9-8c95-0242ac1c0002\"]);\n",
              "//# sourceURL=js_c47065a63d"
            ],
            "text/plain": [
              "<IPython.core.display.Javascript object>"
            ]
          },
          "metadata": {
            "tags": [
              "id44-0-0",
              "outputarea_id44"
            ]
          }
        },
        {
          "output_type": "display_data",
          "data": {
            "application/javascript": [
              "window[\"b8fa2214-5b84-11e9-8c95-0242ac1c0002\"] = google.colab.output.getActiveOutputArea();\n",
              "//# sourceURL=js_b7d1b13d53"
            ],
            "text/plain": [
              "<IPython.core.display.Javascript object>"
            ]
          },
          "metadata": {
            "tags": [
              "id44-3-2",
              "outputarea_id44"
            ]
          }
        },
        {
          "output_type": "display_data",
          "data": {
            "application/javascript": [
              "window[\"b8fabf6c-5b84-11e9-8c95-0242ac1c0002\"] = document.querySelector(\"#id44-3-2\");\n",
              "//# sourceURL=js_36b757117d"
            ],
            "text/plain": [
              "<IPython.core.display.Javascript object>"
            ]
          },
          "metadata": {
            "tags": [
              "id44-3-2",
              "outputarea_id44"
            ]
          }
        },
        {
          "output_type": "display_data",
          "data": {
            "application/javascript": [
              "window[\"b8fb7bb4-5b84-11e9-8c95-0242ac1c0002\"] = google.colab.output.setActiveOutputArea(window[\"b8fabf6c-5b84-11e9-8c95-0242ac1c0002\"]);\n",
              "//# sourceURL=js_ae59f79d50"
            ],
            "text/plain": [
              "<IPython.core.display.Javascript object>"
            ]
          },
          "metadata": {
            "tags": [
              "id44-3-2",
              "outputarea_id44"
            ]
          }
        },
        {
          "output_type": "display_data",
          "data": {
            "application/javascript": [
              "window[\"b906d9f0-5b84-11e9-8c95-0242ac1c0002\"] = google.colab.output.setActiveOutputArea(window[\"b8fa2214-5b84-11e9-8c95-0242ac1c0002\"]);\n",
              "//# sourceURL=js_74f675e284"
            ],
            "text/plain": [
              "<IPython.core.display.Javascript object>"
            ]
          },
          "metadata": {
            "tags": [
              "id44-3-2",
              "outputarea_id44"
            ]
          }
        },
        {
          "output_type": "display_data",
          "data": {
            "application/javascript": [
              "window[\"b91853ce-5b84-11e9-8c95-0242ac1c0002\"] = google.colab.output.getActiveOutputArea();\n",
              "//# sourceURL=js_476ad3b3a7"
            ],
            "text/plain": [
              "<IPython.core.display.Javascript object>"
            ]
          },
          "metadata": {
            "tags": [
              "id44-4-2",
              "outputarea_id44"
            ]
          }
        },
        {
          "output_type": "display_data",
          "data": {
            "application/javascript": [
              "window[\"b918e500-5b84-11e9-8c95-0242ac1c0002\"] = document.querySelector(\"#id44-4-2\");\n",
              "//# sourceURL=js_d7e577da0a"
            ],
            "text/plain": [
              "<IPython.core.display.Javascript object>"
            ]
          },
          "metadata": {
            "tags": [
              "id44-4-2",
              "outputarea_id44"
            ]
          }
        },
        {
          "output_type": "display_data",
          "data": {
            "application/javascript": [
              "window[\"b9195fbc-5b84-11e9-8c95-0242ac1c0002\"] = google.colab.output.setActiveOutputArea(window[\"b918e500-5b84-11e9-8c95-0242ac1c0002\"]);\n",
              "//# sourceURL=js_8cdc9eb85d"
            ],
            "text/plain": [
              "<IPython.core.display.Javascript object>"
            ]
          },
          "metadata": {
            "tags": [
              "id44-4-2",
              "outputarea_id44"
            ]
          }
        },
        {
          "output_type": "display_data",
          "data": {
            "application/javascript": [
              "window[\"b925a880-5b84-11e9-8c95-0242ac1c0002\"] = google.colab.output.setActiveOutputArea(window[\"b91853ce-5b84-11e9-8c95-0242ac1c0002\"]);\n",
              "//# sourceURL=js_4f8ed695fa"
            ],
            "text/plain": [
              "<IPython.core.display.Javascript object>"
            ]
          },
          "metadata": {
            "tags": [
              "id44-4-2",
              "outputarea_id44"
            ]
          }
        },
        {
          "output_type": "display_data",
          "data": {
            "application/javascript": [
              "window[\"b936e0d2-5b84-11e9-8c95-0242ac1c0002\"] = google.colab.output.getActiveOutputArea();\n",
              "//# sourceURL=js_e214269fe3"
            ],
            "text/plain": [
              "<IPython.core.display.Javascript object>"
            ]
          },
          "metadata": {
            "tags": [
              "id44-0-2",
              "outputarea_id44"
            ]
          }
        },
        {
          "output_type": "display_data",
          "data": {
            "application/javascript": [
              "window[\"b9375de6-5b84-11e9-8c95-0242ac1c0002\"] = document.querySelector(\"#id44-0-2\");\n",
              "//# sourceURL=js_5bffd9d2a2"
            ],
            "text/plain": [
              "<IPython.core.display.Javascript object>"
            ]
          },
          "metadata": {
            "tags": [
              "id44-0-2",
              "outputarea_id44"
            ]
          }
        },
        {
          "output_type": "display_data",
          "data": {
            "application/javascript": [
              "window[\"b937f94a-5b84-11e9-8c95-0242ac1c0002\"] = google.colab.output.setActiveOutputArea(window[\"b9375de6-5b84-11e9-8c95-0242ac1c0002\"]);\n",
              "//# sourceURL=js_b51cc268f4"
            ],
            "text/plain": [
              "<IPython.core.display.Javascript object>"
            ]
          },
          "metadata": {
            "tags": [
              "id44-0-2",
              "outputarea_id44"
            ]
          }
        },
        {
          "output_type": "display_data",
          "data": {
            "application/javascript": [
              "window[\"b94557d4-5b84-11e9-8c95-0242ac1c0002\"] = google.colab.output.setActiveOutputArea(window[\"b936e0d2-5b84-11e9-8c95-0242ac1c0002\"]);\n",
              "//# sourceURL=js_dc4e434911"
            ],
            "text/plain": [
              "<IPython.core.display.Javascript object>"
            ]
          },
          "metadata": {
            "tags": [
              "id44-0-2",
              "outputarea_id44"
            ]
          }
        },
        {
          "output_type": "display_data",
          "data": {
            "application/javascript": [
              "window[\"b957c644-5b84-11e9-8c95-0242ac1c0002\"] = google.colab.output.getActiveOutputArea();\n",
              "//# sourceURL=js_82ecd34530"
            ],
            "text/plain": [
              "<IPython.core.display.Javascript object>"
            ]
          },
          "metadata": {
            "tags": [
              "id44-3-2",
              "outputarea_id44"
            ]
          }
        },
        {
          "output_type": "display_data",
          "data": {
            "application/javascript": [
              "window[\"b9587486-5b84-11e9-8c95-0242ac1c0002\"] = document.querySelector(\"#id44-3-2\");\n",
              "//# sourceURL=js_9cb0f0b4d6"
            ],
            "text/plain": [
              "<IPython.core.display.Javascript object>"
            ]
          },
          "metadata": {
            "tags": [
              "id44-3-2",
              "outputarea_id44"
            ]
          }
        },
        {
          "output_type": "display_data",
          "data": {
            "application/javascript": [
              "window[\"b958e0ec-5b84-11e9-8c95-0242ac1c0002\"] = google.colab.output.setActiveOutputArea(window[\"b9587486-5b84-11e9-8c95-0242ac1c0002\"]);\n",
              "//# sourceURL=js_f1a601a9a2"
            ],
            "text/plain": [
              "<IPython.core.display.Javascript object>"
            ]
          },
          "metadata": {
            "tags": [
              "id44-3-2",
              "outputarea_id44"
            ]
          }
        },
        {
          "output_type": "display_data",
          "data": {
            "application/javascript": [
              "window[\"b96d705c-5b84-11e9-8c95-0242ac1c0002\"] = google.colab.output.setActiveOutputArea(window[\"b957c644-5b84-11e9-8c95-0242ac1c0002\"]);\n",
              "//# sourceURL=js_14e95e9953"
            ],
            "text/plain": [
              "<IPython.core.display.Javascript object>"
            ]
          },
          "metadata": {
            "tags": [
              "id44-3-2",
              "outputarea_id44"
            ]
          }
        },
        {
          "output_type": "display_data",
          "data": {
            "application/javascript": [
              "window[\"b97f4bba-5b84-11e9-8c95-0242ac1c0002\"] = google.colab.output.getActiveOutputArea();\n",
              "//# sourceURL=js_bfd8cb40b9"
            ],
            "text/plain": [
              "<IPython.core.display.Javascript object>"
            ]
          },
          "metadata": {
            "tags": [
              "id44-4-0",
              "outputarea_id44"
            ]
          }
        },
        {
          "output_type": "display_data",
          "data": {
            "application/javascript": [
              "window[\"b97fbfd2-5b84-11e9-8c95-0242ac1c0002\"] = document.querySelector(\"#id44-4-0\");\n",
              "//# sourceURL=js_2cffbe5469"
            ],
            "text/plain": [
              "<IPython.core.display.Javascript object>"
            ]
          },
          "metadata": {
            "tags": [
              "id44-4-0",
              "outputarea_id44"
            ]
          }
        },
        {
          "output_type": "display_data",
          "data": {
            "application/javascript": [
              "window[\"b9804fec-5b84-11e9-8c95-0242ac1c0002\"] = google.colab.output.setActiveOutputArea(window[\"b97fbfd2-5b84-11e9-8c95-0242ac1c0002\"]);\n",
              "//# sourceURL=js_2377cbf854"
            ],
            "text/plain": [
              "<IPython.core.display.Javascript object>"
            ]
          },
          "metadata": {
            "tags": [
              "id44-4-0",
              "outputarea_id44"
            ]
          }
        },
        {
          "output_type": "display_data",
          "data": {
            "image/png": "[encoded data removed]",
            "text/plain": [
              "<Figure size 72x72 with 1 Axes>"
            ]
          },
          "metadata": {
            "tags": [
              "id44-4-0",
              "outputarea_id44",
              "user_output"
            ]
          }
        },
        {
          "output_type": "display_data",
          "data": {
            "application/javascript": [
              "window[\"b98da354-5b84-11e9-8c95-0242ac1c0002\"] = google.colab.output.setActiveOutputArea(window[\"b97f4bba-5b84-11e9-8c95-0242ac1c0002\"]);\n",
              "//# sourceURL=js_09628fa159"
            ],
            "text/plain": [
              "<IPython.core.display.Javascript object>"
            ]
          },
          "metadata": {
            "tags": [
              "id44-4-0",
              "outputarea_id44"
            ]
          }
        },
        {
          "output_type": "display_data",
          "data": {
            "application/javascript": [
              "window[\"b99f1cba-5b84-11e9-8c95-0242ac1c0002\"] = google.colab.output.getActiveOutputArea();\n",
              "//# sourceURL=js_1a686b0bae"
            ],
            "text/plain": [
              "<IPython.core.display.Javascript object>"
            ]
          },
          "metadata": {
            "tags": [
              "id44-3-4",
              "outputarea_id44"
            ]
          }
        },
        {
          "output_type": "display_data",
          "data": {
            "application/javascript": [
              "window[\"b99fc9ee-5b84-11e9-8c95-0242ac1c0002\"] = document.querySelector(\"#id44-3-4\");\n",
              "//# sourceURL=js_655e538af1"
            ],
            "text/plain": [
              "<IPython.core.display.Javascript object>"
            ]
          },
          "metadata": {
            "tags": [
              "id44-3-4",
              "outputarea_id44"
            ]
          }
        },
        {
          "output_type": "display_data",
          "data": {
            "application/javascript": [
              "window[\"b9a09694-5b84-11e9-8c95-0242ac1c0002\"] = google.colab.output.setActiveOutputArea(window[\"b99fc9ee-5b84-11e9-8c95-0242ac1c0002\"]);\n",
              "//# sourceURL=js_64700b3487"
            ],
            "text/plain": [
              "<IPython.core.display.Javascript object>"
            ]
          },
          "metadata": {
            "tags": [
              "id44-3-4",
              "outputarea_id44"
            ]
          }
        },
        {
          "output_type": "display_data",
          "data": {
            "application/javascript": [
              "window[\"b9ab3cc0-5b84-11e9-8c95-0242ac1c0002\"] = google.colab.output.setActiveOutputArea(window[\"b99f1cba-5b84-11e9-8c95-0242ac1c0002\"]);\n",
              "//# sourceURL=js_a53b76e6a6"
            ],
            "text/plain": [
              "<IPython.core.display.Javascript object>"
            ]
          },
          "metadata": {
            "tags": [
              "id44-3-4",
              "outputarea_id44"
            ]
          }
        },
        {
          "output_type": "display_data",
          "data": {
            "application/javascript": [
              "window[\"b9bc87f0-5b84-11e9-8c95-0242ac1c0002\"] = google.colab.output.getActiveOutputArea();\n",
              "//# sourceURL=js_a4ab7fe330"
            ],
            "text/plain": [
              "<IPython.core.display.Javascript object>"
            ]
          },
          "metadata": {
            "tags": [
              "id44-4-2",
              "outputarea_id44"
            ]
          }
        },
        {
          "output_type": "display_data",
          "data": {
            "application/javascript": [
              "window[\"b9bd064e-5b84-11e9-8c95-0242ac1c0002\"] = document.querySelector(\"#id44-4-2\");\n",
              "//# sourceURL=js_6fe2c472e8"
            ],
            "text/plain": [
              "<IPython.core.display.Javascript object>"
            ]
          },
          "metadata": {
            "tags": [
              "id44-4-2",
              "outputarea_id44"
            ]
          }
        },
        {
          "output_type": "display_data",
          "data": {
            "application/javascript": [
              "window[\"b9bd90d2-5b84-11e9-8c95-0242ac1c0002\"] = google.colab.output.setActiveOutputArea(window[\"b9bd064e-5b84-11e9-8c95-0242ac1c0002\"]);\n",
              "//# sourceURL=js_5cb1f6f049"
            ],
            "text/plain": [
              "<IPython.core.display.Javascript object>"
            ]
          },
          "metadata": {
            "tags": [
              "id44-4-2",
              "outputarea_id44"
            ]
          }
        },
        {
          "output_type": "display_data",
          "data": {
            "application/javascript": [
              "window[\"b9c963a8-5b84-11e9-8c95-0242ac1c0002\"] = google.colab.output.setActiveOutputArea(window[\"b9bc87f0-5b84-11e9-8c95-0242ac1c0002\"]);\n",
              "//# sourceURL=js_94ed55a917"
            ],
            "text/plain": [
              "<IPython.core.display.Javascript object>"
            ]
          },
          "metadata": {
            "tags": [
              "id44-4-2",
              "outputarea_id44"
            ]
          }
        },
        {
          "output_type": "display_data",
          "data": {
            "application/javascript": [
              "window[\"b9dac13e-5b84-11e9-8c95-0242ac1c0002\"] = google.colab.output.getActiveOutputArea();\n",
              "//# sourceURL=js_8725578b96"
            ],
            "text/plain": [
              "<IPython.core.display.Javascript object>"
            ]
          },
          "metadata": {
            "tags": [
              "id44-1-3",
              "outputarea_id44"
            ]
          }
        },
        {
          "output_type": "display_data",
          "data": {
            "application/javascript": [
              "window[\"b9db1026-5b84-11e9-8c95-0242ac1c0002\"] = document.querySelector(\"#id44-1-3\");\n",
              "//# sourceURL=js_23f7c61c8e"
            ],
            "text/plain": [
              "<IPython.core.display.Javascript object>"
            ]
          },
          "metadata": {
            "tags": [
              "id44-1-3",
              "outputarea_id44"
            ]
          }
        },
        {
          "output_type": "display_data",
          "data": {
            "application/javascript": [
              "window[\"b9dbab80-5b84-11e9-8c95-0242ac1c0002\"] = google.colab.output.setActiveOutputArea(window[\"b9db1026-5b84-11e9-8c95-0242ac1c0002\"]);\n",
              "//# sourceURL=js_39accb0aac"
            ],
            "text/plain": [
              "<IPython.core.display.Javascript object>"
            ]
          },
          "metadata": {
            "tags": [
              "id44-1-3",
              "outputarea_id44"
            ]
          }
        },
        {
          "output_type": "display_data",
          "data": {
            "application/javascript": [
              "window[\"b9e8abaa-5b84-11e9-8c95-0242ac1c0002\"] = google.colab.output.setActiveOutputArea(window[\"b9dac13e-5b84-11e9-8c95-0242ac1c0002\"]);\n",
              "//# sourceURL=js_8d22f50b5f"
            ],
            "text/plain": [
              "<IPython.core.display.Javascript object>"
            ]
          },
          "metadata": {
            "tags": [
              "id44-1-3",
              "outputarea_id44"
            ]
          }
        },
        {
          "output_type": "display_data",
          "data": {
            "application/javascript": [
              "window[\"b9f9895c-5b84-11e9-8c95-0242ac1c0002\"] = google.colab.output.getActiveOutputArea();\n",
              "//# sourceURL=js_c83f9abdde"
            ],
            "text/plain": [
              "<IPython.core.display.Javascript object>"
            ]
          },
          "metadata": {
            "tags": [
              "id44-2-1",
              "outputarea_id44"
            ]
          }
        },
        {
          "output_type": "display_data",
          "data": {
            "application/javascript": [
              "window[\"b9f9e316-5b84-11e9-8c95-0242ac1c0002\"] = document.querySelector(\"#id44-2-1\");\n",
              "//# sourceURL=js_9bd4da5e2a"
            ],
            "text/plain": [
              "<IPython.core.display.Javascript object>"
            ]
          },
          "metadata": {
            "tags": [
              "id44-2-1",
              "outputarea_id44"
            ]
          }
        },
        {
          "output_type": "display_data",
          "data": {
            "application/javascript": [
              "window[\"b9fa65f2-5b84-11e9-8c95-0242ac1c0002\"] = google.colab.output.setActiveOutputArea(window[\"b9f9e316-5b84-11e9-8c95-0242ac1c0002\"]);\n",
              "//# sourceURL=js_54f05ed415"
            ],
            "text/plain": [
              "<IPython.core.display.Javascript object>"
            ]
          },
          "metadata": {
            "tags": [
              "id44-2-1",
              "outputarea_id44"
            ]
          }
        },
        {
          "output_type": "display_data",
          "data": {
            "image/png": "[encoded data removed]",
            "text/plain": [
              "<Figure size 72x72 with 1 Axes>"
            ]
          },
          "metadata": {
            "tags": [
              "id44-2-1",
              "outputarea_id44",
              "user_output"
            ]
          }
        },
        {
          "output_type": "display_data",
          "data": {
            "application/javascript": [
              "window[\"ba066186-5b84-11e9-8c95-0242ac1c0002\"] = google.colab.output.setActiveOutputArea(window[\"b9f9895c-5b84-11e9-8c95-0242ac1c0002\"]);\n",
              "//# sourceURL=js_85474260b2"
            ],
            "text/plain": [
              "<IPython.core.display.Javascript object>"
            ]
          },
          "metadata": {
            "tags": [
              "id44-2-1",
              "outputarea_id44"
            ]
          }
        },
        {
          "output_type": "display_data",
          "data": {
            "application/javascript": [
              "window[\"ba176152-5b84-11e9-8c95-0242ac1c0002\"] = google.colab.output.getActiveOutputArea();\n",
              "//# sourceURL=js_273a157ec5"
            ],
            "text/plain": [
              "<IPython.core.display.Javascript object>"
            ]
          },
          "metadata": {
            "tags": [
              "id44-1-3",
              "outputarea_id44"
            ]
          }
        },
        {
          "output_type": "display_data",
          "data": {
            "application/javascript": [
              "window[\"ba17b102-5b84-11e9-8c95-0242ac1c0002\"] = document.querySelector(\"#id44-1-3\");\n",
              "//# sourceURL=js_1ed211e665"
            ],
            "text/plain": [
              "<IPython.core.display.Javascript object>"
            ]
          },
          "metadata": {
            "tags": [
              "id44-1-3",
              "outputarea_id44"
            ]
          }
        },
        {
          "output_type": "display_data",
          "data": {
            "application/javascript": [
              "window[\"ba182e48-5b84-11e9-8c95-0242ac1c0002\"] = google.colab.output.setActiveOutputArea(window[\"ba17b102-5b84-11e9-8c95-0242ac1c0002\"]);\n",
              "//# sourceURL=js_f63758fb43"
            ],
            "text/plain": [
              "<IPython.core.display.Javascript object>"
            ]
          },
          "metadata": {
            "tags": [
              "id44-1-3",
              "outputarea_id44"
            ]
          }
        },
        {
          "output_type": "display_data",
          "data": {
            "image/png": "[encoded data removed]",
            "text/plain": [
              "<Figure size 72x72 with 1 Axes>"
            ]
          },
          "metadata": {
            "tags": [
              "id44-1-3",
              "outputarea_id44",
              "user_output"
            ]
          }
        },
        {
          "output_type": "display_data",
          "data": {
            "application/javascript": [
              "window[\"ba25a406-5b84-11e9-8c95-0242ac1c0002\"] = google.colab.output.setActiveOutputArea(window[\"ba176152-5b84-11e9-8c95-0242ac1c0002\"]);\n",
              "//# sourceURL=js_be4467b03a"
            ],
            "text/plain": [
              "<IPython.core.display.Javascript object>"
            ]
          },
          "metadata": {
            "tags": [
              "id44-1-3",
              "outputarea_id44"
            ]
          }
        },
        {
          "output_type": "display_data",
          "data": {
            "application/javascript": [
              "window[\"ba375ee4-5b84-11e9-8c95-0242ac1c0002\"] = google.colab.output.getActiveOutputArea();\n",
              "//# sourceURL=js_5a0f0d8e44"
            ],
            "text/plain": [
              "<IPython.core.display.Javascript object>"
            ]
          },
          "metadata": {
            "tags": [
              "id44-1-4",
              "outputarea_id44"
            ]
          }
        },
        {
          "output_type": "display_data",
          "data": {
            "application/javascript": [
              "window[\"ba37ac1e-5b84-11e9-8c95-0242ac1c0002\"] = document.querySelector(\"#id44-1-4\");\n",
              "//# sourceURL=js_0784905535"
            ],
            "text/plain": [
              "<IPython.core.display.Javascript object>"
            ]
          },
          "metadata": {
            "tags": [
              "id44-1-4",
              "outputarea_id44"
            ]
          }
        },
        {
          "output_type": "display_data",
          "data": {
            "application/javascript": [
              "window[\"ba389840-5b84-11e9-8c95-0242ac1c0002\"] = google.colab.output.setActiveOutputArea(window[\"ba37ac1e-5b84-11e9-8c95-0242ac1c0002\"]);\n",
              "//# sourceURL=js_d027d94d81"
            ],
            "text/plain": [
              "<IPython.core.display.Javascript object>"
            ]
          },
          "metadata": {
            "tags": [
              "id44-1-4",
              "outputarea_id44"
            ]
          }
        },
        {
          "output_type": "display_data",
          "data": {
            "image/png": "[encoded data removed]",
            "text/plain": [
              "<Figure size 72x72 with 1 Axes>"
            ]
          },
          "metadata": {
            "tags": [
              "id44-1-4",
              "outputarea_id44",
              "user_output"
            ]
          }
        },
        {
          "output_type": "display_data",
          "data": {
            "application/javascript": [
              "window[\"ba43dde0-5b84-11e9-8c95-0242ac1c0002\"] = google.colab.output.setActiveOutputArea(window[\"ba375ee4-5b84-11e9-8c95-0242ac1c0002\"]);\n",
              "//# sourceURL=js_912bd5519a"
            ],
            "text/plain": [
              "<IPython.core.display.Javascript object>"
            ]
          },
          "metadata": {
            "tags": [
              "id44-1-4",
              "outputarea_id44"
            ]
          }
        },
        {
          "output_type": "display_data",
          "data": {
            "application/javascript": [
              "window[\"ba55c78a-5b84-11e9-8c95-0242ac1c0002\"] = google.colab.output.getActiveOutputArea();\n",
              "//# sourceURL=js_5f1069a88e"
            ],
            "text/plain": [
              "<IPython.core.display.Javascript object>"
            ]
          },
          "metadata": {
            "tags": [
              "id44-3-1",
              "outputarea_id44"
            ]
          }
        },
        {
          "output_type": "display_data",
          "data": {
            "application/javascript": [
              "window[\"ba5649c6-5b84-11e9-8c95-0242ac1c0002\"] = document.querySelector(\"#id44-3-1\");\n",
              "//# sourceURL=js_f2bbcaf22e"
            ],
            "text/plain": [
              "<IPython.core.display.Javascript object>"
            ]
          },
          "metadata": {
            "tags": [
              "id44-3-1",
              "outputarea_id44"
            ]
          }
        },
        {
          "output_type": "display_data",
          "data": {
            "application/javascript": [
              "window[\"ba56caae-5b84-11e9-8c95-0242ac1c0002\"] = google.colab.output.setActiveOutputArea(window[\"ba5649c6-5b84-11e9-8c95-0242ac1c0002\"]);\n",
              "//# sourceURL=js_318205076d"
            ],
            "text/plain": [
              "<IPython.core.display.Javascript object>"
            ]
          },
          "metadata": {
            "tags": [
              "id44-3-1",
              "outputarea_id44"
            ]
          }
        },
        {
          "output_type": "display_data",
          "data": {
            "application/javascript": [
              "window[\"ba633744-5b84-11e9-8c95-0242ac1c0002\"] = google.colab.output.setActiveOutputArea(window[\"ba55c78a-5b84-11e9-8c95-0242ac1c0002\"]);\n",
              "//# sourceURL=js_44771b94fe"
            ],
            "text/plain": [
              "<IPython.core.display.Javascript object>"
            ]
          },
          "metadata": {
            "tags": [
              "id44-3-1",
              "outputarea_id44"
            ]
          }
        },
        {
          "output_type": "display_data",
          "data": {
            "application/javascript": [
              "window[\"ba74fcb8-5b84-11e9-8c95-0242ac1c0002\"] = google.colab.output.getActiveOutputArea();\n",
              "//# sourceURL=js_e52e9b4320"
            ],
            "text/plain": [
              "<IPython.core.display.Javascript object>"
            ]
          },
          "metadata": {
            "tags": [
              "id44-0-3",
              "outputarea_id44"
            ]
          }
        },
        {
          "output_type": "display_data",
          "data": {
            "application/javascript": [
              "window[\"ba75fd84-5b84-11e9-8c95-0242ac1c0002\"] = document.querySelector(\"#id44-0-3\");\n",
              "//# sourceURL=js_dbb2858a5f"
            ],
            "text/plain": [
              "<IPython.core.display.Javascript object>"
            ]
          },
          "metadata": {
            "tags": [
              "id44-0-3",
              "outputarea_id44"
            ]
          }
        },
        {
          "output_type": "display_data",
          "data": {
            "application/javascript": [
              "window[\"ba768b82-5b84-11e9-8c95-0242ac1c0002\"] = google.colab.output.setActiveOutputArea(window[\"ba75fd84-5b84-11e9-8c95-0242ac1c0002\"]);\n",
              "//# sourceURL=js_edb48fa2c6"
            ],
            "text/plain": [
              "<IPython.core.display.Javascript object>"
            ]
          },
          "metadata": {
            "tags": [
              "id44-0-3",
              "outputarea_id44"
            ]
          }
        },
        {
          "output_type": "display_data",
          "data": {
            "application/javascript": [
              "window[\"ba82c94c-5b84-11e9-8c95-0242ac1c0002\"] = google.colab.output.setActiveOutputArea(window[\"ba74fcb8-5b84-11e9-8c95-0242ac1c0002\"]);\n",
              "//# sourceURL=js_634d400bf6"
            ],
            "text/plain": [
              "<IPython.core.display.Javascript object>"
            ]
          },
          "metadata": {
            "tags": [
              "id44-0-3",
              "outputarea_id44"
            ]
          }
        },
        {
          "output_type": "display_data",
          "data": {
            "application/javascript": [
              "window[\"ba94bfee-5b84-11e9-8c95-0242ac1c0002\"] = google.colab.output.getActiveOutputArea();\n",
              "//# sourceURL=js_b30f01d099"
            ],
            "text/plain": [
              "<IPython.core.display.Javascript object>"
            ]
          },
          "metadata": {
            "tags": [
              "id44-3-3",
              "outputarea_id44"
            ]
          }
        },
        {
          "output_type": "display_data",
          "data": {
            "application/javascript": [
              "window[\"ba957ac4-5b84-11e9-8c95-0242ac1c0002\"] = document.querySelector(\"#id44-3-3\");\n",
              "//# sourceURL=js_56bf387c3e"
            ],
            "text/plain": [
              "<IPython.core.display.Javascript object>"
            ]
          },
          "metadata": {
            "tags": [
              "id44-3-3",
              "outputarea_id44"
            ]
          }
        },
        {
          "output_type": "display_data",
          "data": {
            "application/javascript": [
              "window[\"ba9600fc-5b84-11e9-8c95-0242ac1c0002\"] = google.colab.output.setActiveOutputArea(window[\"ba957ac4-5b84-11e9-8c95-0242ac1c0002\"]);\n",
              "//# sourceURL=js_d51e24acca"
            ],
            "text/plain": [
              "<IPython.core.display.Javascript object>"
            ]
          },
          "metadata": {
            "tags": [
              "id44-3-3",
              "outputarea_id44"
            ]
          }
        },
        {
          "output_type": "display_data",
          "data": {
            "image/png": "[encoded data removed]",
            "text/plain": [
              "<Figure size 72x72 with 1 Axes>"
            ]
          },
          "metadata": {
            "tags": [
              "id44-3-3",
              "outputarea_id44",
              "user_output"
            ]
          }
        },
        {
          "output_type": "display_data",
          "data": {
            "application/javascript": [
              "window[\"baa220c6-5b84-11e9-8c95-0242ac1c0002\"] = google.colab.output.setActiveOutputArea(window[\"ba94bfee-5b84-11e9-8c95-0242ac1c0002\"]);\n",
              "//# sourceURL=js_92297bddf0"
            ],
            "text/plain": [
              "<IPython.core.display.Javascript object>"
            ]
          },
          "metadata": {
            "tags": [
              "id44-3-3",
              "outputarea_id44"
            ]
          }
        },
        {
          "output_type": "display_data",
          "data": {
            "application/javascript": [
              "window[\"bab3aca6-5b84-11e9-8c95-0242ac1c0002\"] = google.colab.output.getActiveOutputArea();\n",
              "//# sourceURL=js_ec6c91d39d"
            ],
            "text/plain": [
              "<IPython.core.display.Javascript object>"
            ]
          },
          "metadata": {
            "tags": [
              "id44-0-4",
              "outputarea_id44"
            ]
          }
        },
        {
          "output_type": "display_data",
          "data": {
            "application/javascript": [
              "window[\"bab42f1e-5b84-11e9-8c95-0242ac1c0002\"] = document.querySelector(\"#id44-0-4\");\n",
              "//# sourceURL=js_45a2c3fc97"
            ],
            "text/plain": [
              "<IPython.core.display.Javascript object>"
            ]
          },
          "metadata": {
            "tags": [
              "id44-0-4",
              "outputarea_id44"
            ]
          }
        },
        {
          "output_type": "display_data",
          "data": {
            "application/javascript": [
              "window[\"bab4e602-5b84-11e9-8c95-0242ac1c0002\"] = google.colab.output.setActiveOutputArea(window[\"bab42f1e-5b84-11e9-8c95-0242ac1c0002\"]);\n",
              "//# sourceURL=js_47f7575740"
            ],
            "text/plain": [
              "<IPython.core.display.Javascript object>"
            ]
          },
          "metadata": {
            "tags": [
              "id44-0-4",
              "outputarea_id44"
            ]
          }
        },
        {
          "output_type": "display_data",
          "data": {
            "application/javascript": [
              "window[\"bac2cb96-5b84-11e9-8c95-0242ac1c0002\"] = google.colab.output.setActiveOutputArea(window[\"bab3aca6-5b84-11e9-8c95-0242ac1c0002\"]);\n",
              "//# sourceURL=js_f9a0cdcaa6"
            ],
            "text/plain": [
              "<IPython.core.display.Javascript object>"
            ]
          },
          "metadata": {
            "tags": [
              "id44-0-4",
              "outputarea_id44"
            ]
          }
        },
        {
          "output_type": "display_data",
          "data": {
            "application/javascript": [
              "window[\"bad48e62-5b84-11e9-8c95-0242ac1c0002\"] = google.colab.output.getActiveOutputArea();\n",
              "//# sourceURL=js_88c4f02abc"
            ],
            "text/plain": [
              "<IPython.core.display.Javascript object>"
            ]
          },
          "metadata": {
            "tags": [
              "id44-0-0",
              "outputarea_id44"
            ]
          }
        },
        {
          "output_type": "display_data",
          "data": {
            "application/javascript": [
              "window[\"bad50c8e-5b84-11e9-8c95-0242ac1c0002\"] = document.querySelector(\"#id44-0-0\");\n",
              "//# sourceURL=js_22d16995cb"
            ],
            "text/plain": [
              "<IPython.core.display.Javascript object>"
            ]
          },
          "metadata": {
            "tags": [
              "id44-0-0",
              "outputarea_id44"
            ]
          }
        },
        {
          "output_type": "display_data",
          "data": {
            "application/javascript": [
              "window[\"bad5824a-5b84-11e9-8c95-0242ac1c0002\"] = google.colab.output.setActiveOutputArea(window[\"bad50c8e-5b84-11e9-8c95-0242ac1c0002\"]);\n",
              "//# sourceURL=js_f362b20646"
            ],
            "text/plain": [
              "<IPython.core.display.Javascript object>"
            ]
          },
          "metadata": {
            "tags": [
              "id44-0-0",
              "outputarea_id44"
            ]
          }
        },
        {
          "output_type": "display_data",
          "data": {
            "application/javascript": [
              "window[\"bae226f8-5b84-11e9-8c95-0242ac1c0002\"] = google.colab.output.setActiveOutputArea(window[\"bad48e62-5b84-11e9-8c95-0242ac1c0002\"]);\n",
              "//# sourceURL=js_54100c7bc0"
            ],
            "text/plain": [
              "<IPython.core.display.Javascript object>"
            ]
          },
          "metadata": {
            "tags": [
              "id44-0-0",
              "outputarea_id44"
            ]
          }
        },
        {
          "output_type": "display_data",
          "data": {
            "application/javascript": [
              "window[\"baf3423a-5b84-11e9-8c95-0242ac1c0002\"] = google.colab.output.getActiveOutputArea();\n",
              "//# sourceURL=js_6710592832"
            ],
            "text/plain": [
              "<IPython.core.display.Javascript object>"
            ]
          },
          "metadata": {
            "tags": [
              "id44-3-4",
              "outputarea_id44"
            ]
          }
        },
        {
          "output_type": "display_data",
          "data": {
            "application/javascript": [
              "window[\"baf3e30c-5b84-11e9-8c95-0242ac1c0002\"] = document.querySelector(\"#id44-3-4\");\n",
              "//# sourceURL=js_8747293723"
            ],
            "text/plain": [
              "<IPython.core.display.Javascript object>"
            ]
          },
          "metadata": {
            "tags": [
              "id44-3-4",
              "outputarea_id44"
            ]
          }
        },
        {
          "output_type": "display_data",
          "data": {
            "application/javascript": [
              "window[\"baf46246-5b84-11e9-8c95-0242ac1c0002\"] = google.colab.output.setActiveOutputArea(window[\"baf3e30c-5b84-11e9-8c95-0242ac1c0002\"]);\n",
              "//# sourceURL=js_2640124b70"
            ],
            "text/plain": [
              "<IPython.core.display.Javascript object>"
            ]
          },
          "metadata": {
            "tags": [
              "id44-3-4",
              "outputarea_id44"
            ]
          }
        },
        {
          "output_type": "display_data",
          "data": {
            "application/javascript": [
              "window[\"bb012ad0-5b84-11e9-8c95-0242ac1c0002\"] = google.colab.output.setActiveOutputArea(window[\"baf3423a-5b84-11e9-8c95-0242ac1c0002\"]);\n",
              "//# sourceURL=js_4890ee622f"
            ],
            "text/plain": [
              "<IPython.core.display.Javascript object>"
            ]
          },
          "metadata": {
            "tags": [
              "id44-3-4",
              "outputarea_id44"
            ]
          }
        },
        {
          "output_type": "display_data",
          "data": {
            "application/javascript": [
              "window[\"bb13c62c-5b84-11e9-8c95-0242ac1c0002\"] = google.colab.output.getActiveOutputArea();\n",
              "//# sourceURL=js_641cb1f415"
            ],
            "text/plain": [
              "<IPython.core.display.Javascript object>"
            ]
          },
          "metadata": {
            "tags": [
              "id44-0-0",
              "outputarea_id44"
            ]
          }
        },
        {
          "output_type": "display_data",
          "data": {
            "application/javascript": [
              "window[\"bb1478a6-5b84-11e9-8c95-0242ac1c0002\"] = document.querySelector(\"#id44-0-0\");\n",
              "//# sourceURL=js_9a9c551c19"
            ],
            "text/plain": [
              "<IPython.core.display.Javascript object>"
            ]
          },
          "metadata": {
            "tags": [
              "id44-0-0",
              "outputarea_id44"
            ]
          }
        },
        {
          "output_type": "display_data",
          "data": {
            "application/javascript": [
              "window[\"bb154434-5b84-11e9-8c95-0242ac1c0002\"] = google.colab.output.setActiveOutputArea(window[\"bb1478a6-5b84-11e9-8c95-0242ac1c0002\"]);\n",
              "//# sourceURL=js_59bb6b435e"
            ],
            "text/plain": [
              "<IPython.core.display.Javascript object>"
            ]
          },
          "metadata": {
            "tags": [
              "id44-0-0",
              "outputarea_id44"
            ]
          }
        },
        {
          "output_type": "display_data",
          "data": {
            "application/javascript": [
              "window[\"bb21cde4-5b84-11e9-8c95-0242ac1c0002\"] = google.colab.output.setActiveOutputArea(window[\"bb13c62c-5b84-11e9-8c95-0242ac1c0002\"]);\n",
              "//# sourceURL=js_0674bf73dd"
            ],
            "text/plain": [
              "<IPython.core.display.Javascript object>"
            ]
          },
          "metadata": {
            "tags": [
              "id44-0-0",
              "outputarea_id44"
            ]
          }
        },
        {
          "output_type": "display_data",
          "data": {
            "application/javascript": [
              "window[\"bb34280e-5b84-11e9-8c95-0242ac1c0002\"] = google.colab.output.getActiveOutputArea();\n",
              "//# sourceURL=js_f135113276"
            ],
            "text/plain": [
              "<IPython.core.display.Javascript object>"
            ]
          },
          "metadata": {
            "tags": [
              "id44-4-4",
              "outputarea_id44"
            ]
          }
        },
        {
          "output_type": "display_data",
          "data": {
            "application/javascript": [
              "window[\"bb349b04-5b84-11e9-8c95-0242ac1c0002\"] = document.querySelector(\"#id44-4-4\");\n",
              "//# sourceURL=js_1974a68d8a"
            ],
            "text/plain": [
              "<IPython.core.display.Javascript object>"
            ]
          },
          "metadata": {
            "tags": [
              "id44-4-4",
              "outputarea_id44"
            ]
          }
        },
        {
          "output_type": "display_data",
          "data": {
            "application/javascript": [
              "window[\"bb355d1e-5b84-11e9-8c95-0242ac1c0002\"] = google.colab.output.setActiveOutputArea(window[\"bb349b04-5b84-11e9-8c95-0242ac1c0002\"]);\n",
              "//# sourceURL=js_959689d589"
            ],
            "text/plain": [
              "<IPython.core.display.Javascript object>"
            ]
          },
          "metadata": {
            "tags": [
              "id44-4-4",
              "outputarea_id44"
            ]
          }
        },
        {
          "output_type": "display_data",
          "data": {
            "application/javascript": [
              "window[\"bb40c2d0-5b84-11e9-8c95-0242ac1c0002\"] = google.colab.output.setActiveOutputArea(window[\"bb34280e-5b84-11e9-8c95-0242ac1c0002\"]);\n",
              "//# sourceURL=js_b0ac4fd59e"
            ],
            "text/plain": [
              "<IPython.core.display.Javascript object>"
            ]
          },
          "metadata": {
            "tags": [
              "id44-4-4",
              "outputarea_id44"
            ]
          }
        },
        {
          "output_type": "display_data",
          "data": {
            "application/javascript": [
              "window[\"bb525afe-5b84-11e9-8c95-0242ac1c0002\"] = google.colab.output.getActiveOutputArea();\n",
              "//# sourceURL=js_e560824a80"
            ],
            "text/plain": [
              "<IPython.core.display.Javascript object>"
            ]
          },
          "metadata": {
            "tags": [
              "id44-0-3",
              "outputarea_id44"
            ]
          }
        },
        {
          "output_type": "display_data",
          "data": {
            "application/javascript": [
              "window[\"bb52ca8e-5b84-11e9-8c95-0242ac1c0002\"] = document.querySelector(\"#id44-0-3\");\n",
              "//# sourceURL=js_3a672d8731"
            ],
            "text/plain": [
              "<IPython.core.display.Javascript object>"
            ]
          },
          "metadata": {
            "tags": [
              "id44-0-3",
              "outputarea_id44"
            ]
          }
        },
        {
          "output_type": "display_data",
          "data": {
            "application/javascript": [
              "window[\"bb534f04-5b84-11e9-8c95-0242ac1c0002\"] = google.colab.output.setActiveOutputArea(window[\"bb52ca8e-5b84-11e9-8c95-0242ac1c0002\"]);\n",
              "//# sourceURL=js_e03505f2d8"
            ],
            "text/plain": [
              "<IPython.core.display.Javascript object>"
            ]
          },
          "metadata": {
            "tags": [
              "id44-0-3",
              "outputarea_id44"
            ]
          }
        },
        {
          "output_type": "display_data",
          "data": {
            "image/png": "[encoded data removed]",
            "text/plain": [
              "<Figure size 72x72 with 1 Axes>"
            ]
          },
          "metadata": {
            "tags": [
              "id44-0-3",
              "outputarea_id44",
              "user_output"
            ]
          }
        },
        {
          "output_type": "display_data",
          "data": {
            "application/javascript": [
              "window[\"bb60a14a-5b84-11e9-8c95-0242ac1c0002\"] = google.colab.output.setActiveOutputArea(window[\"bb525afe-5b84-11e9-8c95-0242ac1c0002\"]);\n",
              "//# sourceURL=js_824211640e"
            ],
            "text/plain": [
              "<IPython.core.display.Javascript object>"
            ]
          },
          "metadata": {
            "tags": [
              "id44-0-3",
              "outputarea_id44"
            ]
          }
        },
        {
          "output_type": "display_data",
          "data": {
            "application/javascript": [
              "window[\"bb7198a6-5b84-11e9-8c95-0242ac1c0002\"] = google.colab.output.getActiveOutputArea();\n",
              "//# sourceURL=js_e7b48653ef"
            ],
            "text/plain": [
              "<IPython.core.display.Javascript object>"
            ]
          },
          "metadata": {
            "tags": [
              "id44-3-2",
              "outputarea_id44"
            ]
          }
        },
        {
          "output_type": "display_data",
          "data": {
            "application/javascript": [
              "window[\"bb7212cc-5b84-11e9-8c95-0242ac1c0002\"] = document.querySelector(\"#id44-3-2\");\n",
              "//# sourceURL=js_31f1f68b4e"
            ],
            "text/plain": [
              "<IPython.core.display.Javascript object>"
            ]
          },
          "metadata": {
            "tags": [
              "id44-3-2",
              "outputarea_id44"
            ]
          }
        },
        {
          "output_type": "display_data",
          "data": {
            "application/javascript": [
              "window[\"bb72a098-5b84-11e9-8c95-0242ac1c0002\"] = google.colab.output.setActiveOutputArea(window[\"bb7212cc-5b84-11e9-8c95-0242ac1c0002\"]);\n",
              "//# sourceURL=js_8589aa5f89"
            ],
            "text/plain": [
              "<IPython.core.display.Javascript object>"
            ]
          },
          "metadata": {
            "tags": [
              "id44-3-2",
              "outputarea_id44"
            ]
          }
        },
        {
          "output_type": "display_data",
          "data": {
            "application/javascript": [
              "window[\"bb7e6d24-5b84-11e9-8c95-0242ac1c0002\"] = google.colab.output.setActiveOutputArea(window[\"bb7198a6-5b84-11e9-8c95-0242ac1c0002\"]);\n",
              "//# sourceURL=js_e296b670f3"
            ],
            "text/plain": [
              "<IPython.core.display.Javascript object>"
            ]
          },
          "metadata": {
            "tags": [
              "id44-3-2",
              "outputarea_id44"
            ]
          }
        },
        {
          "output_type": "display_data",
          "data": {
            "application/javascript": [
              "window[\"bb8fbafc-5b84-11e9-8c95-0242ac1c0002\"] = google.colab.output.getActiveOutputArea();\n",
              "//# sourceURL=js_ca6f774b91"
            ],
            "text/plain": [
              "<IPython.core.display.Javascript object>"
            ]
          },
          "metadata": {
            "tags": [
              "id44-0-4",
              "outputarea_id44"
            ]
          }
        },
        {
          "output_type": "display_data",
          "data": {
            "application/javascript": [
              "window[\"bb900584-5b84-11e9-8c95-0242ac1c0002\"] = document.querySelector(\"#id44-0-4\");\n",
              "//# sourceURL=js_301910e1d2"
            ],
            "text/plain": [
              "<IPython.core.display.Javascript object>"
            ]
          },
          "metadata": {
            "tags": [
              "id44-0-4",
              "outputarea_id44"
            ]
          }
        },
        {
          "output_type": "display_data",
          "data": {
            "application/javascript": [
              "window[\"bb907a8c-5b84-11e9-8c95-0242ac1c0002\"] = google.colab.output.setActiveOutputArea(window[\"bb900584-5b84-11e9-8c95-0242ac1c0002\"]);\n",
              "//# sourceURL=js_3f3ad87f96"
            ],
            "text/plain": [
              "<IPython.core.display.Javascript object>"
            ]
          },
          "metadata": {
            "tags": [
              "id44-0-4",
              "outputarea_id44"
            ]
          }
        },
        {
          "output_type": "display_data",
          "data": {
            "application/javascript": [
              "window[\"bb9d21ce-5b84-11e9-8c95-0242ac1c0002\"] = google.colab.output.setActiveOutputArea(window[\"bb8fbafc-5b84-11e9-8c95-0242ac1c0002\"]);\n",
              "//# sourceURL=js_e354e5b01d"
            ],
            "text/plain": [
              "<IPython.core.display.Javascript object>"
            ]
          },
          "metadata": {
            "tags": [
              "id44-0-4",
              "outputarea_id44"
            ]
          }
        },
        {
          "output_type": "display_data",
          "data": {
            "application/javascript": [
              "window[\"bbae1c2c-5b84-11e9-8c95-0242ac1c0002\"] = google.colab.output.getActiveOutputArea();\n",
              "//# sourceURL=js_06fde045e9"
            ],
            "text/plain": [
              "<IPython.core.display.Javascript object>"
            ]
          },
          "metadata": {
            "tags": [
              "id44-3-4",
              "outputarea_id44"
            ]
          }
        },
        {
          "output_type": "display_data",
          "data": {
            "application/javascript": [
              "window[\"bbae9a94-5b84-11e9-8c95-0242ac1c0002\"] = document.querySelector(\"#id44-3-4\");\n",
              "//# sourceURL=js_95b9c451b0"
            ],
            "text/plain": [
              "<IPython.core.display.Javascript object>"
            ]
          },
          "metadata": {
            "tags": [
              "id44-3-4",
              "outputarea_id44"
            ]
          }
        },
        {
          "output_type": "display_data",
          "data": {
            "application/javascript": [
              "window[\"bbaf2d74-5b84-11e9-8c95-0242ac1c0002\"] = google.colab.output.setActiveOutputArea(window[\"bbae9a94-5b84-11e9-8c95-0242ac1c0002\"]);\n",
              "//# sourceURL=js_a64515a094"
            ],
            "text/plain": [
              "<IPython.core.display.Javascript object>"
            ]
          },
          "metadata": {
            "tags": [
              "id44-3-4",
              "outputarea_id44"
            ]
          }
        },
        {
          "output_type": "display_data",
          "data": {
            "application/javascript": [
              "window[\"bbbb640e-5b84-11e9-8c95-0242ac1c0002\"] = google.colab.output.setActiveOutputArea(window[\"bbae1c2c-5b84-11e9-8c95-0242ac1c0002\"]);\n",
              "//# sourceURL=js_999e8c7aee"
            ],
            "text/plain": [
              "<IPython.core.display.Javascript object>"
            ]
          },
          "metadata": {
            "tags": [
              "id44-3-4",
              "outputarea_id44"
            ]
          }
        },
        {
          "output_type": "display_data",
          "data": {
            "application/javascript": [
              "window[\"bbccdf40-5b84-11e9-8c95-0242ac1c0002\"] = google.colab.output.getActiveOutputArea();\n",
              "//# sourceURL=js_95bb6c5f11"
            ],
            "text/plain": [
              "<IPython.core.display.Javascript object>"
            ]
          },
          "metadata": {
            "tags": [
              "id44-1-2",
              "outputarea_id44"
            ]
          }
        },
        {
          "output_type": "display_data",
          "data": {
            "application/javascript": [
              "window[\"bbcd2d38-5b84-11e9-8c95-0242ac1c0002\"] = document.querySelector(\"#id44-1-2\");\n",
              "//# sourceURL=js_e5316090bc"
            ],
            "text/plain": [
              "<IPython.core.display.Javascript object>"
            ]
          },
          "metadata": {
            "tags": [
              "id44-1-2",
              "outputarea_id44"
            ]
          }
        },
        {
          "output_type": "display_data",
          "data": {
            "application/javascript": [
              "window[\"bbcdb262-5b84-11e9-8c95-0242ac1c0002\"] = google.colab.output.setActiveOutputArea(window[\"bbcd2d38-5b84-11e9-8c95-0242ac1c0002\"]);\n",
              "//# sourceURL=js_6c8ae56f32"
            ],
            "text/plain": [
              "<IPython.core.display.Javascript object>"
            ]
          },
          "metadata": {
            "tags": [
              "id44-1-2",
              "outputarea_id44"
            ]
          }
        },
        {
          "output_type": "display_data",
          "data": {
            "application/javascript": [
              "window[\"bbda1868-5b84-11e9-8c95-0242ac1c0002\"] = google.colab.output.setActiveOutputArea(window[\"bbccdf40-5b84-11e9-8c95-0242ac1c0002\"]);\n",
              "//# sourceURL=js_06aae84124"
            ],
            "text/plain": [
              "<IPython.core.display.Javascript object>"
            ]
          },
          "metadata": {
            "tags": [
              "id44-1-2",
              "outputarea_id44"
            ]
          }
        },
        {
          "output_type": "display_data",
          "data": {
            "application/javascript": [
              "window[\"bbebde2c-5b84-11e9-8c95-0242ac1c0002\"] = google.colab.output.getActiveOutputArea();\n",
              "//# sourceURL=js_4948d60b4b"
            ],
            "text/plain": [
              "<IPython.core.display.Javascript object>"
            ]
          },
          "metadata": {
            "tags": [
              "id44-0-1",
              "outputarea_id44"
            ]
          }
        },
        {
          "output_type": "display_data",
          "data": {
            "application/javascript": [
              "window[\"bbec2b20-5b84-11e9-8c95-0242ac1c0002\"] = document.querySelector(\"#id44-0-1\");\n",
              "//# sourceURL=js_1954745dc9"
            ],
            "text/plain": [
              "<IPython.core.display.Javascript object>"
            ]
          },
          "metadata": {
            "tags": [
              "id44-0-1",
              "outputarea_id44"
            ]
          }
        },
        {
          "output_type": "display_data",
          "data": {
            "application/javascript": [
              "window[\"bbecb036-5b84-11e9-8c95-0242ac1c0002\"] = google.colab.output.setActiveOutputArea(window[\"bbec2b20-5b84-11e9-8c95-0242ac1c0002\"]);\n",
              "//# sourceURL=js_0d7a13bd45"
            ],
            "text/plain": [
              "<IPython.core.display.Javascript object>"
            ]
          },
          "metadata": {
            "tags": [
              "id44-0-1",
              "outputarea_id44"
            ]
          }
        },
        {
          "output_type": "display_data",
          "data": {
            "image/png": "[encoded data removed]",
            "text/plain": [
              "<Figure size 72x72 with 1 Axes>"
            ]
          },
          "metadata": {
            "tags": [
              "id44-0-1",
              "outputarea_id44",
              "user_output"
            ]
          }
        },
        {
          "output_type": "display_data",
          "data": {
            "application/javascript": [
              "window[\"bbf99a94-5b84-11e9-8c95-0242ac1c0002\"] = google.colab.output.setActiveOutputArea(window[\"bbebde2c-5b84-11e9-8c95-0242ac1c0002\"]);\n",
              "//# sourceURL=js_ccb344c0b4"
            ],
            "text/plain": [
              "<IPython.core.display.Javascript object>"
            ]
          },
          "metadata": {
            "tags": [
              "id44-0-1",
              "outputarea_id44"
            ]
          }
        },
        {
          "output_type": "display_data",
          "data": {
            "application/javascript": [
              "window[\"bc0a8e94-5b84-11e9-8c95-0242ac1c0002\"] = google.colab.output.getActiveOutputArea();\n",
              "//# sourceURL=js_6722d6e931"
            ],
            "text/plain": [
              "<IPython.core.display.Javascript object>"
            ]
          },
          "metadata": {
            "tags": [
              "id44-3-4",
              "outputarea_id44"
            ]
          }
        },
        {
          "output_type": "display_data",
          "data": {
            "application/javascript": [
              "window[\"bc0ad660-5b84-11e9-8c95-0242ac1c0002\"] = document.querySelector(\"#id44-3-4\");\n",
              "//# sourceURL=js_07f2849632"
            ],
            "text/plain": [
              "<IPython.core.display.Javascript object>"
            ]
          },
          "metadata": {
            "tags": [
              "id44-3-4",
              "outputarea_id44"
            ]
          }
        },
        {
          "output_type": "display_data",
          "data": {
            "application/javascript": [
              "window[\"bc0b195e-5b84-11e9-8c95-0242ac1c0002\"] = google.colab.output.setActiveOutputArea(window[\"bc0ad660-5b84-11e9-8c95-0242ac1c0002\"]);\n",
              "//# sourceURL=js_6165f15180"
            ],
            "text/plain": [
              "<IPython.core.display.Javascript object>"
            ]
          },
          "metadata": {
            "tags": [
              "id44-3-4",
              "outputarea_id44"
            ]
          }
        },
        {
          "output_type": "display_data",
          "data": {
            "application/javascript": [
              "window[\"bc203a64-5b84-11e9-8c95-0242ac1c0002\"] = google.colab.output.setActiveOutputArea(window[\"bc0a8e94-5b84-11e9-8c95-0242ac1c0002\"]);\n",
              "//# sourceURL=js_df8bc95845"
            ],
            "text/plain": [
              "<IPython.core.display.Javascript object>"
            ]
          },
          "metadata": {
            "tags": [
              "id44-3-4",
              "outputarea_id44"
            ]
          }
        },
        {
          "output_type": "display_data",
          "data": {
            "application/javascript": [
              "window[\"bc31b46a-5b84-11e9-8c95-0242ac1c0002\"] = google.colab.output.getActiveOutputArea();\n",
              "//# sourceURL=js_e3afd41930"
            ],
            "text/plain": [
              "<IPython.core.display.Javascript object>"
            ]
          },
          "metadata": {
            "tags": [
              "id44-2-2",
              "outputarea_id44"
            ]
          }
        },
        {
          "output_type": "display_data",
          "data": {
            "application/javascript": [
              "window[\"bc321586-5b84-11e9-8c95-0242ac1c0002\"] = document.querySelector(\"#id44-2-2\");\n",
              "//# sourceURL=js_8ac711c521"
            ],
            "text/plain": [
              "<IPython.core.display.Javascript object>"
            ]
          },
          "metadata": {
            "tags": [
              "id44-2-2",
              "outputarea_id44"
            ]
          }
        },
        {
          "output_type": "display_data",
          "data": {
            "application/javascript": [
              "window[\"bc329088-5b84-11e9-8c95-0242ac1c0002\"] = google.colab.output.setActiveOutputArea(window[\"bc321586-5b84-11e9-8c95-0242ac1c0002\"]);\n",
              "//# sourceURL=js_5039038bed"
            ],
            "text/plain": [
              "<IPython.core.display.Javascript object>"
            ]
          },
          "metadata": {
            "tags": [
              "id44-2-2",
              "outputarea_id44"
            ]
          }
        },
        {
          "output_type": "display_data",
          "data": {
            "application/javascript": [
              "window[\"bc3ea03a-5b84-11e9-8c95-0242ac1c0002\"] = google.colab.output.setActiveOutputArea(window[\"bc31b46a-5b84-11e9-8c95-0242ac1c0002\"]);\n",
              "//# sourceURL=js_6b23a22eae"
            ],
            "text/plain": [
              "<IPython.core.display.Javascript object>"
            ]
          },
          "metadata": {
            "tags": [
              "id44-2-2",
              "outputarea_id44"
            ]
          }
        },
        {
          "output_type": "display_data",
          "data": {
            "application/javascript": [
              "window[\"bc4fbbe0-5b84-11e9-8c95-0242ac1c0002\"] = google.colab.output.getActiveOutputArea();\n",
              "//# sourceURL=js_a0aa3dc595"
            ],
            "text/plain": [
              "<IPython.core.display.Javascript object>"
            ]
          },
          "metadata": {
            "tags": [
              "id44-3-4",
              "outputarea_id44"
            ]
          }
        },
        {
          "output_type": "display_data",
          "data": {
            "application/javascript": [
              "window[\"bc504a9c-5b84-11e9-8c95-0242ac1c0002\"] = document.querySelector(\"#id44-3-4\");\n",
              "//# sourceURL=js_755e1d8059"
            ],
            "text/plain": [
              "<IPython.core.display.Javascript object>"
            ]
          },
          "metadata": {
            "tags": [
              "id44-3-4",
              "outputarea_id44"
            ]
          }
        },
        {
          "output_type": "display_data",
          "data": {
            "application/javascript": [
              "window[\"bc50ce18-5b84-11e9-8c95-0242ac1c0002\"] = google.colab.output.setActiveOutputArea(window[\"bc504a9c-5b84-11e9-8c95-0242ac1c0002\"]);\n",
              "//# sourceURL=js_26b436df8c"
            ],
            "text/plain": [
              "<IPython.core.display.Javascript object>"
            ]
          },
          "metadata": {
            "tags": [
              "id44-3-4",
              "outputarea_id44"
            ]
          }
        },
        {
          "output_type": "display_data",
          "data": {
            "image/png": "[encoded data removed]",
            "text/plain": [
              "<Figure size 72x72 with 1 Axes>"
            ]
          },
          "metadata": {
            "tags": [
              "id44-3-4",
              "outputarea_id44",
              "user_output"
            ]
          }
        },
        {
          "output_type": "display_data",
          "data": {
            "application/javascript": [
              "window[\"bc5ca8aa-5b84-11e9-8c95-0242ac1c0002\"] = google.colab.output.setActiveOutputArea(window[\"bc4fbbe0-5b84-11e9-8c95-0242ac1c0002\"]);\n",
              "//# sourceURL=js_6efec6e1ea"
            ],
            "text/plain": [
              "<IPython.core.display.Javascript object>"
            ]
          },
          "metadata": {
            "tags": [
              "id44-3-4",
              "outputarea_id44"
            ]
          }
        },
        {
          "output_type": "display_data",
          "data": {
            "application/javascript": [
              "window[\"bc6db7d0-5b84-11e9-8c95-0242ac1c0002\"] = google.colab.output.getActiveOutputArea();\n",
              "//# sourceURL=js_f4dda1679b"
            ],
            "text/plain": [
              "<IPython.core.display.Javascript object>"
            ]
          },
          "metadata": {
            "tags": [
              "id44-2-4",
              "outputarea_id44"
            ]
          }
        },
        {
          "output_type": "display_data",
          "data": {
            "application/javascript": [
              "window[\"bc6e639c-5b84-11e9-8c95-0242ac1c0002\"] = document.querySelector(\"#id44-2-4\");\n",
              "//# sourceURL=js_1118450fdf"
            ],
            "text/plain": [
              "<IPython.core.display.Javascript object>"
            ]
          },
          "metadata": {
            "tags": [
              "id44-2-4",
              "outputarea_id44"
            ]
          }
        },
        {
          "output_type": "display_data",
          "data": {
            "application/javascript": [
              "window[\"bc6f00ae-5b84-11e9-8c95-0242ac1c0002\"] = google.colab.output.setActiveOutputArea(window[\"bc6e639c-5b84-11e9-8c95-0242ac1c0002\"]);\n",
              "//# sourceURL=js_9328e40acb"
            ],
            "text/plain": [
              "<IPython.core.display.Javascript object>"
            ]
          },
          "metadata": {
            "tags": [
              "id44-2-4",
              "outputarea_id44"
            ]
          }
        },
        {
          "output_type": "display_data",
          "data": {
            "application/javascript": [
              "window[\"bc7b46b6-5b84-11e9-8c95-0242ac1c0002\"] = google.colab.output.setActiveOutputArea(window[\"bc6db7d0-5b84-11e9-8c95-0242ac1c0002\"]);\n",
              "//# sourceURL=js_b5b965ef3e"
            ],
            "text/plain": [
              "<IPython.core.display.Javascript object>"
            ]
          },
          "metadata": {
            "tags": [
              "id44-2-4",
              "outputarea_id44"
            ]
          }
        },
        {
          "output_type": "display_data",
          "data": {
            "application/javascript": [
              "window[\"bc8c5a50-5b84-11e9-8c95-0242ac1c0002\"] = google.colab.output.getActiveOutputArea();\n",
              "//# sourceURL=js_393d54cb44"
            ],
            "text/plain": [
              "<IPython.core.display.Javascript object>"
            ]
          },
          "metadata": {
            "tags": [
              "id44-2-3",
              "outputarea_id44"
            ]
          }
        },
        {
          "output_type": "display_data",
          "data": {
            "application/javascript": [
              "window[\"bc8d02d4-5b84-11e9-8c95-0242ac1c0002\"] = document.querySelector(\"#id44-2-3\");\n",
              "//# sourceURL=js_495ece0168"
            ],
            "text/plain": [
              "<IPython.core.display.Javascript object>"
            ]
          },
          "metadata": {
            "tags": [
              "id44-2-3",
              "outputarea_id44"
            ]
          }
        },
        {
          "output_type": "display_data",
          "data": {
            "application/javascript": [
              "window[\"bc8d7a5c-5b84-11e9-8c95-0242ac1c0002\"] = google.colab.output.setActiveOutputArea(window[\"bc8d02d4-5b84-11e9-8c95-0242ac1c0002\"]);\n",
              "//# sourceURL=js_8086f6ee22"
            ],
            "text/plain": [
              "<IPython.core.display.Javascript object>"
            ]
          },
          "metadata": {
            "tags": [
              "id44-2-3",
              "outputarea_id44"
            ]
          }
        },
        {
          "output_type": "display_data",
          "data": {
            "image/png": "[encoded data removed]",
            "text/plain": [
              "<Figure size 72x72 with 1 Axes>"
            ]
          },
          "metadata": {
            "tags": [
              "id44-2-3",
              "outputarea_id44",
              "user_output"
            ]
          }
        },
        {
          "output_type": "display_data",
          "data": {
            "application/javascript": [
              "window[\"bc9b1036-5b84-11e9-8c95-0242ac1c0002\"] = google.colab.output.setActiveOutputArea(window[\"bc8c5a50-5b84-11e9-8c95-0242ac1c0002\"]);\n",
              "//# sourceURL=js_fc53c795d8"
            ],
            "text/plain": [
              "<IPython.core.display.Javascript object>"
            ]
          },
          "metadata": {
            "tags": [
              "id44-2-3",
              "outputarea_id44"
            ]
          }
        },
        {
          "output_type": "display_data",
          "data": {
            "application/javascript": [
              "window[\"bcace69e-5b84-11e9-8c95-0242ac1c0002\"] = google.colab.output.getActiveOutputArea();\n",
              "//# sourceURL=js_ac4405ff90"
            ],
            "text/plain": [
              "<IPython.core.display.Javascript object>"
            ]
          },
          "metadata": {
            "tags": [
              "id44-2-4",
              "outputarea_id44"
            ]
          }
        },
        {
          "output_type": "display_data",
          "data": {
            "application/javascript": [
              "window[\"bcad3176-5b84-11e9-8c95-0242ac1c0002\"] = document.querySelector(\"#id44-2-4\");\n",
              "//# sourceURL=js_42d5497289"
            ],
            "text/plain": [
              "<IPython.core.display.Javascript object>"
            ]
          },
          "metadata": {
            "tags": [
              "id44-2-4",
              "outputarea_id44"
            ]
          }
        },
        {
          "output_type": "display_data",
          "data": {
            "application/javascript": [
              "window[\"bcad802c-5b84-11e9-8c95-0242ac1c0002\"] = google.colab.output.setActiveOutputArea(window[\"bcad3176-5b84-11e9-8c95-0242ac1c0002\"]);\n",
              "//# sourceURL=js_ba754f271b"
            ],
            "text/plain": [
              "<IPython.core.display.Javascript object>"
            ]
          },
          "metadata": {
            "tags": [
              "id44-2-4",
              "outputarea_id44"
            ]
          }
        },
        {
          "output_type": "display_data",
          "data": {
            "application/javascript": [
              "window[\"bcba796c-5b84-11e9-8c95-0242ac1c0002\"] = google.colab.output.setActiveOutputArea(window[\"bcace69e-5b84-11e9-8c95-0242ac1c0002\"]);\n",
              "//# sourceURL=js_1a22ea26a4"
            ],
            "text/plain": [
              "<IPython.core.display.Javascript object>"
            ]
          },
          "metadata": {
            "tags": [
              "id44-2-4",
              "outputarea_id44"
            ]
          }
        },
        {
          "output_type": "display_data",
          "data": {
            "application/javascript": [
              "window[\"bccbe49a-5b84-11e9-8c95-0242ac1c0002\"] = google.colab.output.getActiveOutputArea();\n",
              "//# sourceURL=js_a20dd9db1b"
            ],
            "text/plain": [
              "<IPython.core.display.Javascript object>"
            ]
          },
          "metadata": {
            "tags": [
              "id44-4-2",
              "outputarea_id44"
            ]
          }
        },
        {
          "output_type": "display_data",
          "data": {
            "application/javascript": [
              "window[\"bcccab8c-5b84-11e9-8c95-0242ac1c0002\"] = document.querySelector(\"#id44-4-2\");\n",
              "//# sourceURL=js_2dd830369c"
            ],
            "text/plain": [
              "<IPython.core.display.Javascript object>"
            ]
          },
          "metadata": {
            "tags": [
              "id44-4-2",
              "outputarea_id44"
            ]
          }
        },
        {
          "output_type": "display_data",
          "data": {
            "application/javascript": [
              "window[\"bccd114e-5b84-11e9-8c95-0242ac1c0002\"] = google.colab.output.setActiveOutputArea(window[\"bcccab8c-5b84-11e9-8c95-0242ac1c0002\"]);\n",
              "//# sourceURL=js_aaab92b98d"
            ],
            "text/plain": [
              "<IPython.core.display.Javascript object>"
            ]
          },
          "metadata": {
            "tags": [
              "id44-4-2",
              "outputarea_id44"
            ]
          }
        },
        {
          "output_type": "display_data",
          "data": {
            "application/javascript": [
              "window[\"bcd90422-5b84-11e9-8c95-0242ac1c0002\"] = google.colab.output.setActiveOutputArea(window[\"bccbe49a-5b84-11e9-8c95-0242ac1c0002\"]);\n",
              "//# sourceURL=js_5de81c9e93"
            ],
            "text/plain": [
              "<IPython.core.display.Javascript object>"
            ]
          },
          "metadata": {
            "tags": [
              "id44-4-2",
              "outputarea_id44"
            ]
          }
        },
        {
          "output_type": "display_data",
          "data": {
            "application/javascript": [
              "window[\"bcea68b6-5b84-11e9-8c95-0242ac1c0002\"] = google.colab.output.getActiveOutputArea();\n",
              "//# sourceURL=js_226456e559"
            ],
            "text/plain": [
              "<IPython.core.display.Javascript object>"
            ]
          },
          "metadata": {
            "tags": [
              "id44-1-2",
              "outputarea_id44"
            ]
          }
        },
        {
          "output_type": "display_data",
          "data": {
            "application/javascript": [
              "window[\"bceb085c-5b84-11e9-8c95-0242ac1c0002\"] = document.querySelector(\"#id44-1-2\");\n",
              "//# sourceURL=js_d632f12d13"
            ],
            "text/plain": [
              "<IPython.core.display.Javascript object>"
            ]
          },
          "metadata": {
            "tags": [
              "id44-1-2",
              "outputarea_id44"
            ]
          }
        },
        {
          "output_type": "display_data",
          "data": {
            "application/javascript": [
              "window[\"bceb8f52-5b84-11e9-8c95-0242ac1c0002\"] = google.colab.output.setActiveOutputArea(window[\"bceb085c-5b84-11e9-8c95-0242ac1c0002\"]);\n",
              "//# sourceURL=js_82d73d6baa"
            ],
            "text/plain": [
              "<IPython.core.display.Javascript object>"
            ]
          },
          "metadata": {
            "tags": [
              "id44-1-2",
              "outputarea_id44"
            ]
          }
        },
        {
          "output_type": "display_data",
          "data": {
            "application/javascript": [
              "window[\"bcf7ba3e-5b84-11e9-8c95-0242ac1c0002\"] = google.colab.output.setActiveOutputArea(window[\"bcea68b6-5b84-11e9-8c95-0242ac1c0002\"]);\n",
              "//# sourceURL=js_6c5583540e"
            ],
            "text/plain": [
              "<IPython.core.display.Javascript object>"
            ]
          },
          "metadata": {
            "tags": [
              "id44-1-2",
              "outputarea_id44"
            ]
          }
        },
        {
          "output_type": "display_data",
          "data": {
            "application/javascript": [
              "window[\"bd08d85a-5b84-11e9-8c95-0242ac1c0002\"] = google.colab.output.getActiveOutputArea();\n",
              "//# sourceURL=js_8d542a4c7f"
            ],
            "text/plain": [
              "<IPython.core.display.Javascript object>"
            ]
          },
          "metadata": {
            "tags": [
              "id44-3-0",
              "outputarea_id44"
            ]
          }
        },
        {
          "output_type": "display_data",
          "data": {
            "application/javascript": [
              "window[\"bd096630-5b84-11e9-8c95-0242ac1c0002\"] = document.querySelector(\"#id44-3-0\");\n",
              "//# sourceURL=js_6b8896dcd7"
            ],
            "text/plain": [
              "<IPython.core.display.Javascript object>"
            ]
          },
          "metadata": {
            "tags": [
              "id44-3-0",
              "outputarea_id44"
            ]
          }
        },
        {
          "output_type": "display_data",
          "data": {
            "application/javascript": [
              "window[\"bd09f6fe-5b84-11e9-8c95-0242ac1c0002\"] = google.colab.output.setActiveOutputArea(window[\"bd096630-5b84-11e9-8c95-0242ac1c0002\"]);\n",
              "//# sourceURL=js_afa8f5389d"
            ],
            "text/plain": [
              "<IPython.core.display.Javascript object>"
            ]
          },
          "metadata": {
            "tags": [
              "id44-3-0",
              "outputarea_id44"
            ]
          }
        },
        {
          "output_type": "display_data",
          "data": {
            "application/javascript": [
              "window[\"bd166b78-5b84-11e9-8c95-0242ac1c0002\"] = google.colab.output.setActiveOutputArea(window[\"bd08d85a-5b84-11e9-8c95-0242ac1c0002\"]);\n",
              "//# sourceURL=js_bc1d179b1d"
            ],
            "text/plain": [
              "<IPython.core.display.Javascript object>"
            ]
          },
          "metadata": {
            "tags": [
              "id44-3-0",
              "outputarea_id44"
            ]
          }
        },
        {
          "output_type": "display_data",
          "data": {
            "application/javascript": [
              "window[\"bd28bac6-5b84-11e9-8c95-0242ac1c0002\"] = google.colab.output.getActiveOutputArea();\n",
              "//# sourceURL=js_7e97bd995e"
            ],
            "text/plain": [
              "<IPython.core.display.Javascript object>"
            ]
          },
          "metadata": {
            "tags": [
              "id44-0-0",
              "outputarea_id44"
            ]
          }
        },
        {
          "output_type": "display_data",
          "data": {
            "application/javascript": [
              "window[\"bd290abc-5b84-11e9-8c95-0242ac1c0002\"] = document.querySelector(\"#id44-0-0\");\n",
              "//# sourceURL=js_86113d40df"
            ],
            "text/plain": [
              "<IPython.core.display.Javascript object>"
            ]
          },
          "metadata": {
            "tags": [
              "id44-0-0",
              "outputarea_id44"
            ]
          }
        },
        {
          "output_type": "display_data",
          "data": {
            "application/javascript": [
              "window[\"bd298e74-5b84-11e9-8c95-0242ac1c0002\"] = google.colab.output.setActiveOutputArea(window[\"bd290abc-5b84-11e9-8c95-0242ac1c0002\"]);\n",
              "//# sourceURL=js_e4fb878ab5"
            ],
            "text/plain": [
              "<IPython.core.display.Javascript object>"
            ]
          },
          "metadata": {
            "tags": [
              "id44-0-0",
              "outputarea_id44"
            ]
          }
        },
        {
          "output_type": "display_data",
          "data": {
            "image/png": "[encoded data removed]",
            "text/plain": [
              "<Figure size 72x72 with 1 Axes>"
            ]
          },
          "metadata": {
            "tags": [
              "id44-0-0",
              "outputarea_id44",
              "user_output"
            ]
          }
        },
        {
          "output_type": "display_data",
          "data": {
            "application/javascript": [
              "window[\"bd375a4a-5b84-11e9-8c95-0242ac1c0002\"] = google.colab.output.setActiveOutputArea(window[\"bd28bac6-5b84-11e9-8c95-0242ac1c0002\"]);\n",
              "//# sourceURL=js_577a15cd9c"
            ],
            "text/plain": [
              "<IPython.core.display.Javascript object>"
            ]
          },
          "metadata": {
            "tags": [
              "id44-0-0",
              "outputarea_id44"
            ]
          }
        },
        {
          "output_type": "display_data",
          "data": {
            "application/javascript": [
              "window[\"bd4911e0-5b84-11e9-8c95-0242ac1c0002\"] = google.colab.output.getActiveOutputArea();\n",
              "//# sourceURL=js_2d73a842b4"
            ],
            "text/plain": [
              "<IPython.core.display.Javascript object>"
            ]
          },
          "metadata": {
            "tags": [
              "id44-3-0",
              "outputarea_id44"
            ]
          }
        },
        {
          "output_type": "display_data",
          "data": {
            "application/javascript": [
              "window[\"bd498bfc-5b84-11e9-8c95-0242ac1c0002\"] = document.querySelector(\"#id44-3-0\");\n",
              "//# sourceURL=js_cb221efed8"
            ],
            "text/plain": [
              "<IPython.core.display.Javascript object>"
            ]
          },
          "metadata": {
            "tags": [
              "id44-3-0",
              "outputarea_id44"
            ]
          }
        },
        {
          "output_type": "display_data",
          "data": {
            "application/javascript": [
              "window[\"bd4a1dce-5b84-11e9-8c95-0242ac1c0002\"] = google.colab.output.setActiveOutputArea(window[\"bd498bfc-5b84-11e9-8c95-0242ac1c0002\"]);\n",
              "//# sourceURL=js_e456a44456"
            ],
            "text/plain": [
              "<IPython.core.display.Javascript object>"
            ]
          },
          "metadata": {
            "tags": [
              "id44-3-0",
              "outputarea_id44"
            ]
          }
        },
        {
          "output_type": "display_data",
          "data": {
            "image/png": "[encoded data removed]",
            "text/plain": [
              "<Figure size 72x72 with 1 Axes>"
            ]
          },
          "metadata": {
            "tags": [
              "id44-3-0",
              "outputarea_id44",
              "user_output"
            ]
          }
        },
        {
          "output_type": "display_data",
          "data": {
            "application/javascript": [
              "window[\"bd56b660-5b84-11e9-8c95-0242ac1c0002\"] = google.colab.output.setActiveOutputArea(window[\"bd4911e0-5b84-11e9-8c95-0242ac1c0002\"]);\n",
              "//# sourceURL=js_63ab94462c"
            ],
            "text/plain": [
              "<IPython.core.display.Javascript object>"
            ]
          },
          "metadata": {
            "tags": [
              "id44-3-0",
              "outputarea_id44"
            ]
          }
        },
        {
          "output_type": "display_data",
          "data": {
            "application/javascript": [
              "window[\"bd68efe2-5b84-11e9-8c95-0242ac1c0002\"] = google.colab.output.getActiveOutputArea();\n",
              "//# sourceURL=js_dca17aeea4"
            ],
            "text/plain": [
              "<IPython.core.display.Javascript object>"
            ]
          },
          "metadata": {
            "tags": [
              "id44-0-2",
              "outputarea_id44"
            ]
          }
        },
        {
          "output_type": "display_data",
          "data": {
            "application/javascript": [
              "window[\"bd69933e-5b84-11e9-8c95-0242ac1c0002\"] = document.querySelector(\"#id44-0-2\");\n",
              "//# sourceURL=js_b3054095fb"
            ],
            "text/plain": [
              "<IPython.core.display.Javascript object>"
            ]
          },
          "metadata": {
            "tags": [
              "id44-0-2",
              "outputarea_id44"
            ]
          }
        },
        {
          "output_type": "display_data",
          "data": {
            "application/javascript": [
              "window[\"bd6a4c70-5b84-11e9-8c95-0242ac1c0002\"] = google.colab.output.setActiveOutputArea(window[\"bd69933e-5b84-11e9-8c95-0242ac1c0002\"]);\n",
              "//# sourceURL=js_cc6021be5e"
            ],
            "text/plain": [
              "<IPython.core.display.Javascript object>"
            ]
          },
          "metadata": {
            "tags": [
              "id44-0-2",
              "outputarea_id44"
            ]
          }
        },
        {
          "output_type": "display_data",
          "data": {
            "image/png": "[encoded data removed]",
            "text/plain": [
              "<Figure size 72x72 with 1 Axes>"
            ]
          },
          "metadata": {
            "tags": [
              "id44-0-2",
              "outputarea_id44",
              "user_output"
            ]
          }
        },
        {
          "output_type": "display_data",
          "data": {
            "application/javascript": [
              "window[\"bd76790a-5b84-11e9-8c95-0242ac1c0002\"] = google.colab.output.setActiveOutputArea(window[\"bd68efe2-5b84-11e9-8c95-0242ac1c0002\"]);\n",
              "//# sourceURL=js_e26f3067a0"
            ],
            "text/plain": [
              "<IPython.core.display.Javascript object>"
            ]
          },
          "metadata": {
            "tags": [
              "id44-0-2",
              "outputarea_id44"
            ]
          }
        },
        {
          "output_type": "display_data",
          "data": {
            "application/javascript": [
              "window[\"bd88aca6-5b84-11e9-8c95-0242ac1c0002\"] = google.colab.output.getActiveOutputArea();\n",
              "//# sourceURL=js_c956e35eeb"
            ],
            "text/plain": [
              "<IPython.core.display.Javascript object>"
            ]
          },
          "metadata": {
            "tags": [
              "id44-4-2",
              "outputarea_id44"
            ]
          }
        },
        {
          "output_type": "display_data",
          "data": {
            "application/javascript": [
              "window[\"bd8928ac-5b84-11e9-8c95-0242ac1c0002\"] = document.querySelector(\"#id44-4-2\");\n",
              "//# sourceURL=js_4981627a67"
            ],
            "text/plain": [
              "<IPython.core.display.Javascript object>"
            ]
          },
          "metadata": {
            "tags": [
              "id44-4-2",
              "outputarea_id44"
            ]
          }
        },
        {
          "output_type": "display_data",
          "data": {
            "application/javascript": [
              "window[\"bd89ce74-5b84-11e9-8c95-0242ac1c0002\"] = google.colab.output.setActiveOutputArea(window[\"bd8928ac-5b84-11e9-8c95-0242ac1c0002\"]);\n",
              "//# sourceURL=js_c8db09cc9e"
            ],
            "text/plain": [
              "<IPython.core.display.Javascript object>"
            ]
          },
          "metadata": {
            "tags": [
              "id44-4-2",
              "outputarea_id44"
            ]
          }
        },
        {
          "output_type": "display_data",
          "data": {
            "image/png": "[encoded data removed]",
            "text/plain": [
              "<Figure size 72x72 with 1 Axes>"
            ]
          },
          "metadata": {
            "tags": [
              "id44-4-2",
              "outputarea_id44",
              "user_output"
            ]
          }
        },
        {
          "output_type": "display_data",
          "data": {
            "application/javascript": [
              "window[\"bd965e0a-5b84-11e9-8c95-0242ac1c0002\"] = google.colab.output.setActiveOutputArea(window[\"bd88aca6-5b84-11e9-8c95-0242ac1c0002\"]);\n",
              "//# sourceURL=js_6e6920e2d6"
            ],
            "text/plain": [
              "<IPython.core.display.Javascript object>"
            ]
          },
          "metadata": {
            "tags": [
              "id44-4-2",
              "outputarea_id44"
            ]
          }
        },
        {
          "output_type": "display_data",
          "data": {
            "application/javascript": [
              "window[\"bda7d4be-5b84-11e9-8c95-0242ac1c0002\"] = google.colab.output.getActiveOutputArea();\n",
              "//# sourceURL=js_32136ae442"
            ],
            "text/plain": [
              "<IPython.core.display.Javascript object>"
            ]
          },
          "metadata": {
            "tags": [
              "id44-1-2",
              "outputarea_id44"
            ]
          }
        },
        {
          "output_type": "display_data",
          "data": {
            "application/javascript": [
              "window[\"bda861ae-5b84-11e9-8c95-0242ac1c0002\"] = document.querySelector(\"#id44-1-2\");\n",
              "//# sourceURL=js_81fa909c45"
            ],
            "text/plain": [
              "<IPython.core.display.Javascript object>"
            ]
          },
          "metadata": {
            "tags": [
              "id44-1-2",
              "outputarea_id44"
            ]
          }
        },
        {
          "output_type": "display_data",
          "data": {
            "application/javascript": [
              "window[\"bda90442-5b84-11e9-8c95-0242ac1c0002\"] = google.colab.output.setActiveOutputArea(window[\"bda861ae-5b84-11e9-8c95-0242ac1c0002\"]);\n",
              "//# sourceURL=js_183629db67"
            ],
            "text/plain": [
              "<IPython.core.display.Javascript object>"
            ]
          },
          "metadata": {
            "tags": [
              "id44-1-2",
              "outputarea_id44"
            ]
          }
        },
        {
          "output_type": "display_data",
          "data": {
            "application/javascript": [
              "window[\"bdb507ec-5b84-11e9-8c95-0242ac1c0002\"] = google.colab.output.setActiveOutputArea(window[\"bda7d4be-5b84-11e9-8c95-0242ac1c0002\"]);\n",
              "//# sourceURL=js_5763723822"
            ],
            "text/plain": [
              "<IPython.core.display.Javascript object>"
            ]
          },
          "metadata": {
            "tags": [
              "id44-1-2",
              "outputarea_id44"
            ]
          }
        },
        {
          "output_type": "display_data",
          "data": {
            "application/javascript": [
              "window[\"bdc7268e-5b84-11e9-8c95-0242ac1c0002\"] = google.colab.output.getActiveOutputArea();\n",
              "//# sourceURL=js_9a0a2e140e"
            ],
            "text/plain": [
              "<IPython.core.display.Javascript object>"
            ]
          },
          "metadata": {
            "tags": [
              "id44-3-1",
              "outputarea_id44"
            ]
          }
        },
        {
          "output_type": "display_data",
          "data": {
            "application/javascript": [
              "window[\"bdc79d4e-5b84-11e9-8c95-0242ac1c0002\"] = document.querySelector(\"#id44-3-1\");\n",
              "//# sourceURL=js_88d800f2e1"
            ],
            "text/plain": [
              "<IPython.core.display.Javascript object>"
            ]
          },
          "metadata": {
            "tags": [
              "id44-3-1",
              "outputarea_id44"
            ]
          }
        },
        {
          "output_type": "display_data",
          "data": {
            "application/javascript": [
              "window[\"bdc7ff50-5b84-11e9-8c95-0242ac1c0002\"] = google.colab.output.setActiveOutputArea(window[\"bdc79d4e-5b84-11e9-8c95-0242ac1c0002\"]);\n",
              "//# sourceURL=js_91fc2f730b"
            ],
            "text/plain": [
              "<IPython.core.display.Javascript object>"
            ]
          },
          "metadata": {
            "tags": [
              "id44-3-1",
              "outputarea_id44"
            ]
          }
        },
        {
          "output_type": "display_data",
          "data": {
            "image/png": "[encoded data removed]",
            "text/plain": [
              "<Figure size 72x72 with 1 Axes>"
            ]
          },
          "metadata": {
            "tags": [
              "id44-3-1",
              "outputarea_id44",
              "user_output"
            ]
          }
        },
        {
          "output_type": "display_data",
          "data": {
            "application/javascript": [
              "window[\"bdd472b2-5b84-11e9-8c95-0242ac1c0002\"] = google.colab.output.setActiveOutputArea(window[\"bdc7268e-5b84-11e9-8c95-0242ac1c0002\"]);\n",
              "//# sourceURL=js_dfb4193f00"
            ],
            "text/plain": [
              "<IPython.core.display.Javascript object>"
            ]
          },
          "metadata": {
            "tags": [
              "id44-3-1",
              "outputarea_id44"
            ]
          }
        },
        {
          "output_type": "display_data",
          "data": {
            "application/javascript": [
              "window[\"bde5d43a-5b84-11e9-8c95-0242ac1c0002\"] = google.colab.output.getActiveOutputArea();\n",
              "//# sourceURL=js_97a65c9ece"
            ],
            "text/plain": [
              "<IPython.core.display.Javascript object>"
            ]
          },
          "metadata": {
            "tags": [
              "id44-4-1",
              "outputarea_id44"
            ]
          }
        },
        {
          "output_type": "display_data",
          "data": {
            "application/javascript": [
              "window[\"bde62f2a-5b84-11e9-8c95-0242ac1c0002\"] = document.querySelector(\"#id44-4-1\");\n",
              "//# sourceURL=js_adffc2e83e"
            ],
            "text/plain": [
              "<IPython.core.display.Javascript object>"
            ]
          },
          "metadata": {
            "tags": [
              "id44-4-1",
              "outputarea_id44"
            ]
          }
        },
        {
          "output_type": "display_data",
          "data": {
            "application/javascript": [
              "window[\"bde6a41e-5b84-11e9-8c95-0242ac1c0002\"] = google.colab.output.setActiveOutputArea(window[\"bde62f2a-5b84-11e9-8c95-0242ac1c0002\"]);\n",
              "//# sourceURL=js_484b9ba67d"
            ],
            "text/plain": [
              "<IPython.core.display.Javascript object>"
            ]
          },
          "metadata": {
            "tags": [
              "id44-4-1",
              "outputarea_id44"
            ]
          }
        },
        {
          "output_type": "display_data",
          "data": {
            "image/png": "[encoded data removed]",
            "text/plain": [
              "<Figure size 72x72 with 1 Axes>"
            ]
          },
          "metadata": {
            "tags": [
              "id44-4-1",
              "outputarea_id44",
              "user_output"
            ]
          }
        },
        {
          "output_type": "display_data",
          "data": {
            "application/javascript": [
              "window[\"bdf2a944-5b84-11e9-8c95-0242ac1c0002\"] = google.colab.output.setActiveOutputArea(window[\"bde5d43a-5b84-11e9-8c95-0242ac1c0002\"]);\n",
              "//# sourceURL=js_acf3caa43c"
            ],
            "text/plain": [
              "<IPython.core.display.Javascript object>"
            ]
          },
          "metadata": {
            "tags": [
              "id44-4-1",
              "outputarea_id44"
            ]
          }
        },
        {
          "output_type": "display_data",
          "data": {
            "application/javascript": [
              "window[\"be03ac08-5b84-11e9-8c95-0242ac1c0002\"] = google.colab.output.getActiveOutputArea();\n",
              "//# sourceURL=js_778e2f4404"
            ],
            "text/plain": [
              "<IPython.core.display.Javascript object>"
            ]
          },
          "metadata": {
            "tags": [
              "id44-2-2",
              "outputarea_id44"
            ]
          }
        },
        {
          "output_type": "display_data",
          "data": {
            "application/javascript": [
              "window[\"be03fa50-5b84-11e9-8c95-0242ac1c0002\"] = document.querySelector(\"#id44-2-2\");\n",
              "//# sourceURL=js_fadf2ef913"
            ],
            "text/plain": [
              "<IPython.core.display.Javascript object>"
            ]
          },
          "metadata": {
            "tags": [
              "id44-2-2",
              "outputarea_id44"
            ]
          }
        },
        {
          "output_type": "display_data",
          "data": {
            "application/javascript": [
              "window[\"be047e12-5b84-11e9-8c95-0242ac1c0002\"] = google.colab.output.setActiveOutputArea(window[\"be03fa50-5b84-11e9-8c95-0242ac1c0002\"]);\n",
              "//# sourceURL=js_225220d42f"
            ],
            "text/plain": [
              "<IPython.core.display.Javascript object>"
            ]
          },
          "metadata": {
            "tags": [
              "id44-2-2",
              "outputarea_id44"
            ]
          }
        },
        {
          "output_type": "display_data",
          "data": {
            "image/png": "[encoded data removed]",
            "text/plain": [
              "<Figure size 72x72 with 1 Axes>"
            ]
          },
          "metadata": {
            "tags": [
              "id44-2-2",
              "outputarea_id44",
              "user_output"
            ]
          }
        },
        {
          "output_type": "display_data",
          "data": {
            "application/javascript": [
              "window[\"be11b316-5b84-11e9-8c95-0242ac1c0002\"] = google.colab.output.setActiveOutputArea(window[\"be03ac08-5b84-11e9-8c95-0242ac1c0002\"]);\n",
              "//# sourceURL=js_ef7de5305d"
            ],
            "text/plain": [
              "<IPython.core.display.Javascript object>"
            ]
          },
          "metadata": {
            "tags": [
              "id44-2-2",
              "outputarea_id44"
            ]
          }
        },
        {
          "output_type": "display_data",
          "data": {
            "application/javascript": [
              "window[\"be23c47a-5b84-11e9-8c95-0242ac1c0002\"] = google.colab.output.getActiveOutputArea();\n",
              "//# sourceURL=js_ff6eb1bcc0"
            ],
            "text/plain": [
              "<IPython.core.display.Javascript object>"
            ]
          },
          "metadata": {
            "tags": [
              "id44-3-2",
              "outputarea_id44"
            ]
          }
        },
        {
          "output_type": "display_data",
          "data": {
            "application/javascript": [
              "window[\"be2435a4-5b84-11e9-8c95-0242ac1c0002\"] = document.querySelector(\"#id44-3-2\");\n",
              "//# sourceURL=js_3461cd7876"
            ],
            "text/plain": [
              "<IPython.core.display.Javascript object>"
            ]
          },
          "metadata": {
            "tags": [
              "id44-3-2",
              "outputarea_id44"
            ]
          }
        },
        {
          "output_type": "display_data",
          "data": {
            "application/javascript": [
              "window[\"be2502ea-5b84-11e9-8c95-0242ac1c0002\"] = google.colab.output.setActiveOutputArea(window[\"be2435a4-5b84-11e9-8c95-0242ac1c0002\"]);\n",
              "//# sourceURL=js_32a5e075eb"
            ],
            "text/plain": [
              "<IPython.core.display.Javascript object>"
            ]
          },
          "metadata": {
            "tags": [
              "id44-3-2",
              "outputarea_id44"
            ]
          }
        },
        {
          "output_type": "display_data",
          "data": {
            "image/png": "[encoded data removed]",
            "text/plain": [
              "<Figure size 72x72 with 1 Axes>"
            ]
          },
          "metadata": {
            "tags": [
              "id44-3-2",
              "outputarea_id44",
              "user_output"
            ]
          }
        },
        {
          "output_type": "display_data",
          "data": {
            "application/javascript": [
              "window[\"be305f96-5b84-11e9-8c95-0242ac1c0002\"] = google.colab.output.setActiveOutputArea(window[\"be23c47a-5b84-11e9-8c95-0242ac1c0002\"]);\n",
              "//# sourceURL=js_600e49b1fc"
            ],
            "text/plain": [
              "<IPython.core.display.Javascript object>"
            ]
          },
          "metadata": {
            "tags": [
              "id44-3-2",
              "outputarea_id44"
            ]
          }
        },
        {
          "output_type": "display_data",
          "data": {
            "application/javascript": [
              "window[\"be41db7c-5b84-11e9-8c95-0242ac1c0002\"] = google.colab.output.getActiveOutputArea();\n",
              "//# sourceURL=js_e6f0ac86ff"
            ],
            "text/plain": [
              "<IPython.core.display.Javascript object>"
            ]
          },
          "metadata": {
            "tags": [
              "id44-1-0",
              "outputarea_id44"
            ]
          }
        },
        {
          "output_type": "display_data",
          "data": {
            "application/javascript": [
              "window[\"be426c22-5b84-11e9-8c95-0242ac1c0002\"] = document.querySelector(\"#id44-1-0\");\n",
              "//# sourceURL=js_95b20249c0"
            ],
            "text/plain": [
              "<IPython.core.display.Javascript object>"
            ]
          },
          "metadata": {
            "tags": [
              "id44-1-0",
              "outputarea_id44"
            ]
          }
        },
        {
          "output_type": "display_data",
          "data": {
            "application/javascript": [
              "window[\"be431c08-5b84-11e9-8c95-0242ac1c0002\"] = google.colab.output.setActiveOutputArea(window[\"be426c22-5b84-11e9-8c95-0242ac1c0002\"]);\n",
              "//# sourceURL=js_14504a5443"
            ],
            "text/plain": [
              "<IPython.core.display.Javascript object>"
            ]
          },
          "metadata": {
            "tags": [
              "id44-1-0",
              "outputarea_id44"
            ]
          }
        },
        {
          "output_type": "display_data",
          "data": {
            "image/png": "[encoded data removed]",
            "text/plain": [
              "<Figure size 72x72 with 1 Axes>"
            ]
          },
          "metadata": {
            "tags": [
              "id44-1-0",
              "outputarea_id44",
              "user_output"
            ]
          }
        },
        {
          "output_type": "display_data",
          "data": {
            "application/javascript": [
              "window[\"be5020a6-5b84-11e9-8c95-0242ac1c0002\"] = google.colab.output.setActiveOutputArea(window[\"be41db7c-5b84-11e9-8c95-0242ac1c0002\"]);\n",
              "//# sourceURL=js_23f648710f"
            ],
            "text/plain": [
              "<IPython.core.display.Javascript object>"
            ]
          },
          "metadata": {
            "tags": [
              "id44-1-0",
              "outputarea_id44"
            ]
          }
        },
        {
          "output_type": "display_data",
          "data": {
            "application/javascript": [
              "window[\"be6276d4-5b84-11e9-8c95-0242ac1c0002\"] = google.colab.output.getActiveOutputArea();\n",
              "//# sourceURL=js_0c8e261ecc"
            ],
            "text/plain": [
              "<IPython.core.display.Javascript object>"
            ]
          },
          "metadata": {
            "tags": [
              "id44-2-4",
              "outputarea_id44"
            ]
          }
        },
        {
          "output_type": "display_data",
          "data": {
            "application/javascript": [
              "window[\"be632534-5b84-11e9-8c95-0242ac1c0002\"] = document.querySelector(\"#id44-2-4\");\n",
              "//# sourceURL=js_b19bdf7897"
            ],
            "text/plain": [
              "<IPython.core.display.Javascript object>"
            ]
          },
          "metadata": {
            "tags": [
              "id44-2-4",
              "outputarea_id44"
            ]
          }
        },
        {
          "output_type": "display_data",
          "data": {
            "application/javascript": [
              "window[\"be63e53c-5b84-11e9-8c95-0242ac1c0002\"] = google.colab.output.setActiveOutputArea(window[\"be632534-5b84-11e9-8c95-0242ac1c0002\"]);\n",
              "//# sourceURL=js_9ca5cfc1c8"
            ],
            "text/plain": [
              "<IPython.core.display.Javascript object>"
            ]
          },
          "metadata": {
            "tags": [
              "id44-2-4",
              "outputarea_id44"
            ]
          }
        },
        {
          "output_type": "display_data",
          "data": {
            "image/png": "[encoded data removed]",
            "text/plain": [
              "<Figure size 72x72 with 1 Axes>"
            ]
          },
          "metadata": {
            "tags": [
              "id44-2-4",
              "outputarea_id44",
              "user_output"
            ]
          }
        },
        {
          "output_type": "display_data",
          "data": {
            "application/javascript": [
              "window[\"be6ff57a-5b84-11e9-8c95-0242ac1c0002\"] = google.colab.output.setActiveOutputArea(window[\"be6276d4-5b84-11e9-8c95-0242ac1c0002\"]);\n",
              "//# sourceURL=js_72370573f3"
            ],
            "text/plain": [
              "<IPython.core.display.Javascript object>"
            ]
          },
          "metadata": {
            "tags": [
              "id44-2-4",
              "outputarea_id44"
            ]
          }
        },
        {
          "output_type": "display_data",
          "data": {
            "application/javascript": [
              "window[\"be81ea5a-5b84-11e9-8c95-0242ac1c0002\"] = google.colab.output.getActiveOutputArea();\n",
              "//# sourceURL=js_97226c396a"
            ],
            "text/plain": [
              "<IPython.core.display.Javascript object>"
            ]
          },
          "metadata": {
            "tags": [
              "id44-1-2",
              "outputarea_id44"
            ]
          }
        },
        {
          "output_type": "display_data",
          "data": {
            "application/javascript": [
              "window[\"be823bf4-5b84-11e9-8c95-0242ac1c0002\"] = document.querySelector(\"#id44-1-2\");\n",
              "//# sourceURL=js_a138f7531f"
            ],
            "text/plain": [
              "<IPython.core.display.Javascript object>"
            ]
          },
          "metadata": {
            "tags": [
              "id44-1-2",
              "outputarea_id44"
            ]
          }
        },
        {
          "output_type": "display_data",
          "data": {
            "application/javascript": [
              "window[\"be82f620-5b84-11e9-8c95-0242ac1c0002\"] = google.colab.output.setActiveOutputArea(window[\"be823bf4-5b84-11e9-8c95-0242ac1c0002\"]);\n",
              "//# sourceURL=js_2aca429aa3"
            ],
            "text/plain": [
              "<IPython.core.display.Javascript object>"
            ]
          },
          "metadata": {
            "tags": [
              "id44-1-2",
              "outputarea_id44"
            ]
          }
        },
        {
          "output_type": "display_data",
          "data": {
            "application/javascript": [
              "window[\"be8f2ed6-5b84-11e9-8c95-0242ac1c0002\"] = google.colab.output.setActiveOutputArea(window[\"be81ea5a-5b84-11e9-8c95-0242ac1c0002\"]);\n",
              "//# sourceURL=js_4102a65eab"
            ],
            "text/plain": [
              "<IPython.core.display.Javascript object>"
            ]
          },
          "metadata": {
            "tags": [
              "id44-1-2",
              "outputarea_id44"
            ]
          }
        },
        {
          "output_type": "display_data",
          "data": {
            "application/javascript": [
              "window[\"bea103c2-5b84-11e9-8c95-0242ac1c0002\"] = google.colab.output.getActiveOutputArea();\n",
              "//# sourceURL=js_38eb42293c"
            ],
            "text/plain": [
              "<IPython.core.display.Javascript object>"
            ]
          },
          "metadata": {
            "tags": [
              "id44-0-4",
              "outputarea_id44"
            ]
          }
        },
        {
          "output_type": "display_data",
          "data": {
            "application/javascript": [
              "window[\"bea156b0-5b84-11e9-8c95-0242ac1c0002\"] = document.querySelector(\"#id44-0-4\");\n",
              "//# sourceURL=js_77722c1b39"
            ],
            "text/plain": [
              "<IPython.core.display.Javascript object>"
            ]
          },
          "metadata": {
            "tags": [
              "id44-0-4",
              "outputarea_id44"
            ]
          }
        },
        {
          "output_type": "display_data",
          "data": {
            "application/javascript": [
              "window[\"bea20254-5b84-11e9-8c95-0242ac1c0002\"] = google.colab.output.setActiveOutputArea(window[\"bea156b0-5b84-11e9-8c95-0242ac1c0002\"]);\n",
              "//# sourceURL=js_a321dc4fac"
            ],
            "text/plain": [
              "<IPython.core.display.Javascript object>"
            ]
          },
          "metadata": {
            "tags": [
              "id44-0-4",
              "outputarea_id44"
            ]
          }
        },
        {
          "output_type": "display_data",
          "data": {
            "image/png": "[encoded data removed]",
            "text/plain": [
              "<Figure size 72x72 with 1 Axes>"
            ]
          },
          "metadata": {
            "tags": [
              "id44-0-4",
              "outputarea_id44",
              "user_output"
            ]
          }
        },
        {
          "output_type": "display_data",
          "data": {
            "application/javascript": [
              "window[\"beae5f72-5b84-11e9-8c95-0242ac1c0002\"] = google.colab.output.setActiveOutputArea(window[\"bea103c2-5b84-11e9-8c95-0242ac1c0002\"]);\n",
              "//# sourceURL=js_2125cc63ef"
            ],
            "text/plain": [
              "<IPython.core.display.Javascript object>"
            ]
          },
          "metadata": {
            "tags": [
              "id44-0-4",
              "outputarea_id44"
            ]
          }
        },
        {
          "output_type": "display_data",
          "data": {
            "application/javascript": [
              "window[\"bec00600-5b84-11e9-8c95-0242ac1c0002\"] = google.colab.output.getActiveOutputArea();\n",
              "//# sourceURL=js_94fa40af5b"
            ],
            "text/plain": [
              "<IPython.core.display.Javascript object>"
            ]
          },
          "metadata": {
            "tags": [
              "id44-4-3",
              "outputarea_id44"
            ]
          }
        },
        {
          "output_type": "display_data",
          "data": {
            "application/javascript": [
              "window[\"bec04dfe-5b84-11e9-8c95-0242ac1c0002\"] = document.querySelector(\"#id44-4-3\");\n",
              "//# sourceURL=js_5b5d101525"
            ],
            "text/plain": [
              "<IPython.core.display.Javascript object>"
            ]
          },
          "metadata": {
            "tags": [
              "id44-4-3",
              "outputarea_id44"
            ]
          }
        },
        {
          "output_type": "display_data",
          "data": {
            "application/javascript": [
              "window[\"bec0af56-5b84-11e9-8c95-0242ac1c0002\"] = google.colab.output.setActiveOutputArea(window[\"bec04dfe-5b84-11e9-8c95-0242ac1c0002\"]);\n",
              "//# sourceURL=js_861034d1a9"
            ],
            "text/plain": [
              "<IPython.core.display.Javascript object>"
            ]
          },
          "metadata": {
            "tags": [
              "id44-4-3",
              "outputarea_id44"
            ]
          }
        },
        {
          "output_type": "display_data",
          "data": {
            "image/png": "[encoded data removed]",
            "text/plain": [
              "<Figure size 72x72 with 1 Axes>"
            ]
          },
          "metadata": {
            "tags": [
              "id44-4-3",
              "outputarea_id44",
              "user_output"
            ]
          }
        },
        {
          "output_type": "display_data",
          "data": {
            "application/javascript": [
              "window[\"bed618a0-5b84-11e9-8c95-0242ac1c0002\"] = google.colab.output.setActiveOutputArea(window[\"bec00600-5b84-11e9-8c95-0242ac1c0002\"]);\n",
              "//# sourceURL=js_8551285b3c"
            ],
            "text/plain": [
              "<IPython.core.display.Javascript object>"
            ]
          },
          "metadata": {
            "tags": [
              "id44-4-3",
              "outputarea_id44"
            ]
          }
        },
        {
          "output_type": "display_data",
          "data": {
            "application/javascript": [
              "window[\"bee80d62-5b84-11e9-8c95-0242ac1c0002\"] = google.colab.output.getActiveOutputArea();\n",
              "//# sourceURL=js_0914401087"
            ],
            "text/plain": [
              "<IPython.core.display.Javascript object>"
            ]
          },
          "metadata": {
            "tags": [
              "id44-1-2",
              "outputarea_id44"
            ]
          }
        },
        {
          "output_type": "display_data",
          "data": {
            "application/javascript": [
              "window[\"bee8874c-5b84-11e9-8c95-0242ac1c0002\"] = document.querySelector(\"#id44-1-2\");\n",
              "//# sourceURL=js_bccf04b52b"
            ],
            "text/plain": [
              "<IPython.core.display.Javascript object>"
            ]
          },
          "metadata": {
            "tags": [
              "id44-1-2",
              "outputarea_id44"
            ]
          }
        },
        {
          "output_type": "display_data",
          "data": {
            "application/javascript": [
              "window[\"bee90028-5b84-11e9-8c95-0242ac1c0002\"] = google.colab.output.setActiveOutputArea(window[\"bee8874c-5b84-11e9-8c95-0242ac1c0002\"]);\n",
              "//# sourceURL=js_3197fb9704"
            ],
            "text/plain": [
              "<IPython.core.display.Javascript object>"
            ]
          },
          "metadata": {
            "tags": [
              "id44-1-2",
              "outputarea_id44"
            ]
          }
        },
        {
          "output_type": "display_data",
          "data": {
            "image/png": "[encoded data removed]",
            "text/plain": [
              "<Figure size 72x72 with 1 Axes>"
            ]
          },
          "metadata": {
            "tags": [
              "id44-1-2",
              "outputarea_id44",
              "user_output"
            ]
          }
        },
        {
          "output_type": "display_data",
          "data": {
            "application/javascript": [
              "window[\"bef51976-5b84-11e9-8c95-0242ac1c0002\"] = google.colab.output.setActiveOutputArea(window[\"bee80d62-5b84-11e9-8c95-0242ac1c0002\"]);\n",
              "//# sourceURL=js_4288d5eed2"
            ],
            "text/plain": [
              "<IPython.core.display.Javascript object>"
            ]
          },
          "metadata": {
            "tags": [
              "id44-1-2",
              "outputarea_id44"
            ]
          }
        },
        {
          "output_type": "display_data",
          "data": {
            "application/javascript": [
              "window[\"bf06097a-5b84-11e9-8c95-0242ac1c0002\"] = google.colab.output.getActiveOutputArea();\n",
              "//# sourceURL=js_b65aa37941"
            ],
            "text/plain": [
              "<IPython.core.display.Javascript object>"
            ]
          },
          "metadata": {
            "tags": [
              "id44-1-1",
              "outputarea_id44"
            ]
          }
        },
        {
          "output_type": "display_data",
          "data": {
            "application/javascript": [
              "window[\"bf065ae2-5b84-11e9-8c95-0242ac1c0002\"] = document.querySelector(\"#id44-1-1\");\n",
              "//# sourceURL=js_bad4470315"
            ],
            "text/plain": [
              "<IPython.core.display.Javascript object>"
            ]
          },
          "metadata": {
            "tags": [
              "id44-1-1",
              "outputarea_id44"
            ]
          }
        },
        {
          "output_type": "display_data",
          "data": {
            "application/javascript": [
              "window[\"bf070154-5b84-11e9-8c95-0242ac1c0002\"] = google.colab.output.setActiveOutputArea(window[\"bf065ae2-5b84-11e9-8c95-0242ac1c0002\"]);\n",
              "//# sourceURL=js_02e6da7a6d"
            ],
            "text/plain": [
              "<IPython.core.display.Javascript object>"
            ]
          },
          "metadata": {
            "tags": [
              "id44-1-1",
              "outputarea_id44"
            ]
          }
        },
        {
          "output_type": "display_data",
          "data": {
            "application/javascript": [
              "window[\"bf13c916-5b84-11e9-8c95-0242ac1c0002\"] = google.colab.output.setActiveOutputArea(window[\"bf06097a-5b84-11e9-8c95-0242ac1c0002\"]);\n",
              "//# sourceURL=js_63ef0fce9f"
            ],
            "text/plain": [
              "<IPython.core.display.Javascript object>"
            ]
          },
          "metadata": {
            "tags": [
              "id44-1-1",
              "outputarea_id44"
            ]
          }
        },
        {
          "output_type": "display_data",
          "data": {
            "application/javascript": [
              "window[\"bf252d8c-5b84-11e9-8c95-0242ac1c0002\"] = google.colab.output.getActiveOutputArea();\n",
              "//# sourceURL=js_c6c1f0490a"
            ],
            "text/plain": [
              "<IPython.core.display.Javascript object>"
            ]
          },
          "metadata": {
            "tags": [
              "id44-1-1",
              "outputarea_id44"
            ]
          }
        },
        {
          "output_type": "display_data",
          "data": {
            "application/javascript": [
              "window[\"bf25af0a-5b84-11e9-8c95-0242ac1c0002\"] = document.querySelector(\"#id44-1-1\");\n",
              "//# sourceURL=js_879e6db81a"
            ],
            "text/plain": [
              "<IPython.core.display.Javascript object>"
            ]
          },
          "metadata": {
            "tags": [
              "id44-1-1",
              "outputarea_id44"
            ]
          }
        },
        {
          "output_type": "display_data",
          "data": {
            "application/javascript": [
              "window[\"bf2648f2-5b84-11e9-8c95-0242ac1c0002\"] = google.colab.output.setActiveOutputArea(window[\"bf25af0a-5b84-11e9-8c95-0242ac1c0002\"]);\n",
              "//# sourceURL=js_1203389abd"
            ],
            "text/plain": [
              "<IPython.core.display.Javascript object>"
            ]
          },
          "metadata": {
            "tags": [
              "id44-1-1",
              "outputarea_id44"
            ]
          }
        },
        {
          "output_type": "display_data",
          "data": {
            "image/png": "[encoded data removed]",
            "text/plain": [
              "<Figure size 72x72 with 1 Axes>"
            ]
          },
          "metadata": {
            "tags": [
              "id44-1-1",
              "outputarea_id44",
              "user_output"
            ]
          }
        },
        {
          "output_type": "display_data",
          "data": {
            "application/javascript": [
              "window[\"bf328afe-5b84-11e9-8c95-0242ac1c0002\"] = google.colab.output.setActiveOutputArea(window[\"bf252d8c-5b84-11e9-8c95-0242ac1c0002\"]);\n",
              "//# sourceURL=js_c3ca4e3f8a"
            ],
            "text/plain": [
              "<IPython.core.display.Javascript object>"
            ]
          },
          "metadata": {
            "tags": [
              "id44-1-1",
              "outputarea_id44"
            ]
          }
        },
        {
          "output_type": "display_data",
          "data": {
            "application/javascript": [
              "window[\"bf43c936-5b84-11e9-8c95-0242ac1c0002\"] = google.colab.output.getActiveOutputArea();\n",
              "//# sourceURL=js_30b5701196"
            ],
            "text/plain": [
              "<IPython.core.display.Javascript object>"
            ]
          },
          "metadata": {
            "tags": [
              "id44-4-4",
              "outputarea_id44"
            ]
          }
        },
        {
          "output_type": "display_data",
          "data": {
            "application/javascript": [
              "window[\"bf44103a-5b84-11e9-8c95-0242ac1c0002\"] = document.querySelector(\"#id44-4-4\");\n",
              "//# sourceURL=js_936947e3eb"
            ],
            "text/plain": [
              "<IPython.core.display.Javascript object>"
            ]
          },
          "metadata": {
            "tags": [
              "id44-4-4",
              "outputarea_id44"
            ]
          }
        },
        {
          "output_type": "display_data",
          "data": {
            "application/javascript": [
              "window[\"bf445e0a-5b84-11e9-8c95-0242ac1c0002\"] = google.colab.output.setActiveOutputArea(window[\"bf44103a-5b84-11e9-8c95-0242ac1c0002\"]);\n",
              "//# sourceURL=js_a86f8415da"
            ],
            "text/plain": [
              "<IPython.core.display.Javascript object>"
            ]
          },
          "metadata": {
            "tags": [
              "id44-4-4",
              "outputarea_id44"
            ]
          }
        },
        {
          "output_type": "display_data",
          "data": {
            "image/png": "[encoded data removed]",
            "text/plain": [
              "<Figure size 72x72 with 1 Axes>"
            ]
          },
          "metadata": {
            "tags": [
              "id44-4-4",
              "outputarea_id44",
              "user_output"
            ]
          }
        },
        {
          "output_type": "display_data",
          "data": {
            "application/javascript": [
              "window[\"bf50b8bc-5b84-11e9-8c95-0242ac1c0002\"] = google.colab.output.setActiveOutputArea(window[\"bf43c936-5b84-11e9-8c95-0242ac1c0002\"]);\n",
              "//# sourceURL=js_7c27476f30"
            ],
            "text/plain": [
              "<IPython.core.display.Javascript object>"
            ]
          },
          "metadata": {
            "tags": [
              "id44-4-4",
              "outputarea_id44"
            ]
          }
        }
      ]
    }
  ]
}