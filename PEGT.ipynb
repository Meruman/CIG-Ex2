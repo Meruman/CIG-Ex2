{
  "nbformat": 4,
  "nbformat_minor": 0,
  "metadata": {
    "colab": {
      "name": "PEGT.ipynb",
      "version": "0.3.2",
      "provenance": [],
      "include_colab_link": true
    },
    "kernelspec": {
      "name": "python3",
      "display_name": "Python 3"
    },
    "accelerator": "GPU"
  },
  "cells": [
    {
      "cell_type": "markdown",
      "metadata": {
        "id": "view-in-github",
        "colab_type": "text"
      },
      "source": [
        "<a href=\"https://colab.research.google.com/github/christianwustrau/pokemon_egt/blob/master/PEGT.ipynb\" target=\"_parent\"><img src=\"https://colab.research.google.com/assets/colab-badge.svg\" alt=\"Open In Colab\"/></a>"
      ]
    },
    {
      "metadata": {
        "id": "uKjg0BR8j9Es",
        "colab_type": "text"
      },
      "cell_type": "markdown",
      "source": [
        "# Welcome to Pokemon EGT !\n",
        "\n",
        "Pokemon EGT is an implementation of the Hawk-dove game based on Pokemon.\n",
        "Instead of hawk and dove there are 9 different Pokemon:\n",
        "\n",
        "*   Bulbasaur\n",
        "*   Charizard\n",
        "*   Squirtle\n",
        "*   Caterpie\n",
        "*   Pidgey\n",
        "*   Rattata\n",
        "*   Ekans\n",
        "*   Pikachu\n",
        "*   Omanyte\n",
        "\n",
        "All Pokemon in the structured population start with an initial fitness value which can increase or decrease in fights.\n",
        "At each round all active Pokemon fight against one of their active neighbors. After that both Pokemon who fought go passive.\n",
        "Pokemon populations will grow and reproduce based on the implemented update rule."
      ]
    },
    {
      "metadata": {
        "id": "AsTOUAOrd-bG",
        "colab_type": "code",
        "colab": {}
      },
      "cell_type": "code",
      "source": [
        ""
      ],
      "execution_count": 0,
      "outputs": []
    },
    {
      "metadata": {
        "id": "8dPpoJVhj77v",
        "colab_type": "code",
        "colab": {}
      },
      "cell_type": "code",
      "source": [
        ""
      ],
      "execution_count": 0,
      "outputs": []
    }
  ]
}